{
 "cells": [
  {
   "cell_type": "markdown",
   "id": "b0a2ad3e",
   "metadata": {},
   "source": [
    "# Probabilidade e Estatística - Atividade 4 e 5"
   ]
  },
  {
   "cell_type": "markdown",
   "id": "7e56e879",
   "metadata": {},
   "source": [
    "<img src=\"Arquivos/pe.jpg\"  width=80%>"
   ]
  },
  {
   "cell_type": "markdown",
   "id": "d59e11d3",
   "metadata": {},
   "source": [
    "## PARTE A"
   ]
  },
  {
   "cell_type": "code",
   "execution_count": 359,
   "id": "08d01f9c",
   "metadata": {},
   "outputs": [],
   "source": [
    "# importar bibliotecas necessárias\n",
    "import pandas as pd\n",
    "import matplotlib.pyplot as plt\n",
    "import statistics as std\n",
    "from scipy import stats\n",
    "import numpy as np\n",
    "import random\n",
    "import math"
   ]
  },
  {
   "cell_type": "code",
   "execution_count": 360,
   "id": "0ab2fbf1",
   "metadata": {},
   "outputs": [
    {
     "data": {
      "text/html": [
       "<div>\n",
       "<style scoped>\n",
       "    .dataframe tbody tr th:only-of-type {\n",
       "        vertical-align: middle;\n",
       "    }\n",
       "\n",
       "    .dataframe tbody tr th {\n",
       "        vertical-align: top;\n",
       "    }\n",
       "\n",
       "    .dataframe thead th {\n",
       "        text-align: right;\n",
       "    }\n",
       "</style>\n",
       "<table border=\"1\" class=\"dataframe\">\n",
       "  <thead>\n",
       "    <tr style=\"text-align: right;\">\n",
       "      <th></th>\n",
       "      <th>Sexo_am</th>\n",
       "      <th>Idade_am</th>\n",
       "      <th>Peso_am</th>\n",
       "      <th>Altura_am</th>\n",
       "      <th>IES_am</th>\n",
       "      <th>IMC_am</th>\n",
       "      <th>ClassIMC_am</th>\n",
       "    </tr>\n",
       "  </thead>\n",
       "  <tbody>\n",
       "    <tr>\n",
       "      <th>0</th>\n",
       "      <td>F</td>\n",
       "      <td>20</td>\n",
       "      <td>65</td>\n",
       "      <td>155</td>\n",
       "      <td>UFAC</td>\n",
       "      <td>27.1</td>\n",
       "      <td>ob</td>\n",
       "    </tr>\n",
       "    <tr>\n",
       "      <th>1</th>\n",
       "      <td>F</td>\n",
       "      <td>20</td>\n",
       "      <td>35</td>\n",
       "      <td>171</td>\n",
       "      <td>UFSCAR</td>\n",
       "      <td>12.0</td>\n",
       "      <td>mg</td>\n",
       "    </tr>\n",
       "    <tr>\n",
       "      <th>2</th>\n",
       "      <td>M</td>\n",
       "      <td>21</td>\n",
       "      <td>41</td>\n",
       "      <td>155</td>\n",
       "      <td>UFAC</td>\n",
       "      <td>17.1</td>\n",
       "      <td>mg</td>\n",
       "    </tr>\n",
       "    <tr>\n",
       "      <th>3</th>\n",
       "      <td>M</td>\n",
       "      <td>22</td>\n",
       "      <td>56</td>\n",
       "      <td>173</td>\n",
       "      <td>UFAC</td>\n",
       "      <td>18.7</td>\n",
       "      <td>ad</td>\n",
       "    </tr>\n",
       "    <tr>\n",
       "      <th>4</th>\n",
       "      <td>F</td>\n",
       "      <td>18</td>\n",
       "      <td>41</td>\n",
       "      <td>150</td>\n",
       "      <td>UFAC</td>\n",
       "      <td>18.2</td>\n",
       "      <td>mg</td>\n",
       "    </tr>\n",
       "  </tbody>\n",
       "</table>\n",
       "</div>"
      ],
      "text/plain": [
       "  Sexo_am  Idade_am  Peso_am  Altura_am  IES_am  IMC_am ClassIMC_am\n",
       "0       F        20       65        155    UFAC    27.1          ob\n",
       "1       F        20       35        171  UFSCAR    12.0          mg\n",
       "2       M        21       41        155    UFAC    17.1          mg\n",
       "3       M        22       56        173    UFAC    18.7          ad\n",
       "4       F        18       41        150    UFAC    18.2          mg"
      ]
     },
     "execution_count": 360,
     "metadata": {},
     "output_type": "execute_result"
    }
   ],
   "source": [
    "# importar amostra simples e exibir as 5 primeiras entradas\n",
    "df = pd.read_csv(\"amostra_simples_ok.csv\", sep = ';')\n",
    "df.IMC_am = df.IMC_am.apply(lambda x: x.replace(',','.'))\n",
    "df.IMC_am = df.IMC_am.astype(float)\n",
    "df.head()"
   ]
  },
  {
   "cell_type": "markdown",
   "id": "dd5d9a66",
   "metadata": {},
   "source": [
    "### a) Obter o I.C. 95% para a média do PESO e testar a hipótese H 0 : μ = 64 vs H 1 : μ ≠ 64 (nível de significância α = 5%) para a variável PESO. Observe que onvalor 64 equivale à mediana populacional, ou seja, o teste é para saber se a média é igual à mediana."
   ]
  },
  {
   "cell_type": "code",
   "execution_count": 361,
   "id": "154b6dbe",
   "metadata": {},
   "outputs": [
    {
     "name": "stdout",
     "output_type": "stream",
     "text": [
      "Média amostral:  67.59 \n",
      "Variância Amostral:  273.6\n"
     ]
    }
   ],
   "source": [
    "# média amostral\n",
    "media = round(df.Peso_am.mean(),2)\n",
    "\n",
    "# variância amostral \n",
    "variancia = round(std.variance(df.Peso_am),2)\n",
    "\n",
    "print(\"Média amostral: \", media, \"\\nVariância Amostral: \", variancia)"
   ]
  },
  {
   "cell_type": "markdown",
   "id": "fd7135e7",
   "metadata": {},
   "source": [
    "Hipótese a ser testada -> H 0 : μ = 64\n",
    "<br> Distribuição t de student = n - 1 = 54 -1 = 53 g.l.\n"
   ]
  },
  {
   "cell_type": "code",
   "execution_count": 362,
   "id": "8e1975f9",
   "metadata": {},
   "outputs": [
    {
     "name": "stdout",
     "output_type": "stream",
     "text": [
      "Valor na t de student:  2.0057\n"
     ]
    }
   ],
   "source": [
    "t = round(stats.t.ppf(1-0.025, 53),4)\n",
    "print (\"Valor na t de student: \", t)"
   ]
  },
  {
   "cell_type": "code",
   "execution_count": 363,
   "id": "447b5982",
   "metadata": {},
   "outputs": [
    {
     "data": {
      "text/plain": [
       "59.48531825233864"
      ]
     },
     "execution_count": 363,
     "metadata": {},
     "output_type": "execute_result"
    }
   ],
   "source": [
    "# Valor limite inferior\n",
    "vli = 64 - t * math.sqrt(variancia)/math.sqrt(54)\n",
    "vli"
   ]
  },
  {
   "cell_type": "code",
   "execution_count": 364,
   "id": "2f2e8d69",
   "metadata": {},
   "outputs": [
    {
     "data": {
      "text/plain": [
       "68.51468174766137"
      ]
     },
     "execution_count": 364,
     "metadata": {},
     "output_type": "execute_result"
    }
   ],
   "source": [
    "# Valor limite superior\n",
    "vls = 64 + t * math.sqrt(variancia)/math.sqrt(54)\n",
    "vls"
   ]
  },
  {
   "cell_type": "markdown",
   "id": "7e64f693",
   "metadata": {},
   "source": [
    "A média amostral é 67.59 e portanto não está na região de rejeição e a hipótese nula não é rejeitada ao nível de 5% de significância.\n",
    "\n",
    "Se compararmos os dados populacionais, a média é 21.64 e a mediana é 21, onde há realmente um valor semelhante."
   ]
  },
  {
   "cell_type": "markdown",
   "id": "14c74a56",
   "metadata": {},
   "source": [
    "### b) Obter o I.C. 95% para a média de ALTURA e testar a hipótese H 0 : μ = 166 vs H 1 : μ &gt; 166, com nível de significância igual a 5%, para a variável ALTURA."
   ]
  },
  {
   "cell_type": "code",
   "execution_count": 365,
   "id": "6fe327bf",
   "metadata": {},
   "outputs": [
    {
     "name": "stdout",
     "output_type": "stream",
     "text": [
      "Média amostral:  167.44 \n",
      "Variância Amostral:  107.95\n"
     ]
    }
   ],
   "source": [
    "# média amostral\n",
    "media = round(df.Altura_am.mean(),2)\n",
    "\n",
    "# variância amostral \n",
    "variancia = round(std.variance(df.Altura_am),2)\n",
    "\n",
    "print(\"Média amostral: \", media, \"\\nVariância Amostral: \", variancia)"
   ]
  },
  {
   "cell_type": "markdown",
   "id": "6b34c2d9",
   "metadata": {},
   "source": [
    "Hipótese a ser testada -> H 0 : μ = 166\n",
    "<br> Distribuição t de student = n - 1 = 54 -1 = 53 g.l.\n"
   ]
  },
  {
   "cell_type": "code",
   "execution_count": 366,
   "id": "9b10f2a5",
   "metadata": {},
   "outputs": [
    {
     "name": "stdout",
     "output_type": "stream",
     "text": [
      "Valor na t de student:  2.0057\n"
     ]
    }
   ],
   "source": [
    "t = round(stats.t.ppf(1-0.025, 53),4)\n",
    "print (\"Valor na t de student: \", t)"
   ]
  },
  {
   "cell_type": "code",
   "execution_count": 367,
   "id": "0d99fb17",
   "metadata": {},
   "outputs": [
    {
     "data": {
      "text/plain": [
       "163.16416852843793"
      ]
     },
     "execution_count": 367,
     "metadata": {},
     "output_type": "execute_result"
    }
   ],
   "source": [
    "# Valor limite inferior\n",
    "vli = 166 - t * math.sqrt(variancia)/math.sqrt(54)\n",
    "vli"
   ]
  },
  {
   "cell_type": "code",
   "execution_count": 368,
   "id": "b77a2119",
   "metadata": {},
   "outputs": [
    {
     "data": {
      "text/plain": [
       "168.83583147156207"
      ]
     },
     "execution_count": 368,
     "metadata": {},
     "output_type": "execute_result"
    }
   ],
   "source": [
    "# Valor limite superior\n",
    "vls = 166 + t * math.sqrt(variancia)/math.sqrt(54)\n",
    "vls"
   ]
  },
  {
   "cell_type": "markdown",
   "id": "70187cc2",
   "metadata": {},
   "source": [
    "A média amostral é 167.44 e portanto não está na região de rejeição e a hipótese nula não é rejeitada ao nível de 5% de significância.\n",
    "\n",
    "A média populacional da altura é 168.15, maior que 166 cm, ou seja, houve um erro do tipo II."
   ]
  },
  {
   "cell_type": "markdown",
   "id": "00a779f6",
   "metadata": {},
   "source": [
    "### c) H 0 : μ F = μ M vs H 1 : μ F ≠ μ M , com nível de significância igual a 1%, para a variável IMC."
   ]
  },
  {
   "cell_type": "code",
   "execution_count": 369,
   "id": "66003481",
   "metadata": {},
   "outputs": [
    {
     "name": "stdout",
     "output_type": "stream",
     "text": [
      "Média do IMC das mulheres:  22.48 \n",
      "Desvio Padrão:  5.03 \n",
      "Variância:  25.3 \n",
      "Amostra:  24\n"
     ]
    }
   ],
   "source": [
    "# Para mulheres\n",
    "media = df.IMC_am.loc[(df.Sexo_am == 'F')].mean()\n",
    "desvio_padrao = df.IMC_am.loc[(df.Sexo_am == 'F')].std()\n",
    "variancia = round(std.variance(df.IMC_am.loc[(df.Sexo_am == 'F')]),2)\n",
    "amostra = df.loc[(df.Sexo_am == 'F')].shape[0]\n",
    "\n",
    "print(\"Média do IMC das mulheres: \", round(media,2), \"\\nDesvio Padrão: \", \n",
    "      round(desvio_padrao,2),\"\\nVariância: \",variancia, \"\\nAmostra: \", amostra)"
   ]
  },
  {
   "cell_type": "code",
   "execution_count": 370,
   "id": "f10ba837",
   "metadata": {},
   "outputs": [
    {
     "name": "stdout",
     "output_type": "stream",
     "text": [
      "Média do IMC dos homens:  25.14 \n",
      "Desvio Padrão:  4.7 \n",
      "Variância:  22.06 \n",
      "Amostra:  30\n"
     ]
    }
   ],
   "source": [
    "# Para homens\n",
    "media_h = df.IMC_am.loc[(df.Sexo_am == 'M')].mean()\n",
    "desvio_padrao_h = df.IMC_am.loc[(df.Sexo_am == 'M')].std()\n",
    "variancia_h = round(std.variance(df.IMC_am.loc[(df.Sexo_am == 'M')]),2)\n",
    "amostra_h = df.loc[(df.Sexo_am == 'M')].shape[0]\n",
    "\n",
    "print(\"Média do IMC dos homens: \", round(media_h,2), \"\\nDesvio Padrão: \", \n",
    "      round(desvio_padrao_h,2),\"\\nVariância: \",variancia_h, \"\\nAmostra: \", amostra_h)"
   ]
  },
  {
   "cell_type": "code",
   "execution_count": 371,
   "id": "3e600efa",
   "metadata": {},
   "outputs": [
    {
     "name": "stdout",
     "output_type": "stream",
     "text": [
      "S_p =  4.846965743955379\n"
     ]
    }
   ],
   "source": [
    "# obtenção da variância conjunta\n",
    "n_A = 24\n",
    "n_B = 30\n",
    "s_A = 25.3\n",
    "s_B = 22.06\n",
    "s2_p = ((n_A - 1) * s_A + (n_B - 1) * s_B)/(n_A + n_B - 2)\n",
    "s_p  = math.sqrt(s2_p)\n",
    "print(\"S_p = \", s_p)"
   ]
  },
  {
   "cell_type": "code",
   "execution_count": 372,
   "id": "8342018a",
   "metadata": {},
   "outputs": [
    {
     "name": "stdout",
     "output_type": "stream",
     "text": [
      "1.33\n"
     ]
    }
   ],
   "source": [
    "valor = s_p * math.sqrt((1/24) + (1/30))\n",
    "print(round(valor,2))"
   ]
  },
  {
   "cell_type": "code",
   "execution_count": 373,
   "id": "8b94a33e",
   "metadata": {},
   "outputs": [
    {
     "name": "stdout",
     "output_type": "stream",
     "text": [
      "Valor na t de student:  2.6737\n"
     ]
    }
   ],
   "source": [
    "# t de student para 1% de significância\n",
    "#g.l = 54 - 2 = 52\n",
    "t = round(stats.t.ppf(1-0.005, 52),4)\n",
    "print (\"Valor na t de student: \", t)"
   ]
  },
  {
   "cell_type": "code",
   "execution_count": 374,
   "id": "a83e22d7",
   "metadata": {
    "scrolled": true
   },
   "outputs": [
    {
     "data": {
      "text/plain": [
       "3.5490593180904177"
      ]
     },
     "execution_count": 374,
     "metadata": {},
     "output_type": "execute_result"
    }
   ],
   "source": [
    "t * valor"
   ]
  },
  {
   "cell_type": "markdown",
   "id": "bb322705",
   "metadata": {},
   "source": [
    "RA = [-3.54 ; 3.54]"
   ]
  },
  {
   "cell_type": "code",
   "execution_count": 375,
   "id": "fa7cb021",
   "metadata": {},
   "outputs": [
    {
     "name": "stdout",
     "output_type": "stream",
     "text": [
      "Diferença das médias amostrais:  -2.66\n"
     ]
    }
   ],
   "source": [
    "# diferença das médias amostrais\n",
    "dif_media = media - media_h\n",
    "print(\"Diferença das médias amostrais: \", round(dif_media,2))"
   ]
  },
  {
   "cell_type": "markdown",
   "id": "348cd32a",
   "metadata": {},
   "source": [
    "Podemos observar que a média amostral está na região de aceitação, e a hipótese nula não é rejeitada.\n",
    "\n",
    "Observando os dados populacionais, a média amostral de IMC em mulheres é aproximadamente 22.6 e em homens 23.8. "
   ]
  },
  {
   "cell_type": "markdown",
   "id": "a2753e86",
   "metadata": {},
   "source": [
    "### d) H 0 : μ M = μ F vs H 1 : μ M &gt; μ F , com nível de significância igual a 5%, para a variável PESO."
   ]
  },
  {
   "cell_type": "code",
   "execution_count": 376,
   "id": "08610db1",
   "metadata": {},
   "outputs": [
    {
     "name": "stdout",
     "output_type": "stream",
     "text": [
      "Média de Peso dos homens:  73.27 \n",
      "Desvio Padrão:  15.39 \n",
      "Variância:  236.75 \n",
      "Amostra:  30\n"
     ]
    }
   ],
   "source": [
    "# Para homens\n",
    "media_h = df.Peso_am.loc[(df.Sexo_am == 'M')].mean()\n",
    "desvio_padrao_h = df.Peso_am.loc[(df.Sexo_am == 'M')].std()\n",
    "variancia_h = round(std.variance(df.Peso_am.loc[(df.Sexo_am == 'M')]),2)\n",
    "amostra_h = df.loc[(df.Sexo_am == 'M')].shape[0]\n",
    "\n",
    "print(\"Média de Peso dos homens: \", round(media_h,2), \"\\nDesvio Padrão: \", \n",
    "      round(desvio_padrao_h,2),\"\\nVariância: \",variancia_h, \"\\nAmostra: \", amostra_h)"
   ]
  },
  {
   "cell_type": "code",
   "execution_count": 377,
   "id": "2e41d3f0",
   "metadata": {
    "scrolled": true
   },
   "outputs": [
    {
     "name": "stdout",
     "output_type": "stream",
     "text": [
      "Média de Peso das mulheres:  60.5 \n",
      "Desvio Padrão:  15.41 \n",
      "Variância:  237.48 \n",
      "Amostra:  24\n"
     ]
    }
   ],
   "source": [
    "# Para mulheres\n",
    "media = df.Peso_am.loc[(df.Sexo_am == 'F')].mean()\n",
    "desvio_padrao = df.Peso_am.loc[(df.Sexo_am == 'F')].std()\n",
    "variancia = round(std.variance(df.Peso_am.loc[(df.Sexo_am == 'F')]),2)\n",
    "amostra = df.loc[(df.Sexo_am == 'F')].shape[0]\n",
    "\n",
    "print(\"Média de Peso das mulheres: \", round(media,2), \"\\nDesvio Padrão: \", \n",
    "      round(desvio_padrao,2),\"\\nVariância: \",variancia, \"\\nAmostra: \", amostra)"
   ]
  },
  {
   "cell_type": "code",
   "execution_count": 378,
   "id": "146e5c8c",
   "metadata": {},
   "outputs": [
    {
     "name": "stdout",
     "output_type": "stream",
     "text": [
      "S_p =  15.397171318634623\n"
     ]
    }
   ],
   "source": [
    "# obtenção da variância conjunta\n",
    "n_A = 30\n",
    "n_B = 24\n",
    "s_A = 236.75\n",
    "s_B = 237.48\n",
    "s2_p = ((n_A - 1) * s_A + (n_B - 1) * s_B)/(n_A + n_B - 2)\n",
    "s_p  = math.sqrt(s2_p)\n",
    "print(\"S_p = \", s_p)"
   ]
  },
  {
   "cell_type": "code",
   "execution_count": 379,
   "id": "9aaa7565",
   "metadata": {},
   "outputs": [
    {
     "name": "stdout",
     "output_type": "stream",
     "text": [
      "4.22\n"
     ]
    }
   ],
   "source": [
    "valor = s_p * math.sqrt((1/30) + (1/24))\n",
    "print(round(valor,2))"
   ]
  },
  {
   "cell_type": "code",
   "execution_count": 380,
   "id": "65bd5684",
   "metadata": {},
   "outputs": [
    {
     "name": "stdout",
     "output_type": "stream",
     "text": [
      "Valor na t de student:  2.0066\n"
     ]
    }
   ],
   "source": [
    "# t de student para 5% de significância\n",
    "#g.l = 54 - 2 = 52\n",
    "t = round(stats.t.ppf(1-0.025, 52),4)\n",
    "print (\"Valor na t de student: \", t)"
   ]
  },
  {
   "cell_type": "code",
   "execution_count": 381,
   "id": "c2964452",
   "metadata": {},
   "outputs": [
    {
     "data": {
      "text/plain": [
       "8.461208200562606"
      ]
     },
     "execution_count": 381,
     "metadata": {},
     "output_type": "execute_result"
    }
   ],
   "source": [
    "t * valor"
   ]
  },
  {
   "cell_type": "markdown",
   "id": "5a363c73",
   "metadata": {},
   "source": [
    "RA = [-8.46 ; 8.46]"
   ]
  },
  {
   "cell_type": "code",
   "execution_count": 382,
   "id": "8b8acdbe",
   "metadata": {},
   "outputs": [
    {
     "name": "stdout",
     "output_type": "stream",
     "text": [
      "Diferença das médias amostrais:  12.77\n"
     ]
    }
   ],
   "source": [
    "# diferença das médias amostrais\n",
    "dif_media = media_h - media\n",
    "print(\"Diferença das médias amostrais: \", round(dif_media,2))"
   ]
  },
  {
   "cell_type": "markdown",
   "id": "02bcf342",
   "metadata": {},
   "source": [
    "Podemos observar que a média amostral está na região de rejeição e a hipótese nula é rejeitada. A hipótese alternativa no entanto, não é rejeitada.\n",
    "\n",
    "Se observamos os dados populacionais, a média de peso para homens é aproximadamente 69.7, enquanto para mulheres 62.1. Logo, de fato, a média dos homens é maior."
   ]
  },
  {
   "cell_type": "markdown",
   "id": "02109e86",
   "metadata": {},
   "source": [
    "### e) H 0 : μ UFAC = μ UFSCAR vs H 1 : μ UFAC ≠ μ UFSCAR , com nível de significância igual a 10%, para a variável IDADE."
   ]
  },
  {
   "cell_type": "code",
   "execution_count": 383,
   "id": "b55daa57",
   "metadata": {},
   "outputs": [
    {
     "name": "stdout",
     "output_type": "stream",
     "text": [
      "Média de idade dos alunos da UFAC  20.9 \n",
      "Desvio Padrão:  2.51 \n",
      "Variância:  6.31 \n",
      "Amostra:  20\n"
     ]
    }
   ],
   "source": [
    "# Para UFAC\n",
    "media = df.Idade_am.loc[(df.IES_am == 'UFAC')].mean()\n",
    "desvio_padrao = df.Idade_am.loc[(df.IES_am == 'UFAC')].std()\n",
    "variancia = round(std.variance(df.Idade_am.loc[(df.IES_am == 'UFAC')]),2)\n",
    "amostra = df.loc[(df.IES_am == 'UFAC')].shape[0]\n",
    "\n",
    "print(\"Média de idade dos alunos da UFAC \", round(media,2), \"\\nDesvio Padrão: \", \n",
    "      round(desvio_padrao,2),\"\\nVariância: \",variancia, \"\\nAmostra: \", amostra)"
   ]
  },
  {
   "cell_type": "code",
   "execution_count": 384,
   "id": "837932d0",
   "metadata": {},
   "outputs": [
    {
     "name": "stdout",
     "output_type": "stream",
     "text": [
      "Média de idade dos alunos da UFSCAR  22.21 \n",
      "Desvio Padrão:  4.18 \n",
      "Variância:  17.5 \n",
      "Amostra:  34\n"
     ]
    }
   ],
   "source": [
    "# Para UFSCAR\n",
    "media_uf = df.Idade_am.loc[(df.IES_am == 'UFSCAR')].mean()\n",
    "desvio_padrao_uf = df.Idade_am.loc[(df.IES_am == 'UFSCAR')].std()\n",
    "variancia_uf = round(std.variance(df.Idade_am.loc[(df.IES_am == 'UFSCAR')]),2)\n",
    "amostra_uf = df.loc[(df.IES_am == 'UFSCAR')].shape[0]\n",
    "\n",
    "print(\"Média de idade dos alunos da UFSCAR \", round(media_uf,2), \"\\nDesvio Padrão: \", \n",
    "      round(desvio_padrao_uf,2),\"\\nVariância: \",variancia_uf, \"\\nAmostra: \", amostra_uf)"
   ]
  },
  {
   "cell_type": "code",
   "execution_count": 385,
   "id": "f681242c",
   "metadata": {},
   "outputs": [
    {
     "name": "stdout",
     "output_type": "stream",
     "text": [
      "S_p =  3.6621504821410813\n"
     ]
    }
   ],
   "source": [
    "# obtenção da variância conjunta\n",
    "n_A = 20\n",
    "n_B = 34\n",
    "s_A = 6.31\n",
    "s_B = 17.5\n",
    "s2_p = ((n_A - 1) * s_A + (n_B - 1) * s_B)/(n_A + n_B - 2)\n",
    "s_p  = math.sqrt(s2_p)\n",
    "print(\"S_p = \", s_p)"
   ]
  },
  {
   "cell_type": "code",
   "execution_count": 386,
   "id": "0fbb2b41",
   "metadata": {},
   "outputs": [
    {
     "name": "stdout",
     "output_type": "stream",
     "text": [
      "1.03\n"
     ]
    }
   ],
   "source": [
    "valor = s_p * math.sqrt((1/20) + (1/34))\n",
    "print(round(valor,2))"
   ]
  },
  {
   "cell_type": "code",
   "execution_count": 387,
   "id": "53fb4382",
   "metadata": {},
   "outputs": [
    {
     "name": "stdout",
     "output_type": "stream",
     "text": [
      "Valor na t de student:  1.6747\n"
     ]
    }
   ],
   "source": [
    "# t de student para 10% de significância\n",
    "#g.l = 54 - 2 = 52\n",
    "t = round(stats.t.ppf(1-0.05, 52),4)\n",
    "print (\"Valor na t de student: \", t)"
   ]
  },
  {
   "cell_type": "code",
   "execution_count": 388,
   "id": "952f5883",
   "metadata": {},
   "outputs": [
    {
     "data": {
      "text/plain": [
       "1.728286071380589"
      ]
     },
     "execution_count": 388,
     "metadata": {},
     "output_type": "execute_result"
    }
   ],
   "source": [
    "t * valor"
   ]
  },
  {
   "cell_type": "markdown",
   "id": "aee1e80d",
   "metadata": {},
   "source": [
    "RA = [-1.72 ; 1.72]"
   ]
  },
  {
   "cell_type": "code",
   "execution_count": 389,
   "id": "a7712401",
   "metadata": {},
   "outputs": [
    {
     "name": "stdout",
     "output_type": "stream",
     "text": [
      "Diferença das médias amostrais:  -1.31\n"
     ]
    }
   ],
   "source": [
    "# diferença das médias amostrais\n",
    "dif_media = media - media_uf\n",
    "print(\"Diferença das médias amostrais: \", round(dif_media,2))"
   ]
  },
  {
   "cell_type": "markdown",
   "id": "2d7cd1a8",
   "metadata": {},
   "source": [
    "A diferença das médias amostrais está dentro da RA, portanto a hipótese nula não é rejeitada.\n",
    "Nos dados populacionais, a média da idade dos alunos da UFAC é 20.9, enquanto da ufscar é 22. \n",
    "\n",
    "Podemos perceber que 10% de erro é um valor significativo."
   ]
  },
  {
   "cell_type": "markdown",
   "id": "f774a846",
   "metadata": {},
   "source": [
    "## PARTE B)\n",
    "### Utilizando a amostra estratificada, por SEXO, verificar se existem diferenças significativas, ao nível de 5% de significância (PARA CADA SEXO – M ou F):"
   ]
  },
  {
   "cell_type": "markdown",
   "id": "7e651f76",
   "metadata": {},
   "source": [
    "### a) Entre as alturas dos alunos da UFSCAR e da UFAC."
   ]
  },
  {
   "cell_type": "markdown",
   "id": "c61f83e6",
   "metadata": {},
   "source": [
    "#### Mulheres"
   ]
  },
  {
   "cell_type": "code",
   "execution_count": 390,
   "id": "f9938cb8",
   "metadata": {},
   "outputs": [
    {
     "data": {
      "text/html": [
       "<div>\n",
       "<style scoped>\n",
       "    .dataframe tbody tr th:only-of-type {\n",
       "        vertical-align: middle;\n",
       "    }\n",
       "\n",
       "    .dataframe tbody tr th {\n",
       "        vertical-align: top;\n",
       "    }\n",
       "\n",
       "    .dataframe thead th {\n",
       "        text-align: right;\n",
       "    }\n",
       "</style>\n",
       "<table border=\"1\" class=\"dataframe\">\n",
       "  <thead>\n",
       "    <tr style=\"text-align: right;\">\n",
       "      <th></th>\n",
       "      <th>id</th>\n",
       "      <th>peso</th>\n",
       "      <th>altura</th>\n",
       "      <th>IES</th>\n",
       "      <th>sexo</th>\n",
       "      <th>IMC</th>\n",
       "    </tr>\n",
       "  </thead>\n",
       "  <tbody>\n",
       "    <tr>\n",
       "      <th>0</th>\n",
       "      <td>19</td>\n",
       "      <td>78</td>\n",
       "      <td>181</td>\n",
       "      <td>UFAC</td>\n",
       "      <td>F</td>\n",
       "      <td>25.55358</td>\n",
       "    </tr>\n",
       "    <tr>\n",
       "      <th>1</th>\n",
       "      <td>19</td>\n",
       "      <td>68</td>\n",
       "      <td>159</td>\n",
       "      <td>UFAC</td>\n",
       "      <td>F</td>\n",
       "      <td>17.19108</td>\n",
       "    </tr>\n",
       "    <tr>\n",
       "      <th>2</th>\n",
       "      <td>19</td>\n",
       "      <td>59</td>\n",
       "      <td>177</td>\n",
       "      <td>UFAC</td>\n",
       "      <td>F</td>\n",
       "      <td>18.48411</td>\n",
       "    </tr>\n",
       "    <tr>\n",
       "      <th>3</th>\n",
       "      <td>20</td>\n",
       "      <td>72</td>\n",
       "      <td>163</td>\n",
       "      <td>UFSCAR</td>\n",
       "      <td>F</td>\n",
       "      <td>19.12968</td>\n",
       "    </tr>\n",
       "    <tr>\n",
       "      <th>4</th>\n",
       "      <td>20</td>\n",
       "      <td>63</td>\n",
       "      <td>168</td>\n",
       "      <td>UFAC</td>\n",
       "      <td>F</td>\n",
       "      <td>17.78112</td>\n",
       "    </tr>\n",
       "  </tbody>\n",
       "</table>\n",
       "</div>"
      ],
      "text/plain": [
       "   id  peso  altura     IES sexo       IMC\n",
       "0  19    78     181    UFAC    F  25.55358\n",
       "1  19    68     159    UFAC    F  17.19108\n",
       "2  19    59     177    UFAC    F  18.48411\n",
       "3  20    72     163  UFSCAR    F  19.12968\n",
       "4  20    63     168    UFAC    F  17.78112"
      ]
     },
     "execution_count": 390,
     "metadata": {},
     "output_type": "execute_result"
    }
   ],
   "source": [
    "# importar amostra estratificada por sexo e exibir as 5 primeiras entradas\n",
    "df = pd.read_csv(\"amostra_sexo_ok.csv\", sep = ';')\n",
    "df.IMC = df.IMC.apply(lambda x: x.replace(',','.'))\n",
    "df.IMC = df.IMC.astype(float)\n",
    "df.head()"
   ]
  },
  {
   "cell_type": "code",
   "execution_count": 391,
   "id": "cfa0d285",
   "metadata": {},
   "outputs": [
    {
     "data": {
      "text/plain": [
       "M    0.518519\n",
       "F    0.481481\n",
       "Name: sexo, dtype: float64"
      ]
     },
     "execution_count": 391,
     "metadata": {},
     "output_type": "execute_result"
    }
   ],
   "source": [
    "# verificar a proporção de homens e mulheres\n",
    "df.sexo.value_counts()/df.shape[0]"
   ]
  },
  {
   "cell_type": "markdown",
   "id": "792baedc",
   "metadata": {},
   "source": [
    "Parâmetro de interesse a ser testado: Se μF UFSCAR = μF UFAC, consequentemente μA−μB=0<br>\n",
    "Hipótese nula: H0:μA−μB=0<br>\n",
    "Hipótese alternativa: H1:μA−μB≠0<br>\n",
    "Estatística do teste:"
   ]
  },
  {
   "cell_type": "code",
   "execution_count": 392,
   "id": "430895d5",
   "metadata": {},
   "outputs": [
    {
     "name": "stdout",
     "output_type": "stream",
     "text": [
      "Média da altura das alunas da UFSCAR:  167.72 \n",
      "Desvio Padrão:  7.51 \n",
      "Variância:  56.33 \n",
      "Amostra:  18\n"
     ]
    }
   ],
   "source": [
    "# Para mulheres alunas da UFSCAR\n",
    "media = df.altura.loc[(df.sexo == 'F') & (df.IES == 'UFSCAR')].mean()\n",
    "desvio_padrao = df.altura.loc[(df.sexo == 'F') & (df.IES == 'UFSCAR')].std()\n",
    "variancia = round(std.variance(df.altura.loc[(df.sexo == 'F') & (df.IES == 'UFSCAR')]),2)\n",
    "amostra = df.loc[(df.sexo == 'F') & (df.IES == 'UFSCAR')].shape[0]\n",
    "\n",
    "print(\"Média da altura das alunas da UFSCAR: \", round(media,2), \"\\nDesvio Padrão: \", \n",
    "      round(desvio_padrao,2),\"\\nVariância: \",variancia, \"\\nAmostra: \", amostra)"
   ]
  },
  {
   "cell_type": "code",
   "execution_count": 393,
   "id": "7d7ba7a2",
   "metadata": {},
   "outputs": [
    {
     "name": "stdout",
     "output_type": "stream",
     "text": [
      "Média da altura das alunas da UFAC:  168.25 \n",
      "Desvio Padrão:  9.51 \n",
      "Variância:  90.5 \n",
      "Amostra:  8\n"
     ]
    }
   ],
   "source": [
    "# Para mulheres alunas da UFAC\n",
    "media_ufac = df.altura.loc[(df.sexo == 'F') & (df.IES == 'UFAC')].mean()\n",
    "desvio_padrao_ufac = df.altura.loc[(df.sexo == 'F') & (df.IES == 'UFAC')].std()\n",
    "variancia_ufac = round(std.variance(df.altura.loc[(df.sexo == 'F') & (df.IES == 'UFAC')]),2)\n",
    "amostra_ufac = df.loc[(df.sexo == 'F') & (df.IES == 'UFAC')].shape[0]\n",
    "\n",
    "print(\"Média da altura das alunas da UFAC: \", round(media_ufac,2), \"\\nDesvio Padrão: \", \n",
    "      round(desvio_padrao_ufac,2),\"\\nVariância: \",variancia_ufac, \"\\nAmostra: \", amostra_ufac)"
   ]
  },
  {
   "cell_type": "markdown",
   "id": "ba6e2048",
   "metadata": {},
   "source": [
    "Cálculos:"
   ]
  },
  {
   "cell_type": "code",
   "execution_count": 394,
   "id": "8e2e83fc",
   "metadata": {},
   "outputs": [
    {
     "name": "stdout",
     "output_type": "stream",
     "text": [
      "S_p =  8.142250917283254\n"
     ]
    }
   ],
   "source": [
    "# obtenção da variância conjunta\n",
    "n_A = 18\n",
    "n_B = 8\n",
    "s_A = 56.33\n",
    "s_B = 90.5\n",
    "s2_p = ((n_A - 1) * s_A + (n_B - 1) * s_B)/(n_A + n_B - 2)\n",
    "s_p  = math.sqrt(s2_p)\n",
    "print(\"S_p = \", s_p)"
   ]
  },
  {
   "cell_type": "markdown",
   "id": "da10cf40",
   "metadata": {},
   "source": [
    "O grau de liberdade será 24, pois 18 + 8 - 2 = 24"
   ]
  },
  {
   "cell_type": "code",
   "execution_count": 395,
   "id": "5203b60d",
   "metadata": {},
   "outputs": [
    {
     "name": "stdout",
     "output_type": "stream",
     "text": [
      "Valor na t de student:  2.0639\n"
     ]
    }
   ],
   "source": [
    "# t de student para 5% de significância\n",
    "t = round(stats.t.ppf(1-0.025, 24),4)\n",
    "print (\"Valor na t de student: \", t)"
   ]
  },
  {
   "cell_type": "code",
   "execution_count": 396,
   "id": "00c52548",
   "metadata": {},
   "outputs": [
    {
     "name": "stdout",
     "output_type": "stream",
     "text": [
      "3.46\n"
     ]
    }
   ],
   "source": [
    "valor = s_p * math.sqrt((1/18) + (1/8))\n",
    "print(round(valor,2))"
   ]
  },
  {
   "cell_type": "markdown",
   "id": "26f81340",
   "metadata": {},
   "source": [
    "RR = (-infinito; - 2.0639 * 3.46) U (2.0639 * 3.46; + infinito)"
   ]
  },
  {
   "cell_type": "code",
   "execution_count": 397,
   "id": "1cc340d6",
   "metadata": {},
   "outputs": [
    {
     "data": {
      "text/plain": [
       "7.140663386492991"
      ]
     },
     "execution_count": 397,
     "metadata": {},
     "output_type": "execute_result"
    }
   ],
   "source": [
    "t * valor"
   ]
  },
  {
   "cell_type": "markdown",
   "id": "9666e3c1",
   "metadata": {},
   "source": [
    "RR = (- infinito ; -7.14) U (7.14 ; + infinito)"
   ]
  },
  {
   "cell_type": "markdown",
   "id": "75742a88",
   "metadata": {},
   "source": [
    "RA = [-7.14; 7.14]"
   ]
  },
  {
   "cell_type": "code",
   "execution_count": 398,
   "id": "90e2f50f",
   "metadata": {},
   "outputs": [
    {
     "name": "stdout",
     "output_type": "stream",
     "text": [
      "Diferença das médias amostrais:  -0.53\n"
     ]
    }
   ],
   "source": [
    "# diferença das médias amostrais\n",
    "dif_media = media - media_ufac\n",
    "print(\"Diferença das médias amostrais: \", round(dif_media,2))"
   ]
  },
  {
   "cell_type": "markdown",
   "id": "a875ebc0",
   "metadata": {},
   "source": [
    "A diferença das médias amostrais pertence à RA, portanto não rejeitamos a hipótese."
   ]
  },
  {
   "cell_type": "markdown",
   "id": "9057712f",
   "metadata": {},
   "source": [
    "#### Homens"
   ]
  },
  {
   "cell_type": "code",
   "execution_count": 399,
   "id": "837be5cd",
   "metadata": {},
   "outputs": [
    {
     "name": "stdout",
     "output_type": "stream",
     "text": [
      "Média da altura dos alunos da UFSCAR:  172.11 \n",
      "Desvio Padrão:  9.15 \n",
      "Variância:  83.63 \n",
      "Amostra:  18\n"
     ]
    }
   ],
   "source": [
    "# Para homens alunos da UFSCAR\n",
    "media = df.altura.loc[(df.sexo == 'M') & (df.IES == 'UFSCAR')].mean()\n",
    "desvio_padrao = df.altura.loc[(df.sexo == 'M') & (df.IES == 'UFSCAR')].std()\n",
    "variancia = round(std.variance(df.altura.loc[(df.sexo == 'M') & (df.IES == 'UFSCAR')]),2)\n",
    "amostra = df.loc[(df.sexo == 'M') & (df.IES == 'UFSCAR')].shape[0]\n",
    "\n",
    "print(\"Média da altura dos alunos da UFSCAR: \", round(media,2), \"\\nDesvio Padrão: \", \n",
    "      round(desvio_padrao,2),\"\\nVariância: \",variancia, \"\\nAmostra: \", amostra)"
   ]
  },
  {
   "cell_type": "code",
   "execution_count": 400,
   "id": "598e4f51",
   "metadata": {},
   "outputs": [
    {
     "name": "stdout",
     "output_type": "stream",
     "text": [
      "Média da altura dos alunos da UFAC:  161.1 \n",
      "Desvio Padrão:  4.36 \n",
      "Variância:  18.99 \n",
      "Amostra:  10\n"
     ]
    }
   ],
   "source": [
    "# Para homens alunos da UFAC\n",
    "media_ufac = df.altura.loc[(df.sexo == 'M') & (df.IES == 'UFAC')].mean()\n",
    "desvio_padrao_ufac = df.altura.loc[(df.sexo == 'M') & (df.IES == 'UFAC')].std()\n",
    "variancia_ufac = round(std.variance(df.altura.loc[(df.sexo == 'M') & (df.IES == 'UFAC')]),2)\n",
    "amostra_ufac = df.loc[(df.sexo == 'M') & (df.IES == 'UFAC')].shape[0]\n",
    "\n",
    "print(\"Média da altura dos alunos da UFAC: \", round(media_ufac,2), \"\\nDesvio Padrão: \", \n",
    "      round(desvio_padrao_ufac,2),\"\\nVariância: \",variancia_ufac, \"\\nAmostra: \", amostra_ufac)"
   ]
  },
  {
   "cell_type": "markdown",
   "id": "f9b03ca4",
   "metadata": {},
   "source": [
    "Cálculos:"
   ]
  },
  {
   "cell_type": "code",
   "execution_count": 401,
   "id": "9d1e745e",
   "metadata": {},
   "outputs": [
    {
     "name": "stdout",
     "output_type": "stream",
     "text": [
      "S_p =  7.826532781801619\n"
     ]
    }
   ],
   "source": [
    "# obtenção da variância conjunta\n",
    "n_A = 18\n",
    "n_B = 10\n",
    "s_A = 83.63\n",
    "s_B = 18.99\n",
    "s2_p = ((n_A - 1) * s_A + (n_B - 1) * s_B)/(n_A + n_B - 2)\n",
    "s_p  = math.sqrt(s2_p)\n",
    "print(\"S_p = \", s_p)"
   ]
  },
  {
   "cell_type": "markdown",
   "id": "2c0eb40d",
   "metadata": {},
   "source": [
    "O grau de liberdade será 26, pois 18 + 10 - 2 = 26"
   ]
  },
  {
   "cell_type": "code",
   "execution_count": 402,
   "id": "cc1bf1d8",
   "metadata": {},
   "outputs": [
    {
     "name": "stdout",
     "output_type": "stream",
     "text": [
      "Valor na t de student:  2.0555\n"
     ]
    }
   ],
   "source": [
    "# t de student para 5% de significância\n",
    "t = round(stats.t.ppf(1-0.025, 26),4)\n",
    "print (\"Valor na t de student: \", t)"
   ]
  },
  {
   "cell_type": "code",
   "execution_count": 403,
   "id": "5260b857",
   "metadata": {},
   "outputs": [
    {
     "name": "stdout",
     "output_type": "stream",
     "text": [
      "3.09\n"
     ]
    }
   ],
   "source": [
    "valor = s_p * math.sqrt((1/18) + (1/10))\n",
    "print(round(valor,2))"
   ]
  },
  {
   "cell_type": "markdown",
   "id": "07ab8ce9",
   "metadata": {},
   "source": [
    "RR = (-infinito; - 2.0555 * 3.09) U (2.0555 * 3.09; + infinito)"
   ]
  },
  {
   "cell_type": "code",
   "execution_count": 404,
   "id": "3d7d169f",
   "metadata": {},
   "outputs": [
    {
     "data": {
      "text/plain": [
       "6.344971166697805"
      ]
     },
     "execution_count": 404,
     "metadata": {},
     "output_type": "execute_result"
    }
   ],
   "source": [
    "t * valor"
   ]
  },
  {
   "cell_type": "markdown",
   "id": "166c4ea8",
   "metadata": {},
   "source": [
    "RR = (- infinito ; -6.345) U (6.345 ; + infinito)<br>\n",
    "RA = [-6.345 ; 6.345]"
   ]
  },
  {
   "cell_type": "code",
   "execution_count": 405,
   "id": "9b8ffc2b",
   "metadata": {},
   "outputs": [
    {
     "name": "stdout",
     "output_type": "stream",
     "text": [
      "Diferença das médias amostrais:  11.01\n"
     ]
    }
   ],
   "source": [
    "# diferença das médias amostrais\n",
    "dif_media = media - media_ufac\n",
    "print(\"Diferença das médias amostrais: \", round(dif_media,2))"
   ]
  },
  {
   "cell_type": "markdown",
   "id": "2a26866e",
   "metadata": {},
   "source": [
    "A diferença das médias pertence à região de rejeição, portanto, rejeitamos a hipótese nula."
   ]
  },
  {
   "cell_type": "markdown",
   "id": "b416b822",
   "metadata": {},
   "source": [
    "Observando os dados populacionais, a média da altura da UFSCAR é 171 e UFAC 162, portanto há uma diferença considerável. Todavia, as maiores discrepâncias ocorrem nos homens, se observarmos o boxplot. "
   ]
  },
  {
   "cell_type": "markdown",
   "id": "00a3a243",
   "metadata": {},
   "source": [
    "### b) Entre os IMCs dos alunos da UFSCAR e da UFAC."
   ]
  },
  {
   "cell_type": "markdown",
   "id": "40b95858",
   "metadata": {},
   "source": [
    "#### Mulheres"
   ]
  },
  {
   "cell_type": "code",
   "execution_count": 406,
   "id": "dfb44f95",
   "metadata": {},
   "outputs": [
    {
     "name": "stdout",
     "output_type": "stream",
     "text": [
      "Média do IMC das alunas da UFSCAR:  20.38 \n",
      "Desvio Padrão:  4.42 \n",
      "Variância:  19.56 \n",
      "Amostra:  18\n"
     ]
    }
   ],
   "source": [
    "# Para mulheres com alunos da UFSCAR\n",
    "media = df.IMC.loc[(df.sexo == 'F') & (df.IES == 'UFSCAR')].mean()\n",
    "desvio_padrao = df.IMC.loc[(df.sexo == 'F') & (df.IES == 'UFSCAR')].std()\n",
    "variancia = round(std.variance(df.IMC.loc[(df.sexo == 'F') & (df.IES == 'UFSCAR')]),2)\n",
    "amostra = df.loc[(df.sexo == 'F') & (df.IES == 'UFSCAR')].shape[0]\n",
    "\n",
    "print(\"Média do IMC das alunas da UFSCAR: \", round(media,2), \"\\nDesvio Padrão: \", \n",
    "      round(desvio_padrao,2),\"\\nVariância: \",variancia, \"\\nAmostra: \", amostra)"
   ]
  },
  {
   "cell_type": "code",
   "execution_count": 407,
   "id": "98a38937",
   "metadata": {},
   "outputs": [
    {
     "name": "stdout",
     "output_type": "stream",
     "text": [
      "Média da IMC das alunas da UFAC:  18.26 \n",
      "Desvio Padrão:  4.42 \n",
      "Variância:  19.51 \n",
      "Amostra:  8\n"
     ]
    }
   ],
   "source": [
    "# Para mulheres com alunos da UFAC\n",
    "media_ufac = df.IMC.loc[(df.sexo == 'F') & (df.IES == 'UFAC')].mean()\n",
    "desvio_padrao_ufac = df.IMC.loc[(df.sexo == 'F') & (df.IES == 'UFAC')].std()\n",
    "variancia_ufac = round(std.variance(df.IMC.loc[(df.sexo == 'F') & (df.IES == 'UFAC')]),2)\n",
    "amostra_ufac = df.loc[(df.sexo == 'F') & (df.IES == 'UFAC')].shape[0]\n",
    "\n",
    "print(\"Média da IMC das alunas da UFAC: \", round(media_ufac,2), \"\\nDesvio Padrão: \", \n",
    "      round(desvio_padrao_ufac,2),\"\\nVariância: \",variancia_ufac, \"\\nAmostra: \", amostra_ufac)"
   ]
  },
  {
   "cell_type": "code",
   "execution_count": 408,
   "id": "6ca8612d",
   "metadata": {},
   "outputs": [
    {
     "name": "stdout",
     "output_type": "stream",
     "text": [
      "S_p =  4.421019867255367\n"
     ]
    }
   ],
   "source": [
    "# obtenção da variância conjunta\n",
    "n_A = 18\n",
    "n_B = 8\n",
    "s_A = 19.56\n",
    "s_B = 19.51\n",
    "s2_p = ((n_A - 1) * s_A + (n_B - 1) * s_B)/(n_A + n_B - 2)\n",
    "s_p  = math.sqrt(s2_p)\n",
    "print(\"S_p = \", s_p)"
   ]
  },
  {
   "cell_type": "markdown",
   "id": "58dbbba5",
   "metadata": {},
   "source": [
    "O grau de liberdade será 24, pois 18 + 8- 2 = 24"
   ]
  },
  {
   "cell_type": "code",
   "execution_count": 409,
   "id": "74146dcf",
   "metadata": {},
   "outputs": [
    {
     "name": "stdout",
     "output_type": "stream",
     "text": [
      "Valor na t de student:  2.0639\n"
     ]
    }
   ],
   "source": [
    "# t de student para 5% de significância\n",
    "t = round(stats.t.ppf(1-0.025, 24),4)\n",
    "print (\"Valor na t de student: \", t)"
   ]
  },
  {
   "cell_type": "code",
   "execution_count": 410,
   "id": "bc7e4c3a",
   "metadata": {},
   "outputs": [
    {
     "name": "stdout",
     "output_type": "stream",
     "text": [
      "1.88\n"
     ]
    }
   ],
   "source": [
    "valor = s_p * math.sqrt((1/18) + (1/8))\n",
    "print(round(valor,2))"
   ]
  },
  {
   "cell_type": "markdown",
   "id": "de2f6f67",
   "metadata": {},
   "source": [
    "RR = (-infinito; - 2.0639 * 1.88) U (2.0639 * 1.88; + infinito)"
   ]
  },
  {
   "cell_type": "code",
   "execution_count": 411,
   "id": "5ca931c0",
   "metadata": {},
   "outputs": [
    {
     "data": {
      "text/plain": [
       "3.8771851933545958"
      ]
     },
     "execution_count": 411,
     "metadata": {},
     "output_type": "execute_result"
    }
   ],
   "source": [
    "t * valor"
   ]
  },
  {
   "cell_type": "markdown",
   "id": "21ec130e",
   "metadata": {},
   "source": [
    "RR = (-infinito ; -3.88) U (3.88 ; + infinito)<br>\n",
    "RA = [-3.88 ; 3.88]"
   ]
  },
  {
   "cell_type": "code",
   "execution_count": 412,
   "id": "2e369ddd",
   "metadata": {},
   "outputs": [
    {
     "name": "stdout",
     "output_type": "stream",
     "text": [
      "Diferença das médias amostrais:  2.11\n"
     ]
    }
   ],
   "source": [
    "# diferença das médias amostrais\n",
    "dif_media = media - media_ufac\n",
    "print(\"Diferença das médias amostrais: \", round(dif_media,2))"
   ]
  },
  {
   "cell_type": "markdown",
   "id": "a3bd454c",
   "metadata": {},
   "source": [
    "Como a diferença das médias amostrais está dentro do RA, não rejeitamos a hipótese nula."
   ]
  },
  {
   "cell_type": "markdown",
   "id": "025bc5bd",
   "metadata": {},
   "source": [
    "#### Homens"
   ]
  },
  {
   "cell_type": "code",
   "execution_count": 413,
   "id": "3f3cd40e",
   "metadata": {},
   "outputs": [
    {
     "name": "stdout",
     "output_type": "stream",
     "text": [
      "Média da IMC dos alunos da UFSCAR:  21.42 \n",
      "Desvio Padrão:  5.1 \n",
      "Variância:  26.0 \n",
      "Amostra:  18\n"
     ]
    }
   ],
   "source": [
    "# Para homens alunos da UFSCAR\n",
    "media = df.IMC.loc[(df.sexo == 'M') & (df.IES == 'UFSCAR')].mean()\n",
    "desvio_padrao = df.IMC.loc[(df.sexo == 'M') & (df.IES == 'UFSCAR')].std()\n",
    "variancia = round(std.variance(df.IMC.loc[(df.sexo == 'M') & (df.IES == 'UFSCAR')]),2)\n",
    "amostra = df.loc[(df.sexo == 'M') & (df.IES == 'UFSCAR')].shape[0]\n",
    "\n",
    "print(\"Média da IMC dos alunos da UFSCAR: \", round(media,2), \"\\nDesvio Padrão: \", \n",
    "      round(desvio_padrao,2),\"\\nVariância: \",variancia, \"\\nAmostra: \", amostra)"
   ]
  },
  {
   "cell_type": "code",
   "execution_count": 414,
   "id": "666adf72",
   "metadata": {},
   "outputs": [
    {
     "name": "stdout",
     "output_type": "stream",
     "text": [
      "Média da IMC dos alunos da UFAC:  14.92 \n",
      "Desvio Padrão:  4.34 \n",
      "Variância:  18.82 \n",
      "Amostra:  10\n"
     ]
    }
   ],
   "source": [
    "# Para homens alunos da UFAC\n",
    "media_ufac = df.IMC.loc[(df.sexo == 'M') & (df.IES == 'UFAC')].mean()\n",
    "desvio_padrao_ufac = df.IMC.loc[(df.sexo == 'M') & (df.IES == 'UFAC')].std()\n",
    "variancia_ufac = round(std.variance(df.IMC.loc[(df.sexo == 'M') & (df.IES == 'UFAC')]),2)\n",
    "amostra_ufac = df.loc[(df.sexo == 'M') & (df.IES == 'UFAC')].shape[0]\n",
    "\n",
    "print(\"Média da IMC dos alunos da UFAC: \", round(media_ufac,2), \"\\nDesvio Padrão: \", \n",
    "      round(desvio_padrao_ufac,2),\"\\nVariância: \",variancia_ufac, \"\\nAmostra: \", amostra_ufac)"
   ]
  },
  {
   "cell_type": "code",
   "execution_count": 415,
   "id": "4b590698",
   "metadata": {},
   "outputs": [
    {
     "name": "stdout",
     "output_type": "stream",
     "text": [
      "S_p =  4.849187084926234\n"
     ]
    }
   ],
   "source": [
    "# obtenção da variância conjunta\n",
    "n_A = 18\n",
    "n_B = 10\n",
    "s_A = 26.0\n",
    "s_B = 18.82\n",
    "s2_p = ((n_A - 1) * s_A + (n_B - 1) * s_B)/(n_A + n_B - 2)\n",
    "s_p  = math.sqrt(s2_p)\n",
    "print(\"S_p = \", s_p)"
   ]
  },
  {
   "cell_type": "markdown",
   "id": "fe8aa39a",
   "metadata": {},
   "source": [
    "O grau de liberdade será 24, pois 18 + 10 - 2 = 26"
   ]
  },
  {
   "cell_type": "code",
   "execution_count": 416,
   "id": "5403a5de",
   "metadata": {},
   "outputs": [
    {
     "name": "stdout",
     "output_type": "stream",
     "text": [
      "Valor na t de student:  2.0555\n"
     ]
    }
   ],
   "source": [
    "# t de student para 5% de significância\n",
    "t = round(stats.t.ppf(1-0.025, 26),4)\n",
    "print (\"Valor na t de student: \", t)"
   ]
  },
  {
   "cell_type": "code",
   "execution_count": 417,
   "id": "81a52ec0",
   "metadata": {},
   "outputs": [
    {
     "name": "stdout",
     "output_type": "stream",
     "text": [
      "1.91\n"
     ]
    }
   ],
   "source": [
    "valor = s_p * math.sqrt((1/18) + (1/10))\n",
    "print(round(valor,2))"
   ]
  },
  {
   "cell_type": "markdown",
   "id": "90ca71b9",
   "metadata": {},
   "source": [
    "RR = (-infinito; - 2.0555 * 1.91) U (2.0555 * 1.91; + infinito)"
   ]
  },
  {
   "cell_type": "code",
   "execution_count": 418,
   "id": "b65e184f",
   "metadata": {},
   "outputs": [
    {
     "data": {
      "text/plain": [
       "3.931236614420433"
      ]
     },
     "execution_count": 418,
     "metadata": {},
     "output_type": "execute_result"
    }
   ],
   "source": [
    "t * valor"
   ]
  },
  {
   "cell_type": "markdown",
   "id": "ed8e396f",
   "metadata": {},
   "source": [
    "RR = (-infinito ; -3.93) U (3.93 ; + infinito)<br>\n",
    "RA = [-3.93 ; 3.93]"
   ]
  },
  {
   "cell_type": "code",
   "execution_count": 419,
   "id": "dd920f59",
   "metadata": {},
   "outputs": [
    {
     "name": "stdout",
     "output_type": "stream",
     "text": [
      "Diferença das médias amostrais:  6.5\n"
     ]
    }
   ],
   "source": [
    "# diferença das médias amostrais\n",
    "dif_media = media - media_ufac\n",
    "print(\"Diferença das médias amostrais: \", round(dif_media,2))"
   ]
  },
  {
   "cell_type": "markdown",
   "id": "d598237c",
   "metadata": {},
   "source": [
    "Como a diferença das médias amostrais não pertence a RA, rejeitamos a hipótese nula."
   ]
  },
  {
   "cell_type": "markdown",
   "id": "26f88ef0",
   "metadata": {},
   "source": [
    "### PARTE C: Utilizando a amostra estratificada, por IES, verificar se existem diferenças significativas, ao nível de 5% de significância (DENTRO DE CADA IES):\n",
    "\n",
    "\n",
    "### A) Entre os pesos dos alunos M e F."
   ]
  },
  {
   "cell_type": "code",
   "execution_count": 420,
   "id": "5869d32f",
   "metadata": {},
   "outputs": [
    {
     "data": {
      "text/html": [
       "<div>\n",
       "<style scoped>\n",
       "    .dataframe tbody tr th:only-of-type {\n",
       "        vertical-align: middle;\n",
       "    }\n",
       "\n",
       "    .dataframe tbody tr th {\n",
       "        vertical-align: top;\n",
       "    }\n",
       "\n",
       "    .dataframe thead th {\n",
       "        text-align: right;\n",
       "    }\n",
       "</style>\n",
       "<table border=\"1\" class=\"dataframe\">\n",
       "  <thead>\n",
       "    <tr style=\"text-align: right;\">\n",
       "      <th></th>\n",
       "      <th>sexo</th>\n",
       "      <th>idade</th>\n",
       "      <th>peso</th>\n",
       "      <th>altura</th>\n",
       "      <th>IES</th>\n",
       "    </tr>\n",
       "  </thead>\n",
       "  <tbody>\n",
       "    <tr>\n",
       "      <th>0</th>\n",
       "      <td>M</td>\n",
       "      <td>20</td>\n",
       "      <td>51</td>\n",
       "      <td>164</td>\n",
       "      <td>UFAC</td>\n",
       "    </tr>\n",
       "    <tr>\n",
       "      <th>1</th>\n",
       "      <td>M</td>\n",
       "      <td>26</td>\n",
       "      <td>59</td>\n",
       "      <td>156</td>\n",
       "      <td>UFAC</td>\n",
       "    </tr>\n",
       "    <tr>\n",
       "      <th>2</th>\n",
       "      <td>M</td>\n",
       "      <td>15</td>\n",
       "      <td>69</td>\n",
       "      <td>158</td>\n",
       "      <td>UFAC</td>\n",
       "    </tr>\n",
       "    <tr>\n",
       "      <th>3</th>\n",
       "      <td>M</td>\n",
       "      <td>22</td>\n",
       "      <td>42</td>\n",
       "      <td>152</td>\n",
       "      <td>UFAC</td>\n",
       "    </tr>\n",
       "    <tr>\n",
       "      <th>4</th>\n",
       "      <td>F</td>\n",
       "      <td>19</td>\n",
       "      <td>59</td>\n",
       "      <td>177</td>\n",
       "      <td>UFAC</td>\n",
       "    </tr>\n",
       "  </tbody>\n",
       "</table>\n",
       "</div>"
      ],
      "text/plain": [
       "  sexo  idade  peso  altura   IES\n",
       "0    M     20    51     164  UFAC\n",
       "1    M     26    59     156  UFAC\n",
       "2    M     15    69     158  UFAC\n",
       "3    M     22    42     152  UFAC\n",
       "4    F     19    59     177  UFAC"
      ]
     },
     "execution_count": 420,
     "metadata": {},
     "output_type": "execute_result"
    }
   ],
   "source": [
    "# importar amostra estratificada por sexo e exibir as 5 primeiras entradas\n",
    "df = pd.read_csv(\"amostra_IES_ok.csv\", sep = ';')\n",
    "df.head()"
   ]
  },
  {
   "cell_type": "code",
   "execution_count": 421,
   "id": "bec1e3dd",
   "metadata": {},
   "outputs": [
    {
     "data": {
      "text/plain": [
       "UFSCAR    0.611111\n",
       "UFAC      0.388889\n",
       "Name: IES, dtype: float64"
      ]
     },
     "execution_count": 421,
     "metadata": {},
     "output_type": "execute_result"
    }
   ],
   "source": [
    "# verificar a proporção de IES\n",
    "df.IES.value_counts()/df.shape[0]"
   ]
  },
  {
   "cell_type": "markdown",
   "id": "8fc7b8d9",
   "metadata": {},
   "source": [
    "Parâmetro de interesse a ser testado: Se μM = μF, consequentemente μA−μB=0<br>\n",
    "Hipótese nula: H0:μA−μB=0<br>\n",
    "Hipótese alternativa: H1:μA−μB≠0<br>\n",
    "Estatística do teste:"
   ]
  },
  {
   "cell_type": "markdown",
   "id": "c1971ddd",
   "metadata": {},
   "source": [
    "#### UFSCAR"
   ]
  },
  {
   "cell_type": "code",
   "execution_count": 422,
   "id": "a1c9a8a6",
   "metadata": {},
   "outputs": [
    {
     "name": "stdout",
     "output_type": "stream",
     "text": [
      "Média de peso dos alunos da UFSCAR:  74.72 \n",
      "Desvio Padrão:  13.45 \n",
      "Variância:  180.8 \n",
      "Amostra:  18\n"
     ]
    }
   ],
   "source": [
    "# Para homens alunos da UFSCAR\n",
    "media = df.peso.loc[(df.sexo == 'M') & (df.IES == 'UFSCAR')].mean()\n",
    "desvio_padrao = df.peso.loc[(df.sexo == 'M') & (df.IES == 'UFSCAR')].std()\n",
    "variancia = round(std.variance(df.peso.loc[(df.sexo == 'M') & (df.IES == 'UFSCAR')]),2)\n",
    "amostra = df.loc[(df.sexo == 'M') & (df.IES == 'UFSCAR')].shape[0]\n",
    "\n",
    "print(\"Média de peso dos alunos da UFSCAR: \", round(media,2), \"\\nDesvio Padrão: \", \n",
    "      round(desvio_padrao,2),\"\\nVariância: \",variancia, \"\\nAmostra: \", amostra)"
   ]
  },
  {
   "cell_type": "code",
   "execution_count": 423,
   "id": "19c27e4f",
   "metadata": {},
   "outputs": [
    {
     "name": "stdout",
     "output_type": "stream",
     "text": [
      "Média de Peso das alunas da UFSCAR:  60.73 \n",
      "Desvio Padrão:  9.6 \n",
      "Variância:  92.21 \n",
      "Amostra:  15\n"
     ]
    }
   ],
   "source": [
    "# Para alunas da UFSCAR\n",
    "media_f = df.peso.loc[(df.sexo == 'F') & (df.IES == 'UFSCAR')].mean()\n",
    "desvio_padrao_f = df.peso.loc[(df.sexo == 'F') & (df.IES == 'UFSCAR')].std()\n",
    "variancia_f = round(std.variance(df.peso.loc[(df.sexo == 'F') & (df.IES == 'UFSCAR')]),2)\n",
    "amostra_f = df.loc[(df.sexo == 'F') & (df.IES == 'UFSCAR')].shape[0]\n",
    "\n",
    "print(\"Média de Peso das alunas da UFSCAR: \", round(media_f,2), \"\\nDesvio Padrão: \", \n",
    "      round(desvio_padrao_f,2),\"\\nVariância: \",variancia_f, \"\\nAmostra: \", amostra_f)"
   ]
  },
  {
   "cell_type": "code",
   "execution_count": 424,
   "id": "58e3a1e1",
   "metadata": {},
   "outputs": [
    {
     "name": "stdout",
     "output_type": "stream",
     "text": [
      "S_p =  11.865564162871726\n"
     ]
    }
   ],
   "source": [
    "# obtenção da variância conjunta\n",
    "n_A = 18\n",
    "n_B = 15\n",
    "s_A = 180.8\n",
    "s_B = 92.21\n",
    "s2_p = ((n_A - 1) * s_A + (n_B - 1) * s_B)/(n_A + n_B - 2)\n",
    "s_p  = math.sqrt(s2_p)\n",
    "print(\"S_p = \", s_p)"
   ]
  },
  {
   "cell_type": "markdown",
   "id": "51652bd0",
   "metadata": {},
   "source": [
    "O grau de liberdade será 31, pois 18 + 15 - 2 = 31"
   ]
  },
  {
   "cell_type": "code",
   "execution_count": 425,
   "id": "8df14cb5",
   "metadata": {},
   "outputs": [
    {
     "name": "stdout",
     "output_type": "stream",
     "text": [
      "Valor na t de student:  2.0395\n"
     ]
    }
   ],
   "source": [
    "# t de student para 5% de significância\n",
    "t = round(stats.t.ppf(1-0.025, 31),4)\n",
    "print (\"Valor na t de student: \", t)"
   ]
  },
  {
   "cell_type": "code",
   "execution_count": 426,
   "id": "3d15cba7",
   "metadata": {},
   "outputs": [
    {
     "name": "stdout",
     "output_type": "stream",
     "text": [
      "4.15\n"
     ]
    }
   ],
   "source": [
    "valor = s_p * math.sqrt((1/18) + (1/15))\n",
    "print(round(valor,2))"
   ]
  },
  {
   "cell_type": "markdown",
   "id": "68b00bfd",
   "metadata": {},
   "source": [
    "RR = (-infinito; - 2.0395 * 4.15) U (2.0395 * 4.15; + infinito)"
   ]
  },
  {
   "cell_type": "code",
   "execution_count": 427,
   "id": "c8f98d3f",
   "metadata": {},
   "outputs": [
    {
     "data": {
      "text/plain": [
       "8.460327786020596"
      ]
     },
     "execution_count": 427,
     "metadata": {},
     "output_type": "execute_result"
    }
   ],
   "source": [
    "t * valor"
   ]
  },
  {
   "cell_type": "markdown",
   "id": "012ac358",
   "metadata": {},
   "source": [
    "RR = (-infinito ; -8.46) U (8.46 ; + infinito)<br>\n",
    "RA = [-8.46 ; 8.46]"
   ]
  },
  {
   "cell_type": "code",
   "execution_count": 428,
   "id": "55fa00fa",
   "metadata": {},
   "outputs": [
    {
     "name": "stdout",
     "output_type": "stream",
     "text": [
      "Diferença das médias amostrais:  13.99\n"
     ]
    }
   ],
   "source": [
    "# diferença das médias amostrais\n",
    "dif_media = media - media_f\n",
    "print(\"Diferença das médias amostrais: \", round(dif_media,2))"
   ]
  },
  {
   "cell_type": "markdown",
   "id": "5e754d25",
   "metadata": {},
   "source": [
    "Como 13.99 não pertence à RA, então rejeitamos a hipótese nula."
   ]
  },
  {
   "cell_type": "markdown",
   "id": "21aea43d",
   "metadata": {},
   "source": [
    "### UFAC"
   ]
  },
  {
   "cell_type": "code",
   "execution_count": 429,
   "id": "83829cab",
   "metadata": {},
   "outputs": [
    {
     "name": "stdout",
     "output_type": "stream",
     "text": [
      "Média de peso dos alunos da UFAC:  56.27 \n",
      "Desvio Padrão:  9.01 \n",
      "Variância:  81.22 \n",
      "Amostra:  11\n"
     ]
    }
   ],
   "source": [
    "# Para homens alunos da UFAC\n",
    "media = df.peso.loc[(df.sexo == 'M') & (df.IES == 'UFAC')].mean()\n",
    "desvio_padrao = df.peso.loc[(df.sexo == 'M') & (df.IES == 'UFAC')].std()\n",
    "variancia = round(std.variance(df.peso.loc[(df.sexo == 'M') & (df.IES == 'UFAC')]),2)\n",
    "amostra = df.loc[(df.sexo == 'M') & (df.IES == 'UFAC')].shape[0]\n",
    "\n",
    "print(\"Média de peso dos alunos da UFAC: \", round(media,2), \"\\nDesvio Padrão: \", \n",
    "      round(desvio_padrao,2),\"\\nVariância: \",variancia, \"\\nAmostra: \", amostra)"
   ]
  },
  {
   "cell_type": "code",
   "execution_count": 430,
   "id": "e2d7fd63",
   "metadata": {},
   "outputs": [
    {
     "name": "stdout",
     "output_type": "stream",
     "text": [
      "Média de Peso das alunas da UFAC:  56.9 \n",
      "Desvio Padrão:  7.36 \n",
      "Variância:  54.1 \n",
      "Amostra:  10\n"
     ]
    }
   ],
   "source": [
    "# Para alunas da UFAC\n",
    "media_f = df.peso.loc[(df.sexo == 'F') & (df.IES == 'UFAC')].mean()\n",
    "desvio_padrao_f = df.peso.loc[(df.sexo == 'F') & (df.IES == 'UFAC')].std()\n",
    "variancia_f = round(std.variance(df.peso.loc[(df.sexo == 'F') & (df.IES == 'UFAC')]),2)\n",
    "amostra_f = df.loc[(df.sexo == 'F') & (df.IES == 'UFAC')].shape[0]\n",
    "\n",
    "print(\"Média de Peso das alunas da UFAC: \", round(media_f,2), \"\\nDesvio Padrão: \", \n",
    "      round(desvio_padrao_f,2),\"\\nVariância: \",variancia_f, \"\\nAmostra: \", amostra_f)"
   ]
  },
  {
   "cell_type": "code",
   "execution_count": 431,
   "id": "4f4104f5",
   "metadata": {},
   "outputs": [
    {
     "name": "stdout",
     "output_type": "stream",
     "text": [
      "S_p =  8.268838141512163\n"
     ]
    }
   ],
   "source": [
    "# obtenção da variância conjunta\n",
    "n_A = 11\n",
    "n_B = 10\n",
    "s_A = 81.22\n",
    "s_B = 54.1\n",
    "s2_p = ((n_A - 1) * s_A + (n_B - 1) * s_B)/(n_A + n_B - 2)\n",
    "s_p  = math.sqrt(s2_p)\n",
    "print(\"S_p = \", s_p)"
   ]
  },
  {
   "cell_type": "markdown",
   "id": "8158dbd9",
   "metadata": {},
   "source": [
    "O grau de liberdade será 19, pois 10 + 11 - 2 = 19"
   ]
  },
  {
   "cell_type": "code",
   "execution_count": 432,
   "id": "e183e4d4",
   "metadata": {},
   "outputs": [
    {
     "name": "stdout",
     "output_type": "stream",
     "text": [
      "Valor na t de student:  2.093\n"
     ]
    }
   ],
   "source": [
    "# t de student para 5% de significância\n",
    "t = round(stats.t.ppf(1-0.025, 19),4)\n",
    "print (\"Valor na t de student: \", t)"
   ]
  },
  {
   "cell_type": "code",
   "execution_count": 433,
   "id": "2610ebba",
   "metadata": {},
   "outputs": [
    {
     "name": "stdout",
     "output_type": "stream",
     "text": [
      "3.61\n"
     ]
    }
   ],
   "source": [
    "valor = s_p * math.sqrt((1/11) + (1/10))\n",
    "print(round(valor,2))"
   ]
  },
  {
   "cell_type": "markdown",
   "id": "cb660e1e",
   "metadata": {},
   "source": [
    "RR = (-infinito; - 2.093 * 3.61) U (2.093 * 3.61; + infinito)"
   ]
  },
  {
   "cell_type": "code",
   "execution_count": 434,
   "id": "992a143d",
   "metadata": {},
   "outputs": [
    {
     "data": {
      "text/plain": [
       "7.561831992210688"
      ]
     },
     "execution_count": 434,
     "metadata": {},
     "output_type": "execute_result"
    }
   ],
   "source": [
    "t * valor"
   ]
  },
  {
   "cell_type": "markdown",
   "id": "ad92ea14",
   "metadata": {},
   "source": [
    "RR = (-infinito ; --7.56) U (7.56 ; + infinito)<br>\n",
    "RA = [-7.56 ; 7.56]"
   ]
  },
  {
   "cell_type": "code",
   "execution_count": 435,
   "id": "92609189",
   "metadata": {},
   "outputs": [
    {
     "name": "stdout",
     "output_type": "stream",
     "text": [
      "Diferença das médias amostrais:  -0.63\n"
     ]
    }
   ],
   "source": [
    "# diferença das médias amostrais\n",
    "dif_media = media - media_f\n",
    "print(\"Diferença das médias amostrais: \", round(dif_media,2))"
   ]
  },
  {
   "cell_type": "markdown",
   "id": "fe5c58dd",
   "metadata": {},
   "source": [
    "Como a média amostral pertence à RA, não rejeitamos a hipótese nula."
   ]
  },
  {
   "cell_type": "markdown",
   "id": "bf417f4e",
   "metadata": {},
   "source": [
    "### b) Entre as idades dos alunos M e F."
   ]
  },
  {
   "cell_type": "markdown",
   "id": "581b6f94",
   "metadata": {},
   "source": [
    "#### UFSCAR"
   ]
  },
  {
   "cell_type": "code",
   "execution_count": 436,
   "id": "9e73a89b",
   "metadata": {},
   "outputs": [
    {
     "name": "stdout",
     "output_type": "stream",
     "text": [
      "Média de idade dos alunos da UFSCAR:  21.39 \n",
      "Desvio Padrão:  3.52 \n",
      "Variância:  12.37 \n",
      "Amostra:  18\n"
     ]
    }
   ],
   "source": [
    "# Para homens alunos da UFSCAR\n",
    "media = df.idade.loc[(df.sexo == 'M') & (df.IES == 'UFSCAR')].mean()\n",
    "desvio_padrao = df.idade.loc[(df.sexo == 'M') & (df.IES == 'UFSCAR')].std()\n",
    "variancia = round(std.variance(df.idade.loc[(df.sexo == 'M') & (df.IES == 'UFSCAR')]),2)\n",
    "amostra = df.loc[(df.sexo == 'M') & (df.IES == 'UFSCAR')].shape[0]\n",
    "\n",
    "print(\"Média de idade dos alunos da UFSCAR: \", round(media,2), \"\\nDesvio Padrão: \", \n",
    "      round(desvio_padrao,2),\"\\nVariância: \",variancia, \"\\nAmostra: \", amostra)"
   ]
  },
  {
   "cell_type": "code",
   "execution_count": 437,
   "id": "8d9ce103",
   "metadata": {},
   "outputs": [
    {
     "name": "stdout",
     "output_type": "stream",
     "text": [
      "Média de idade das alunas da UFSCAR:  21.8 \n",
      "Desvio Padrão:  3.19 \n",
      "Variância:  10.17 \n",
      "Amostra:  15\n"
     ]
    }
   ],
   "source": [
    "# Para alunas da UFSCAR\n",
    "media_f = df.idade.loc[(df.sexo == 'F') & (df.IES == 'UFSCAR')].mean()\n",
    "desvio_padrao_f = df.idade.loc[(df.sexo == 'F') & (df.IES == 'UFSCAR')].std()\n",
    "variancia_f = round(std.variance(df.idade.loc[(df.sexo == 'F') & (df.IES == 'UFSCAR')]),2)\n",
    "amostra_f = df.loc[(df.sexo == 'F') & (df.IES == 'UFSCAR')].shape[0]\n",
    "\n",
    "print(\"Média de idade das alunas da UFSCAR: \", round(media_f,2), \"\\nDesvio Padrão: \", \n",
    "      round(desvio_padrao_f,2),\"\\nVariância: \",variancia_f, \"\\nAmostra: \", amostra_f)"
   ]
  },
  {
   "cell_type": "code",
   "execution_count": 438,
   "id": "b334a992",
   "metadata": {},
   "outputs": [
    {
     "name": "stdout",
     "output_type": "stream",
     "text": [
      "S_p =  3.372899585357267\n"
     ]
    }
   ],
   "source": [
    "# obtenção da variância conjunta\n",
    "n_A = 18\n",
    "n_B = 15\n",
    "s_A = 12.37\n",
    "s_B = 10.17\n",
    "s2_p = ((n_A - 1) * s_A + (n_B - 1) * s_B)/(n_A + n_B - 2)\n",
    "s_p  = math.sqrt(s2_p)\n",
    "print(\"S_p = \", s_p)"
   ]
  },
  {
   "cell_type": "markdown",
   "id": "075e70ed",
   "metadata": {},
   "source": [
    "O grau de liberdade será 31, pois 18 + 15 - 2 = 31"
   ]
  },
  {
   "cell_type": "code",
   "execution_count": 439,
   "id": "b8f2b587",
   "metadata": {},
   "outputs": [
    {
     "name": "stdout",
     "output_type": "stream",
     "text": [
      "Valor na t de student:  2.0395\n"
     ]
    }
   ],
   "source": [
    "# t de student para 5% de significância\n",
    "t = round(stats.t.ppf(1-0.025, 31),4)\n",
    "print (\"Valor na t de student: \", t)"
   ]
  },
  {
   "cell_type": "code",
   "execution_count": 440,
   "id": "29bfad2b",
   "metadata": {},
   "outputs": [
    {
     "name": "stdout",
     "output_type": "stream",
     "text": [
      "1.18\n"
     ]
    }
   ],
   "source": [
    "valor = s_p * math.sqrt((1/18) + (1/15))\n",
    "print(round(valor,2))"
   ]
  },
  {
   "cell_type": "markdown",
   "id": "bb2d9b0a",
   "metadata": {},
   "source": [
    "RR = (-infinito ; -2.0395 * 1.18) U (2.0395 * 1.18; + infinito)"
   ]
  },
  {
   "cell_type": "code",
   "execution_count": 441,
   "id": "658ec3b7",
   "metadata": {},
   "outputs": [
    {
     "data": {
      "text/plain": [
       "2.4049287239747343"
      ]
     },
     "execution_count": 441,
     "metadata": {},
     "output_type": "execute_result"
    }
   ],
   "source": [
    "t * valor"
   ]
  },
  {
   "cell_type": "markdown",
   "id": "349acbb9",
   "metadata": {},
   "source": [
    "RR = (-infinito ; -2.40) U (2.40 ; + infinito)<br>\n",
    "RA = [-2.40 ; 2.40]"
   ]
  },
  {
   "cell_type": "code",
   "execution_count": 442,
   "id": "21cda1bf",
   "metadata": {},
   "outputs": [
    {
     "name": "stdout",
     "output_type": "stream",
     "text": [
      "Diferença das médias amostrais:  -0.41\n"
     ]
    }
   ],
   "source": [
    "# diferença das médias amostrais\n",
    "dif_media = media - media_f\n",
    "print(\"Diferença das médias amostrais: \", round(dif_media,2))"
   ]
  },
  {
   "cell_type": "markdown",
   "id": "52ee1c76",
   "metadata": {},
   "source": [
    "Como a diferença das médias amostrais pertence à RA, não rejeitamos a hipótese nula."
   ]
  },
  {
   "cell_type": "markdown",
   "id": "1c70945f",
   "metadata": {},
   "source": [
    "#### UFAC"
   ]
  },
  {
   "cell_type": "code",
   "execution_count": 443,
   "id": "d713aa95",
   "metadata": {},
   "outputs": [
    {
     "name": "stdout",
     "output_type": "stream",
     "text": [
      "Média de idade dos alunos da UFAC:  20.64 \n",
      "Desvio Padrão:  3.38 \n",
      "Variância:  11.45 \n",
      "Amostra:  11\n"
     ]
    }
   ],
   "source": [
    "# Para homens alunos da UFAC\n",
    "media = df.idade.loc[(df.sexo == 'M') & (df.IES == 'UFAC')].mean()\n",
    "desvio_padrao = df.idade.loc[(df.sexo == 'M') & (df.IES == 'UFAC')].std()\n",
    "variancia = round(std.variance(df.idade.loc[(df.sexo == 'M') & (df.IES == 'UFAC')]),2)\n",
    "amostra = df.loc[(df.sexo == 'M') & (df.IES == 'UFAC')].shape[0]\n",
    "\n",
    "print(\"Média de idade dos alunos da UFAC: \", round(media,2), \"\\nDesvio Padrão: \", \n",
    "      round(desvio_padrao,2),\"\\nVariância: \",variancia, \"\\nAmostra: \", amostra)"
   ]
  },
  {
   "cell_type": "code",
   "execution_count": 444,
   "id": "08862e4d",
   "metadata": {},
   "outputs": [
    {
     "name": "stdout",
     "output_type": "stream",
     "text": [
      "Média de idade das alunas da UFAC:  20.0 \n",
      "Desvio Padrão:  1.89 \n",
      "Variância:  3.56 \n",
      "Amostra:  10\n"
     ]
    }
   ],
   "source": [
    "# Para alunas da UFAC\n",
    "media_f = df.idade.loc[(df.sexo == 'F') & (df.IES == 'UFAC')].mean()\n",
    "desvio_padrao_f = df.idade.loc[(df.sexo == 'F') & (df.IES == 'UFAC')].std()\n",
    "variancia_f = round(std.variance(df.idade.loc[(df.sexo == 'F') & (df.IES == 'UFAC')]),2)\n",
    "amostra_f = df.loc[(df.sexo == 'F') & (df.IES == 'UFAC')].shape[0]\n",
    "\n",
    "print(\"Média de idade das alunas da UFAC: \", round(media_f,2), \"\\nDesvio Padrão: \", \n",
    "      round(desvio_padrao_f,2),\"\\nVariância: \",variancia_f, \"\\nAmostra: \", amostra_f)"
   ]
  },
  {
   "cell_type": "code",
   "execution_count": 445,
   "id": "b621f1ff",
   "metadata": {},
   "outputs": [
    {
     "name": "stdout",
     "output_type": "stream",
     "text": [
      "S_p =  2.7771625049584996\n"
     ]
    }
   ],
   "source": [
    "# obtenção da variância conjunta\n",
    "n_A = 11\n",
    "n_B = 10\n",
    "s_A = 11.45\n",
    "s_B = 3.56\n",
    "s2_p = ((n_A - 1) * s_A + (n_B - 1) * s_B)/(n_A + n_B - 2)\n",
    "s_p  = math.sqrt(s2_p)\n",
    "print(\"S_p = \", s_p)"
   ]
  },
  {
   "cell_type": "markdown",
   "id": "0601dbd1",
   "metadata": {},
   "source": [
    "O grau de liberdade será 19, pois 10 + 11 - 2 = 19"
   ]
  },
  {
   "cell_type": "code",
   "execution_count": 446,
   "id": "09add323",
   "metadata": {},
   "outputs": [
    {
     "name": "stdout",
     "output_type": "stream",
     "text": [
      "Valor na t de student:  2.093\n"
     ]
    }
   ],
   "source": [
    "# t de student para 5% de significância\n",
    "t = round(stats.t.ppf(1-0.025, 19),4)\n",
    "print (\"Valor na t de student: \", t)"
   ]
  },
  {
   "cell_type": "code",
   "execution_count": 447,
   "id": "4ab8cd14",
   "metadata": {},
   "outputs": [
    {
     "name": "stdout",
     "output_type": "stream",
     "text": [
      "1.21\n"
     ]
    }
   ],
   "source": [
    "valor = s_p * math.sqrt((1/11) + (1/10))\n",
    "print(round(valor,2))"
   ]
  },
  {
   "cell_type": "markdown",
   "id": "208bb7aa",
   "metadata": {},
   "source": [
    "RR = (-infinito; - 2.093 * 1.21) U (2.093 * 1,21; + infinito)"
   ]
  },
  {
   "cell_type": "code",
   "execution_count": 448,
   "id": "36fdc7d6",
   "metadata": {},
   "outputs": [
    {
     "data": {
      "text/plain": [
       "2.5397082296404343"
      ]
     },
     "execution_count": 448,
     "metadata": {},
     "output_type": "execute_result"
    }
   ],
   "source": [
    "t * valor"
   ]
  },
  {
   "cell_type": "markdown",
   "id": "da6363f2",
   "metadata": {},
   "source": [
    "RR = (-infinito ; -2.53) U (2.53 ; + infinito)<br>\n",
    "RA = [-2.53 ; 2.53]"
   ]
  },
  {
   "cell_type": "code",
   "execution_count": 449,
   "id": "3a4ab74d",
   "metadata": {},
   "outputs": [
    {
     "name": "stdout",
     "output_type": "stream",
     "text": [
      "Diferença das médias amostrais:  0.64\n"
     ]
    }
   ],
   "source": [
    "# diferença das médias amostrais\n",
    "dif_media = media - media_f\n",
    "print(\"Diferença das médias amostrais: \", round(dif_media,2))"
   ]
  },
  {
   "cell_type": "markdown",
   "id": "86307927",
   "metadata": {},
   "source": [
    "Como a diferença das médias pertence à RA, não podemos rejeitar a hipótese nula."
   ]
  },
  {
   "cell_type": "markdown",
   "id": "f631d44e",
   "metadata": {},
   "source": [
    "Dados os resultados obtidos, não podemos concluir que uma amostra como um todo é melhor que a outra. A amostra estratificada por sexo, por exemplo, traz dados mais coerentes quando observamos peso e altura pois diferenciar o sexo em grupos é um dado relevante. Contudo, podemos observar que os resultados estão coerentes num todo à realidade da população."
   ]
  }
 ],
 "metadata": {
  "kernelspec": {
   "display_name": "Python 3",
   "language": "python",
   "name": "python3"
  },
  "language_info": {
   "codemirror_mode": {
    "name": "ipython",
    "version": 3
   },
   "file_extension": ".py",
   "mimetype": "text/x-python",
   "name": "python",
   "nbconvert_exporter": "python",
   "pygments_lexer": "ipython3",
   "version": "3.8.8"
  }
 },
 "nbformat": 4,
 "nbformat_minor": 5
}
