{
 "cells": [
  {
   "cell_type": "markdown",
   "id": "7f864f14",
   "metadata": {},
   "source": [
    "# Probabilidade e Estatística - Atividade 2"
   ]
  },
  {
   "cell_type": "markdown",
   "id": "2624f50c",
   "metadata": {},
   "source": [
    "<img src=\"Arquivos/pe.jpg\"  width=80%>"
   ]
  },
  {
   "cell_type": "code",
   "execution_count": 76,
   "id": "7c35dff0",
   "metadata": {},
   "outputs": [],
   "source": [
    "# importar bibliotecas necessárias\n",
    "import pandas as pd\n",
    "import matplotlib.pyplot as plt\n",
    "import statistics as std"
   ]
  },
  {
   "cell_type": "code",
   "execution_count": 12,
   "id": "c2cec3e0",
   "metadata": {},
   "outputs": [],
   "source": [
    "df = pd.read_csv(\"Populacao360.csv\", sep = ';')\n",
    "df = df.drop(['Unnamed: 8'], axis = 1)\n",
    "df.IMC = df.IMC.apply(lambda x: x.replace(',','.'))\n",
    "df.IMC = df.IMC.astype(float)"
   ]
  },
  {
   "cell_type": "code",
   "execution_count": 110,
   "id": "abafc586",
   "metadata": {},
   "outputs": [
    {
     "data": {
      "text/html": [
       "<div>\n",
       "<style scoped>\n",
       "    .dataframe tbody tr th:only-of-type {\n",
       "        vertical-align: middle;\n",
       "    }\n",
       "\n",
       "    .dataframe tbody tr th {\n",
       "        vertical-align: top;\n",
       "    }\n",
       "\n",
       "    .dataframe thead th {\n",
       "        text-align: right;\n",
       "    }\n",
       "</style>\n",
       "<table border=\"1\" class=\"dataframe\">\n",
       "  <thead>\n",
       "    <tr style=\"text-align: right;\">\n",
       "      <th></th>\n",
       "      <th>nº</th>\n",
       "      <th>sexo</th>\n",
       "      <th>idade</th>\n",
       "      <th>peso</th>\n",
       "      <th>altura</th>\n",
       "      <th>IES</th>\n",
       "      <th>IMC</th>\n",
       "      <th>Clas IMC</th>\n",
       "    </tr>\n",
       "  </thead>\n",
       "  <tbody>\n",
       "    <tr>\n",
       "      <th>0</th>\n",
       "      <td>1</td>\n",
       "      <td>F</td>\n",
       "      <td>19</td>\n",
       "      <td>52</td>\n",
       "      <td>167</td>\n",
       "      <td>UFAC</td>\n",
       "      <td>18.6</td>\n",
       "      <td>ad</td>\n",
       "    </tr>\n",
       "    <tr>\n",
       "      <th>1</th>\n",
       "      <td>2</td>\n",
       "      <td>F</td>\n",
       "      <td>20</td>\n",
       "      <td>78</td>\n",
       "      <td>177</td>\n",
       "      <td>UFAC</td>\n",
       "      <td>24.9</td>\n",
       "      <td>ad</td>\n",
       "    </tr>\n",
       "    <tr>\n",
       "      <th>2</th>\n",
       "      <td>3</td>\n",
       "      <td>F</td>\n",
       "      <td>22</td>\n",
       "      <td>56</td>\n",
       "      <td>172</td>\n",
       "      <td>UFAC</td>\n",
       "      <td>18.9</td>\n",
       "      <td>ad</td>\n",
       "    </tr>\n",
       "    <tr>\n",
       "      <th>3</th>\n",
       "      <td>4</td>\n",
       "      <td>F</td>\n",
       "      <td>19</td>\n",
       "      <td>45</td>\n",
       "      <td>165</td>\n",
       "      <td>UFAC</td>\n",
       "      <td>16.5</td>\n",
       "      <td>mg</td>\n",
       "    </tr>\n",
       "    <tr>\n",
       "      <th>4</th>\n",
       "      <td>5</td>\n",
       "      <td>F</td>\n",
       "      <td>18</td>\n",
       "      <td>60</td>\n",
       "      <td>160</td>\n",
       "      <td>UFAC</td>\n",
       "      <td>23.4</td>\n",
       "      <td>ad</td>\n",
       "    </tr>\n",
       "  </tbody>\n",
       "</table>\n",
       "</div>"
      ],
      "text/plain": [
       "   nº sexo  idade  peso  altura   IES   IMC Clas IMC\n",
       "0   1    F     19    52     167  UFAC  18.6       ad\n",
       "1   2    F     20    78     177  UFAC  24.9       ad\n",
       "2   3    F     22    56     172  UFAC  18.9       ad\n",
       "3   4    F     19    45     165  UFAC  16.5       mg\n",
       "4   5    F     18    60     160  UFAC  23.4       ad"
      ]
     },
     "execution_count": 110,
     "metadata": {},
     "output_type": "execute_result"
    }
   ],
   "source": [
    "# ver os valores iniciais\n",
    "df.head()"
   ]
  },
  {
   "cell_type": "markdown",
   "id": "247e4fb9",
   "metadata": {},
   "source": [
    "### 1 - Para as variáveis SEXO e IES, obter o número absoluto e a frequência relativa percentual."
   ]
  },
  {
   "cell_type": "code",
   "execution_count": 14,
   "id": "b09720d6",
   "metadata": {},
   "outputs": [
    {
     "data": {
      "text/plain": [
       "M    184\n",
       "F    176\n",
       "Name: sexo, dtype: int64"
      ]
     },
     "execution_count": 14,
     "metadata": {},
     "output_type": "execute_result"
    }
   ],
   "source": [
    "# número absoluto\n",
    "df.sexo.value_counts()"
   ]
  },
  {
   "cell_type": "markdown",
   "id": "1ca6becc",
   "metadata": {},
   "source": [
    "Há 184 homens e 176 mulheres"
   ]
  },
  {
   "cell_type": "code",
   "execution_count": 16,
   "id": "16ddb7f7",
   "metadata": {},
   "outputs": [
    {
     "data": {
      "text/plain": [
       "UFSCAR    220\n",
       "UFAC      140\n",
       "Name: IES, dtype: int64"
      ]
     },
     "execution_count": 16,
     "metadata": {},
     "output_type": "execute_result"
    }
   ],
   "source": [
    "# número absoluto\n",
    "df.IES.value_counts()"
   ]
  },
  {
   "cell_type": "markdown",
   "id": "4d4d64f9",
   "metadata": {},
   "source": [
    "Há 220 estudantes da UFSCAR e 140 da UFAC"
   ]
  },
  {
   "cell_type": "code",
   "execution_count": 29,
   "id": "a62e1ef6",
   "metadata": {},
   "outputs": [
    {
     "data": {
      "text/plain": [
       "M    51.111111\n",
       "F    48.888889\n",
       "Name: sexo, dtype: float64"
      ]
     },
     "execution_count": 29,
     "metadata": {},
     "output_type": "execute_result"
    }
   ],
   "source": [
    "# frequência relativa em porcentagem\n",
    "df.sexo.value_counts()/df.shape[0] * 100"
   ]
  },
  {
   "cell_type": "markdown",
   "id": "6dc4cf8e",
   "metadata": {},
   "source": [
    "Mulheres representam aproximadamente 51.1% do dataset, enquanto os homens representam 48.8%"
   ]
  },
  {
   "cell_type": "code",
   "execution_count": 19,
   "id": "eee63b1e",
   "metadata": {},
   "outputs": [
    {
     "data": {
      "text/plain": [
       "UFSCAR    61.111111\n",
       "UFAC      38.888889\n",
       "Name: IES, dtype: float64"
      ]
     },
     "execution_count": 19,
     "metadata": {},
     "output_type": "execute_result"
    }
   ],
   "source": [
    "# frequência relativa em porcentagem\n",
    "df.IES.value_counts()/df.shape[0] * 100"
   ]
  },
  {
   "cell_type": "markdown",
   "id": "a651b7cd",
   "metadata": {},
   "source": [
    "Estudantes da UFSCAR representam aproximadamente 61.1% do dataset, enquanto estudantes da UFAC 38.8% "
   ]
  },
  {
   "cell_type": "markdown",
   "id": "029c3f17",
   "metadata": {},
   "source": [
    "### 2 - Obter os Box-plot para as variáveis quantitativas (IDADE, PESO, ALTURA e IMC) separadamente (um para cada variável já que elas têm diferentes unidades de medidas. Interpretar os box-plot baseando-se na presença ou não de “outliers” (dados discrepantes), nos tamanhos das hastes, na posição relativa da mediana dentro da caixa (box) e outras características que considerar importante."
   ]
  },
  {
   "cell_type": "code",
   "execution_count": 30,
   "id": "125636a4",
   "metadata": {},
   "outputs": [
    {
     "data": {
      "image/png": "[encoded data removed]",
      "text/plain": [
       "<Figure size 432x288 with 1 Axes>"
      ]
     },
     "metadata": {
      "needs_background": "light"
     },
     "output_type": "display_data"
    }
   ],
   "source": [
    "# boxplot para idade\n",
    "fig, ax = plt.subplots()\n",
    "df.idade.plot(kind = 'box');\n",
    "plt.show()"
   ]
  },
  {
   "cell_type": "code",
   "execution_count": 38,
   "id": "40adb517",
   "metadata": {},
   "outputs": [
    {
     "data": {
      "text/plain": [
       "count    360.000000\n",
       "mean      21.644444\n",
       "std        3.884291\n",
       "min       13.000000\n",
       "25%       19.000000\n",
       "50%       21.000000\n",
       "75%       24.000000\n",
       "max       41.000000\n",
       "Name: idade, dtype: float64"
      ]
     },
     "execution_count": 38,
     "metadata": {},
     "output_type": "execute_result"
    }
   ],
   "source": [
    "# obter valores descritivos\n",
    "df.idade.describe()"
   ]
  },
  {
   "cell_type": "code",
   "execution_count": 37,
   "id": "46192a86",
   "metadata": {},
   "outputs": [
    {
     "name": "stdout",
     "output_type": "stream",
     "text": [
      "IQR da variável price:  5.0\n",
      "Limite superior de price:  31.5\n",
      "Limite inferior de price:  11.5\n"
     ]
    }
   ],
   "source": [
    "# identificar o iqr da variável idade\n",
    "q1_idade = df.idade.quantile(.25)\n",
    "q3_idade = df.idade.quantile(.75)\n",
    "IQR_idade = q3_idade - q1_idade\n",
    "print('IQR da variável price: ', IQR_idade)\n",
    "\n",
    "# definir os limites superiores e inferiores                                      \n",
    "sup_idade = q3_idade + 1.5 * IQR_idade\n",
    "inf_idade = q1_idade - 1.5 * IQR_idade\n",
    "\n",
    "print('Limite superior de price: ', sup_idade)\n",
    "print('Limite inferior de price: ', inf_idade)"
   ]
  },
  {
   "cell_type": "markdown",
   "id": "400554aa",
   "metadata": {},
   "source": [
    "Com o boxplot para a varíavel idade podemos observar que a mediana está em 21. Ao calcular a média, obtemos 21.6, o que é um valor aproximado. O valor mínimo identificado pela haste inferior é 13, enquanto o máximo, identificado pela haste superior é 41. Ao verificar o gráfico, há a presença de outliers. Isto acontece porque se definirmos o IQR para o nosso conjunto de idades, temos como limite superior 31.5 anos, contudo, não podemos descartar essas informações porque são relevantes."
   ]
  },
  {
   "cell_type": "code",
   "execution_count": 39,
   "id": "bd7f46b6",
   "metadata": {
    "scrolled": true
   },
   "outputs": [
    {
     "data": {
      "image/png": "[encoded data removed]",
      "text/plain": [
       "<Figure size 432x288 with 1 Axes>"
      ]
     },
     "metadata": {
      "needs_background": "light"
     },
     "output_type": "display_data"
    }
   ],
   "source": [
    "# boxplot para peso\n",
    "fig, ax = plt.subplots()\n",
    "df.peso.plot(kind = 'box');\n",
    "plt.show()"
   ]
  },
  {
   "cell_type": "code",
   "execution_count": 117,
   "id": "ce3f94b1",
   "metadata": {
    "scrolled": true
   },
   "outputs": [
    {
     "data": {
      "text/plain": [
       "count    360.000000\n",
       "mean      66.066667\n",
       "std       15.047594\n",
       "min       35.000000\n",
       "25%       55.000000\n",
       "50%       64.000000\n",
       "75%       74.000000\n",
       "max      124.000000\n",
       "Name: peso, dtype: float64"
      ]
     },
     "execution_count": 117,
     "metadata": {},
     "output_type": "execute_result"
    }
   ],
   "source": [
    "# ver valores descritivos\n",
    "df.peso.describe()"
   ]
  },
  {
   "cell_type": "code",
   "execution_count": 118,
   "id": "9fb38e43",
   "metadata": {},
   "outputs": [
    {
     "name": "stdout",
     "output_type": "stream",
     "text": [
      "IQR da variável price:  19.0\n",
      "Limite superior de price:  102.5\n",
      "Limite inferior de price:  26.5\n"
     ]
    }
   ],
   "source": [
    "# identificar o iqr da variável peso\n",
    "q1_peso = df.peso.quantile(.25)\n",
    "q3_peso = df.peso.quantile(.75)\n",
    "IQR_peso = q3_peso - q1_peso\n",
    "print('IQR da variável price: ', IQR_peso)\n",
    "\n",
    "# definir os limites superiores e inferiores                                      \n",
    "sup_peso = q3_peso + 1.5 * IQR_peso\n",
    "inf_peso = q1_peso - 1.5 * IQR_peso\n",
    "\n",
    "print('Limite superior de price: ', sup_peso)\n",
    "print('Limite inferior de price: ', inf_peso)"
   ]
  },
  {
   "cell_type": "markdown",
   "id": "980b4eba",
   "metadata": {},
   "source": [
    "Com o boxplot para a varíavel peso podemos observar que a mediana está em 64. Ao calcular a média, obtemos 66, o que é um valor aproximado. O valor mínimo identificado pela haste inferior é 35, enquanto o máximo, identificado pela haste superior é 124. Ao verificar o gráfico, há a presença de outliers. Isto acontece porque se definirmos o IQR para o nosso conjunto de idades, temos como limite superior 102.5 kg, contudo, não podemos descartar essas informações porque são relevantes."
   ]
  },
  {
   "cell_type": "code",
   "execution_count": 40,
   "id": "34040411",
   "metadata": {
    "scrolled": true
   },
   "outputs": [
    {
     "data": {
      "image/png": "[encoded data removed]",
      "text/plain": [
       "<Figure size 432x288 with 1 Axes>"
      ]
     },
     "metadata": {
      "needs_background": "light"
     },
     "output_type": "display_data"
    }
   ],
   "source": [
    "fig, ax = plt.subplots()\n",
    "df.altura.plot(kind = 'box');\n",
    "plt.show()"
   ]
  },
  {
   "cell_type": "code",
   "execution_count": 119,
   "id": "315e8ecc",
   "metadata": {},
   "outputs": [
    {
     "data": {
      "text/plain": [
       "count    360.00000\n",
       "mean     168.15000\n",
       "std        9.57828\n",
       "min      137.00000\n",
       "25%      161.00000\n",
       "50%      168.00000\n",
       "75%      175.00000\n",
       "max      194.00000\n",
       "Name: altura, dtype: float64"
      ]
     },
     "execution_count": 119,
     "metadata": {},
     "output_type": "execute_result"
    }
   ],
   "source": [
    "# ver valores descritivos\n",
    "df.altura.describe()"
   ]
  },
  {
   "cell_type": "markdown",
   "id": "61e2cacc",
   "metadata": {},
   "source": [
    "Com o boxplot para a varíavel altura, vemos que a mediana é 168 cm. Ao calcular a média, obtemos 168.15 cm, o que é um valor aproximado. O valor mínimo identificado pela haste inferior é 137 cm, enquanto o máximo, identificado pela haste superior é 194 cm. Ao verificar o gráfico, não há presença de outliers."
   ]
  },
  {
   "cell_type": "code",
   "execution_count": 67,
   "id": "b109919b",
   "metadata": {},
   "outputs": [
    {
     "data": {
      "image/png": "[encoded data removed]",
      "text/plain": [
       "<Figure size 432x288 with 1 Axes>"
      ]
     },
     "metadata": {
      "needs_background": "light"
     },
     "output_type": "display_data"
    }
   ],
   "source": [
    "fig, ax = plt.subplots()\n",
    "df.IMC.plot(kind = 'box');\n",
    "plt.show()"
   ]
  },
  {
   "cell_type": "code",
   "execution_count": 120,
   "id": "3d02221f",
   "metadata": {},
   "outputs": [
    {
     "data": {
      "text/plain": [
       "count    360.000000\n",
       "mean      23.241389\n",
       "std        4.457035\n",
       "min       12.000000\n",
       "25%       20.175000\n",
       "50%       22.850000\n",
       "75%       25.400000\n",
       "max       37.400000\n",
       "Name: IMC, dtype: float64"
      ]
     },
     "execution_count": 120,
     "metadata": {},
     "output_type": "execute_result"
    }
   ],
   "source": [
    "# ver valores descritivos\n",
    "df.IMC.describe()"
   ]
  },
  {
   "cell_type": "code",
   "execution_count": 121,
   "id": "f359195c",
   "metadata": {},
   "outputs": [
    {
     "name": "stdout",
     "output_type": "stream",
     "text": [
      "IQR da variável price:  5.224999999999998\n",
      "Limite superior de price:  33.2375\n",
      "Limite inferior de price:  12.337500000000004\n"
     ]
    }
   ],
   "source": [
    "# identificar o iqr da variável IMC\n",
    "q1_IMC = df.IMC.quantile(.25)\n",
    "q3_IMC = df.IMC.quantile(.75)\n",
    "IQR_IMC = q3_IMC - q1_IMC\n",
    "print('IQR da variável price: ', IQR_IMC)\n",
    "\n",
    "# definir os limites superiores e inferiores                                      \n",
    "sup_IMC = q3_IMC + 1.5 * IQR_IMC\n",
    "inf_IMC = q1_IMC - 1.5 * IQR_IMC\n",
    "\n",
    "print('Limite superior de price: ', sup_IMC)\n",
    "print('Limite inferior de price: ', inf_IMC)"
   ]
  },
  {
   "cell_type": "markdown",
   "id": "d14daa0c",
   "metadata": {},
   "source": [
    "Com o boxplot para a varíavel IMC podemos observar que a mediana está em 22.85. Ao calcular a média, obtemos 23.24, o que é um valor aproximado. O valor mínimo identificado pela haste inferior é 12, enquanto o máximo, identificado pela haste superior é 37.4. Ao verificar o gráfico, há a presença de outliers. Isto acontece porque se definirmos o IQR para o nosso conjunto de idades, temos como limite superior 33.23 contudo, não podemos descartar essas informações porque são relevantes."
   ]
  },
  {
   "cell_type": "markdown",
   "id": "607e98a8",
   "metadata": {},
   "source": [
    "## (3) Fazer o histograma para os dados quantitativos e comparar os resultados destes histogramas com os box-plots."
   ]
  },
  {
   "cell_type": "code",
   "execution_count": 72,
   "id": "e7df33ee",
   "metadata": {},
   "outputs": [
    {
     "data": {
      "image/png": "[encoded data removed]",
      "text/plain": [
       "<Figure size 1080x720 with 4 Axes>"
      ]
     },
     "metadata": {
      "needs_background": "light"
     },
     "output_type": "display_data"
    }
   ],
   "source": [
    "df[['idade', 'peso', 'altura', 'IMC']].hist(figsize=(15,10), grid=False);"
   ]
  },
  {
   "cell_type": "markdown",
   "id": "7e9c6a7d",
   "metadata": {},
   "source": [
    "### Obter, para os dados populacionais das variáveis IDADE, PESO, ALTURA e IMC as seguintes medidas:\n",
    "a) Média aritmética.\n",
    "b) Mediana, primeiro quartil e terceiro quartil.\n",
    "c) Variância populacional.\n",
    "d) Desvio Padrão populacional.\n",
    "e) Coeficiente de Variação."
   ]
  },
  {
   "cell_type": "code",
   "execution_count": 74,
   "id": "c253b79a",
   "metadata": {},
   "outputs": [
    {
     "name": "stdout",
     "output_type": "stream",
     "text": [
      "Idade:  21.64\n",
      "Peso:  66.07\n",
      "Altura:  168.15\n",
      "IMC:  23.24\n"
     ]
    }
   ],
   "source": [
    "# média aritmética\n",
    "print(\"Idade: \", round(df.idade.mean(),2))\n",
    "print(\"Peso: \", round(df.peso.mean(),2))\n",
    "print(\"Altura: \", round(df.altura.mean(),2))\n",
    "print(\"IMC: \", round(df.IMC.mean(),2))"
   ]
  },
  {
   "cell_type": "code",
   "execution_count": 75,
   "id": "6e739575",
   "metadata": {},
   "outputs": [
    {
     "name": "stdout",
     "output_type": "stream",
     "text": [
      "Idade:  21.0\n",
      "Peso:  64.0\n",
      "Altura:  168.0\n",
      "IMC:  22.85\n"
     ]
    }
   ],
   "source": [
    "# mediana\n",
    "print(\"Idade: \", round(df.idade.median(),2))\n",
    "print(\"Peso: \", round(df.peso.median(),2))\n",
    "print(\"Altura: \", round(df.altura.median(),2))\n",
    "print(\"IMC: \", round(df.IMC.median(),2))"
   ]
  },
  {
   "cell_type": "code",
   "execution_count": 80,
   "id": "92a25e99",
   "metadata": {},
   "outputs": [
    {
     "name": "stdout",
     "output_type": "stream",
     "text": [
      "Idade:  15.045802469135802\n",
      "Peso:  225.8011111111111\n",
      "Altura:  91.48861111111111\n",
      "IMC:  19.80998140432099\n"
     ]
    }
   ],
   "source": [
    "# variância populacional\n",
    "print(\"Idade: \", std.pvariance(df.idade))\n",
    "print(\"Peso: \", std.pvariance(df.peso))\n",
    "print(\"Altura: \", std.pvariance(df.altura))\n",
    "print(\"IMC: \", std.pvariance(df.IMC))"
   ]
  },
  {
   "cell_type": "code",
   "execution_count": 81,
   "id": "dd535893",
   "metadata": {},
   "outputs": [
    {
     "name": "stdout",
     "output_type": "stream",
     "text": [
      "Idade:  3.8788919125358214\n",
      "Peso:  15.026679976332467\n",
      "Altura:  9.564967909570377\n",
      "IMC:  4.450840527846509\n"
     ]
    }
   ],
   "source": [
    "# desvio padrão populacional\n",
    "print(\"Idade: \", std.pstdev(df.idade))\n",
    "print(\"Peso: \", std.pstdev(df.peso))\n",
    "print(\"Altura: \", std.pstdev(df.altura))\n",
    "print(\"IMC: \", std.pstdev(df.IMC))"
   ]
  },
  {
   "cell_type": "code",
   "execution_count": 82,
   "id": "d9158710",
   "metadata": {},
   "outputs": [
    {
     "name": "stdout",
     "output_type": "stream",
     "text": [
      "Idade:  17.92095852814291\n",
      "Peso:  22.744722466698995\n",
      "Altura:  5.688354391656484\n",
      "IMC:  19.150492894916194\n"
     ]
    }
   ],
   "source": [
    "# coeficiente de variação\n",
    "print(\"Idade: \", std.pstdev(df.idade)/df.idade.mean() * 100)\n",
    "print(\"Peso: \", std.pstdev(df.peso)/df.peso.mean() * 100)\n",
    "print(\"Altura: \", std.pstdev(df.altura)/df.altura.mean() * 100)\n",
    "print(\"IMC: \", std.pstdev(df.IMC)/df.IMC.mean() * 100)"
   ]
  },
  {
   "cell_type": "markdown",
   "id": "233f4f9b",
   "metadata": {},
   "source": [
    "### Sexo Feminino"
   ]
  },
  {
   "cell_type": "code",
   "execution_count": 90,
   "id": "de058637",
   "metadata": {},
   "outputs": [],
   "source": [
    "df_fem = df.loc[df.sexo == 'F']"
   ]
  },
  {
   "cell_type": "code",
   "execution_count": 91,
   "id": "d42db7bf",
   "metadata": {},
   "outputs": [
    {
     "data": {
      "text/plain": [
       "176"
      ]
     },
     "execution_count": 91,
     "metadata": {},
     "output_type": "execute_result"
    }
   ],
   "source": [
    "df_fem.shape[0]"
   ]
  },
  {
   "cell_type": "code",
   "execution_count": 94,
   "id": "01134af5",
   "metadata": {},
   "outputs": [
    {
     "name": "stdout",
     "output_type": "stream",
     "text": [
      "Idade:  21.21\n",
      "Peso:  57.91\n",
      "Altura:  161.68\n",
      "IMC:  22.17\n"
     ]
    }
   ],
   "source": [
    "# média aritmética\n",
    "print(\"Idade: \", round(df_fem.idade.mean(),2))\n",
    "print(\"Peso: \", round(df_fem.peso.mean(),2))\n",
    "print(\"Altura: \", round(df_fem.altura.mean(),2))\n",
    "print(\"IMC: \", round(df_fem.IMC.mean(),2))"
   ]
  },
  {
   "cell_type": "code",
   "execution_count": 95,
   "id": "2fb44704",
   "metadata": {},
   "outputs": [
    {
     "name": "stdout",
     "output_type": "stream",
     "text": [
      "Idade:  20.0\n",
      "Peso:  57.0\n",
      "Altura:  162.0\n",
      "IMC:  21.85\n"
     ]
    }
   ],
   "source": [
    "# mediana\n",
    "print(\"Idade: \", round(df_fem.idade.median(),2))\n",
    "print(\"Peso: \", round(df_fem.peso.median(),2))\n",
    "print(\"Altura: \", round(df_fem.altura.median(),2))\n",
    "print(\"IMC: \", round(df_fem.IMC.median(),2))"
   ]
  },
  {
   "cell_type": "code",
   "execution_count": 96,
   "id": "4d64d896",
   "metadata": {},
   "outputs": [
    {
     "name": "stdout",
     "output_type": "stream",
     "text": [
      "Idade:  3.5812180435739784\n",
      "Peso:  10.113481548866156\n",
      "Altura:  7.119986999709554\n",
      "IMC:  3.998310593651497\n"
     ]
    }
   ],
   "source": [
    "# desvio padrão populacional\n",
    "print(\"Idade: \", std.pstdev(df_fem.idade))\n",
    "print(\"Peso: \", std.pstdev(df_fem.peso))\n",
    "print(\"Altura: \", std.pstdev(df_fem.altura))\n",
    "print(\"IMC: \", std.pstdev(df_fem.IMC))"
   ]
  },
  {
   "cell_type": "code",
   "execution_count": 97,
   "id": "597215eb",
   "metadata": {},
   "outputs": [
    {
     "name": "stdout",
     "output_type": "stream",
     "text": [
      "Idade:  16.884392597616397\n",
      "Peso:  17.462697464931264\n",
      "Altura:  4.40370295174614\n",
      "IMC:  18.036258572961447\n"
     ]
    }
   ],
   "source": [
    "# coeficiente de variação\n",
    "print(\"Idade: \", std.pstdev(df_fem.idade)/df_fem.idade.mean() * 100)\n",
    "print(\"Peso: \", std.pstdev(df_fem.peso)/df_fem.peso.mean() * 100)\n",
    "print(\"Altura: \", std.pstdev(df_fem.altura)/df_fem.altura.mean() * 100)\n",
    "print(\"IMC: \", std.pstdev(df_fem.IMC)/df_fem.IMC.mean() * 100)"
   ]
  },
  {
   "cell_type": "markdown",
   "id": "14561030",
   "metadata": {},
   "source": [
    "### Sexo Masculino"
   ]
  },
  {
   "cell_type": "code",
   "execution_count": 92,
   "id": "4d8a7462",
   "metadata": {},
   "outputs": [],
   "source": [
    "df_man = df.loc[df.sexo == 'M']"
   ]
  },
  {
   "cell_type": "code",
   "execution_count": 93,
   "id": "8ff12e68",
   "metadata": {},
   "outputs": [
    {
     "data": {
      "text/plain": [
       "184"
      ]
     },
     "execution_count": 93,
     "metadata": {},
     "output_type": "execute_result"
    }
   ],
   "source": [
    "df_man.shape[0]"
   ]
  },
  {
   "cell_type": "code",
   "execution_count": 98,
   "id": "93aeeaf1",
   "metadata": {},
   "outputs": [
    {
     "name": "stdout",
     "output_type": "stream",
     "text": [
      "Idade:  22.06\n",
      "Peso:  73.86\n",
      "Altura:  174.34\n",
      "IMC:  24.27\n"
     ]
    }
   ],
   "source": [
    "# média aritmética\n",
    "print(\"Idade: \", round(df_man.idade.mean(),2))\n",
    "print(\"Peso: \", round(df_man.peso.mean(),2))\n",
    "print(\"Altura: \", round(df_man.altura.mean(),2))\n",
    "print(\"IMC: \", round(df_man.IMC.mean(),2))"
   ]
  },
  {
   "cell_type": "code",
   "execution_count": 99,
   "id": "93b47392",
   "metadata": {},
   "outputs": [
    {
     "name": "stdout",
     "output_type": "stream",
     "text": [
      "Idade:  21.0\n",
      "Peso:  72.0\n",
      "Altura:  175.0\n",
      "IMC:  23.75\n"
     ]
    }
   ],
   "source": [
    "# mediana\n",
    "print(\"Idade: \", round(df_man.idade.median(),2))\n",
    "print(\"Peso: \", round(df_man.peso.median(),2))\n",
    "print(\"Altura: \", round(df_man.altura.median(),2))\n",
    "print(\"IMC: \", round(df_man.IMC.median(),2))"
   ]
  },
  {
   "cell_type": "code",
   "execution_count": 100,
   "id": "dcb6e163",
   "metadata": {},
   "outputs": [
    {
     "name": "stdout",
     "output_type": "stream",
     "text": [
      "Idade:  4.100863105933992\n",
      "Peso:  14.818393986219048\n",
      "Altura:  7.22582502272088\n",
      "IMC:  4.616464400487031\n"
     ]
    }
   ],
   "source": [
    "# desvio padrão populacional\n",
    "print(\"Idade: \", std.pstdev(df_man.idade))\n",
    "print(\"Peso: \", std.pstdev(df_man.peso))\n",
    "print(\"Altura: \", std.pstdev(df_man.altura))\n",
    "print(\"IMC: \", std.pstdev(df_man.IMC))"
   ]
  },
  {
   "cell_type": "code",
   "execution_count": 101,
   "id": "cb699061",
   "metadata": {},
   "outputs": [
    {
     "name": "stdout",
     "output_type": "stream",
     "text": [
      "Idade:  18.589771162647313\n",
      "Peso:  20.061691512503163\n",
      "Altura:  4.144746568304265\n",
      "IMC:  19.022897670696562\n"
     ]
    }
   ],
   "source": [
    "# coeficiente de variação\n",
    "print(\"Idade: \", std.pstdev(df_man.idade)/df_man.idade.mean() * 100)\n",
    "print(\"Peso: \", std.pstdev(df_man.peso)/df_man.peso.mean() * 100)\n",
    "print(\"Altura: \", std.pstdev(df_man.altura)/df_man.altura.mean() * 100)\n",
    "print(\"IMC: \", std.pstdev(df_man.IMC)/df_man.IMC.mean() * 100)"
   ]
  },
  {
   "cell_type": "markdown",
   "id": "a26c2c42",
   "metadata": {},
   "source": [
    "### Calcular, para os dados populacionais das variáveis quantitativas (IDADE, PESO, ALTURA e IMC), as medidas de posição e de dispersão, por IES."
   ]
  },
  {
   "cell_type": "markdown",
   "id": "400b0fc9",
   "metadata": {},
   "source": [
    "### UFAC"
   ]
  },
  {
   "cell_type": "code",
   "execution_count": 102,
   "id": "fd6a2a7a",
   "metadata": {},
   "outputs": [],
   "source": [
    "df_ufac = df.loc[df.IES == 'UFAC']"
   ]
  },
  {
   "cell_type": "code",
   "execution_count": 103,
   "id": "68da3323",
   "metadata": {},
   "outputs": [
    {
     "data": {
      "text/plain": [
       "140"
      ]
     },
     "execution_count": 103,
     "metadata": {},
     "output_type": "execute_result"
    }
   ],
   "source": [
    "df_ufac.shape[0]"
   ]
  },
  {
   "cell_type": "code",
   "execution_count": 104,
   "id": "38035385",
   "metadata": {},
   "outputs": [
    {
     "name": "stdout",
     "output_type": "stream",
     "text": [
      "Idade:  21.4\n",
      "Peso:  66.15\n",
      "Altura:  168.36\n",
      "IMC:  23.17\n"
     ]
    }
   ],
   "source": [
    "# média aritmética\n",
    "print(\"Idade: \", round(df_ufac.idade.mean(),2))\n",
    "print(\"Peso: \", round(df_ufac.peso.mean(),2))\n",
    "print(\"Altura: \", round(df_ufac.altura.mean(),2))\n",
    "print(\"IMC: \", round(df_ufac.IMC.mean(),2))"
   ]
  },
  {
   "cell_type": "code",
   "execution_count": 105,
   "id": "47d4b407",
   "metadata": {},
   "outputs": [
    {
     "name": "stdout",
     "output_type": "stream",
     "text": [
      "Idade:  20.0\n",
      "Peso:  64.0\n",
      "Altura:  168.0\n",
      "IMC:  22.9\n"
     ]
    }
   ],
   "source": [
    "# mediana\n",
    "print(\"Idade: \", round(df_ufac.idade.median(),2))\n",
    "print(\"Peso: \", round(df_ufac.peso.median(),2))\n",
    "print(\"Altura: \", round(df_ufac.altura.median(),2))\n",
    "print(\"IMC: \", round(df_ufac.IMC.median(),2))"
   ]
  },
  {
   "cell_type": "code",
   "execution_count": 106,
   "id": "93b5e25d",
   "metadata": {},
   "outputs": [
    {
     "name": "stdout",
     "output_type": "stream",
     "text": [
      "Idade:  4.3977266854592045\n",
      "Peso:  14.161782071073238\n",
      "Altura:  9.425050749606235\n",
      "IMC:  3.6237292635502176\n"
     ]
    }
   ],
   "source": [
    "# desvio padrão populacional\n",
    "print(\"Idade: \", std.pstdev(df_ufac.idade))\n",
    "print(\"Peso: \", std.pstdev(df_ufac.peso))\n",
    "print(\"Altura: \", std.pstdev(df_ufac.altura))\n",
    "print(\"IMC: \", std.pstdev(df_ufac.IMC))"
   ]
  },
  {
   "cell_type": "code",
   "execution_count": 107,
   "id": "9a8a7ea8",
   "metadata": {},
   "outputs": [
    {
     "name": "stdout",
     "output_type": "stream",
     "text": [
      "Idade:  20.550124698407497\n",
      "Peso:  21.408589676603533\n",
      "Altura:  5.598010712082104\n",
      "IMC:  15.640228655456129\n"
     ]
    }
   ],
   "source": [
    "# coeficiente de variação\n",
    "print(\"Idade: \", std.pstdev(df_ufac.idade)/df_ufac.idade.mean() * 100)\n",
    "print(\"Peso: \", std.pstdev(df_ufac.peso)/df_ufac.peso.mean() * 100)\n",
    "print(\"Altura: \", std.pstdev(df_ufac.altura)/df_ufac.altura.mean() * 100)\n",
    "print(\"IMC: \", std.pstdev(df_ufac.IMC)/df_ufac.IMC.mean() * 100)"
   ]
  },
  {
   "cell_type": "markdown",
   "id": "474c3fb6",
   "metadata": {},
   "source": [
    "### UFSCAR"
   ]
  },
  {
   "cell_type": "code",
   "execution_count": 111,
   "id": "f9661dd8",
   "metadata": {},
   "outputs": [],
   "source": [
    "df_ufscar = df.loc[df.IES == 'UFSCAR']"
   ]
  },
  {
   "cell_type": "code",
   "execution_count": 112,
   "id": "4a04bc7b",
   "metadata": {},
   "outputs": [
    {
     "data": {
      "text/plain": [
       "220"
      ]
     },
     "execution_count": 112,
     "metadata": {},
     "output_type": "execute_result"
    }
   ],
   "source": [
    "df_ufscar.shape[0]"
   ]
  },
  {
   "cell_type": "code",
   "execution_count": 113,
   "id": "a09d7efe",
   "metadata": {},
   "outputs": [
    {
     "name": "stdout",
     "output_type": "stream",
     "text": [
      "Idade:  21.8\n",
      "Peso:  66.01\n",
      "Altura:  168.01\n",
      "IMC:  23.29\n"
     ]
    }
   ],
   "source": [
    "# média aritmética\n",
    "print(\"Idade: \", round(df_ufscar.idade.mean(),2))\n",
    "print(\"Peso: \", round(df_ufscar.peso.mean(),2))\n",
    "print(\"Altura: \", round(df_ufscar.altura.mean(),2))\n",
    "print(\"IMC: \", round(df_ufscar.IMC.mean(),2))"
   ]
  },
  {
   "cell_type": "code",
   "execution_count": 114,
   "id": "31894a1d",
   "metadata": {},
   "outputs": [
    {
     "name": "stdout",
     "output_type": "stream",
     "text": [
      "Idade:  21.0\n",
      "Peso:  63.0\n",
      "Altura:  168.0\n",
      "IMC:  22.75\n"
     ]
    }
   ],
   "source": [
    "# mediana\n",
    "print(\"Idade: \", round(df_ufscar.idade.median(),2))\n",
    "print(\"Peso: \", round(df_ufscar.peso.median(),2))\n",
    "print(\"Altura: \", round(df_ufscar.altura.median(),2))\n",
    "print(\"IMC: \", round(df_ufscar.IMC.median(),2))"
   ]
  },
  {
   "cell_type": "code",
   "execution_count": 115,
   "id": "a47b0545",
   "metadata": {},
   "outputs": [
    {
     "name": "stdout",
     "output_type": "stream",
     "text": [
      "Idade:  3.500129867720495\n",
      "Peso:  15.551813558510714\n",
      "Altura:  9.650473161011586\n",
      "IMC:  4.904545370292357\n"
     ]
    }
   ],
   "source": [
    "# desvio padrão populacional\n",
    "print(\"Idade: \", std.pstdev(df_ufscar.idade))\n",
    "print(\"Peso: \", std.pstdev(df_ufscar.peso))\n",
    "print(\"Altura: \", std.pstdev(df_ufscar.altura))\n",
    "print(\"IMC: \", std.pstdev(df_ufscar.IMC))"
   ]
  },
  {
   "cell_type": "code",
   "execution_count": 116,
   "id": "e91d73d5",
   "metadata": {},
   "outputs": [
    {
     "name": "stdout",
     "output_type": "stream",
     "text": [
      "Idade:  16.05564159504814\n",
      "Peso:  23.558486420659346\n",
      "Altura:  5.743863039857558\n",
      "IMC:  21.0610552284572\n"
     ]
    }
   ],
   "source": [
    "# coeficiente de variação\n",
    "print(\"Idade: \", std.pstdev(df_ufscar.idade)/df_ufscar.idade.mean() * 100)\n",
    "print(\"Peso: \", std.pstdev(df_ufscar.peso)/df_ufscar.peso.mean() * 100)\n",
    "print(\"Altura: \", std.pstdev(df_ufscar.altura)/df_ufscar.altura.mean() * 100)\n",
    "print(\"IMC: \", std.pstdev(df_ufscar.IMC)/df_ufscar.IMC.mean() * 100)"
   ]
  },
  {
   "cell_type": "code",
   "execution_count": null,
   "id": "1c7de59c",
   "metadata": {},
   "outputs": [],
   "source": []
  }
 ],
 "metadata": {
  "kernelspec": {
   "display_name": "Python 3",
   "language": "python",
   "name": "python3"
  },
  "language_info": {
   "codemirror_mode": {
    "name": "ipython",
    "version": 3
   },
   "file_extension": ".py",
   "mimetype": "text/x-python",
   "name": "python",
   "nbconvert_exporter": "python",
   "pygments_lexer": "ipython3",
   "version": "3.8.8"
  }
 },
 "nbformat": 4,
 "nbformat_minor": 5
}
