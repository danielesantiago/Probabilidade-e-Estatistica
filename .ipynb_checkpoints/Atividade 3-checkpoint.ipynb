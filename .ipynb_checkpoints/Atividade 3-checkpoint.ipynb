{
 "cells": [
  {
   "cell_type": "markdown",
   "id": "aa737c18",
   "metadata": {},
   "source": [
    "# Probabilidade e Estatística - Atividade 3"
   ]
  },
  {
   "cell_type": "markdown",
   "id": "70a5546c",
   "metadata": {},
   "source": [
    "<img src=\"Arquivos/pe.jpg\"  width=80%>"
   ]
  },
  {
   "cell_type": "markdown",
   "id": "8f7a8502",
   "metadata": {},
   "source": [
    "## PARTE A"
   ]
  },
  {
   "cell_type": "markdown",
   "id": "4288e1c7",
   "metadata": {},
   "source": [
    "Para realizar a amostra simples com 15% da população foi utilizado a função \"sample\" do Python, onde passei o parâmetro 0.15 para pegar 15% e deixei como randômico."
   ]
  },
  {
   "cell_type": "code",
   "execution_count": 418,
   "id": "de62927a",
   "metadata": {},
   "outputs": [],
   "source": [
    "# importar bibliotecas necessárias\n",
    "import pandas as pd\n",
    "import matplotlib.pyplot as plt\n",
    "import statistics as std\n",
    "import numpy as np\n",
    "import random\n",
    "import math"
   ]
  },
  {
   "cell_type": "code",
   "execution_count": 419,
   "id": "c9527a6f",
   "metadata": {},
   "outputs": [],
   "source": [
    "df = pd.read_csv(\"Populacao360.csv\", sep = ';')\n",
    "df = df.drop(['Unnamed: 8'], axis = 1)\n",
    "df.IMC = df.IMC.apply(lambda x: x.replace(',','.'))\n",
    "df.IMC = df.IMC.astype(float)"
   ]
  },
  {
   "cell_type": "code",
   "execution_count": 420,
   "id": "542b45f6",
   "metadata": {},
   "outputs": [
    {
     "data": {
      "text/html": [
       "<div>\n",
       "<style scoped>\n",
       "    .dataframe tbody tr th:only-of-type {\n",
       "        vertical-align: middle;\n",
       "    }\n",
       "\n",
       "    .dataframe tbody tr th {\n",
       "        vertical-align: top;\n",
       "    }\n",
       "\n",
       "    .dataframe thead th {\n",
       "        text-align: right;\n",
       "    }\n",
       "</style>\n",
       "<table border=\"1\" class=\"dataframe\">\n",
       "  <thead>\n",
       "    <tr style=\"text-align: right;\">\n",
       "      <th></th>\n",
       "      <th>nº</th>\n",
       "      <th>sexo</th>\n",
       "      <th>idade</th>\n",
       "      <th>peso</th>\n",
       "      <th>altura</th>\n",
       "      <th>IES</th>\n",
       "      <th>IMC</th>\n",
       "      <th>Clas IMC</th>\n",
       "    </tr>\n",
       "  </thead>\n",
       "  <tbody>\n",
       "    <tr>\n",
       "      <th>0</th>\n",
       "      <td>1</td>\n",
       "      <td>F</td>\n",
       "      <td>19</td>\n",
       "      <td>52</td>\n",
       "      <td>167</td>\n",
       "      <td>UFAC</td>\n",
       "      <td>18.6</td>\n",
       "      <td>ad</td>\n",
       "    </tr>\n",
       "    <tr>\n",
       "      <th>1</th>\n",
       "      <td>2</td>\n",
       "      <td>F</td>\n",
       "      <td>20</td>\n",
       "      <td>78</td>\n",
       "      <td>177</td>\n",
       "      <td>UFAC</td>\n",
       "      <td>24.9</td>\n",
       "      <td>ad</td>\n",
       "    </tr>\n",
       "    <tr>\n",
       "      <th>2</th>\n",
       "      <td>3</td>\n",
       "      <td>F</td>\n",
       "      <td>22</td>\n",
       "      <td>56</td>\n",
       "      <td>172</td>\n",
       "      <td>UFAC</td>\n",
       "      <td>18.9</td>\n",
       "      <td>ad</td>\n",
       "    </tr>\n",
       "    <tr>\n",
       "      <th>3</th>\n",
       "      <td>4</td>\n",
       "      <td>F</td>\n",
       "      <td>19</td>\n",
       "      <td>45</td>\n",
       "      <td>165</td>\n",
       "      <td>UFAC</td>\n",
       "      <td>16.5</td>\n",
       "      <td>mg</td>\n",
       "    </tr>\n",
       "    <tr>\n",
       "      <th>4</th>\n",
       "      <td>5</td>\n",
       "      <td>F</td>\n",
       "      <td>18</td>\n",
       "      <td>60</td>\n",
       "      <td>160</td>\n",
       "      <td>UFAC</td>\n",
       "      <td>23.4</td>\n",
       "      <td>ad</td>\n",
       "    </tr>\n",
       "  </tbody>\n",
       "</table>\n",
       "</div>"
      ],
      "text/plain": [
       "   nº sexo  idade  peso  altura   IES   IMC Clas IMC\n",
       "0   1    F     19    52     167  UFAC  18.6       ad\n",
       "1   2    F     20    78     177  UFAC  24.9       ad\n",
       "2   3    F     22    56     172  UFAC  18.9       ad\n",
       "3   4    F     19    45     165  UFAC  16.5       mg\n",
       "4   5    F     18    60     160  UFAC  23.4       ad"
      ]
     },
     "execution_count": 420,
     "metadata": {},
     "output_type": "execute_result"
    }
   ],
   "source": [
    "# ver os valores iniciais\n",
    "df.head()"
   ]
  },
  {
   "cell_type": "code",
   "execution_count": 421,
   "id": "b7528904",
   "metadata": {},
   "outputs": [],
   "source": [
    "# amostra aleatória simples com 15% da população\n",
    "df_amostra = df.sample(frac=0.15, random_state=20)\n",
    "df_amostra.head()\n",
    "df_amostra.to_excel(\"amostra_simples.xlsx\") "
   ]
  },
  {
   "cell_type": "code",
   "execution_count": 422,
   "id": "069664d1",
   "metadata": {},
   "outputs": [
    {
     "data": {
      "text/html": [
       "<div>\n",
       "<style scoped>\n",
       "    .dataframe tbody tr th:only-of-type {\n",
       "        vertical-align: middle;\n",
       "    }\n",
       "\n",
       "    .dataframe tbody tr th {\n",
       "        vertical-align: top;\n",
       "    }\n",
       "\n",
       "    .dataframe thead th {\n",
       "        text-align: right;\n",
       "    }\n",
       "</style>\n",
       "<table border=\"1\" class=\"dataframe\">\n",
       "  <thead>\n",
       "    <tr style=\"text-align: right;\">\n",
       "      <th></th>\n",
       "      <th>nº</th>\n",
       "      <th>sexo</th>\n",
       "      <th>idade</th>\n",
       "      <th>peso</th>\n",
       "      <th>altura</th>\n",
       "      <th>IES</th>\n",
       "      <th>IMC</th>\n",
       "      <th>Clas IMC</th>\n",
       "    </tr>\n",
       "  </thead>\n",
       "  <tbody>\n",
       "    <tr>\n",
       "      <th>219</th>\n",
       "      <td>220</td>\n",
       "      <td>M</td>\n",
       "      <td>20</td>\n",
       "      <td>70</td>\n",
       "      <td>180</td>\n",
       "      <td>UFAC</td>\n",
       "      <td>21.6</td>\n",
       "      <td>ad</td>\n",
       "    </tr>\n",
       "    <tr>\n",
       "      <th>14</th>\n",
       "      <td>15</td>\n",
       "      <td>F</td>\n",
       "      <td>18</td>\n",
       "      <td>64</td>\n",
       "      <td>171</td>\n",
       "      <td>UFAC</td>\n",
       "      <td>21.9</td>\n",
       "      <td>ad</td>\n",
       "    </tr>\n",
       "    <tr>\n",
       "      <th>232</th>\n",
       "      <td>233</td>\n",
       "      <td>M</td>\n",
       "      <td>19</td>\n",
       "      <td>50</td>\n",
       "      <td>152</td>\n",
       "      <td>UFAC</td>\n",
       "      <td>21.6</td>\n",
       "      <td>ad</td>\n",
       "    </tr>\n",
       "    <tr>\n",
       "      <th>293</th>\n",
       "      <td>294</td>\n",
       "      <td>M</td>\n",
       "      <td>18</td>\n",
       "      <td>103</td>\n",
       "      <td>167</td>\n",
       "      <td>UFSCAR</td>\n",
       "      <td>36.9</td>\n",
       "      <td>ob</td>\n",
       "    </tr>\n",
       "    <tr>\n",
       "      <th>238</th>\n",
       "      <td>239</td>\n",
       "      <td>M</td>\n",
       "      <td>22</td>\n",
       "      <td>59</td>\n",
       "      <td>170</td>\n",
       "      <td>UFAC</td>\n",
       "      <td>20.4</td>\n",
       "      <td>ad</td>\n",
       "    </tr>\n",
       "  </tbody>\n",
       "</table>\n",
       "</div>"
      ],
      "text/plain": [
       "      nº sexo  idade  peso  altura     IES   IMC Clas IMC\n",
       "219  220    M     20    70     180    UFAC  21.6       ad\n",
       "14    15    F     18    64     171    UFAC  21.9       ad\n",
       "232  233    M     19    50     152    UFAC  21.6       ad\n",
       "293  294    M     18   103     167  UFSCAR  36.9       ob\n",
       "238  239    M     22    59     170    UFAC  20.4       ad"
      ]
     },
     "execution_count": 422,
     "metadata": {},
     "output_type": "execute_result"
    }
   ],
   "source": [
    "# 5 primeiro itens da amostra\n",
    "df_amostra.head()"
   ]
  },
  {
   "cell_type": "markdown",
   "id": "ebf9accc",
   "metadata": {},
   "source": [
    "### 1 - Para as variáveis SEXO e IES, obter o número absoluto e a frequência relativa percentual."
   ]
  },
  {
   "cell_type": "code",
   "execution_count": 423,
   "id": "57c734bb",
   "metadata": {},
   "outputs": [
    {
     "data": {
      "text/plain": [
       "M    34\n",
       "F    20\n",
       "Name: sexo, dtype: int64"
      ]
     },
     "execution_count": 423,
     "metadata": {},
     "output_type": "execute_result"
    }
   ],
   "source": [
    "# número absoluto\n",
    "df_amostra.sexo.value_counts()"
   ]
  },
  {
   "cell_type": "code",
   "execution_count": 424,
   "id": "9d6f78f3",
   "metadata": {},
   "outputs": [
    {
     "data": {
      "text/plain": [
       "UFSCAR    30\n",
       "UFAC      24\n",
       "Name: IES, dtype: int64"
      ]
     },
     "execution_count": 424,
     "metadata": {},
     "output_type": "execute_result"
    }
   ],
   "source": [
    "# número absoluto\n",
    "df_amostra.IES.value_counts()"
   ]
  },
  {
   "cell_type": "code",
   "execution_count": 425,
   "id": "3b958f40",
   "metadata": {},
   "outputs": [
    {
     "data": {
      "text/plain": [
       "M    62.962963\n",
       "F    37.037037\n",
       "Name: sexo, dtype: float64"
      ]
     },
     "execution_count": 425,
     "metadata": {},
     "output_type": "execute_result"
    }
   ],
   "source": [
    "# frequência relativa em porcentagem\n",
    "df_amostra.sexo.value_counts()/df_amostra.shape[0] * 100"
   ]
  },
  {
   "cell_type": "code",
   "execution_count": 426,
   "id": "7731ee12",
   "metadata": {},
   "outputs": [
    {
     "data": {
      "text/plain": [
       "UFSCAR    55.555556\n",
       "UFAC      44.444444\n",
       "Name: IES, dtype: float64"
      ]
     },
     "execution_count": 426,
     "metadata": {},
     "output_type": "execute_result"
    }
   ],
   "source": [
    "# frequência relativa em porcentagem\n",
    "df_amostra.IES.value_counts()/df_amostra.shape[0] * 100"
   ]
  },
  {
   "cell_type": "markdown",
   "id": "0eae3f93",
   "metadata": {},
   "source": [
    "### Para os dados populacionais das variáveis IDADE, PESO, ALTURA e IMC as seguintes medidas e gráficos:\n",
    "* i) Média aritmética.\n",
    "* ii) Mediana.\n",
    "* iii) Variância amostral.\n",
    "* iv) Desvio Padrão amostral.\n",
    "* v) Coeficiente de Variação.\n",
    "* vi) Box-plot de cada uma das variáveis separadamente."
   ]
  },
  {
   "cell_type": "markdown",
   "id": "a09a89cc",
   "metadata": {},
   "source": [
    "### Média"
   ]
  },
  {
   "cell_type": "code",
   "execution_count": 427,
   "id": "46dad90b",
   "metadata": {
    "scrolled": true
   },
   "outputs": [
    {
     "name": "stdout",
     "output_type": "stream",
     "text": [
      "Idade:  20.93\n",
      "Peso:  68.3\n",
      "Altura:  169.46\n",
      "IMC:  23.73\n"
     ]
    }
   ],
   "source": [
    "# média aritmética\n",
    "print(\"Idade: \", round(df_amostra.idade.mean(),2))\n",
    "print(\"Peso: \", round(df_amostra.peso.mean(),2))\n",
    "print(\"Altura: \", round(df_amostra.altura.mean(),2))\n",
    "print(\"IMC: \", round(df_amostra.IMC.mean(),2))"
   ]
  },
  {
   "cell_type": "markdown",
   "id": "56800742",
   "metadata": {},
   "source": [
    "### Erro relativo da média da amostra em relação à população"
   ]
  },
  {
   "cell_type": "code",
   "execution_count": 428,
   "id": "beadc584",
   "metadata": {
    "scrolled": true
   },
   "outputs": [
    {
     "name": "stdout",
     "output_type": "stream",
     "text": [
      "Erro relativo Idade:\n",
      "3.319644079397672 \n",
      "\n",
      "Erro relativo Peso:\n",
      "3.374817804686621 \n",
      "\n",
      "Erro relativo Altura:\n",
      "0.7808284049735095 \n",
      "\n",
      "Erro relativo IMC:\n",
      "2.1007382264239878\n"
     ]
    }
   ],
   "source": [
    "# ErroRelativo = 100 x |ValorPopulacional – ValorAmostral|/ValorPopulacional\n",
    "## Media\n",
    "\n",
    "mediaA = []\n",
    "mediaA.append(100 * abs(df.idade.mean() - df_amostra.idade.mean())/df.idade.mean())\n",
    "mediaA.append(100 * abs(df.peso.mean() - df_amostra.peso.mean())/df.peso.mean())\n",
    "mediaA.append(100 * abs(df.altura.mean() - df_amostra.altura.mean())/df.altura.mean())\n",
    "mediaA.append(100 * abs(df.IMC.mean() - df_amostra.IMC.mean())/df.IMC.mean())\n",
    "\n",
    "print(\"Erro relativo Idade:\")\n",
    "print(mediaA[0], \"\\n\")\n",
    "print(\"Erro relativo Peso:\")\n",
    "print(mediaA[1], \"\\n\")\n",
    "print(\"Erro relativo Altura:\")\n",
    "print(mediaA[2], \"\\n\")\n",
    "print(\"Erro relativo IMC:\")\n",
    "print(mediaA[3])"
   ]
  },
  {
   "cell_type": "markdown",
   "id": "df1390a4",
   "metadata": {},
   "source": [
    "### Mediana"
   ]
  },
  {
   "cell_type": "code",
   "execution_count": 429,
   "id": "8badaf9b",
   "metadata": {
    "scrolled": false
   },
   "outputs": [
    {
     "name": "stdout",
     "output_type": "stream",
     "text": [
      "Idade:  20.0\n",
      "Peso:  65.5\n",
      "Altura:  170.0\n",
      "IMC:  23.4\n"
     ]
    }
   ],
   "source": [
    "# mediana\n",
    "print(\"Idade: \", round(df_amostra.idade.median(),2))\n",
    "print(\"Peso: \", round(df_amostra.peso.median(),2))\n",
    "print(\"Altura: \", round(df_amostra.altura.median(),2))\n",
    "print(\"IMC: \", round(df_amostra.IMC.median(),2))"
   ]
  },
  {
   "cell_type": "markdown",
   "id": "95dce748",
   "metadata": {},
   "source": [
    "### Erro relativo da mediana da amostra em relação à população"
   ]
  },
  {
   "cell_type": "code",
   "execution_count": 430,
   "id": "3787356b",
   "metadata": {
    "scrolled": true
   },
   "outputs": [
    {
     "name": "stdout",
     "output_type": "stream",
     "text": [
      "Erro relativo Idade:\n",
      "4.761904761904762 \n",
      "\n",
      "Erro relativo Peso:\n",
      "2.34375 \n",
      "\n",
      "Erro relativo Altura:\n",
      "1.1904761904761905 \n",
      "\n",
      "Erro relativo IMC:\n",
      "2.4070021881837946\n"
     ]
    }
   ],
   "source": [
    "# ErroRelativo = 100 x |ValorPopulacional – ValorAmostral|/ValorPopulacional\n",
    "#Mediana\n",
    "\n",
    "medianaA = []\n",
    "medianaA.append(100 * abs(df.idade.median() - df_amostra.idade.median())/df.idade.median())\n",
    "medianaA.append(100 * abs(df.peso.median() - df_amostra.peso.median())/df.peso.median())\n",
    "medianaA.append(100 * abs(df.altura.median() - df_amostra.altura.median())/df.altura.median())\n",
    "medianaA.append(100 * abs(df.IMC.median() - df_amostra.IMC.median())/df.IMC.median())\n",
    "\n",
    "print(\"Erro relativo Idade:\")\n",
    "print(medianaA[0], \"\\n\")\n",
    "print(\"Erro relativo Peso:\")\n",
    "print(medianaA[1], \"\\n\")\n",
    "print(\"Erro relativo Altura:\")\n",
    "print(medianaA[2], \"\\n\")\n",
    "print(\"Erro relativo IMC:\")\n",
    "print(medianaA[3])"
   ]
  },
  {
   "cell_type": "markdown",
   "id": "43c8c2db",
   "metadata": {},
   "source": [
    "### Variância"
   ]
  },
  {
   "cell_type": "markdown",
   "id": "231e2408",
   "metadata": {},
   "source": [
    "Variância de uma amostra (ou coleção) de dados de tipo quantitativo é a medida que se obtém somando os quadrados dos desvios dos dados relativamente à média, e dividindo pelo número de dados menos um."
   ]
  },
  {
   "cell_type": "markdown",
   "id": "6c7aefc0",
   "metadata": {},
   "source": [
    "Por exemplo, temos que a média da variável idade é:"
   ]
  },
  {
   "cell_type": "code",
   "execution_count": 431,
   "id": "fe0605e9",
   "metadata": {},
   "outputs": [
    {
     "name": "stdout",
     "output_type": "stream",
     "text": [
      "Média da idade 20.925925925925927\n"
     ]
    }
   ],
   "source": [
    "media_idade = df_amostra.idade.mean()\n",
    "print(\"Média da idade\", media_idade)"
   ]
  },
  {
   "cell_type": "markdown",
   "id": "699022d4",
   "metadata": {},
   "source": [
    "Assim, a variância amostral será:"
   ]
  },
  {
   "cell_type": "code",
   "execution_count": 432,
   "id": "c14d2276",
   "metadata": {},
   "outputs": [
    {
     "name": "stdout",
     "output_type": "stream",
     "text": [
      "A variância amostral da idade é:  16.334032145352904\n"
     ]
    }
   ],
   "source": [
    "acumulador = 0\n",
    "for idade in df_amostra.idade:\n",
    "    acumulador = (idade - media_idade)**2 + acumulador\n",
    "vams = acumulador/(df_amostra.shape[0] - 1)\n",
    "\n",
    "print(\"A variância amostral da idade é: \", vams)"
   ]
  },
  {
   "cell_type": "markdown",
   "id": "1633631f",
   "metadata": {},
   "source": [
    "De modo semelhante, teremos:"
   ]
  },
  {
   "cell_type": "code",
   "execution_count": 433,
   "id": "8dd847ea",
   "metadata": {},
   "outputs": [
    {
     "name": "stdout",
     "output_type": "stream",
     "text": [
      "Idade:  16.33\n",
      "Peso:  241.38\n",
      "Altura:  104.18\n",
      "IMC:  21.49\n"
     ]
    }
   ],
   "source": [
    "# variância amostral\n",
    "print(\"Idade: \", round(std.variance(df_amostra.idade),2))\n",
    "print(\"Peso: \", round(std.variance(df_amostra.peso),2))\n",
    "print(\"Altura: \", round(std.variance(df_amostra.altura),2))\n",
    "print(\"IMC: \", round(std.variance(df_amostra.IMC),2))"
   ]
  },
  {
   "cell_type": "markdown",
   "id": "e476766c",
   "metadata": {},
   "source": [
    "### Erro relativo da variância da amostra em relação à população"
   ]
  },
  {
   "cell_type": "code",
   "execution_count": 495,
   "id": "a65d1efc",
   "metadata": {
    "scrolled": true
   },
   "outputs": [
    {
     "name": "stdout",
     "output_type": "stream",
     "text": [
      "Erro relativo Idade:\n",
      "8.562053628310666 \n",
      "\n",
      "Erro relativo Peso:\n",
      "6.9003819276712 \n",
      "\n",
      "Erro relativo Altura:\n",
      "13.869744434591745 \n",
      "\n",
      "Erro relativo IMC:\n",
      "8.475199460219937 \n",
      "\n"
     ]
    }
   ],
   "source": [
    "# ErroRelativo = 100 x |ValorPopulacional – ValorAmostral|/ValorPopulacional\n",
    "# Variância\n",
    "\n",
    "varianciaA = []\n",
    "varianciaA.append(100 * abs(std.pvariance(df.idade) -std.variance(df_amostra.idade))/std.pvariance(df.idade))\n",
    "varianciaA.append(100 * abs(std.pvariance(df.peso) -std.variance(df_amostra.peso))/std.pvariance(df.peso))\n",
    "varianciaA.append(100 * abs(std.pvariance(df.altura) -std.variance(df_amostra.altura))/std.pvariance(df.altura))\n",
    "varianciaA.append(100 * abs(std.pvariance(df.IMC) -std.variance(df_amostra.IMC))/std.pvariance(df.IMC))\n",
    "\n",
    "print(\"Erro relativo Idade:\")\n",
    "print(varianciaA[0], \"\\n\")\n",
    "print(\"Erro relativo Peso:\")\n",
    "print(varianciaA[1], \"\\n\")\n",
    "print(\"Erro relativo Altura:\")\n",
    "print(varianciaA[2], \"\\n\")\n",
    "print(\"Erro relativo IMC:\")\n",
    "print(varianciaA[3], \"\\n\")"
   ]
  },
  {
   "cell_type": "markdown",
   "id": "69d5618b",
   "metadata": {},
   "source": [
    "### Desvio Padrão"
   ]
  },
  {
   "cell_type": "markdown",
   "id": "b5953d4d",
   "metadata": {},
   "source": [
    "O desvio padrão amostral é a raiz quadrada da variância amostral, no caso exemplo anterior, seria:\n"
   ]
  },
  {
   "cell_type": "code",
   "execution_count": 435,
   "id": "7259fc6e",
   "metadata": {
    "scrolled": false
   },
   "outputs": [
    {
     "name": "stdout",
     "output_type": "stream",
     "text": [
      "O desvio padrão amostral de idade é:  4.0415383389685795\n"
     ]
    }
   ],
   "source": [
    "dams = math.sqrt(vams)\n",
    "print(\"O desvio padrão amostral de idade é: \", dams)"
   ]
  },
  {
   "cell_type": "markdown",
   "id": "2bc0ab55",
   "metadata": {},
   "source": [
    "De modo semelhante, temos:"
   ]
  },
  {
   "cell_type": "code",
   "execution_count": 436,
   "id": "1692846e",
   "metadata": {
    "scrolled": true
   },
   "outputs": [
    {
     "name": "stdout",
     "output_type": "stream",
     "text": [
      "Idade:  4.04\n",
      "Peso:  15.54\n",
      "Altura:  10.21\n",
      "IMC:  4.64\n"
     ]
    }
   ],
   "source": [
    "# desvio padrão amostral\n",
    "print(\"Idade: \", round(std.stdev(df_amostra.idade),2))\n",
    "print(\"Peso: \", round(std.stdev(df_amostra.peso),2))\n",
    "print(\"Altura: \", round(std.stdev(df_amostra.altura),2))\n",
    "print(\"IMC: \", round(std.stdev(df_amostra.IMC),2))"
   ]
  },
  {
   "cell_type": "markdown",
   "id": "d3a30e82",
   "metadata": {},
   "source": [
    "### Coeficiente de variação"
   ]
  },
  {
   "cell_type": "markdown",
   "id": "e3c8171b",
   "metadata": {},
   "source": [
    "O coeficiente de variação é dado pelo desvio padrão amostral dividio pela média"
   ]
  },
  {
   "cell_type": "code",
   "execution_count": 437,
   "id": "dd64bc44",
   "metadata": {},
   "outputs": [
    {
     "name": "stdout",
     "output_type": "stream",
     "text": [
      "Idade:  19.31\n",
      "Peso:  22.75\n",
      "Altura:  6.02\n",
      "IMC:  19.54\n"
     ]
    }
   ],
   "source": [
    "# coeficiente de variação\n",
    "print(\"Idade: \", round(std.stdev(df_amostra.idade)/df_amostra.idade.mean() * 100,2))\n",
    "print(\"Peso: \", round(std.stdev(df_amostra.peso)/df_amostra.peso.mean() * 100,2))\n",
    "print(\"Altura: \", round(std.stdev(df_amostra.altura)/df_amostra.altura.mean() * 100,2))\n",
    "print(\"IMC: \", round(std.stdev(df_amostra.IMC)/df_amostra.IMC.mean() * 100,2))"
   ]
  },
  {
   "cell_type": "markdown",
   "id": "1868e1b6",
   "metadata": {},
   "source": [
    "### Boxplot"
   ]
  },
  {
   "cell_type": "code",
   "execution_count": 438,
   "id": "3ac7bfdd",
   "metadata": {},
   "outputs": [
    {
     "data": {
      "image/png": "[encoded data removed]",
      "text/plain": [
       "<Figure size 1080x576 with 4 Axes>"
      ]
     },
     "metadata": {
      "needs_background": "light"
     },
     "output_type": "display_data"
    }
   ],
   "source": [
    "# boxplot para as variáveis quantitativas\n",
    "fig, (ax1, ax2, ax3, ax4) = plt.subplots(1, 4, figsize = (15, 8))\n",
    "df_amostra.idade.plot(kind = 'box', ax = ax1);\n",
    "df_amostra.peso.plot(kind = 'box', ax = ax2)\n",
    "df_amostra.altura.plot(kind = 'box', ax = ax3)\n",
    "df_amostra.IMC.plot(kind = 'box', ax = ax4)\n",
    "plt.show()"
   ]
  },
  {
   "cell_type": "markdown",
   "id": "3486a940",
   "metadata": {},
   "source": [
    "## PARTE B"
   ]
  },
  {
   "cell_type": "markdown",
   "id": "31bf5f4b",
   "metadata": {},
   "source": [
    "Nesse caso, como era uma amostra estratificada por sexo, utilizei uma função que irá manter uma porcentagem semelhante à população."
   ]
  },
  {
   "cell_type": "code",
   "execution_count": 439,
   "id": "2493f474",
   "metadata": {},
   "outputs": [],
   "source": [
    "# amostra estratificada por sexo\n",
    "df_sexo = df.groupby('sexo', group_keys=False).apply(lambda x: x.sample(frac=0.15))\n",
    "df_sexo.head()\n",
    "df_sexo.to_excel(\"amostra_sexo.xlsx\") "
   ]
  },
  {
   "cell_type": "markdown",
   "id": "c19ee233",
   "metadata": {},
   "source": [
    "### 1 - Para as variáveis SEXO e IES, obter o número absoluto e a frequência relativa percentual."
   ]
  },
  {
   "cell_type": "code",
   "execution_count": 440,
   "id": "34207ed3",
   "metadata": {
    "scrolled": true
   },
   "outputs": [
    {
     "data": {
      "text/plain": [
       "M    28\n",
       "F    26\n",
       "Name: sexo, dtype: int64"
      ]
     },
     "execution_count": 440,
     "metadata": {},
     "output_type": "execute_result"
    }
   ],
   "source": [
    "# número absoluto\n",
    "df_sexo.sexo.value_counts()"
   ]
  },
  {
   "cell_type": "code",
   "execution_count": 441,
   "id": "b6bf97b6",
   "metadata": {},
   "outputs": [
    {
     "data": {
      "text/plain": [
       "UFSCAR    31\n",
       "UFAC      23\n",
       "Name: IES, dtype: int64"
      ]
     },
     "execution_count": 441,
     "metadata": {},
     "output_type": "execute_result"
    }
   ],
   "source": [
    "# número absoluto\n",
    "df_sexo.IES.value_counts()"
   ]
  },
  {
   "cell_type": "code",
   "execution_count": 442,
   "id": "9dfa3fed",
   "metadata": {},
   "outputs": [
    {
     "data": {
      "text/plain": [
       "M    51.851852\n",
       "F    48.148148\n",
       "Name: sexo, dtype: float64"
      ]
     },
     "execution_count": 442,
     "metadata": {},
     "output_type": "execute_result"
    }
   ],
   "source": [
    "# frequência relativa em porcentagem\n",
    "df_sexo.sexo.value_counts()/df_sexo.shape[0] * 100"
   ]
  },
  {
   "cell_type": "code",
   "execution_count": 443,
   "id": "effc5133",
   "metadata": {},
   "outputs": [
    {
     "data": {
      "text/plain": [
       "UFSCAR    57.407407\n",
       "UFAC      42.592593\n",
       "Name: IES, dtype: float64"
      ]
     },
     "execution_count": 443,
     "metadata": {},
     "output_type": "execute_result"
    }
   ],
   "source": [
    "# frequência relativa em porcentagem\n",
    "df_sexo.IES.value_counts()/df_sexo.shape[0] * 100"
   ]
  },
  {
   "cell_type": "markdown",
   "id": "ef478b1a",
   "metadata": {},
   "source": [
    "### Para os dados populacionais das variáveis IDADE, PESO, ALTURA e IMC as seguintes medidas e gráficos:\n",
    "* i) Média aritmética.\n",
    "* ii) Mediana.\n",
    "* iii) Variância amostral.\n",
    "* iv) Desvio Padrão amostral.\n",
    "* v) Coeficiente de Variação.\n",
    "* vi) Box-plot de cada uma das variáveis separadamente."
   ]
  },
  {
   "cell_type": "markdown",
   "id": "8002533f",
   "metadata": {},
   "source": [
    "### Média "
   ]
  },
  {
   "cell_type": "code",
   "execution_count": 444,
   "id": "ad5eb471",
   "metadata": {
    "scrolled": true
   },
   "outputs": [
    {
     "name": "stdout",
     "output_type": "stream",
     "text": [
      "Idade:  21.37\n",
      "Peso:  67.26\n",
      "Altura:  167.81\n",
      "IMC:  23.75\n"
     ]
    }
   ],
   "source": [
    "# média aritmética\n",
    "print(\"Idade: \", round(df_sexo.idade.mean(),2))\n",
    "print(\"Peso: \", round(df_sexo.peso.mean(),2))\n",
    "print(\"Altura: \", round(df_sexo.altura.mean(),2))\n",
    "print(\"IMC: \", round(df_sexo.IMC.mean(),2))"
   ]
  },
  {
   "cell_type": "markdown",
   "id": "6060e41f",
   "metadata": {},
   "source": [
    "### Erro relativo da média da amostra em relação à população"
   ]
  },
  {
   "cell_type": "code",
   "execution_count": 445,
   "id": "3df45134",
   "metadata": {},
   "outputs": [
    {
     "name": "stdout",
     "output_type": "stream",
     "text": [
      "Erro relativo Idade:\n",
      "1.2662559890486031 \n",
      "\n",
      "Erro relativo Peso:\n",
      "1.8051351048323758 \n",
      "\n",
      "Erro relativo Altura:\n",
      "0.19933701170692603 \n",
      "\n",
      "Erro relativo IMC:\n",
      "2.1804172791993497\n"
     ]
    }
   ],
   "source": [
    "# ErroRelativo = 100 x |ValorPopulacional – ValorAmostral|/ValorPopulacional\n",
    "## Media\n",
    "\n",
    "mediaB = []\n",
    "mediaB.append(100 * abs(df.idade.mean() - df_sexo.idade.mean())/df.idade.mean())\n",
    "mediaB.append(100 * abs(df.peso.mean() - df_sexo.peso.mean())/df.peso.mean())\n",
    "mediaB.append(100 * abs(df.altura.mean() - df_sexo.altura.mean())/df.altura.mean())\n",
    "mediaB.append(100 * abs(df.IMC.mean() - df_sexo.IMC.mean())/df.IMC.mean())\n",
    "\n",
    "print(\"Erro relativo Idade:\")\n",
    "print(mediaB[0], \"\\n\")\n",
    "print(\"Erro relativo Peso:\")\n",
    "print(mediaB[1], \"\\n\")\n",
    "print(\"Erro relativo Altura:\")\n",
    "print(mediaB[2], \"\\n\")\n",
    "print(\"Erro relativo IMC:\")\n",
    "print(mediaB[3])"
   ]
  },
  {
   "cell_type": "markdown",
   "id": "b33b3f4b",
   "metadata": {},
   "source": [
    "### Mediana"
   ]
  },
  {
   "cell_type": "code",
   "execution_count": 446,
   "id": "ac65c36c",
   "metadata": {
    "scrolled": true
   },
   "outputs": [
    {
     "name": "stdout",
     "output_type": "stream",
     "text": [
      "Idade:  21.0\n",
      "Peso:  63.0\n",
      "Altura:  167.5\n",
      "IMC:  23.55\n"
     ]
    }
   ],
   "source": [
    "# mediana\n",
    "print(\"Idade: \", round(df_sexo.idade.median(),2))\n",
    "print(\"Peso: \", round(df_sexo.peso.median(),2))\n",
    "print(\"Altura: \", round(df_sexo.altura.median(),2))\n",
    "print(\"IMC: \", round(df_sexo.IMC.median(),2))"
   ]
  },
  {
   "cell_type": "markdown",
   "id": "2a743787",
   "metadata": {},
   "source": [
    "### Erro relativo da mediana da amostra em relação à população"
   ]
  },
  {
   "cell_type": "code",
   "execution_count": 447,
   "id": "02080f3c",
   "metadata": {},
   "outputs": [
    {
     "name": "stdout",
     "output_type": "stream",
     "text": [
      "Erro relativo Idade:\n",
      "0.0 \n",
      "\n",
      "Erro relativo Peso:\n",
      "1.5625 \n",
      "\n",
      "Erro relativo Altura:\n",
      "0.2976190476190476 \n",
      "\n",
      "Erro relativo IMC:\n",
      "3.0634573304157517\n"
     ]
    }
   ],
   "source": [
    "# ErroRelativo = 100 x |ValorPopulacional – ValorAmostral|/ValorPopulacional\n",
    "#Mediana\n",
    "\n",
    "medianaB = []\n",
    "medianaB.append(100 * abs(df.idade.median() - df_sexo.idade.median())/df.idade.median())\n",
    "medianaB.append(100 * abs(df.peso.median() - df_sexo.peso.median())/df.peso.median())\n",
    "medianaB.append(100 * abs(df.altura.median() - df_sexo.altura.median())/df.altura.median())\n",
    "medianaB.append(100 * abs(df.IMC.median() - df_sexo.IMC.median())/df.IMC.median())\n",
    "\n",
    "print(\"Erro relativo Idade:\")\n",
    "print(medianaB[0], \"\\n\")\n",
    "print(\"Erro relativo Peso:\")\n",
    "print(medianaB[1], \"\\n\")\n",
    "print(\"Erro relativo Altura:\")\n",
    "print(medianaB[2], \"\\n\")\n",
    "print(\"Erro relativo IMC:\")\n",
    "print(medianaB[3])"
   ]
  },
  {
   "cell_type": "markdown",
   "id": "3df0efda",
   "metadata": {},
   "source": [
    "### Variância"
   ]
  },
  {
   "cell_type": "code",
   "execution_count": 448,
   "id": "a4beb24b",
   "metadata": {},
   "outputs": [
    {
     "name": "stdout",
     "output_type": "stream",
     "text": [
      "Idade:  12.5\n",
      "Peso:  235.03\n",
      "Altura:  88.0\n",
      "IMC:  21.28\n"
     ]
    }
   ],
   "source": [
    "# variância amostral\n",
    "print(\"Idade: \", round(std.variance(df_sexo.idade),2))\n",
    "print(\"Peso: \", round(std.variance(df_sexo.peso),2))\n",
    "print(\"Altura: \", round(std.variance(df_sexo.altura),2))\n",
    "print(\"IMC: \", round(std.variance(df_sexo.IMC),2))\n"
   ]
  },
  {
   "cell_type": "markdown",
   "id": "74ffa49d",
   "metadata": {},
   "source": [
    "### Erro relativo da variância da amostra em relação à população"
   ]
  },
  {
   "cell_type": "code",
   "execution_count": 494,
   "id": "d361ac97",
   "metadata": {},
   "outputs": [
    {
     "name": "stdout",
     "output_type": "stream",
     "text": [
      "Erro relativo Idade:\n",
      "16.908738794794314 \n",
      "\n",
      "Erro relativo Peso:\n",
      "4.085340806438105 \n",
      "\n",
      "Erro relativo Altura:\n",
      "3.810109062426782 \n",
      "\n",
      "Erro relativo IMC:\n",
      "7.408672330872284 \n",
      "\n"
     ]
    }
   ],
   "source": [
    "# ErroRelativo = 100 x |ValorPopulacional – ValorAmostral|/ValorPopulacional\n",
    "# Variância\n",
    "\n",
    "varianciaB = []\n",
    "varianciaB.append(100 * abs(std.pvariance(df.idade) -std.variance(df_sexo.idade))/std.pvariance(df.idade))\n",
    "varianciaB.append(100 * abs(std.pvariance(df.peso) -std.variance(df_sexo.peso))/std.pvariance(df.peso))\n",
    "varianciaB.append(100 * abs(std.pvariance(df.altura) -std.variance(df_sexo.altura))/std.pvariance(df.altura))\n",
    "varianciaB.append(100 * abs(std.pvariance(df.IMC) -std.variance(df_sexo.IMC))/std.pvariance(df.IMC))\n",
    "\n",
    "print(\"Erro relativo Idade:\")\n",
    "print(varianciaB[0], \"\\n\")\n",
    "print(\"Erro relativo Peso:\")\n",
    "print(varianciaB[1], \"\\n\")\n",
    "print(\"Erro relativo Altura:\")\n",
    "print(varianciaB[2], \"\\n\")\n",
    "print(\"Erro relativo IMC:\")\n",
    "print(varianciaB[3], \"\\n\")"
   ]
  },
  {
   "cell_type": "markdown",
   "id": "bed288c1",
   "metadata": {},
   "source": [
    "### Desvio Padrão"
   ]
  },
  {
   "cell_type": "code",
   "execution_count": 450,
   "id": "9483c78c",
   "metadata": {},
   "outputs": [
    {
     "name": "stdout",
     "output_type": "stream",
     "text": [
      "Idade:  3.54\n",
      "Peso:  15.33\n",
      "Altura:  9.38\n",
      "IMC:  4.61\n"
     ]
    }
   ],
   "source": [
    "# desvio padrão amostral\n",
    "print(\"Idade: \", round(std.stdev(df_sexo.idade),2))\n",
    "print(\"Peso: \", round(std.stdev(df_sexo.peso),2))\n",
    "print(\"Altura: \", round(std.stdev(df_sexo.altura),2))\n",
    "print(\"IMC: \", round(std.stdev(df_sexo.IMC),2))"
   ]
  },
  {
   "cell_type": "markdown",
   "id": "1623b008",
   "metadata": {},
   "source": [
    "### Coeficiente de variação"
   ]
  },
  {
   "cell_type": "code",
   "execution_count": 451,
   "id": "8785ff30",
   "metadata": {},
   "outputs": [
    {
     "name": "stdout",
     "output_type": "stream",
     "text": [
      "Idade:  16.55\n",
      "Peso:  22.79\n",
      "Altura:  5.59\n",
      "IMC:  19.42\n"
     ]
    }
   ],
   "source": [
    "# coeficiente de variação\n",
    "print(\"Idade: \", round(std.stdev(df_sexo.idade)/df_sexo.idade.mean() * 100,2))\n",
    "print(\"Peso: \", round(std.stdev(df_sexo.peso)/df_sexo.peso.mean() * 100,2))\n",
    "print(\"Altura: \", round(std.stdev(df_sexo.altura)/df_sexo.altura.mean() * 100,2))\n",
    "print(\"IMC: \", round(std.stdev(df_sexo.IMC)/df_sexo.IMC.mean() * 100,2))\n"
   ]
  },
  {
   "cell_type": "markdown",
   "id": "8e88ae7c",
   "metadata": {},
   "source": [
    "### Boxplot"
   ]
  },
  {
   "cell_type": "code",
   "execution_count": 452,
   "id": "dbf86502",
   "metadata": {},
   "outputs": [
    {
     "data": {
      "image/png": "[encoded data removed]",
      "text/plain": [
       "<Figure size 1080x576 with 4 Axes>"
      ]
     },
     "metadata": {
      "needs_background": "light"
     },
     "output_type": "display_data"
    }
   ],
   "source": [
    "# boxplot para as variáveis quantitativas\n",
    "fig, (ax1, ax2, ax3, ax4) = plt.subplots(1, 4, figsize = (15, 8))\n",
    "df_sexo.idade.plot(kind = 'box', ax = ax1);\n",
    "df_sexo.peso.plot(kind = 'box', ax = ax2)\n",
    "df_sexo.altura.plot(kind = 'box', ax = ax3)\n",
    "df_sexo.IMC.plot(kind = 'box', ax = ax4)\n",
    "plt.show()"
   ]
  },
  {
   "cell_type": "markdown",
   "id": "7781dcce",
   "metadata": {},
   "source": [
    "### Comparando Erros Relativos de A e B"
   ]
  },
  {
   "cell_type": "code",
   "execution_count": 496,
   "id": "b08e562e",
   "metadata": {},
   "outputs": [
    {
     "data": {
      "text/plain": [
       "[3.319644079397672, 3.374817804686621, 0.7808284049735095, 2.1007382264239878]"
      ]
     },
     "execution_count": 496,
     "metadata": {},
     "output_type": "execute_result"
    }
   ],
   "source": [
    "mediaA"
   ]
  },
  {
   "cell_type": "code",
   "execution_count": 497,
   "id": "663f5f7f",
   "metadata": {},
   "outputs": [
    {
     "data": {
      "text/plain": [
       "[1.2662559890486031,\n",
       " 1.8051351048323758,\n",
       " 0.19933701170692603,\n",
       " 2.1804172791993497]"
      ]
     },
     "execution_count": 497,
     "metadata": {},
     "output_type": "execute_result"
    }
   ],
   "source": [
    "mediaB"
   ]
  },
  {
   "cell_type": "code",
   "execution_count": 498,
   "id": "f3dba6cc",
   "metadata": {
    "scrolled": true
   },
   "outputs": [
    {
     "data": {
      "image/png": "[encoded data removed]",
      "text/plain": [
       "<Figure size 360x360 with 1 Axes>"
      ]
     },
     "metadata": {
      "needs_background": "light"
     },
     "output_type": "display_data"
    }
   ],
   "source": [
    "# Média\n",
    "df_erro = pd.DataFrame(list(zip(mediaA, mediaB)),\n",
    "               columns =[\"Amostra A\", \"Amostra B\"])\n",
    "pd.concat([df_erro[\"Amostra A\"],\n",
    "           df_erro[\"Amostra B\"]],\n",
    "          axis=1).plot.bar(figsize = (5, 5));\n",
    "plt.xticks((0, 1, 2, 3), ('idade', 'peso', 'altura', 'IMC'));"
   ]
  },
  {
   "cell_type": "code",
   "execution_count": 499,
   "id": "16c44c0e",
   "metadata": {
    "scrolled": true
   },
   "outputs": [
    {
     "data": {
      "text/plain": [
       "[4.761904761904762, 2.34375, 1.1904761904761905, 2.4070021881837946]"
      ]
     },
     "execution_count": 499,
     "metadata": {},
     "output_type": "execute_result"
    }
   ],
   "source": [
    "medianaA"
   ]
  },
  {
   "cell_type": "code",
   "execution_count": 500,
   "id": "0d38fa7a",
   "metadata": {},
   "outputs": [
    {
     "data": {
      "text/plain": [
       "[0.0, 1.5625, 0.2976190476190476, 3.0634573304157517]"
      ]
     },
     "execution_count": 500,
     "metadata": {},
     "output_type": "execute_result"
    }
   ],
   "source": [
    "medianaB"
   ]
  },
  {
   "cell_type": "code",
   "execution_count": 501,
   "id": "b32f8711",
   "metadata": {},
   "outputs": [
    {
     "data": {
      "image/png": "[encoded data removed]",
      "text/plain": [
       "<Figure size 360x360 with 1 Axes>"
      ]
     },
     "metadata": {
      "needs_background": "light"
     },
     "output_type": "display_data"
    }
   ],
   "source": [
    "# Mediana\n",
    "df_erro = pd.DataFrame(list(zip(medianaA, medianaB)),\n",
    "               columns =[\"Amostra A\", \"Amostra B\"])\n",
    "pd.concat([df_erro[\"Amostra A\"],\n",
    "           df_erro[\"Amostra B\"]],\n",
    "          axis=1).plot.bar(figsize = (5, 5));\n",
    "plt.xticks((0, 1, 2, 3), ('idade', 'peso', 'altura', 'IMC'));"
   ]
  },
  {
   "cell_type": "code",
   "execution_count": 502,
   "id": "95499de8",
   "metadata": {},
   "outputs": [
    {
     "data": {
      "text/plain": [
       "[8.562053628310666, 6.9003819276712, 13.869744434591745, 8.475199460219937]"
      ]
     },
     "execution_count": 502,
     "metadata": {},
     "output_type": "execute_result"
    }
   ],
   "source": [
    "varianciaA"
   ]
  },
  {
   "cell_type": "code",
   "execution_count": 503,
   "id": "6bcb4c63",
   "metadata": {},
   "outputs": [
    {
     "data": {
      "text/plain": [
       "[16.908738794794314, 4.085340806438105, 3.810109062426782, 7.408672330872284]"
      ]
     },
     "execution_count": 503,
     "metadata": {},
     "output_type": "execute_result"
    }
   ],
   "source": [
    "varianciaB"
   ]
  },
  {
   "cell_type": "code",
   "execution_count": 504,
   "id": "18d69602",
   "metadata": {},
   "outputs": [
    {
     "data": {
      "image/png": "[encoded data removed]",
      "text/plain": [
       "<Figure size 360x360 with 1 Axes>"
      ]
     },
     "metadata": {
      "needs_background": "light"
     },
     "output_type": "display_data"
    }
   ],
   "source": [
    "# Variância\n",
    "df_erro = pd.DataFrame(list(zip(varianciaA, varianciaB)),\n",
    "               columns =[\"Amostra A\", \"Amostra B\"])\n",
    "pd.concat([df_erro[\"Amostra A\"],\n",
    "           df_erro[\"Amostra B\"]],\n",
    "          axis=1).plot.bar(figsize = (5, 5));\n",
    "plt.xticks((0, 1, 2, 3), ('idade', 'peso', 'altura', 'IMC'));"
   ]
  },
  {
   "cell_type": "markdown",
   "id": "e5384008",
   "metadata": {},
   "source": [
    "Observando os gráficos podemos concluir que na amostra B (laranja), houveram erros relativos menores, portanto nessa situação é a mais indicada para uma análise fidedigna que representa a realidade da população."
   ]
  },
  {
   "cell_type": "markdown",
   "id": "74ad47e9",
   "metadata": {},
   "source": [
    "## PARTE C"
   ]
  },
  {
   "cell_type": "markdown",
   "id": "8f42ec00",
   "metadata": {},
   "source": [
    "Nesse caso, como era uma amostra estratificada por ies, utilizei uma função que irá manter uma porcentagem semelhante à população."
   ]
  },
  {
   "cell_type": "code",
   "execution_count": 462,
   "id": "091473a1",
   "metadata": {},
   "outputs": [],
   "source": [
    "# amostra estratificada por IES\n",
    "df_ies = df.groupby('IES', group_keys=False).apply(lambda x: x.sample(frac=0.15))\n",
    "df_ies.to_excel(\"amostra_ies.xlsx\") "
   ]
  },
  {
   "cell_type": "code",
   "execution_count": 505,
   "id": "291f4091",
   "metadata": {},
   "outputs": [
    {
     "data": {
      "text/html": [
       "<div>\n",
       "<style scoped>\n",
       "    .dataframe tbody tr th:only-of-type {\n",
       "        vertical-align: middle;\n",
       "    }\n",
       "\n",
       "    .dataframe tbody tr th {\n",
       "        vertical-align: top;\n",
       "    }\n",
       "\n",
       "    .dataframe thead th {\n",
       "        text-align: right;\n",
       "    }\n",
       "</style>\n",
       "<table border=\"1\" class=\"dataframe\">\n",
       "  <thead>\n",
       "    <tr style=\"text-align: right;\">\n",
       "      <th></th>\n",
       "      <th>nº</th>\n",
       "      <th>sexo</th>\n",
       "      <th>idade</th>\n",
       "      <th>peso</th>\n",
       "      <th>altura</th>\n",
       "      <th>IES</th>\n",
       "      <th>IMC</th>\n",
       "      <th>Clas IMC</th>\n",
       "    </tr>\n",
       "  </thead>\n",
       "  <tbody>\n",
       "    <tr>\n",
       "      <th>39</th>\n",
       "      <td>40</td>\n",
       "      <td>F</td>\n",
       "      <td>18</td>\n",
       "      <td>52</td>\n",
       "      <td>163</td>\n",
       "      <td>UFAC</td>\n",
       "      <td>19.6</td>\n",
       "      <td>ad</td>\n",
       "    </tr>\n",
       "    <tr>\n",
       "      <th>207</th>\n",
       "      <td>208</td>\n",
       "      <td>M</td>\n",
       "      <td>21</td>\n",
       "      <td>75</td>\n",
       "      <td>173</td>\n",
       "      <td>UFAC</td>\n",
       "      <td>25.1</td>\n",
       "      <td>ob</td>\n",
       "    </tr>\n",
       "    <tr>\n",
       "      <th>234</th>\n",
       "      <td>235</td>\n",
       "      <td>M</td>\n",
       "      <td>24</td>\n",
       "      <td>87</td>\n",
       "      <td>174</td>\n",
       "      <td>UFAC</td>\n",
       "      <td>28.7</td>\n",
       "      <td>ob</td>\n",
       "    </tr>\n",
       "    <tr>\n",
       "      <th>33</th>\n",
       "      <td>34</td>\n",
       "      <td>F</td>\n",
       "      <td>22</td>\n",
       "      <td>42</td>\n",
       "      <td>152</td>\n",
       "      <td>UFAC</td>\n",
       "      <td>18.2</td>\n",
       "      <td>mg</td>\n",
       "    </tr>\n",
       "    <tr>\n",
       "      <th>15</th>\n",
       "      <td>16</td>\n",
       "      <td>F</td>\n",
       "      <td>20</td>\n",
       "      <td>66</td>\n",
       "      <td>162</td>\n",
       "      <td>UFAC</td>\n",
       "      <td>25.1</td>\n",
       "      <td>ob</td>\n",
       "    </tr>\n",
       "  </tbody>\n",
       "</table>\n",
       "</div>"
      ],
      "text/plain": [
       "      nº sexo  idade  peso  altura   IES   IMC Clas IMC\n",
       "39    40    F     18    52     163  UFAC  19.6       ad\n",
       "207  208    M     21    75     173  UFAC  25.1       ob\n",
       "234  235    M     24    87     174  UFAC  28.7       ob\n",
       "33    34    F     22    42     152  UFAC  18.2       mg\n",
       "15    16    F     20    66     162  UFAC  25.1       ob"
      ]
     },
     "execution_count": 505,
     "metadata": {},
     "output_type": "execute_result"
    }
   ],
   "source": [
    "# ver os 5 valores iniciais da amostra\n",
    "df_ies.head()"
   ]
  },
  {
   "cell_type": "markdown",
   "id": "f90ad28e",
   "metadata": {},
   "source": [
    "### 1 - Para as variáveis SEXO e IES, obter o número absoluto e a frequência relativa percentual."
   ]
  },
  {
   "cell_type": "code",
   "execution_count": 464,
   "id": "e2294fe5",
   "metadata": {},
   "outputs": [
    {
     "data": {
      "text/plain": [
       "F    32\n",
       "M    22\n",
       "Name: sexo, dtype: int64"
      ]
     },
     "execution_count": 464,
     "metadata": {},
     "output_type": "execute_result"
    }
   ],
   "source": [
    "# número absoluto\n",
    "df_ies.sexo.value_counts()"
   ]
  },
  {
   "cell_type": "code",
   "execution_count": 465,
   "id": "baddecf1",
   "metadata": {},
   "outputs": [
    {
     "data": {
      "text/plain": [
       "UFSCAR    33\n",
       "UFAC      21\n",
       "Name: IES, dtype: int64"
      ]
     },
     "execution_count": 465,
     "metadata": {},
     "output_type": "execute_result"
    }
   ],
   "source": [
    "# número absoluto\n",
    "df_ies.IES.value_counts()"
   ]
  },
  {
   "cell_type": "code",
   "execution_count": 466,
   "id": "59bcc648",
   "metadata": {},
   "outputs": [
    {
     "data": {
      "text/plain": [
       "F    59.259259\n",
       "M    40.740741\n",
       "Name: sexo, dtype: float64"
      ]
     },
     "execution_count": 466,
     "metadata": {},
     "output_type": "execute_result"
    }
   ],
   "source": [
    "# frequência relativa em porcentagem\n",
    "df_ies.sexo.value_counts()/df_ies.shape[0] * 100"
   ]
  },
  {
   "cell_type": "code",
   "execution_count": 467,
   "id": "5f51790d",
   "metadata": {},
   "outputs": [
    {
     "data": {
      "text/plain": [
       "UFSCAR    61.111111\n",
       "UFAC      38.888889\n",
       "Name: IES, dtype: float64"
      ]
     },
     "execution_count": 467,
     "metadata": {},
     "output_type": "execute_result"
    }
   ],
   "source": [
    "# frequência relativa em porcentagem\n",
    "df_ies.IES.value_counts()/df_ies.shape[0] * 100"
   ]
  },
  {
   "cell_type": "markdown",
   "id": "4b3a6ed4",
   "metadata": {},
   "source": [
    "### Para os dados populacionais das variáveis IDADE, PESO, ALTURA e IMC as seguintes medidas e gráficos:\n",
    "* i) Média aritmética.\n",
    "* ii) Mediana.\n",
    "* iii) Variância amostral.\n",
    "* iv) Desvio Padrão amostral.\n",
    "* v) Coeficiente de Variação.\n",
    "* vi) Box-plot de cada uma das variáveis separadamente."
   ]
  },
  {
   "cell_type": "markdown",
   "id": "34a28d26",
   "metadata": {},
   "source": [
    "### Média"
   ]
  },
  {
   "cell_type": "code",
   "execution_count": 468,
   "id": "3c44969b",
   "metadata": {},
   "outputs": [
    {
     "name": "stdout",
     "output_type": "stream",
     "text": [
      "Idade:  21.59\n",
      "Peso:  63.72\n",
      "Altura:  166.11\n",
      "IMC:  22.86\n"
     ]
    }
   ],
   "source": [
    "# média aritmética\n",
    "print(\"Idade: \", round(df_ies.idade.mean(),2))\n",
    "print(\"Peso: \", round(df_ies.peso.mean(),2))\n",
    "print(\"Altura: \", round(df_ies.altura.mean(),2))\n",
    "print(\"IMC: \", round(df_ies.IMC.mean(),2))"
   ]
  },
  {
   "cell_type": "markdown",
   "id": "1a1acae4",
   "metadata": {},
   "source": [
    "### Erro relativo da média da amostra em relação à população"
   ]
  },
  {
   "cell_type": "code",
   "execution_count": 469,
   "id": "47a6cc03",
   "metadata": {},
   "outputs": [
    {
     "name": "stdout",
     "output_type": "stream",
     "text": [
      "Erro relativo Idade:\n",
      "0.23956194387406893 \n",
      "\n",
      "Erro relativo Peso:\n",
      "3.548604103599054 \n",
      "\n",
      "Erro relativo Altura:\n",
      "1.2125417120956832 \n",
      "\n",
      "Erro relativo IMC:\n",
      "1.620273538188226\n"
     ]
    }
   ],
   "source": [
    "# ErroRelativo = 100 x |ValorPopulacional – ValorAmostral|/ValorPopulacional\n",
    "# Média\n",
    "\n",
    "mediaC= []\n",
    "mediaC.append(100 * abs(df.idade.mean() - df_ies.idade.mean())/df.idade.mean())\n",
    "mediaC.append(100 * abs(df.peso.mean() - df_ies.peso.mean())/df.peso.mean())\n",
    "mediaC.append(100 * abs(df.altura.mean() - df_ies.altura.mean())/df.altura.mean())\n",
    "mediaC.append(100 * abs(df.IMC.mean() - df_ies.IMC.mean())/df.IMC.mean())\n",
    "\n",
    "print(\"Erro relativo Idade:\")\n",
    "print(mediaC[0], \"\\n\")\n",
    "print(\"Erro relativo Peso:\")\n",
    "print(mediaC[1], \"\\n\")\n",
    "print(\"Erro relativo Altura:\")\n",
    "print(mediaC[2], \"\\n\")\n",
    "print(\"Erro relativo IMC:\")\n",
    "print(mediaC[3])"
   ]
  },
  {
   "cell_type": "markdown",
   "id": "6abee6f5",
   "metadata": {},
   "source": [
    "### Mediana"
   ]
  },
  {
   "cell_type": "code",
   "execution_count": 470,
   "id": "67e26cca",
   "metadata": {
    "scrolled": true
   },
   "outputs": [
    {
     "name": "stdout",
     "output_type": "stream",
     "text": [
      "Idade:  21.0\n",
      "Peso:  62.0\n",
      "Altura:  164.5\n",
      "IMC:  22.8\n"
     ]
    }
   ],
   "source": [
    "# mediana\n",
    "print(\"Idade: \", round(df_ies.idade.median(),2))\n",
    "print(\"Peso: \", round(df_ies.peso.median(),2))\n",
    "print(\"Altura: \", round(df_ies.altura.median(),2))\n",
    "print(\"IMC: \", round(df_ies.IMC.median(),2))"
   ]
  },
  {
   "cell_type": "markdown",
   "id": "c10abe3f",
   "metadata": {},
   "source": [
    "### Erro relativo da mediana da amostra em relação à população"
   ]
  },
  {
   "cell_type": "code",
   "execution_count": 471,
   "id": "98211f1b",
   "metadata": {},
   "outputs": [
    {
     "name": "stdout",
     "output_type": "stream",
     "text": [
      "Erro relativo Idade:\n",
      "0.0 \n",
      "\n",
      "Erro relativo Peso:\n",
      "3.125 \n",
      "\n",
      "Erro relativo Altura:\n",
      "2.0833333333333335 \n",
      "\n",
      "Erro relativo IMC:\n",
      "0.2188183807439856\n"
     ]
    }
   ],
   "source": [
    "# ErroRelativo = 100 x |ValorPopulacional – ValorAmostral|/ValorPopulacional\n",
    "#Mediana\n",
    "\n",
    "medianaC = []\n",
    "medianaC.append(100 * abs(df.idade.median() - df_ies.idade.median())/df.idade.median())\n",
    "medianaC.append(100 * abs(df.peso.median() - df_ies.peso.median())/df.peso.median())\n",
    "medianaC.append(100 * abs(df.altura.median() - df_ies.altura.median())/df.altura.median())\n",
    "medianaC.append(100 * abs(df.IMC.median() - df_ies.IMC.median())/df.IMC.median())\n",
    "\n",
    "print(\"Erro relativo Idade:\")\n",
    "print(medianaC[0], \"\\n\")\n",
    "print(\"Erro relativo Peso:\")\n",
    "print(medianaC[1], \"\\n\")\n",
    "print(\"Erro relativo Altura:\")\n",
    "print(medianaC[2], \"\\n\")\n",
    "print(\"Erro relativo IMC:\")\n",
    "print(medianaC[3])"
   ]
  },
  {
   "cell_type": "markdown",
   "id": "2be165c2",
   "metadata": {},
   "source": [
    "### Variância"
   ]
  },
  {
   "cell_type": "code",
   "execution_count": 472,
   "id": "33a2ac55",
   "metadata": {
    "scrolled": true
   },
   "outputs": [
    {
     "name": "stdout",
     "output_type": "stream",
     "text": [
      "Idade:  13.57\n",
      "Peso:  232.69\n",
      "Altura:  72.7\n",
      "IMC:  21.53\n"
     ]
    }
   ],
   "source": [
    "# variância amostral\n",
    "print(\"Idade: \", round(std.variance(df_ies.idade),2))\n",
    "print(\"Peso: \", round(std.variance(df_ies.peso),2))\n",
    "print(\"Altura: \", round(std.variance(df_ies.altura),2))\n",
    "print(\"IMC: \", round(std.variance(df_ies.IMC),2))"
   ]
  },
  {
   "cell_type": "markdown",
   "id": "fb923183",
   "metadata": {},
   "source": [
    "### Erro relativo da variância da amostra em relação à população"
   ]
  },
  {
   "cell_type": "code",
   "execution_count": 506,
   "id": "85032c78",
   "metadata": {},
   "outputs": [
    {
     "name": "stdout",
     "output_type": "stream",
     "text": [
      "Erro relativo Idade:\n",
      "9.830422300846095 \n",
      "\n",
      "Erro relativo Peso:\n",
      "3.0530662176218044 \n",
      "\n",
      "Erro relativo Altura:\n",
      "20.531745282016345 \n",
      "\n",
      "Erro relativo IMC:\n",
      "8.660979215684291 \n",
      "\n"
     ]
    }
   ],
   "source": [
    "# ErroRelativo = 100 x |ValorPopulacional – ValorAmostral|/ValorPopulacional\n",
    "# Variância\n",
    "\n",
    "varianciaC = []\n",
    "varianciaC.append(100 * abs(std.pvariance(df.idade) -std.variance(df_ies.idade))/std.pvariance(df.idade))\n",
    "varianciaC.append(100 * abs(std.pvariance(df.peso) -std.variance(df_ies.peso))/std.pvariance(df.peso))\n",
    "varianciaC.append(100 * abs(std.pvariance(df.altura) -std.variance(df_ies.altura))/std.pvariance(df.altura))\n",
    "varianciaC.append(100 * abs(std.pvariance(df.IMC) -std.variance(df_ies.IMC))/std.pvariance(df.IMC))\n",
    "\n",
    "print(\"Erro relativo Idade:\")\n",
    "print(varianciaC[0], \"\\n\")\n",
    "print(\"Erro relativo Peso:\")\n",
    "print(varianciaC[1], \"\\n\")\n",
    "print(\"Erro relativo Altura:\")\n",
    "print(varianciaC[2], \"\\n\")\n",
    "print(\"Erro relativo IMC:\")\n",
    "print(varianciaC[3], \"\\n\")"
   ]
  },
  {
   "cell_type": "markdown",
   "id": "b068d032",
   "metadata": {},
   "source": [
    "### Desvio padrão"
   ]
  },
  {
   "cell_type": "code",
   "execution_count": 474,
   "id": "597afae0",
   "metadata": {},
   "outputs": [
    {
     "name": "stdout",
     "output_type": "stream",
     "text": [
      "Idade:  3.68\n",
      "Peso:  15.25\n",
      "Altura:  8.53\n",
      "IMC:  4.64\n"
     ]
    }
   ],
   "source": [
    "# desvio padrão amostral\n",
    "print(\"Idade: \", round(std.stdev(df_ies.idade),2))\n",
    "print(\"Peso: \", round(std.stdev(df_ies.peso),2))\n",
    "print(\"Altura: \", round(std.stdev(df_ies.altura),2))\n",
    "print(\"IMC: \", round(std.stdev(df_ies.IMC),2))"
   ]
  },
  {
   "cell_type": "markdown",
   "id": "a89095da",
   "metadata": {},
   "source": [
    "### Coeficiente de variação"
   ]
  },
  {
   "cell_type": "code",
   "execution_count": 475,
   "id": "633f8508",
   "metadata": {
    "scrolled": true
   },
   "outputs": [
    {
     "name": "stdout",
     "output_type": "stream",
     "text": [
      "Idade:  17.06\n",
      "Peso:  23.94\n",
      "Altura:  5.13\n",
      "IMC:  20.29\n"
     ]
    }
   ],
   "source": [
    "# coeficiente de variação\n",
    "print(\"Idade: \", round(std.stdev(df_ies.idade)/df_ies.idade.mean() * 100,2))\n",
    "print(\"Peso: \", round(std.stdev(df_ies.peso)/df_ies.peso.mean() * 100,2))\n",
    "print(\"Altura: \", round(std.stdev(df_ies.altura)/df_ies.altura.mean() * 100,2))\n",
    "print(\"IMC: \", round(std.stdev(df_ies.IMC)/df_ies.IMC.mean() * 100,2))"
   ]
  },
  {
   "cell_type": "markdown",
   "id": "f3004a77",
   "metadata": {},
   "source": [
    "### Boxplot"
   ]
  },
  {
   "cell_type": "code",
   "execution_count": 476,
   "id": "869b6bc1",
   "metadata": {},
   "outputs": [
    {
     "data": {
      "image/png": "[encoded data removed]",
      "text/plain": [
       "<Figure size 1080x576 with 4 Axes>"
      ]
     },
     "metadata": {
      "needs_background": "light"
     },
     "output_type": "display_data"
    }
   ],
   "source": [
    "# boxplot para as variáveis quantitativas\n",
    "fig, (ax1, ax2, ax3, ax4) = plt.subplots(1, 4, figsize = (15, 8))\n",
    "df_ies.idade.plot(kind = 'box', ax = ax1);\n",
    "df_ies.peso.plot(kind = 'box', ax = ax2)\n",
    "df_ies.altura.plot(kind = 'box', ax = ax3)\n",
    "df_ies.IMC.plot(kind = 'box', ax = ax4)\n",
    "plt.show()"
   ]
  },
  {
   "cell_type": "markdown",
   "id": "6f22b601",
   "metadata": {},
   "source": [
    "### Comparando A, B e C"
   ]
  },
  {
   "cell_type": "code",
   "execution_count": 507,
   "id": "2f7ee47b",
   "metadata": {},
   "outputs": [
    {
     "data": {
      "text/plain": [
       "[3.319644079397672, 3.374817804686621, 0.7808284049735095, 2.1007382264239878]"
      ]
     },
     "execution_count": 507,
     "metadata": {},
     "output_type": "execute_result"
    }
   ],
   "source": [
    "mediaA"
   ]
  },
  {
   "cell_type": "code",
   "execution_count": 508,
   "id": "760734e0",
   "metadata": {},
   "outputs": [
    {
     "data": {
      "text/plain": [
       "[1.2662559890486031,\n",
       " 1.8051351048323758,\n",
       " 0.19933701170692603,\n",
       " 2.1804172791993497]"
      ]
     },
     "execution_count": 508,
     "metadata": {},
     "output_type": "execute_result"
    }
   ],
   "source": [
    "mediaB"
   ]
  },
  {
   "cell_type": "code",
   "execution_count": 509,
   "id": "d4ad2921",
   "metadata": {
    "scrolled": true
   },
   "outputs": [
    {
     "data": {
      "text/plain": [
       "[0.23956194387406893, 3.548604103599054, 1.2125417120956832, 1.620273538188226]"
      ]
     },
     "execution_count": 509,
     "metadata": {},
     "output_type": "execute_result"
    }
   ],
   "source": [
    "mediaC"
   ]
  },
  {
   "cell_type": "code",
   "execution_count": 510,
   "id": "3e398937",
   "metadata": {},
   "outputs": [
    {
     "data": {
      "image/png": "[encoded data removed]",
      "text/plain": [
       "<Figure size 360x360 with 1 Axes>"
      ]
     },
     "metadata": {
      "needs_background": "light"
     },
     "output_type": "display_data"
    }
   ],
   "source": [
    "df_erro = pd.DataFrame(list(zip(mediaA, mediaB, mediaC)),\n",
    "               columns =[\"Amostra A\", \"Amostra B\", \"Amostra C\"])\n",
    "# Média\n",
    "pd.concat([df_erro[\"Amostra A\"],\n",
    "           df_erro[\"Amostra B\"],\n",
    "           df_erro[\"Amostra C\"]],\n",
    "          axis=1).plot.bar(figsize = (5, 5));\n",
    "plt.xticks((0, 1, 2, 3), ('idade', 'peso', 'altura', 'IMC'));"
   ]
  },
  {
   "cell_type": "code",
   "execution_count": 511,
   "id": "8699a595",
   "metadata": {},
   "outputs": [
    {
     "data": {
      "text/plain": [
       "[4.761904761904762, 2.34375, 1.1904761904761905, 2.4070021881837946]"
      ]
     },
     "execution_count": 511,
     "metadata": {},
     "output_type": "execute_result"
    }
   ],
   "source": [
    "medianaA"
   ]
  },
  {
   "cell_type": "code",
   "execution_count": 512,
   "id": "81ad03e9",
   "metadata": {
    "scrolled": true
   },
   "outputs": [
    {
     "data": {
      "text/plain": [
       "[0.0, 1.5625, 0.2976190476190476, 3.0634573304157517]"
      ]
     },
     "execution_count": 512,
     "metadata": {},
     "output_type": "execute_result"
    }
   ],
   "source": [
    "medianaB"
   ]
  },
  {
   "cell_type": "code",
   "execution_count": 513,
   "id": "bba32075",
   "metadata": {},
   "outputs": [
    {
     "data": {
      "text/plain": [
       "[0.0, 3.125, 2.0833333333333335, 0.2188183807439856]"
      ]
     },
     "execution_count": 513,
     "metadata": {},
     "output_type": "execute_result"
    }
   ],
   "source": [
    "medianaC"
   ]
  },
  {
   "cell_type": "code",
   "execution_count": 514,
   "id": "a3259844",
   "metadata": {},
   "outputs": [
    {
     "data": {
      "image/png": "[encoded data removed]",
      "text/plain": [
       "<Figure size 360x360 with 1 Axes>"
      ]
     },
     "metadata": {
      "needs_background": "light"
     },
     "output_type": "display_data"
    }
   ],
   "source": [
    "df_erro = pd.DataFrame(list(zip(medianaA, medianaB, medianaC)),\n",
    "               columns =[\"Amostra A\", \"Amostra B\", \"Amostra C\"])\n",
    "# Mediana\n",
    "pd.concat([df_erro[\"Amostra A\"],\n",
    "           df_erro[\"Amostra B\"],\n",
    "           df_erro[\"Amostra C\"]],\n",
    "          axis=1).plot.bar(figsize = (5, 5));\n",
    "plt.xticks((0, 1, 2, 3), ('idade', 'peso', 'altura', 'IMC'));"
   ]
  },
  {
   "cell_type": "code",
   "execution_count": 515,
   "id": "3ac1529c",
   "metadata": {},
   "outputs": [
    {
     "data": {
      "text/plain": [
       "[8.562053628310666, 6.9003819276712, 13.869744434591745, 8.475199460219937]"
      ]
     },
     "execution_count": 515,
     "metadata": {},
     "output_type": "execute_result"
    }
   ],
   "source": [
    "varianciaA"
   ]
  },
  {
   "cell_type": "code",
   "execution_count": 516,
   "id": "a2b55dda",
   "metadata": {},
   "outputs": [
    {
     "data": {
      "text/plain": [
       "[16.908738794794314, 4.085340806438105, 3.810109062426782, 7.408672330872284]"
      ]
     },
     "execution_count": 516,
     "metadata": {},
     "output_type": "execute_result"
    }
   ],
   "source": [
    "varianciaB"
   ]
  },
  {
   "cell_type": "code",
   "execution_count": 517,
   "id": "2b7345b5",
   "metadata": {},
   "outputs": [
    {
     "data": {
      "text/plain": [
       "[9.830422300846095, 3.0530662176218044, 20.531745282016345, 8.660979215684291]"
      ]
     },
     "execution_count": 517,
     "metadata": {},
     "output_type": "execute_result"
    }
   ],
   "source": [
    "varianciaC"
   ]
  },
  {
   "cell_type": "code",
   "execution_count": 518,
   "id": "0854caac",
   "metadata": {
    "scrolled": true
   },
   "outputs": [
    {
     "data": {
      "image/png": "[encoded data removed]",
      "text/plain": [
       "<Figure size 360x360 with 1 Axes>"
      ]
     },
     "metadata": {
      "needs_background": "light"
     },
     "output_type": "display_data"
    }
   ],
   "source": [
    "df_erro = pd.DataFrame(list(zip(varianciaA, varianciaB, varianciaC)),\n",
    "               columns =[\"Amostra A\", \"Amostra B\", \"Amostra C\"])\n",
    "# Variância\n",
    "pd.concat([df_erro[\"Amostra A\"],\n",
    "           df_erro[\"Amostra B\"],\n",
    "           df_erro[\"Amostra C\"]],\n",
    "          axis=1).plot.bar(figsize = (5, 5));\n",
    "plt.xticks((0, 1, 2, 3), ('idade', 'peso', 'altura', 'IMC'));"
   ]
  },
  {
   "cell_type": "markdown",
   "id": "f6310fc0",
   "metadata": {},
   "source": [
    "Observando os gráficos podemos concluir que ainda, na amostra B (laranja), houveram erros relativos menores, portanto nessa situação é a mais indicada para uma análise fidedigna que representa a realidade da população."
   ]
  }
 ],
 "metadata": {
  "kernelspec": {
   "display_name": "Python 3",
   "language": "python",
   "name": "python3"
  },
  "language_info": {
   "codemirror_mode": {
    "name": "ipython",
    "version": 3
   },
   "file_extension": ".py",
   "mimetype": "text/x-python",
   "name": "python",
   "nbconvert_exporter": "python",
   "pygments_lexer": "ipython3",
   "version": "3.8.8"
  }
 },
 "nbformat": 4,
 "nbformat_minor": 5
}
