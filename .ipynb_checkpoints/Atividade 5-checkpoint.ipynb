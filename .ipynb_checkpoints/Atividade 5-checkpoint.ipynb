{
 "cells": [
  {
   "cell_type": "markdown",
   "id": "f50ca12a",
   "metadata": {},
   "source": [
    "# Probabilidade e Estatística - Atividade 5"
   ]
  },
  {
   "cell_type": "markdown",
   "id": "e2b361e3",
   "metadata": {},
   "source": [
    "<img src=\"Arquivos/pe.jpg\"  width=80%>"
   ]
  },
  {
   "cell_type": "markdown",
   "id": "6eb73741",
   "metadata": {},
   "source": [
    "## PARTE A\n",
    "### Considere, inicialmente, uma amostra aleatória simples (AAS) de 54 elementos, em que foram obtidos os dados referentes à IDADE, ALTURA, PESO e calculado o IMC (IMC = PESO/[ALTURA^2]). Obter:"
   ]
  },
  {
   "cell_type": "code",
   "execution_count": 380,
   "id": "8878e2b1",
   "metadata": {},
   "outputs": [],
   "source": [
    "# importar bibliotecas necessárias\n",
    "import pandas as pd\n",
    "import matplotlib.pyplot as plt\n",
    "import seaborn as sns\n",
    "import statistics as std\n",
    "import numpy as np\n",
    "import statsmodels.api as sm\n",
    "import random\n",
    "import math\n",
    "import scipy.stats\n",
    "from sklearn.linear_model import LinearRegression\n",
    "from sklearn.metrics import mean_squared_error\n",
    "from scipy import stats"
   ]
  },
  {
   "cell_type": "code",
   "execution_count": 381,
   "id": "ad82fcfc",
   "metadata": {},
   "outputs": [
    {
     "data": {
      "text/html": [
       "<div>\n",
       "<style scoped>\n",
       "    .dataframe tbody tr th:only-of-type {\n",
       "        vertical-align: middle;\n",
       "    }\n",
       "\n",
       "    .dataframe tbody tr th {\n",
       "        vertical-align: top;\n",
       "    }\n",
       "\n",
       "    .dataframe thead th {\n",
       "        text-align: right;\n",
       "    }\n",
       "</style>\n",
       "<table border=\"1\" class=\"dataframe\">\n",
       "  <thead>\n",
       "    <tr style=\"text-align: right;\">\n",
       "      <th></th>\n",
       "      <th>Sexo_am</th>\n",
       "      <th>Idade_am</th>\n",
       "      <th>Peso_am</th>\n",
       "      <th>Altura_am</th>\n",
       "      <th>IES_am</th>\n",
       "      <th>IMC_am</th>\n",
       "      <th>ClassIMC_am</th>\n",
       "    </tr>\n",
       "  </thead>\n",
       "  <tbody>\n",
       "    <tr>\n",
       "      <th>0</th>\n",
       "      <td>F</td>\n",
       "      <td>20</td>\n",
       "      <td>65</td>\n",
       "      <td>155</td>\n",
       "      <td>UFAC</td>\n",
       "      <td>27.1</td>\n",
       "      <td>ob</td>\n",
       "    </tr>\n",
       "    <tr>\n",
       "      <th>1</th>\n",
       "      <td>F</td>\n",
       "      <td>20</td>\n",
       "      <td>35</td>\n",
       "      <td>171</td>\n",
       "      <td>UFSCAR</td>\n",
       "      <td>12.0</td>\n",
       "      <td>mg</td>\n",
       "    </tr>\n",
       "    <tr>\n",
       "      <th>2</th>\n",
       "      <td>M</td>\n",
       "      <td>21</td>\n",
       "      <td>41</td>\n",
       "      <td>155</td>\n",
       "      <td>UFAC</td>\n",
       "      <td>17.1</td>\n",
       "      <td>mg</td>\n",
       "    </tr>\n",
       "    <tr>\n",
       "      <th>3</th>\n",
       "      <td>M</td>\n",
       "      <td>22</td>\n",
       "      <td>56</td>\n",
       "      <td>173</td>\n",
       "      <td>UFAC</td>\n",
       "      <td>18.7</td>\n",
       "      <td>ad</td>\n",
       "    </tr>\n",
       "    <tr>\n",
       "      <th>4</th>\n",
       "      <td>F</td>\n",
       "      <td>18</td>\n",
       "      <td>41</td>\n",
       "      <td>150</td>\n",
       "      <td>UFAC</td>\n",
       "      <td>18.2</td>\n",
       "      <td>mg</td>\n",
       "    </tr>\n",
       "  </tbody>\n",
       "</table>\n",
       "</div>"
      ],
      "text/plain": [
       "  Sexo_am  Idade_am  Peso_am  Altura_am  IES_am  IMC_am ClassIMC_am\n",
       "0       F        20       65        155    UFAC    27.1          ob\n",
       "1       F        20       35        171  UFSCAR    12.0          mg\n",
       "2       M        21       41        155    UFAC    17.1          mg\n",
       "3       M        22       56        173    UFAC    18.7          ad\n",
       "4       F        18       41        150    UFAC    18.2          mg"
      ]
     },
     "execution_count": 381,
     "metadata": {},
     "output_type": "execute_result"
    }
   ],
   "source": [
    "# importar amostra simples e exibir as 5 primeiras entradas\n",
    "df = pd.read_csv(\"amostra_simples_ok.csv\", sep = ';')\n",
    "df.IMC_am = df.IMC_am.apply(lambda x: x.replace(',','.'))\n",
    "df.IMC_am = df.IMC_am.astype(float)\n",
    "df.head()"
   ]
  },
  {
   "cell_type": "markdown",
   "id": "0407f1a0",
   "metadata": {},
   "source": [
    "### A) Gráfico de dispersão entre as variáveis IDADE x ALTURA, IDADE x PESO, IDADE x IMC, ALTURA x PESO, ALTURA x IMC, PESO x IMC."
   ]
  },
  {
   "cell_type": "code",
   "execution_count": 382,
   "id": "96bd0824",
   "metadata": {},
   "outputs": [
    {
     "data": {
      "image/png": "[encoded data removed]",
      "text/plain": [
       "<Figure size 432x288 with 1 Axes>"
      ]
     },
     "metadata": {
      "needs_background": "light"
     },
     "output_type": "display_data"
    }
   ],
   "source": [
    "fig, ax = plt.subplots()\n",
    "df.plot.scatter(x = 'Idade_am', y = 'Altura_am', ax = ax)\n",
    "ax.set_xlabel(\"Idade\")\n",
    "ax.set_ylabel(\"Altura\")\n",
    "ax.set_title(\"Idade x Altura\")\n",
    "plt.show()"
   ]
  },
  {
   "cell_type": "code",
   "execution_count": 383,
   "id": "8b6602a4",
   "metadata": {},
   "outputs": [
    {
     "data": {
      "image/png": "[encoded data removed]",
      "text/plain": [
       "<Figure size 432x288 with 1 Axes>"
      ]
     },
     "metadata": {
      "needs_background": "light"
     },
     "output_type": "display_data"
    }
   ],
   "source": [
    "fig, ax = plt.subplots()\n",
    "df.plot.scatter(x = 'Idade_am', y = 'Peso_am', ax = ax)\n",
    "ax.set_xlabel(\"Idade\")\n",
    "ax.set_ylabel(\"Peso\")\n",
    "ax.set_title(\"Idade x Peso\")\n",
    "plt.show()"
   ]
  },
  {
   "cell_type": "code",
   "execution_count": 384,
   "id": "f85eb95f",
   "metadata": {},
   "outputs": [
    {
     "data": {
      "image/png": "[encoded data removed]",
      "text/plain": [
       "<Figure size 432x288 with 1 Axes>"
      ]
     },
     "metadata": {
      "needs_background": "light"
     },
     "output_type": "display_data"
    }
   ],
   "source": [
    "fig, ax = plt.subplots()\n",
    "df.plot.scatter(x = 'Idade_am', y = 'IMC_am', ax = ax)\n",
    "ax.set_xlabel(\"Idade\")\n",
    "ax.set_ylabel(\"IMC\")\n",
    "ax.set_title(\"Idade x IMC\")\n",
    "plt.show()"
   ]
  },
  {
   "cell_type": "code",
   "execution_count": 385,
   "id": "f1a78780",
   "metadata": {},
   "outputs": [
    {
     "data": {
      "image/png": "[encoded data removed]",
      "text/plain": [
       "<Figure size 432x288 with 1 Axes>"
      ]
     },
     "metadata": {
      "needs_background": "light"
     },
     "output_type": "display_data"
    }
   ],
   "source": [
    "fig, ax = plt.subplots()\n",
    "df.plot.scatter(x = 'Altura_am', y = 'Peso_am', ax = ax)\n",
    "ax.set_xlabel(\"Altura\")\n",
    "ax.set_ylabel(\"Peso\")\n",
    "ax.set_title(\"Altura x Peso\")\n",
    "plt.show()"
   ]
  },
  {
   "cell_type": "code",
   "execution_count": 386,
   "id": "3fc94111",
   "metadata": {},
   "outputs": [
    {
     "data": {
      "image/png": "[encoded data removed]",
      "text/plain": [
       "<Figure size 432x288 with 1 Axes>"
      ]
     },
     "metadata": {
      "needs_background": "light"
     },
     "output_type": "display_data"
    }
   ],
   "source": [
    "fig, ax = plt.subplots()\n",
    "df.plot.scatter(x = 'Altura_am', y = 'IMC_am', ax = ax)\n",
    "ax.set_xlabel(\"Altura\")\n",
    "ax.set_ylabel(\"IMC\")\n",
    "ax.set_title(\"Altura x IMC\")\n",
    "plt.show()"
   ]
  },
  {
   "cell_type": "code",
   "execution_count": 387,
   "id": "bbfe36c6",
   "metadata": {},
   "outputs": [
    {
     "data": {
      "image/png": "[encoded data removed]",
      "text/plain": [
       "<Figure size 432x288 with 1 Axes>"
      ]
     },
     "metadata": {
      "needs_background": "light"
     },
     "output_type": "display_data"
    }
   ],
   "source": [
    "fig, ax = plt.subplots()\n",
    "df.plot.scatter(x = 'Peso_am', y = 'IMC_am', ax = ax)\n",
    "ax.set_xlabel(\"Peso\")\n",
    "ax.set_ylabel(\"IMC\")\n",
    "ax.set_title(\"Peso x IMC\")\n",
    "plt.show()"
   ]
  },
  {
   "cell_type": "markdown",
   "id": "46c92170",
   "metadata": {},
   "source": [
    "Observando os gráficos de dispersão podemos perceber que há a possibilidade de ter correlação entre Peso e IMC, Altura e Peso. Os demais gráficos estão meio disformes. Todavia, como o IMC utiliza o peso na sua constituição, bem como a altura, não faz sentido estudarmos esse conjunto de variáveis."
   ]
  },
  {
   "cell_type": "markdown",
   "id": "6039b160",
   "metadata": {},
   "source": [
    "### b) O coeficiente de correlação de Pearson e o coeficiente de correlação de Spearman (postos) para os dois pares de variáveis que você considera mais interessantes e testá-los ao nível de 5% de significância."
   ]
  },
  {
   "cell_type": "markdown",
   "id": "507cf6fa",
   "metadata": {},
   "source": [
    "## Pearson"
   ]
  },
  {
   "cell_type": "code",
   "execution_count": 388,
   "id": "2d3681ab",
   "metadata": {},
   "outputs": [
    {
     "data": {
      "text/html": [
       "<div>\n",
       "<style scoped>\n",
       "    .dataframe tbody tr th:only-of-type {\n",
       "        vertical-align: middle;\n",
       "    }\n",
       "\n",
       "    .dataframe tbody tr th {\n",
       "        vertical-align: top;\n",
       "    }\n",
       "\n",
       "    .dataframe thead th {\n",
       "        text-align: right;\n",
       "    }\n",
       "</style>\n",
       "<table border=\"1\" class=\"dataframe\">\n",
       "  <thead>\n",
       "    <tr style=\"text-align: right;\">\n",
       "      <th></th>\n",
       "      <th>Idade_am</th>\n",
       "      <th>Peso_am</th>\n",
       "      <th>Altura_am</th>\n",
       "      <th>IMC_am</th>\n",
       "    </tr>\n",
       "  </thead>\n",
       "  <tbody>\n",
       "    <tr>\n",
       "      <th>Idade_am</th>\n",
       "      <td>1.000000</td>\n",
       "      <td>0.185185</td>\n",
       "      <td>0.221239</td>\n",
       "      <td>0.087290</td>\n",
       "    </tr>\n",
       "    <tr>\n",
       "      <th>Peso_am</th>\n",
       "      <td>0.185185</td>\n",
       "      <td>1.000000</td>\n",
       "      <td>0.521904</td>\n",
       "      <td>0.840227</td>\n",
       "    </tr>\n",
       "    <tr>\n",
       "      <th>Altura_am</th>\n",
       "      <td>0.221239</td>\n",
       "      <td>0.521904</td>\n",
       "      <td>1.000000</td>\n",
       "      <td>-0.008318</td>\n",
       "    </tr>\n",
       "    <tr>\n",
       "      <th>IMC_am</th>\n",
       "      <td>0.087290</td>\n",
       "      <td>0.840227</td>\n",
       "      <td>-0.008318</td>\n",
       "      <td>1.000000</td>\n",
       "    </tr>\n",
       "  </tbody>\n",
       "</table>\n",
       "</div>"
      ],
      "text/plain": [
       "           Idade_am   Peso_am  Altura_am    IMC_am\n",
       "Idade_am   1.000000  0.185185   0.221239  0.087290\n",
       "Peso_am    0.185185  1.000000   0.521904  0.840227\n",
       "Altura_am  0.221239  0.521904   1.000000 -0.008318\n",
       "IMC_am     0.087290  0.840227  -0.008318  1.000000"
      ]
     },
     "metadata": {},
     "output_type": "display_data"
    }
   ],
   "source": [
    "# criar uma matriz de correlação\n",
    "corr_df = df.corr(method='pearson');\n",
    "\n",
    "# mostrar a matriz de correlação\n",
    "display(corr_df);"
   ]
  },
  {
   "cell_type": "code",
   "execution_count": 389,
   "id": "be476ca2",
   "metadata": {
    "scrolled": true
   },
   "outputs": [
    {
     "data": {
      "image/png": "[encoded data removed]",
      "text/plain": [
       "<Figure size 432x288 with 2 Axes>"
      ]
     },
     "metadata": {
      "needs_background": "light"
     },
     "output_type": "display_data"
    }
   ],
   "source": [
    "# plotar o gráfico de correlação\n",
    "sns.heatmap(corr_df,cmap = 'crest', fmt='.2f',square = True, linecolor = 'white', annot = True);"
   ]
  },
  {
   "cell_type": "markdown",
   "id": "42b7fbe9",
   "metadata": {},
   "source": [
    "### Altura e Peso"
   ]
  },
  {
   "cell_type": "code",
   "execution_count": 390,
   "id": "74212844",
   "metadata": {},
   "outputs": [
    {
     "data": {
      "text/html": [
       "<div>\n",
       "<style scoped>\n",
       "    .dataframe tbody tr th:only-of-type {\n",
       "        vertical-align: middle;\n",
       "    }\n",
       "\n",
       "    .dataframe tbody tr th {\n",
       "        vertical-align: top;\n",
       "    }\n",
       "\n",
       "    .dataframe thead th {\n",
       "        text-align: right;\n",
       "    }\n",
       "</style>\n",
       "<table border=\"1\" class=\"dataframe\">\n",
       "  <thead>\n",
       "    <tr style=\"text-align: right;\">\n",
       "      <th></th>\n",
       "      <th>Altura_am</th>\n",
       "      <th>Peso_am</th>\n",
       "    </tr>\n",
       "  </thead>\n",
       "  <tbody>\n",
       "    <tr>\n",
       "      <th>Altura_am</th>\n",
       "      <td>1.000000</td>\n",
       "      <td>0.521904</td>\n",
       "    </tr>\n",
       "    <tr>\n",
       "      <th>Peso_am</th>\n",
       "      <td>0.521904</td>\n",
       "      <td>1.000000</td>\n",
       "    </tr>\n",
       "  </tbody>\n",
       "</table>\n",
       "</div>"
      ],
      "text/plain": [
       "           Altura_am   Peso_am\n",
       "Altura_am   1.000000  0.521904\n",
       "Peso_am     0.521904  1.000000"
      ]
     },
     "metadata": {},
     "output_type": "display_data"
    }
   ],
   "source": [
    "# criar uma matriz de correlação\n",
    "corr_df = df[['Altura_am', 'Peso_am']].corr(method='pearson');\n",
    "# mostrar a matriz de correlação\n",
    "display(corr_df);"
   ]
  },
  {
   "cell_type": "code",
   "execution_count": 391,
   "id": "dc76d9ed",
   "metadata": {},
   "outputs": [
    {
     "name": "stdout",
     "output_type": "stream",
     "text": [
      "R =  0.521904\n",
      "R² =  27.24 %\n"
     ]
    }
   ],
   "source": [
    "r = 0.521904\n",
    "r_2 = r ** 2\n",
    "n = 54\n",
    "print(\"R = \",r)\n",
    "print(\"R² = \",round(r_2 * 100,2), \"%\")"
   ]
  },
  {
   "cell_type": "markdown",
   "id": "4ffe759f",
   "metadata": {},
   "source": [
    "### Teste de Hipóteses <br>\n",
    "#### H0 : ρ = 0 <br>\n",
    "#### HA : ρ ≠ 0"
   ]
  },
  {
   "cell_type": "code",
   "execution_count": 392,
   "id": "baa1e98b",
   "metadata": {},
   "outputs": [
    {
     "name": "stdout",
     "output_type": "stream",
     "text": [
      "Tc:  4.4121\n"
     ]
    }
   ],
   "source": [
    "#Cálculo do tc\n",
    "tc = (r * math.sqrt(n-2))/math.sqrt(1 - r_2)\n",
    "print(\"Tc: \", round(tc,4))"
   ]
  },
  {
   "cell_type": "code",
   "execution_count": 393,
   "id": "eed66f0a",
   "metadata": {
    "scrolled": true
   },
   "outputs": [
    {
     "name": "stdout",
     "output_type": "stream",
     "text": [
      "Valor na t de student:  2.0066468031022113\n"
     ]
    }
   ],
   "source": [
    "# g.l = 54 - 2 = 52 com 5% de signficância.\n",
    "t = stats.t.ppf(1-0.025, 52)\n",
    "print (\"Valor na t de student: \", t)"
   ]
  },
  {
   "cell_type": "markdown",
   "id": "9bed6c28",
   "metadata": {},
   "source": [
    "Como tc > t, a hipótese nula é rejeitada e dizemos que ao nível de 5% de significância, existe correlação positiva entre Altura e Peso na amostra simples.\n",
    "\n",
    "Se pegarmos os dados da população, o R de altura e peso é 0.5311. Na amostra simples temos 0.5219, um valor que representa bem a população."
   ]
  },
  {
   "cell_type": "markdown",
   "id": "e89da9e1",
   "metadata": {},
   "source": [
    "### Idade e Peso"
   ]
  },
  {
   "cell_type": "code",
   "execution_count": 394,
   "id": "c352a61c",
   "metadata": {
    "scrolled": true
   },
   "outputs": [
    {
     "data": {
      "text/html": [
       "<div>\n",
       "<style scoped>\n",
       "    .dataframe tbody tr th:only-of-type {\n",
       "        vertical-align: middle;\n",
       "    }\n",
       "\n",
       "    .dataframe tbody tr th {\n",
       "        vertical-align: top;\n",
       "    }\n",
       "\n",
       "    .dataframe thead th {\n",
       "        text-align: right;\n",
       "    }\n",
       "</style>\n",
       "<table border=\"1\" class=\"dataframe\">\n",
       "  <thead>\n",
       "    <tr style=\"text-align: right;\">\n",
       "      <th></th>\n",
       "      <th>Idade_am</th>\n",
       "      <th>Peso_am</th>\n",
       "    </tr>\n",
       "  </thead>\n",
       "  <tbody>\n",
       "    <tr>\n",
       "      <th>Idade_am</th>\n",
       "      <td>1.000000</td>\n",
       "      <td>0.185185</td>\n",
       "    </tr>\n",
       "    <tr>\n",
       "      <th>Peso_am</th>\n",
       "      <td>0.185185</td>\n",
       "      <td>1.000000</td>\n",
       "    </tr>\n",
       "  </tbody>\n",
       "</table>\n",
       "</div>"
      ],
      "text/plain": [
       "          Idade_am   Peso_am\n",
       "Idade_am  1.000000  0.185185\n",
       "Peso_am   0.185185  1.000000"
      ]
     },
     "metadata": {},
     "output_type": "display_data"
    }
   ],
   "source": [
    "# criar uma matriz de correlação\n",
    "corr_df = df[['Idade_am', 'Peso_am']].corr(method='pearson');\n",
    "# mostrar a matriz de correlação\n",
    "display(corr_df);"
   ]
  },
  {
   "cell_type": "code",
   "execution_count": 395,
   "id": "d96abc3c",
   "metadata": {
    "scrolled": false
   },
   "outputs": [
    {
     "name": "stdout",
     "output_type": "stream",
     "text": [
      "R =  0.185185\n",
      "R² =  3.43 %\n"
     ]
    }
   ],
   "source": [
    "r = 0.185185\n",
    "r_2 = r ** 2\n",
    "n = 54\n",
    "print(\"R = \",r)\n",
    "print(\"R² = \",round(r_2 * 100,2), \"%\")"
   ]
  },
  {
   "cell_type": "markdown",
   "id": "8eb1713f",
   "metadata": {},
   "source": [
    "### Teste de Hipóteses <br>\n",
    "#### H0 : ρ = 0 <br>\n",
    "#### HA : ρ ≠ 0"
   ]
  },
  {
   "cell_type": "code",
   "execution_count": 396,
   "id": "130e4e2e",
   "metadata": {},
   "outputs": [
    {
     "name": "stdout",
     "output_type": "stream",
     "text": [
      "Tc:  1.3589\n"
     ]
    }
   ],
   "source": [
    "#Cálculo do tc\n",
    "tc = (r * math.sqrt(n-2))/math.sqrt(1 - r_2)\n",
    "print(\"Tc: \", round(tc,4))"
   ]
  },
  {
   "cell_type": "code",
   "execution_count": 397,
   "id": "f079ce44",
   "metadata": {},
   "outputs": [
    {
     "name": "stdout",
     "output_type": "stream",
     "text": [
      "Valor na t de student:  2.0066468031022113\n"
     ]
    }
   ],
   "source": [
    "# g.l = 54 - 2 = 52 com 5% de signficância.\n",
    "t = stats.t.ppf(1-0.025, 52)\n",
    "print (\"Valor na t de student: \", t)"
   ]
  },
  {
   "cell_type": "markdown",
   "id": "0358f7dd",
   "metadata": {},
   "source": [
    "Como tc < t, a hipótese nula não é rejeitada, logo não podemos afirmar correlação positiva ao nível de 5% de signficância."
   ]
  },
  {
   "cell_type": "markdown",
   "id": "2b09aa18",
   "metadata": {},
   "source": [
    "Na população, o R de Idade e Peso é 0.093, na amostra é 0.1815, o que representa bem o estado na população."
   ]
  },
  {
   "cell_type": "markdown",
   "id": "39be41a5",
   "metadata": {},
   "source": [
    "## Spearman"
   ]
  },
  {
   "cell_type": "code",
   "execution_count": 398,
   "id": "eee74816",
   "metadata": {},
   "outputs": [
    {
     "data": {
      "text/html": [
       "<div>\n",
       "<style scoped>\n",
       "    .dataframe tbody tr th:only-of-type {\n",
       "        vertical-align: middle;\n",
       "    }\n",
       "\n",
       "    .dataframe tbody tr th {\n",
       "        vertical-align: top;\n",
       "    }\n",
       "\n",
       "    .dataframe thead th {\n",
       "        text-align: right;\n",
       "    }\n",
       "</style>\n",
       "<table border=\"1\" class=\"dataframe\">\n",
       "  <thead>\n",
       "    <tr style=\"text-align: right;\">\n",
       "      <th></th>\n",
       "      <th>Idade_am</th>\n",
       "      <th>Peso_am</th>\n",
       "      <th>Altura_am</th>\n",
       "      <th>IMC_am</th>\n",
       "    </tr>\n",
       "  </thead>\n",
       "  <tbody>\n",
       "    <tr>\n",
       "      <th>Idade_am</th>\n",
       "      <td>1.000000</td>\n",
       "      <td>0.168715</td>\n",
       "      <td>0.206606</td>\n",
       "      <td>0.127310</td>\n",
       "    </tr>\n",
       "    <tr>\n",
       "      <th>Peso_am</th>\n",
       "      <td>0.168715</td>\n",
       "      <td>1.000000</td>\n",
       "      <td>0.575555</td>\n",
       "      <td>0.822464</td>\n",
       "    </tr>\n",
       "    <tr>\n",
       "      <th>Altura_am</th>\n",
       "      <td>0.206606</td>\n",
       "      <td>0.575555</td>\n",
       "      <td>1.000000</td>\n",
       "      <td>0.061007</td>\n",
       "    </tr>\n",
       "    <tr>\n",
       "      <th>IMC_am</th>\n",
       "      <td>0.127310</td>\n",
       "      <td>0.822464</td>\n",
       "      <td>0.061007</td>\n",
       "      <td>1.000000</td>\n",
       "    </tr>\n",
       "  </tbody>\n",
       "</table>\n",
       "</div>"
      ],
      "text/plain": [
       "           Idade_am   Peso_am  Altura_am    IMC_am\n",
       "Idade_am   1.000000  0.168715   0.206606  0.127310\n",
       "Peso_am    0.168715  1.000000   0.575555  0.822464\n",
       "Altura_am  0.206606  0.575555   1.000000  0.061007\n",
       "IMC_am     0.127310  0.822464   0.061007  1.000000"
      ]
     },
     "metadata": {},
     "output_type": "display_data"
    }
   ],
   "source": [
    "# criar uma matriz de correlação\n",
    "corr_df = df.corr(method='spearman');\n",
    "\n",
    "# mostrar a matriz de correlação\n",
    "display(corr_df);"
   ]
  },
  {
   "cell_type": "code",
   "execution_count": 399,
   "id": "194c4627",
   "metadata": {},
   "outputs": [
    {
     "data": {
      "image/png": "[encoded data removed]",
      "text/plain": [
       "<Figure size 432x288 with 2 Axes>"
      ]
     },
     "metadata": {
      "needs_background": "light"
     },
     "output_type": "display_data"
    }
   ],
   "source": [
    "# plotar o gráfico de correlação\n",
    "sns.heatmap(corr_df,cmap = 'crest', fmt='.2f',square = True, linecolor = 'white', annot = True);"
   ]
  },
  {
   "cell_type": "markdown",
   "id": "6c76ec92",
   "metadata": {},
   "source": [
    "### Altura e Peso"
   ]
  },
  {
   "cell_type": "code",
   "execution_count": 400,
   "id": "bd9f52e0",
   "metadata": {},
   "outputs": [
    {
     "data": {
      "text/html": [
       "<div>\n",
       "<style scoped>\n",
       "    .dataframe tbody tr th:only-of-type {\n",
       "        vertical-align: middle;\n",
       "    }\n",
       "\n",
       "    .dataframe tbody tr th {\n",
       "        vertical-align: top;\n",
       "    }\n",
       "\n",
       "    .dataframe thead th {\n",
       "        text-align: right;\n",
       "    }\n",
       "</style>\n",
       "<table border=\"1\" class=\"dataframe\">\n",
       "  <thead>\n",
       "    <tr style=\"text-align: right;\">\n",
       "      <th></th>\n",
       "      <th>Altura_am</th>\n",
       "      <th>Peso_am</th>\n",
       "    </tr>\n",
       "  </thead>\n",
       "  <tbody>\n",
       "    <tr>\n",
       "      <th>Altura_am</th>\n",
       "      <td>1.000000</td>\n",
       "      <td>0.575555</td>\n",
       "    </tr>\n",
       "    <tr>\n",
       "      <th>Peso_am</th>\n",
       "      <td>0.575555</td>\n",
       "      <td>1.000000</td>\n",
       "    </tr>\n",
       "  </tbody>\n",
       "</table>\n",
       "</div>"
      ],
      "text/plain": [
       "           Altura_am   Peso_am\n",
       "Altura_am   1.000000  0.575555\n",
       "Peso_am     0.575555  1.000000"
      ]
     },
     "metadata": {},
     "output_type": "display_data"
    }
   ],
   "source": [
    "# criar uma matriz de correlação\n",
    "corr_df = df[['Altura_am', 'Peso_am']].corr(method='spearman');\n",
    "# mostrar a matriz de correlação\n",
    "display(corr_df);"
   ]
  },
  {
   "cell_type": "code",
   "execution_count": 401,
   "id": "f8d9b2e1",
   "metadata": {},
   "outputs": [
    {
     "name": "stdout",
     "output_type": "stream",
     "text": [
      "R =  0.575555\n",
      "R² =  33.13 %\n"
     ]
    }
   ],
   "source": [
    "r = 0.575555\n",
    "r_2 = r ** 2\n",
    "n = 54\n",
    "print(\"R = \",r)\n",
    "print(\"R² = \",round(r_2 * 100,2), \"%\")"
   ]
  },
  {
   "cell_type": "markdown",
   "id": "0bf485c2",
   "metadata": {},
   "source": [
    "### Teste de Hipóteses <br>\n",
    "#### H0 : ρ = 0 <br>\n",
    "#### HA : ρ ≠ 0"
   ]
  },
  {
   "cell_type": "code",
   "execution_count": 402,
   "id": "afa17d56",
   "metadata": {},
   "outputs": [
    {
     "name": "stdout",
     "output_type": "stream",
     "text": [
      "Tc:  5.0753\n"
     ]
    }
   ],
   "source": [
    "#Cálculo do tc\n",
    "tc = (r * math.sqrt(n-2))/math.sqrt(1 - r_2)\n",
    "print(\"Tc: \", round(tc,4))"
   ]
  },
  {
   "cell_type": "code",
   "execution_count": 403,
   "id": "64c03a8e",
   "metadata": {},
   "outputs": [
    {
     "name": "stdout",
     "output_type": "stream",
     "text": [
      "Valor na t de student:  2.0066468031022113\n"
     ]
    }
   ],
   "source": [
    "# g.l = 54 - 2 = 52 com 5% de signficância.\n",
    "t = stats.t.ppf(1-0.025, 52)\n",
    "print (\"Valor na t de student: \", t)"
   ]
  },
  {
   "cell_type": "markdown",
   "id": "83ebeff5",
   "metadata": {},
   "source": [
    "Como tc > t, a hipótese nula é rejeitada e dizemos que ao nível de 5% de significância, existe correlação positiva entre Altura e Peso."
   ]
  },
  {
   "cell_type": "markdown",
   "id": "79070af4",
   "metadata": {},
   "source": [
    "### Idade e Peso"
   ]
  },
  {
   "cell_type": "code",
   "execution_count": 404,
   "id": "42c267ea",
   "metadata": {
    "scrolled": true
   },
   "outputs": [
    {
     "data": {
      "text/html": [
       "<div>\n",
       "<style scoped>\n",
       "    .dataframe tbody tr th:only-of-type {\n",
       "        vertical-align: middle;\n",
       "    }\n",
       "\n",
       "    .dataframe tbody tr th {\n",
       "        vertical-align: top;\n",
       "    }\n",
       "\n",
       "    .dataframe thead th {\n",
       "        text-align: right;\n",
       "    }\n",
       "</style>\n",
       "<table border=\"1\" class=\"dataframe\">\n",
       "  <thead>\n",
       "    <tr style=\"text-align: right;\">\n",
       "      <th></th>\n",
       "      <th>Idade_am</th>\n",
       "      <th>Peso_am</th>\n",
       "    </tr>\n",
       "  </thead>\n",
       "  <tbody>\n",
       "    <tr>\n",
       "      <th>Idade_am</th>\n",
       "      <td>1.000000</td>\n",
       "      <td>0.168715</td>\n",
       "    </tr>\n",
       "    <tr>\n",
       "      <th>Peso_am</th>\n",
       "      <td>0.168715</td>\n",
       "      <td>1.000000</td>\n",
       "    </tr>\n",
       "  </tbody>\n",
       "</table>\n",
       "</div>"
      ],
      "text/plain": [
       "          Idade_am   Peso_am\n",
       "Idade_am  1.000000  0.168715\n",
       "Peso_am   0.168715  1.000000"
      ]
     },
     "metadata": {},
     "output_type": "display_data"
    }
   ],
   "source": [
    "# criar uma matriz de correlação\n",
    "corr_df = df[['Idade_am', 'Peso_am']].corr(method='spearman');\n",
    "# mostrar a matriz de correlação\n",
    "display(corr_df);"
   ]
  },
  {
   "cell_type": "code",
   "execution_count": 405,
   "id": "314d44a8",
   "metadata": {},
   "outputs": [
    {
     "name": "stdout",
     "output_type": "stream",
     "text": [
      "R =  0.168715\n",
      "R² =  2.85 %\n"
     ]
    }
   ],
   "source": [
    "r = 0.168715\n",
    "r_2 = r ** 2\n",
    "n = 54\n",
    "print(\"R = \",r)\n",
    "print(\"R² = \",round(r_2 * 100,2), \"%\")"
   ]
  },
  {
   "cell_type": "markdown",
   "id": "17e252ff",
   "metadata": {},
   "source": [
    "### Teste de Hipóteses <br>\n",
    "#### H0 : ρ = 0 <br>\n",
    "#### HA : ρ ≠ 0"
   ]
  },
  {
   "cell_type": "code",
   "execution_count": 406,
   "id": "c5894a4a",
   "metadata": {},
   "outputs": [
    {
     "name": "stdout",
     "output_type": "stream",
     "text": [
      "Tc:  1.2343\n"
     ]
    }
   ],
   "source": [
    "#Cálculo do tc\n",
    "tc = (r * math.sqrt(n-2))/math.sqrt(1 - r_2)\n",
    "print(\"Tc: \", round(tc,4))"
   ]
  },
  {
   "cell_type": "code",
   "execution_count": 407,
   "id": "5c29faa2",
   "metadata": {},
   "outputs": [
    {
     "name": "stdout",
     "output_type": "stream",
     "text": [
      "Valor na t de student:  2.0066468031022113\n"
     ]
    }
   ],
   "source": [
    "# g.l = 54 - 2 = 52 com 5% de signficância.\n",
    "t = stats.t.ppf(1-0.025, 52)\n",
    "print (\"Valor na t de student: \", t)"
   ]
  },
  {
   "cell_type": "markdown",
   "id": "baf3fcc7",
   "metadata": {},
   "source": [
    "Como tc < t, a hipótese nula não é rejeitada, logo não podemos afirmar correlação positiva ao nível de 5% de signficância."
   ]
  },
  {
   "cell_type": "markdown",
   "id": "592fb0fd",
   "metadata": {},
   "source": [
    "### c) Dentre os pares de variáveis listados no item a), escolha um deles e considere uma variável como sendo independente e a outra como variável dependente. Obtenha a reta de regressão linear e realize o teste de hipóteses sobre o coeficiente angular desta regressão através do quadro de Análise de regressão. Conclua, com base no teste de hipóteses e nos gráficos de dispersão."
   ]
  },
  {
   "cell_type": "markdown",
   "id": "600e1e27",
   "metadata": {},
   "source": [
    "### Altura e Peso"
   ]
  },
  {
   "cell_type": "code",
   "execution_count": 408,
   "id": "b6e0d455",
   "metadata": {},
   "outputs": [],
   "source": [
    "# Função que calcula a reta de regressão linear\n",
    "\n",
    "def linear_regression(x, y):     \n",
    "    N = len(x)\n",
    "    x_mean = x.mean()\n",
    "    y_mean = y.mean()\n",
    "    \n",
    "    B1_num = ((x - x_mean) * (y - y_mean)).sum()\n",
    "    B1_den = ((x - x_mean)**2).sum()\n",
    "    B1 = B1_num / B1_den\n",
    "    \n",
    "    B0 = y_mean - (B1*x_mean)\n",
    "    \n",
    "    reg_line = 'y = {} + {}β'.format(round(B0,3), round(B1, 3))\n",
    "    \n",
    "    return (B0, B1, reg_line)"
   ]
  },
  {
   "cell_type": "code",
   "execution_count": 409,
   "id": "465b0f88",
   "metadata": {},
   "outputs": [],
   "source": [
    "# coeficiente de correlação, método de pearson\n",
    "\n",
    "def corr_coef(x, y):\n",
    "    N = len(x)\n",
    "    \n",
    "    num = (N * (x*y).sum()) - (x.sum() * y.sum())\n",
    "    den = np.sqrt((N * (x**2).sum() - x.sum()**2) * (N * (y**2).sum() - y.sum()**2))\n",
    "    R = num / den\n",
    "    return R"
   ]
  },
  {
   "cell_type": "code",
   "execution_count": 410,
   "id": "f0cf2761",
   "metadata": {},
   "outputs": [
    {
     "name": "stdout",
     "output_type": "stream",
     "text": [
      "Reta de Regressão Linear:  y = -71.535 + 0.831β\n",
      "R:  0.522\n",
      "R²:  0.272\n"
     ]
    }
   ],
   "source": [
    "# x é independente = altura\n",
    "x = df['Altura_am']\n",
    "\n",
    "# y é dependente = peso\n",
    "y = df['Peso_am']\n",
    "\n",
    "# Tamanho de x\n",
    "N = len(x)\n",
    "\n",
    "#Média de x e y\n",
    "x_mean = x.mean()\n",
    "y_mean = y.mean()\n",
    "\n",
    "# calcula o B1\n",
    "B1_num = ((x - x_mean) * (y - y_mean)).sum()\n",
    "B1_den = ((x - x_mean)**2).sum()\n",
    "B1 = B1_num / B1_den\n",
    "\n",
    "# calcula o BO\n",
    "B0 = y_mean - (B1 * x_mean)\n",
    "\n",
    "B0, B1, reg_line = linear_regression(x, y)\n",
    "print('Reta de Regressão Linear: ', reg_line)\n",
    "R = corr_coef(x, y)\n",
    "print('R: ', round(R,3))\n",
    "print(\"R²: \", round(R**2,3))"
   ]
  },
  {
   "cell_type": "code",
   "execution_count": 411,
   "id": "09039eae",
   "metadata": {
    "scrolled": true
   },
   "outputs": [
    {
     "data": {
      "image/png": "[encoded data removed]",
      "text/plain": [
       "<Figure size 864x360 with 1 Axes>"
      ]
     },
     "metadata": {
      "needs_background": "light"
     },
     "output_type": "display_data"
    }
   ],
   "source": [
    "plt.figure(figsize=(12,5))\n",
    "plt.scatter(x, y, s=10, linewidths=1, edgecolor='black')\n",
    "text = '''X Média: {} Altura\n",
    "Y Média: {} Peso\n",
    "R: {}\n",
    "R^2: {}\n",
    "y = {} + {}X'''.format(round(x.mean(), 2), \n",
    "                       round(y.mean(), 2), \n",
    "                       round(R, 4), \n",
    "                       round(R**2, 4),\n",
    "                       round(B0, 3),\n",
    "                       round(B1, 3))\n",
    "plt.text(x=130, y=80, s=text, fontsize=12, bbox={'facecolor': 'grey', 'alpha': 0.2, 'pad': 10})\n",
    "plt.title('Como a Altura afeta o Peso')\n",
    "plt.xlabel('Altura', fontsize=15)\n",
    "plt.ylabel('Peso', fontsize=15)\n",
    "plt.plot(x, B0 + B1*x, c = 'r', linewidth=5, alpha=.5, solid_capstyle='round')\n",
    "plt.scatter(x=x.mean(), y=y.mean(), marker='*', s=10**2.5, c='r');"
   ]
  },
  {
   "cell_type": "markdown",
   "id": "b78f3204",
   "metadata": {},
   "source": [
    "### Teste de hipótese"
   ]
  },
  {
   "cell_type": "markdown",
   "id": "a25f76cf",
   "metadata": {},
   "source": [
    "<img src=\"Arquivos/ars.png\"  width=80%>"
   ]
  },
  {
   "cell_type": "markdown",
   "id": "51892c83",
   "metadata": {},
   "source": [
    "Podemos checar na tabela de análise de regressão (ver em amostra_simples_ok.xlsx), que o F-Calculado é 19.46. <br>\n",
    "Iremos checar na tabela F para 1 gl no numerador e 52 gl<br>"
   ]
  },
  {
   "cell_type": "code",
   "execution_count": 412,
   "id": "bdd66ed8",
   "metadata": {},
   "outputs": [
    {
     "name": "stdout",
     "output_type": "stream",
     "text": [
      "F Tabelado =  4.027\n"
     ]
    }
   ],
   "source": [
    "print(\"F Tabelado = \", round(scipy.stats.f.ppf(q=1-0.05, dfn=1, dfd=52),3))"
   ]
  },
  {
   "cell_type": "markdown",
   "id": "ec6eff79",
   "metadata": {},
   "source": [
    "\n",
    "\n",
    "Como F calculado (19.46) é maior que o F tabelado, a hipótese nula de que o coeficiente angular é nulo é rejeitada, ou seja, existe regressão linear entre X e Y ao nível de 5% de significância.\n",
    "\n"
   ]
  },
  {
   "cell_type": "markdown",
   "id": "84da5713",
   "metadata": {},
   "source": [
    "### Considerando a Amostra Estratificada, por sexo, obtenha:\n"
   ]
  },
  {
   "cell_type": "markdown",
   "id": "954b3db7",
   "metadata": {},
   "source": [
    "### a) Gráficos de dispersão (um para cada sexo, separadamente) entre duas variáveis que você ache mais interessante de ser estudada."
   ]
  },
  {
   "cell_type": "code",
   "execution_count": 413,
   "id": "ac7a0cfa",
   "metadata": {
    "scrolled": false
   },
   "outputs": [
    {
     "data": {
      "text/html": [
       "<div>\n",
       "<style scoped>\n",
       "    .dataframe tbody tr th:only-of-type {\n",
       "        vertical-align: middle;\n",
       "    }\n",
       "\n",
       "    .dataframe tbody tr th {\n",
       "        vertical-align: top;\n",
       "    }\n",
       "\n",
       "    .dataframe thead th {\n",
       "        text-align: right;\n",
       "    }\n",
       "</style>\n",
       "<table border=\"1\" class=\"dataframe\">\n",
       "  <thead>\n",
       "    <tr style=\"text-align: right;\">\n",
       "      <th></th>\n",
       "      <th>id</th>\n",
       "      <th>peso</th>\n",
       "      <th>altura</th>\n",
       "      <th>IES</th>\n",
       "      <th>sexo</th>\n",
       "      <th>IMC</th>\n",
       "    </tr>\n",
       "  </thead>\n",
       "  <tbody>\n",
       "    <tr>\n",
       "      <th>0</th>\n",
       "      <td>19</td>\n",
       "      <td>78</td>\n",
       "      <td>181</td>\n",
       "      <td>UFAC</td>\n",
       "      <td>F</td>\n",
       "      <td>25.55358</td>\n",
       "    </tr>\n",
       "    <tr>\n",
       "      <th>1</th>\n",
       "      <td>19</td>\n",
       "      <td>68</td>\n",
       "      <td>159</td>\n",
       "      <td>UFAC</td>\n",
       "      <td>F</td>\n",
       "      <td>17.19108</td>\n",
       "    </tr>\n",
       "    <tr>\n",
       "      <th>2</th>\n",
       "      <td>19</td>\n",
       "      <td>59</td>\n",
       "      <td>177</td>\n",
       "      <td>UFAC</td>\n",
       "      <td>F</td>\n",
       "      <td>18.48411</td>\n",
       "    </tr>\n",
       "    <tr>\n",
       "      <th>3</th>\n",
       "      <td>20</td>\n",
       "      <td>72</td>\n",
       "      <td>163</td>\n",
       "      <td>UFSCAR</td>\n",
       "      <td>F</td>\n",
       "      <td>19.12968</td>\n",
       "    </tr>\n",
       "    <tr>\n",
       "      <th>4</th>\n",
       "      <td>20</td>\n",
       "      <td>63</td>\n",
       "      <td>168</td>\n",
       "      <td>UFAC</td>\n",
       "      <td>F</td>\n",
       "      <td>17.78112</td>\n",
       "    </tr>\n",
       "  </tbody>\n",
       "</table>\n",
       "</div>"
      ],
      "text/plain": [
       "   id  peso  altura     IES sexo       IMC\n",
       "0  19    78     181    UFAC    F  25.55358\n",
       "1  19    68     159    UFAC    F  17.19108\n",
       "2  19    59     177    UFAC    F  18.48411\n",
       "3  20    72     163  UFSCAR    F  19.12968\n",
       "4  20    63     168    UFAC    F  17.78112"
      ]
     },
     "execution_count": 413,
     "metadata": {},
     "output_type": "execute_result"
    }
   ],
   "source": [
    "# importar amostra simples e exibir as 5 primeiras entradas\n",
    "df_sexo = pd.read_csv(\"amostra_sexo_ok.csv\", sep = ';')\n",
    "df_sexo.IMC = df_sexo.IMC.apply(lambda x: x.replace(',','.'))\n",
    "df_sexo.IMC = df_sexo.IMC.astype(float)\n",
    "df_sexo.head()"
   ]
  },
  {
   "cell_type": "markdown",
   "id": "70a6aa9c",
   "metadata": {},
   "source": [
    "### Mulheres"
   ]
  },
  {
   "cell_type": "code",
   "execution_count": 414,
   "id": "c7854007",
   "metadata": {},
   "outputs": [
    {
     "data": {
      "text/plain": [
       "26"
      ]
     },
     "execution_count": 414,
     "metadata": {},
     "output_type": "execute_result"
    }
   ],
   "source": [
    "# criar dataframe para mulheres na amostra estratificada por sexo\n",
    "df_f = df_sexo.loc[df_sexo.sexo == 'F']\n",
    "df_f.shape[0]"
   ]
  },
  {
   "cell_type": "code",
   "execution_count": 415,
   "id": "44db2999",
   "metadata": {},
   "outputs": [
    {
     "data": {
      "image/png": "[encoded data removed]",
      "text/plain": [
       "<Figure size 432x288 with 1 Axes>"
      ]
     },
     "metadata": {
      "needs_background": "light"
     },
     "output_type": "display_data"
    }
   ],
   "source": [
    "fig, ax = plt.subplots()\n",
    "df_f.plot.scatter(x = 'altura', y = 'peso', ax = ax)\n",
    "ax.set_xlabel(\"Altura\")\n",
    "ax.set_ylabel(\"Peso\")\n",
    "ax.set_title(\"Altura x Peso\")\n",
    "plt.show()"
   ]
  },
  {
   "cell_type": "markdown",
   "id": "933aefa2",
   "metadata": {},
   "source": [
    "### Homens"
   ]
  },
  {
   "cell_type": "code",
   "execution_count": 416,
   "id": "da8cd111",
   "metadata": {},
   "outputs": [
    {
     "data": {
      "text/plain": [
       "28"
      ]
     },
     "execution_count": 416,
     "metadata": {},
     "output_type": "execute_result"
    }
   ],
   "source": [
    "# criar dataframe para homens na amostra estratificada por sexo\n",
    "df_h = df_sexo.loc[df_sexo.sexo == 'M']\n",
    "df_h.shape[0]"
   ]
  },
  {
   "cell_type": "code",
   "execution_count": 417,
   "id": "026b4161",
   "metadata": {},
   "outputs": [
    {
     "data": {
      "image/png": "[encoded data removed]",
      "text/plain": [
       "<Figure size 432x288 with 1 Axes>"
      ]
     },
     "metadata": {
      "needs_background": "light"
     },
     "output_type": "display_data"
    }
   ],
   "source": [
    "fig, ax = plt.subplots()\n",
    "df_h.plot.scatter(x = 'altura', y = 'peso', ax = ax)\n",
    "ax.set_xlabel(\"Altura\")\n",
    "ax.set_ylabel(\"Peso\")\n",
    "ax.set_title(\"Altura x Peso\")\n",
    "plt.show()"
   ]
  },
  {
   "cell_type": "markdown",
   "id": "e5d514c3",
   "metadata": {},
   "source": [
    "### Obtenha o coeficiente de correlação de Pearson e o coeficiente de correlação de postos (Spearman), para cada sexo, entre as variáveis escolhidas no item anterior (testar ao nível de 5% de significância)."
   ]
  },
  {
   "cell_type": "markdown",
   "id": "89b45154",
   "metadata": {},
   "source": [
    "### Mulheres"
   ]
  },
  {
   "cell_type": "code",
   "execution_count": 418,
   "id": "4269ac7b",
   "metadata": {
    "scrolled": true
   },
   "outputs": [
    {
     "data": {
      "text/html": [
       "<div>\n",
       "<style scoped>\n",
       "    .dataframe tbody tr th:only-of-type {\n",
       "        vertical-align: middle;\n",
       "    }\n",
       "\n",
       "    .dataframe tbody tr th {\n",
       "        vertical-align: top;\n",
       "    }\n",
       "\n",
       "    .dataframe thead th {\n",
       "        text-align: right;\n",
       "    }\n",
       "</style>\n",
       "<table border=\"1\" class=\"dataframe\">\n",
       "  <thead>\n",
       "    <tr style=\"text-align: right;\">\n",
       "      <th></th>\n",
       "      <th>altura</th>\n",
       "      <th>peso</th>\n",
       "    </tr>\n",
       "  </thead>\n",
       "  <tbody>\n",
       "    <tr>\n",
       "      <th>altura</th>\n",
       "      <td>1.000000</td>\n",
       "      <td>0.437348</td>\n",
       "    </tr>\n",
       "    <tr>\n",
       "      <th>peso</th>\n",
       "      <td>0.437348</td>\n",
       "      <td>1.000000</td>\n",
       "    </tr>\n",
       "  </tbody>\n",
       "</table>\n",
       "</div>"
      ],
      "text/plain": [
       "          altura      peso\n",
       "altura  1.000000  0.437348\n",
       "peso    0.437348  1.000000"
      ]
     },
     "metadata": {},
     "output_type": "display_data"
    }
   ],
   "source": [
    "# Pearson\n",
    "corr_df = df_f[['altura', 'peso']].corr(method='pearson');\n",
    "# mostrar a matriz de correlação\n",
    "display(corr_df);"
   ]
  },
  {
   "cell_type": "markdown",
   "id": "c570b4a9",
   "metadata": {},
   "source": [
    "Na população, o valor de R para peso e altura é 0.4634 observando somente as mulheres. Na amostra, temos 0.4373."
   ]
  },
  {
   "cell_type": "code",
   "execution_count": 419,
   "id": "cc88b080",
   "metadata": {},
   "outputs": [
    {
     "data": {
      "text/html": [
       "<div>\n",
       "<style scoped>\n",
       "    .dataframe tbody tr th:only-of-type {\n",
       "        vertical-align: middle;\n",
       "    }\n",
       "\n",
       "    .dataframe tbody tr th {\n",
       "        vertical-align: top;\n",
       "    }\n",
       "\n",
       "    .dataframe thead th {\n",
       "        text-align: right;\n",
       "    }\n",
       "</style>\n",
       "<table border=\"1\" class=\"dataframe\">\n",
       "  <thead>\n",
       "    <tr style=\"text-align: right;\">\n",
       "      <th></th>\n",
       "      <th>altura</th>\n",
       "      <th>peso</th>\n",
       "    </tr>\n",
       "  </thead>\n",
       "  <tbody>\n",
       "    <tr>\n",
       "      <th>altura</th>\n",
       "      <td>1.00000</td>\n",
       "      <td>0.32812</td>\n",
       "    </tr>\n",
       "    <tr>\n",
       "      <th>peso</th>\n",
       "      <td>0.32812</td>\n",
       "      <td>1.00000</td>\n",
       "    </tr>\n",
       "  </tbody>\n",
       "</table>\n",
       "</div>"
      ],
      "text/plain": [
       "         altura     peso\n",
       "altura  1.00000  0.32812\n",
       "peso    0.32812  1.00000"
      ]
     },
     "metadata": {},
     "output_type": "display_data"
    }
   ],
   "source": [
    "# Spearman\n",
    "corr_df = df_f[['altura', 'peso']].corr(method='spearman');\n",
    "# mostrar a matriz de correlação\n",
    "display(corr_df);"
   ]
  },
  {
   "cell_type": "code",
   "execution_count": 420,
   "id": "6bec223b",
   "metadata": {},
   "outputs": [
    {
     "name": "stdout",
     "output_type": "stream",
     "text": [
      "R =  0.437348\n",
      "R² =  19.13 %\n",
      "N =  26\n"
     ]
    }
   ],
   "source": [
    "r = 0.437348\n",
    "r_2 = r ** 2\n",
    "n = df_f.shape[0]\n",
    "print(\"R = \",r)\n",
    "print(\"R² = \",round(r_2 * 100,2), \"%\")\n",
    "print(\"N = \", n)"
   ]
  },
  {
   "cell_type": "markdown",
   "id": "8298dca6",
   "metadata": {},
   "source": [
    "### Teste de Hipóteses <br>\n",
    "#### H0 : ρ = 0 <br>\n",
    "#### HA : ρ ≠ 0"
   ]
  },
  {
   "cell_type": "code",
   "execution_count": 421,
   "id": "efb9ed74",
   "metadata": {},
   "outputs": [
    {
     "name": "stdout",
     "output_type": "stream",
     "text": [
      "Tc:  2.3825\n"
     ]
    }
   ],
   "source": [
    "#Cálculo do tc\n",
    "tc = (r * math.sqrt(n-2))/math.sqrt(1 - r_2)\n",
    "print(\"Tc: \", round(tc,4))"
   ]
  },
  {
   "cell_type": "code",
   "execution_count": 422,
   "id": "e7bb94c1",
   "metadata": {},
   "outputs": [
    {
     "name": "stdout",
     "output_type": "stream",
     "text": [
      "Valor na t de student:  2.0638985616280205\n"
     ]
    }
   ],
   "source": [
    "# g.l = 26 - 2 = 24 com 5% de signficância.\n",
    "t = stats.t.ppf(1-0.025, n - 2)\n",
    "print (\"Valor na t de student: \", t)"
   ]
  },
  {
   "cell_type": "markdown",
   "id": "733872ac",
   "metadata": {},
   "source": [
    "Como tc > t, a hipótese nula é rejeitada e dizemos que ao nível de 5% de significância, existe correlação positiva entre Altura e Peso."
   ]
  },
  {
   "cell_type": "markdown",
   "id": "4dbfc7bc",
   "metadata": {},
   "source": [
    "### Homens"
   ]
  },
  {
   "cell_type": "code",
   "execution_count": 423,
   "id": "6a18f30d",
   "metadata": {},
   "outputs": [
    {
     "data": {
      "text/html": [
       "<div>\n",
       "<style scoped>\n",
       "    .dataframe tbody tr th:only-of-type {\n",
       "        vertical-align: middle;\n",
       "    }\n",
       "\n",
       "    .dataframe tbody tr th {\n",
       "        vertical-align: top;\n",
       "    }\n",
       "\n",
       "    .dataframe thead th {\n",
       "        text-align: right;\n",
       "    }\n",
       "</style>\n",
       "<table border=\"1\" class=\"dataframe\">\n",
       "  <thead>\n",
       "    <tr style=\"text-align: right;\">\n",
       "      <th></th>\n",
       "      <th>altura</th>\n",
       "      <th>peso</th>\n",
       "    </tr>\n",
       "  </thead>\n",
       "  <tbody>\n",
       "    <tr>\n",
       "      <th>altura</th>\n",
       "      <td>1.000000</td>\n",
       "      <td>0.420551</td>\n",
       "    </tr>\n",
       "    <tr>\n",
       "      <th>peso</th>\n",
       "      <td>0.420551</td>\n",
       "      <td>1.000000</td>\n",
       "    </tr>\n",
       "  </tbody>\n",
       "</table>\n",
       "</div>"
      ],
      "text/plain": [
       "          altura      peso\n",
       "altura  1.000000  0.420551\n",
       "peso    0.420551  1.000000"
      ]
     },
     "metadata": {},
     "output_type": "display_data"
    }
   ],
   "source": [
    "# Pearson\n",
    "corr_df = df_h[['altura', 'peso']].corr(method='pearson');\n",
    "# mostrar a matriz de correlação\n",
    "display(corr_df);"
   ]
  },
  {
   "cell_type": "code",
   "execution_count": 424,
   "id": "eec2b845",
   "metadata": {},
   "outputs": [
    {
     "data": {
      "text/html": [
       "<div>\n",
       "<style scoped>\n",
       "    .dataframe tbody tr th:only-of-type {\n",
       "        vertical-align: middle;\n",
       "    }\n",
       "\n",
       "    .dataframe tbody tr th {\n",
       "        vertical-align: top;\n",
       "    }\n",
       "\n",
       "    .dataframe thead th {\n",
       "        text-align: right;\n",
       "    }\n",
       "</style>\n",
       "<table border=\"1\" class=\"dataframe\">\n",
       "  <thead>\n",
       "    <tr style=\"text-align: right;\">\n",
       "      <th></th>\n",
       "      <th>altura</th>\n",
       "      <th>peso</th>\n",
       "    </tr>\n",
       "  </thead>\n",
       "  <tbody>\n",
       "    <tr>\n",
       "      <th>altura</th>\n",
       "      <td>1.000000</td>\n",
       "      <td>0.432638</td>\n",
       "    </tr>\n",
       "    <tr>\n",
       "      <th>peso</th>\n",
       "      <td>0.432638</td>\n",
       "      <td>1.000000</td>\n",
       "    </tr>\n",
       "  </tbody>\n",
       "</table>\n",
       "</div>"
      ],
      "text/plain": [
       "          altura      peso\n",
       "altura  1.000000  0.432638\n",
       "peso    0.432638  1.000000"
      ]
     },
     "metadata": {},
     "output_type": "display_data"
    }
   ],
   "source": [
    "# Spearman\n",
    "corr_df = df_h[['altura', 'peso']].corr(method='spearman');\n",
    "# mostrar a matriz de correlação\n",
    "display(corr_df);"
   ]
  },
  {
   "cell_type": "code",
   "execution_count": 425,
   "id": "4325bc5d",
   "metadata": {},
   "outputs": [
    {
     "name": "stdout",
     "output_type": "stream",
     "text": [
      "R =  0.420551\n",
      "R² =  17.69 %\n",
      "N =  28\n"
     ]
    }
   ],
   "source": [
    "r = 0.420551\n",
    "r_2 = r ** 2\n",
    "n = df_h.shape[0]\n",
    "print(\"R = \",r)\n",
    "print(\"R² = \",round(r_2 * 100,2), \"%\")\n",
    "print(\"N = \", n)"
   ]
  },
  {
   "cell_type": "markdown",
   "id": "a855fc4b",
   "metadata": {},
   "source": [
    "Na população, R equivale a 0.539 se observarmos os homens, já na amostra é 0.420."
   ]
  },
  {
   "cell_type": "markdown",
   "id": "0daedaaf",
   "metadata": {},
   "source": [
    "### Teste de Hipóteses <br>\n",
    "#### H0 : ρ = 0 <br>\n",
    "#### HA : ρ ≠ 0"
   ]
  },
  {
   "cell_type": "code",
   "execution_count": 426,
   "id": "45e8364e",
   "metadata": {},
   "outputs": [
    {
     "name": "stdout",
     "output_type": "stream",
     "text": [
      "Tc:  2.3636\n"
     ]
    }
   ],
   "source": [
    "#Cálculo do tc\n",
    "tc = (r * math.sqrt(n-2))/math.sqrt(1 - r_2)\n",
    "print(\"Tc: \", round(tc,4))"
   ]
  },
  {
   "cell_type": "code",
   "execution_count": 427,
   "id": "b9aa08fd",
   "metadata": {},
   "outputs": [
    {
     "name": "stdout",
     "output_type": "stream",
     "text": [
      "Valor na t de student:  2.055529438642871\n"
     ]
    }
   ],
   "source": [
    "# g.l = 28 - 2 = 26 com 5% de signficância.\n",
    "t = stats.t.ppf(1-0.025, n - 2)\n",
    "print (\"Valor na t de student: \", t)"
   ]
  },
  {
   "cell_type": "markdown",
   "id": "29235a4a",
   "metadata": {},
   "source": [
    "Como tc > t, a hipótese nula é rejeitada e dizemos que ao nível de 5% de significância, existe correlação positiva entre Altura e Peso."
   ]
  },
  {
   "cell_type": "markdown",
   "id": "a9bd9ff3",
   "metadata": {},
   "source": [
    "### Obtenha os parâmetros das retas de regressão (um por sexo) e teste-os utilizando os quadros de Análise de Regressão."
   ]
  },
  {
   "cell_type": "markdown",
   "id": "f8489835",
   "metadata": {},
   "source": [
    "### Mulheres"
   ]
  },
  {
   "cell_type": "code",
   "execution_count": 428,
   "id": "a8fb9720",
   "metadata": {},
   "outputs": [
    {
     "name": "stdout",
     "output_type": "stream",
     "text": [
      "Reta de Regressão Linear:  y = -45.873 + 0.686β\n",
      "R:  0.437\n",
      "R²:  0.191\n"
     ]
    }
   ],
   "source": [
    "# x é independente = altura\n",
    "x = df_f['altura']\n",
    "\n",
    "# y é dependente = peso\n",
    "y = df_f['peso']\n",
    "\n",
    "# Tamanho\n",
    "N = len(x)\n",
    "#Média de x e y\n",
    "x_mean = x.mean()\n",
    "y_mean = y.mean()\n",
    "\n",
    "# calcula o B1\n",
    "B1_num = ((x - x_mean) * (y - y_mean)).sum()\n",
    "B1_den = ((x - x_mean)**2).sum()\n",
    "B1 = B1_num / B1_den\n",
    "\n",
    "# calcula o BO\n",
    "B0 = y_mean - (B1 * x_mean)\n",
    "\n",
    "B0, B1, reg_line = linear_regression(x, y)\n",
    "print('Reta de Regressão Linear: ', reg_line)\n",
    "R = corr_coef(x, y)\n",
    "print('R: ', round(R,3))\n",
    "print(\"R²: \", round(R**2,3))"
   ]
  },
  {
   "cell_type": "code",
   "execution_count": 429,
   "id": "6752d694",
   "metadata": {
    "scrolled": true
   },
   "outputs": [
    {
     "data": {
      "image/png": "[encoded data removed]",
      "text/plain": [
       "<Figure size 864x360 with 1 Axes>"
      ]
     },
     "metadata": {
      "needs_background": "light"
     },
     "output_type": "display_data"
    }
   ],
   "source": [
    "plt.figure(figsize=(12,5))\n",
    "plt.scatter(x, y, s=10, linewidths=1, edgecolor='black')\n",
    "text = '''X Mean: {} Altura\n",
    "Y Mean: {} Peso\n",
    "R: {}\n",
    "R^2: {}\n",
    "y = {} + {}X'''.format(round(x.mean(), 2), \n",
    "                       round(y.mean(), 2), \n",
    "                       round(R, 4), \n",
    "                       round(R**2, 4),\n",
    "                       round(B0, 3),\n",
    "                       round(B1, 3))\n",
    "plt.text(x=130, y=80, s=text, fontsize=12, bbox={'facecolor': 'grey', 'alpha': 0.2, 'pad': 10})\n",
    "plt.title('Como a Altura afeta o Peso nas Mulheres')\n",
    "plt.xlabel('Altura', fontsize=15)\n",
    "plt.ylabel('Peso', fontsize=15)\n",
    "plt.plot(x, B0 + B1*x, c = 'r', linewidth=5, alpha=.5, solid_capstyle='round')\n",
    "plt.scatter(x=x.mean(), y=y.mean(), marker='*', s=10**2.5, c='r');"
   ]
  },
  {
   "cell_type": "markdown",
   "id": "db3eb56b",
   "metadata": {},
   "source": [
    "### Teste de Hipótese"
   ]
  },
  {
   "cell_type": "markdown",
   "id": "99b8d711",
   "metadata": {},
   "source": [
    "<img src=\"Arquivos/arf.png\"  width=80%>"
   ]
  },
  {
   "cell_type": "markdown",
   "id": "6baa58fc",
   "metadata": {},
   "source": [
    "Podemos checar na tabela de análise de regressão (ver em amostra_sexo_ok.xlsx), que o F-Calculado é 5.67. <br>\n",
    "Iremos checar na tabela F para 1 gl no numerador e 24 gl (4.26) <br>\n"
   ]
  },
  {
   "cell_type": "code",
   "execution_count": 430,
   "id": "51fbe0ea",
   "metadata": {},
   "outputs": [
    {
     "name": "stdout",
     "output_type": "stream",
     "text": [
      "F Tabelado =  4.26\n"
     ]
    }
   ],
   "source": [
    "print(\"F Tabelado = \", round(scipy.stats.f.ppf(q=1-0.05, dfn=1, dfd=24),3))"
   ]
  },
  {
   "cell_type": "markdown",
   "id": "6a955d00",
   "metadata": {},
   "source": [
    "Como F calculado (5.67) é maior que o F tabelado, a hipótese nula de que o coeficiente angular é nulo é rejeitada, ou seja, existe regressão linear entre X e Y ao nível de 5% de significância.\n"
   ]
  },
  {
   "cell_type": "markdown",
   "id": "aac70679",
   "metadata": {},
   "source": [
    "### Homens"
   ]
  },
  {
   "cell_type": "code",
   "execution_count": 431,
   "id": "21b8f134",
   "metadata": {},
   "outputs": [
    {
     "name": "stdout",
     "output_type": "stream",
     "text": [
      "Reta de Regressão Linear:  y = -54.201 + 0.718β\n",
      "R:  0.421\n",
      "R²:  0.177\n"
     ]
    }
   ],
   "source": [
    "# x é independente = altura\n",
    "x = df_h['altura']\n",
    "\n",
    "# y é dependente = peso\n",
    "y = df_h['peso']\n",
    "\n",
    "# Tamanho\n",
    "N = len(x)\n",
    "#Média de x e y\n",
    "x_mean = x.mean()\n",
    "y_mean = y.mean()\n",
    "\n",
    "# calcula o B1\n",
    "B1_num = ((x - x_mean) * (y - y_mean)).sum()\n",
    "B1_den = ((x - x_mean)**2).sum()\n",
    "B1 = B1_num / B1_den\n",
    "\n",
    "# calcula o BO\n",
    "B0 = y_mean - (B1 * x_mean)\n",
    "\n",
    "B0, B1, reg_line = linear_regression(x, y)\n",
    "print('Reta de Regressão Linear: ', reg_line)\n",
    "R = corr_coef(x, y)\n",
    "print('R: ', round(R,3))\n",
    "print(\"R²: \", round(R**2,3))"
   ]
  },
  {
   "cell_type": "code",
   "execution_count": 432,
   "id": "62a7a050",
   "metadata": {},
   "outputs": [
    {
     "data": {
      "image/png": "[encoded data removed]",
      "text/plain": [
       "<Figure size 864x360 with 1 Axes>"
      ]
     },
     "metadata": {
      "needs_background": "light"
     },
     "output_type": "display_data"
    }
   ],
   "source": [
    "plt.figure(figsize=(12,5))\n",
    "plt.scatter(x, y, s=10, linewidths=1, edgecolor='black')\n",
    "text = '''X Mean: {} Altura\n",
    "Y Mean: {} Peso\n",
    "R: {}\n",
    "R^2: {}\n",
    "y = {} + {}X'''.format(round(x.mean(), 2), \n",
    "                       round(y.mean(), 2), \n",
    "                       round(R, 4), \n",
    "                       round(R**2, 4),\n",
    "                       round(B0, 3),\n",
    "                       round(B1, 3))\n",
    "plt.text(x=130, y=80, s=text, fontsize=12, bbox={'facecolor': 'grey', 'alpha': 0.2, 'pad': 10})\n",
    "plt.title('Como a Altura afeta o Peso nos Homens')\n",
    "plt.xlabel('Altura', fontsize=15)\n",
    "plt.ylabel('Peso', fontsize=15)\n",
    "plt.plot(x, B0 + B1*x, c = 'r', linewidth=5, alpha=.5, solid_capstyle='round')\n",
    "plt.scatter(x=x.mean(), y=y.mean(), marker='*', s=10**2.5, c='r');"
   ]
  },
  {
   "cell_type": "markdown",
   "id": "dc5eb9e8",
   "metadata": {},
   "source": [
    "### Teste de Hipótese"
   ]
  },
  {
   "cell_type": "markdown",
   "id": "13983bf9",
   "metadata": {},
   "source": [
    "<img src=\"Arquivos/arm.png\"  width=80%>"
   ]
  },
  {
   "cell_type": "markdown",
   "id": "e8583982",
   "metadata": {},
   "source": [
    "Podemos checar na tabela de análise de regressão (ver em amostra_sexo_ok.xlsx), que o F-Calculado é 5.58. <br>\n",
    "Iremos checar na tabela F para 1 gl no numerador e 26 gl (4.23) <br>"
   ]
  },
  {
   "cell_type": "code",
   "execution_count": 433,
   "id": "380c9d0e",
   "metadata": {},
   "outputs": [
    {
     "name": "stdout",
     "output_type": "stream",
     "text": [
      "F Tabelado =  4.225\n"
     ]
    }
   ],
   "source": [
    "print(\"F Tabelado = \", round(scipy.stats.f.ppf(q=1-0.05, dfn=1, dfd=26),3))"
   ]
  },
  {
   "cell_type": "markdown",
   "id": "92283797",
   "metadata": {},
   "source": [
    "Como F calculado (5.58) é maior que o F tabelado, a hipótese nula de que o coeficiente angular é nulo é rejeitada, ou seja, existe regressão linear entre X e Y ao nível de 5% de significância.\n",
    "\n"
   ]
  },
  {
   "cell_type": "markdown",
   "id": "7e073680",
   "metadata": {},
   "source": [
    "### Conclusão"
   ]
  },
  {
   "cell_type": "markdown",
   "id": "007ce510",
   "metadata": {},
   "source": [
    "Podemos concluir que tanto na amostra simples, quanto na estratificada por sexo, há a correlação entre Altura e Peso, e a regressão linear não é nula. Os resultados, contudo, não se diferenciam tanto ao observar as amostras diferentes, são bem aproximados, então as duas amostras refletem num todo a população e são passíveis para trabalhar."
   ]
  }
 ],
 "metadata": {
  "kernelspec": {
   "display_name": "Python 3",
   "language": "python",
   "name": "python3"
  },
  "language_info": {
   "codemirror_mode": {
    "name": "ipython",
    "version": 3
   },
   "file_extension": ".py",
   "mimetype": "text/x-python",
   "name": "python",
   "nbconvert_exporter": "python",
   "pygments_lexer": "ipython3",
   "version": "3.8.8"
  }
 },
 "nbformat": 4,
 "nbformat_minor": 5
}
