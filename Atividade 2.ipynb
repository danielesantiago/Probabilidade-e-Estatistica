{
 "cells": [
  {
   "cell_type": "markdown",
   "id": "7f864f14",
   "metadata": {},
   "source": [
    "# Probabilidade e Estatística - Atividade 2"
   ]
  },
  {
   "cell_type": "markdown",
   "id": "2624f50c",
   "metadata": {},
   "source": [
    "<img src=\"Arquivos/pe.jpg\"  width=80%>"
   ]
  },
  {
   "cell_type": "code",
   "execution_count": 214,
   "id": "7c35dff0",
   "metadata": {},
   "outputs": [],
   "source": [
    "# importar bibliotecas necessárias\n",
    "import pandas as pd\n",
    "import matplotlib.pyplot as plt\n",
    "import statistics as std\n",
    "import math"
   ]
  },
  {
   "cell_type": "code",
   "execution_count": 215,
   "id": "c2cec3e0",
   "metadata": {},
   "outputs": [],
   "source": [
    "df = pd.read_csv(\"Populacao360.csv\", sep = ';')\n",
    "df = df.drop(['Unnamed: 8'], axis = 1)\n",
    "df.IMC = df.IMC.apply(lambda x: x.replace(',','.'))\n",
    "df.IMC = df.IMC.astype(float)"
   ]
  },
  {
   "cell_type": "code",
   "execution_count": 216,
   "id": "abafc586",
   "metadata": {},
   "outputs": [
    {
     "data": {
      "text/html": [
       "<div>\n",
       "<style scoped>\n",
       "    .dataframe tbody tr th:only-of-type {\n",
       "        vertical-align: middle;\n",
       "    }\n",
       "\n",
       "    .dataframe tbody tr th {\n",
       "        vertical-align: top;\n",
       "    }\n",
       "\n",
       "    .dataframe thead th {\n",
       "        text-align: right;\n",
       "    }\n",
       "</style>\n",
       "<table border=\"1\" class=\"dataframe\">\n",
       "  <thead>\n",
       "    <tr style=\"text-align: right;\">\n",
       "      <th></th>\n",
       "      <th>nº</th>\n",
       "      <th>sexo</th>\n",
       "      <th>idade</th>\n",
       "      <th>peso</th>\n",
       "      <th>altura</th>\n",
       "      <th>IES</th>\n",
       "      <th>IMC</th>\n",
       "      <th>Clas IMC</th>\n",
       "    </tr>\n",
       "  </thead>\n",
       "  <tbody>\n",
       "    <tr>\n",
       "      <th>0</th>\n",
       "      <td>1</td>\n",
       "      <td>F</td>\n",
       "      <td>19</td>\n",
       "      <td>52</td>\n",
       "      <td>167</td>\n",
       "      <td>UFAC</td>\n",
       "      <td>18.6</td>\n",
       "      <td>ad</td>\n",
       "    </tr>\n",
       "    <tr>\n",
       "      <th>1</th>\n",
       "      <td>2</td>\n",
       "      <td>F</td>\n",
       "      <td>20</td>\n",
       "      <td>78</td>\n",
       "      <td>177</td>\n",
       "      <td>UFAC</td>\n",
       "      <td>24.9</td>\n",
       "      <td>ad</td>\n",
       "    </tr>\n",
       "    <tr>\n",
       "      <th>2</th>\n",
       "      <td>3</td>\n",
       "      <td>F</td>\n",
       "      <td>22</td>\n",
       "      <td>56</td>\n",
       "      <td>172</td>\n",
       "      <td>UFAC</td>\n",
       "      <td>18.9</td>\n",
       "      <td>ad</td>\n",
       "    </tr>\n",
       "    <tr>\n",
       "      <th>3</th>\n",
       "      <td>4</td>\n",
       "      <td>F</td>\n",
       "      <td>19</td>\n",
       "      <td>45</td>\n",
       "      <td>165</td>\n",
       "      <td>UFAC</td>\n",
       "      <td>16.5</td>\n",
       "      <td>mg</td>\n",
       "    </tr>\n",
       "    <tr>\n",
       "      <th>4</th>\n",
       "      <td>5</td>\n",
       "      <td>F</td>\n",
       "      <td>18</td>\n",
       "      <td>60</td>\n",
       "      <td>160</td>\n",
       "      <td>UFAC</td>\n",
       "      <td>23.4</td>\n",
       "      <td>ad</td>\n",
       "    </tr>\n",
       "  </tbody>\n",
       "</table>\n",
       "</div>"
      ],
      "text/plain": [
       "   nº sexo  idade  peso  altura   IES   IMC Clas IMC\n",
       "0   1    F     19    52     167  UFAC  18.6       ad\n",
       "1   2    F     20    78     177  UFAC  24.9       ad\n",
       "2   3    F     22    56     172  UFAC  18.9       ad\n",
       "3   4    F     19    45     165  UFAC  16.5       mg\n",
       "4   5    F     18    60     160  UFAC  23.4       ad"
      ]
     },
     "execution_count": 216,
     "metadata": {},
     "output_type": "execute_result"
    }
   ],
   "source": [
    "# ver os valores iniciais\n",
    "df.head()"
   ]
  },
  {
   "cell_type": "markdown",
   "id": "247e4fb9",
   "metadata": {},
   "source": [
    "### 1 - Para as variáveis SEXO e IES, obter o número absoluto e a frequência relativa percentual."
   ]
  },
  {
   "cell_type": "code",
   "execution_count": 217,
   "id": "b09720d6",
   "metadata": {},
   "outputs": [
    {
     "data": {
      "text/plain": [
       "M    184\n",
       "F    176\n",
       "Name: sexo, dtype: int64"
      ]
     },
     "execution_count": 217,
     "metadata": {},
     "output_type": "execute_result"
    }
   ],
   "source": [
    "# número absoluto\n",
    "df.sexo.value_counts()"
   ]
  },
  {
   "cell_type": "markdown",
   "id": "e3e2d172",
   "metadata": {},
   "source": [
    "Há 184 homens e 176 mulheres"
   ]
  },
  {
   "cell_type": "code",
   "execution_count": 218,
   "id": "16ddb7f7",
   "metadata": {},
   "outputs": [
    {
     "data": {
      "text/plain": [
       "UFSCAR    220\n",
       "UFAC      140\n",
       "Name: IES, dtype: int64"
      ]
     },
     "execution_count": 218,
     "metadata": {},
     "output_type": "execute_result"
    }
   ],
   "source": [
    "# número absoluto\n",
    "df.IES.value_counts()"
   ]
  },
  {
   "cell_type": "markdown",
   "id": "c1197c32",
   "metadata": {},
   "source": [
    "Há 220 estudantes da UFSCAR e 140 da UFAC"
   ]
  },
  {
   "cell_type": "code",
   "execution_count": 219,
   "id": "a62e1ef6",
   "metadata": {},
   "outputs": [
    {
     "data": {
      "text/plain": [
       "M    51.111111\n",
       "F    48.888889\n",
       "Name: sexo, dtype: float64"
      ]
     },
     "execution_count": 219,
     "metadata": {},
     "output_type": "execute_result"
    }
   ],
   "source": [
    "# frequência relativa em porcentagem\n",
    "df.sexo.value_counts()/df.shape[0] * 100"
   ]
  },
  {
   "cell_type": "markdown",
   "id": "aaab3ac8",
   "metadata": {},
   "source": [
    "Homens representam aproximadamente 51.1% do dataset, enquanto as mulheres representam 48.8%"
   ]
  },
  {
   "cell_type": "code",
   "execution_count": 220,
   "id": "eee63b1e",
   "metadata": {},
   "outputs": [
    {
     "data": {
      "text/plain": [
       "UFSCAR    61.111111\n",
       "UFAC      38.888889\n",
       "Name: IES, dtype: float64"
      ]
     },
     "execution_count": 220,
     "metadata": {},
     "output_type": "execute_result"
    }
   ],
   "source": [
    "# frequência relativa em porcentagem\n",
    "df.IES.value_counts()/df.shape[0] * 100"
   ]
  },
  {
   "cell_type": "markdown",
   "id": "d899618f",
   "metadata": {},
   "source": [
    "Estudantes da UFSCAR representam aproximadamente 61.1% do dataset, enquanto estudantes da UFAC 38.8% "
   ]
  },
  {
   "cell_type": "markdown",
   "id": "029c3f17",
   "metadata": {},
   "source": [
    "### 2 - Obter os Box-plot para as variáveis quantitativas (IDADE, PESO, ALTURA e IMC) separadamente (um para cada variável já que elas têm diferentes unidades de medidas. Interpretar os box-plot baseando-se na presença ou não de “outliers” (dados discrepantes), nos tamanhos das hastes, na posição relativa da mediana dentro da caixa (box) e outras características que considerar importante."
   ]
  },
  {
   "cell_type": "markdown",
   "id": "ef77d8ce",
   "metadata": {},
   "source": [
    "### IDADE"
   ]
  },
  {
   "cell_type": "code",
   "execution_count": 221,
   "id": "125636a4",
   "metadata": {},
   "outputs": [
    {
     "data": {
      "image/png": "[encoded data removed]",
      "text/plain": [
       "<Figure size 432x288 with 1 Axes>"
      ]
     },
     "metadata": {
      "needs_background": "light"
     },
     "output_type": "display_data"
    }
   ],
   "source": [
    "# boxplot para idade\n",
    "fig, ax = plt.subplots()\n",
    "df.idade.plot(kind = 'box');\n",
    "plt.show()"
   ]
  },
  {
   "cell_type": "code",
   "execution_count": 222,
   "id": "40adb517",
   "metadata": {},
   "outputs": [
    {
     "data": {
      "text/plain": [
       "count    360.000000\n",
       "mean      21.644444\n",
       "std        3.884291\n",
       "min       13.000000\n",
       "25%       19.000000\n",
       "50%       21.000000\n",
       "75%       24.000000\n",
       "max       41.000000\n",
       "Name: idade, dtype: float64"
      ]
     },
     "execution_count": 222,
     "metadata": {},
     "output_type": "execute_result"
    }
   ],
   "source": [
    "# obter valores descritivos\n",
    "df.idade.describe()"
   ]
  },
  {
   "cell_type": "code",
   "execution_count": 223,
   "id": "46192a86",
   "metadata": {},
   "outputs": [
    {
     "name": "stdout",
     "output_type": "stream",
     "text": [
      "IQR da variável price:  5.0\n",
      "Limite superior de idade:  31.5\n",
      "Limite inferior de idade:  11.5\n"
     ]
    }
   ],
   "source": [
    "# identificar o iqr da variável idade\n",
    "q1_idade = df.idade.quantile(.25)\n",
    "q3_idade = df.idade.quantile(.75)\n",
    "IQR_idade = q3_idade - q1_idade\n",
    "print('IQR da variável price: ', IQR_idade)\n",
    "\n",
    "# definir os limites superiores e inferiores                                      \n",
    "sup_idade = q3_idade + 1.5 * IQR_idade\n",
    "inf_idade = q1_idade - 1.5 * IQR_idade\n",
    "\n",
    "print('Limite superior de idade: ', sup_idade)\n",
    "print('Limite inferior de idade: ', inf_idade)"
   ]
  },
  {
   "cell_type": "markdown",
   "id": "50835120",
   "metadata": {},
   "source": [
    "Com o boxplot para a varíavel idade podemos observar que a mediana está em 21. Ao calcular a média, obtemos 21.6, o que é um valor aproximado. O valor mínimo identificado pela haste inferior é 13, enquanto o máximo, identificado pela haste superior é 41. Ao verificar o gráfico, há a presença de outliers. Isto acontece porque se definirmos o IQR para o nosso conjunto de idades, temos como limite superior 31.5 anos, contudo, não podemos descartar essas informações porque são relevantes. Observando o contexto (alunos do ensino superior), também seria necessário verificar idades abaixo de 17 anos para garantir que os valores estão realmente verdadeiros e não irão atrapalhar a análise. O primeiro quartil (25%) está em 19 anos, já o terceiro quartil (75%) está em 24 anos. Isso significa que 75% dos indivíduos coletados tem mais de 19 anos, e 25% dos indivíduos coletados tem mais de 24 anos."
   ]
  },
  {
   "cell_type": "markdown",
   "id": "e1dc70c4",
   "metadata": {},
   "source": [
    "### PESO"
   ]
  },
  {
   "cell_type": "code",
   "execution_count": 224,
   "id": "9e4103fd",
   "metadata": {
    "scrolled": true
   },
   "outputs": [
    {
     "data": {
      "image/png": "[encoded data removed]",
      "text/plain": [
       "<Figure size 432x288 with 1 Axes>"
      ]
     },
     "metadata": {
      "needs_background": "light"
     },
     "output_type": "display_data"
    }
   ],
   "source": [
    "# boxplot para peso\n",
    "fig, ax = plt.subplots()\n",
    "df.peso.plot(kind = 'box');\n",
    "plt.show()"
   ]
  },
  {
   "cell_type": "code",
   "execution_count": 225,
   "id": "5d190381",
   "metadata": {
    "scrolled": true
   },
   "outputs": [
    {
     "data": {
      "text/plain": [
       "count    360.000000\n",
       "mean      66.066667\n",
       "std       15.047594\n",
       "min       35.000000\n",
       "25%       55.000000\n",
       "50%       64.000000\n",
       "75%       74.000000\n",
       "max      124.000000\n",
       "Name: peso, dtype: float64"
      ]
     },
     "execution_count": 225,
     "metadata": {},
     "output_type": "execute_result"
    }
   ],
   "source": [
    "# ver valores descritivos\n",
    "df.peso.describe()"
   ]
  },
  {
   "cell_type": "code",
   "execution_count": 226,
   "id": "a2f304bb",
   "metadata": {},
   "outputs": [
    {
     "name": "stdout",
     "output_type": "stream",
     "text": [
      "IQR da variável price:  19.0\n",
      "Limite superior de peso:  102.5\n",
      "Limite inferior de peso:  26.5\n"
     ]
    }
   ],
   "source": [
    "# identificar o iqr da variável peso\n",
    "q1_peso = df.peso.quantile(.25)\n",
    "q3_peso = df.peso.quantile(.75)\n",
    "IQR_peso = q3_peso - q1_peso\n",
    "print('IQR da variável price: ', IQR_peso)\n",
    "\n",
    "# definir os limites superiores e inferiores                                      \n",
    "sup_peso = q3_peso + 1.5 * IQR_peso\n",
    "inf_peso = q1_peso - 1.5 * IQR_peso\n",
    "\n",
    "print('Limite superior de peso: ', sup_peso)\n",
    "print('Limite inferior de peso: ', inf_peso)"
   ]
  },
  {
   "cell_type": "markdown",
   "id": "b7a5488b",
   "metadata": {},
   "source": [
    "Com o boxplot para a varíavel peso podemos observar que a mediana está em 64 kg. Ao calcular a média, obtemos 66 kg, o que é um valor aproximado. O valor mínimo identificado pela haste inferior é 35, enquanto o máximo, identificado pela haste superior é 124. Ao verificar o gráfico, há a presença de outliers. Isto acontece porque se definirmos o IQR para o nosso conjunto de idades, temos como limite superior 102.5 kg, contudo, não podemos descartar essas informações porque são relevantes. O primeiro quartil (25%) do boxplot é 55 kg, o que nos indica que 75% dos usuários possuem kg maior ou igual a esse valor. O terceiro quartil (75%) nos indica 74kg, o que nos indica que 25% dos usuários possuem mais que esse valor.\n",
    "\n",
    "A variável peso pode ter características que são relacionados ao genero, portanto irei plotar também dois boxplots, um que se refere ao peso para o sexo feminino e outro para o peso do sexo masculino."
   ]
  },
  {
   "cell_type": "code",
   "execution_count": 227,
   "id": "9630ec7a",
   "metadata": {},
   "outputs": [
    {
     "data": {
      "image/png": "[encoded data removed]",
      "text/plain": [
       "<Figure size 864x360 with 2 Axes>"
      ]
     },
     "metadata": {
      "needs_background": "light"
     },
     "output_type": "display_data"
    }
   ],
   "source": [
    "fig, (ax1, ax2) = plt.subplots(1, 2, figsize=(12, 5))\n",
    "ax1.set_title(\"Boxplot Peso F\")\n",
    "ax2.set_title(\"Boxplot Peso M\")\n",
    "df.peso.loc[df.sexo == 'F'].plot(kind = 'box', ax = ax1)\n",
    "df.peso.loc[df.sexo == 'M'].plot(kind = 'box', ax = ax2);\n",
    "plt.show()"
   ]
  },
  {
   "cell_type": "markdown",
   "id": "610aa095",
   "metadata": {},
   "source": [
    "Com os dados separados por sexo, podemos perceber que a mediana do peso para mulheres ficou abaixo de 60, enquanto para os homens acima de 70. Além disso, foram alterados os valores mínimos e máximos, os quartis, e consequentemente a quantidade de outliers."
   ]
  },
  {
   "cell_type": "markdown",
   "id": "9ca731cb",
   "metadata": {},
   "source": [
    "### ALTURA"
   ]
  },
  {
   "cell_type": "code",
   "execution_count": 228,
   "id": "5eca45c1",
   "metadata": {
    "scrolled": true
   },
   "outputs": [
    {
     "data": {
      "image/png": "[encoded data removed]",
      "text/plain": [
       "<Figure size 432x288 with 1 Axes>"
      ]
     },
     "metadata": {
      "needs_background": "light"
     },
     "output_type": "display_data"
    }
   ],
   "source": [
    "# boxplot para altura\n",
    "fig, ax = plt.subplots()\n",
    "df.altura.plot(kind = 'box');\n",
    "plt.show()"
   ]
  },
  {
   "cell_type": "code",
   "execution_count": 229,
   "id": "f8f9ee9e",
   "metadata": {},
   "outputs": [
    {
     "data": {
      "text/plain": [
       "count    360.00000\n",
       "mean     168.15000\n",
       "std        9.57828\n",
       "min      137.00000\n",
       "25%      161.00000\n",
       "50%      168.00000\n",
       "75%      175.00000\n",
       "max      194.00000\n",
       "Name: altura, dtype: float64"
      ]
     },
     "execution_count": 229,
     "metadata": {},
     "output_type": "execute_result"
    }
   ],
   "source": [
    "# ver valores descritivos\n",
    "df.altura.describe()"
   ]
  },
  {
   "cell_type": "markdown",
   "id": "dcd795ae",
   "metadata": {},
   "source": [
    "Com o boxplot para a varíavel altura, vemos que a mediana é 168 cm. Ao calcular a média, obtemos 168.15 cm, o que é um valor aproximado. O valor mínimo identificado pela haste inferior é 137 cm, enquanto o máximo, identificado pela haste superior é 194 cm. Ao verificar o gráfico, não há presença de outliers. Ademais, p primeiro quartil (25%) é 161 cm, ou seja, 75% dos usuários possuem mais ou igual a 161 cm. O terceiro quartil (75%) é 175 cm, ou seja, 25% dos usuários possuem mais ou igual a 175 cm.\n",
    "\n",
    "A variável altura também pode ser afetada de acordo com o sexo, portanto irei plotar 2 boxplots que fazem essa serparação para observarmos os resultados."
   ]
  },
  {
   "cell_type": "code",
   "execution_count": 230,
   "id": "ccadee85",
   "metadata": {},
   "outputs": [
    {
     "data": {
      "image/png": "[encoded data removed]",
      "text/plain": [
       "<Figure size 864x360 with 2 Axes>"
      ]
     },
     "metadata": {
      "needs_background": "light"
     },
     "output_type": "display_data"
    }
   ],
   "source": [
    "fig, (ax1, ax2) = plt.subplots(1, 2, figsize=(12, 5))\n",
    "ax1.set_title(\"Boxplot Altura F\")\n",
    "ax2.set_title(\"Boxplot Altura M\")\n",
    "df.altura.loc[df.sexo == 'F'].plot(kind = 'box', ax = ax1)\n",
    "df.altura.loc[df.sexo == 'M'].plot(kind = 'box', ax = ax2);\n",
    "plt.show()"
   ]
  },
  {
   "cell_type": "markdown",
   "id": "99f45d7c",
   "metadata": {},
   "source": [
    "Podemos perceber que ao fazer essa diferenciação, surgem a presença de outliers, que precisam ser analisados mais profundamente."
   ]
  },
  {
   "cell_type": "markdown",
   "id": "fc809f9b",
   "metadata": {},
   "source": [
    "### IMC"
   ]
  },
  {
   "cell_type": "code",
   "execution_count": 231,
   "id": "c8d89621",
   "metadata": {},
   "outputs": [
    {
     "data": {
      "image/png": "[encoded data removed]",
      "text/plain": [
       "<Figure size 432x288 with 1 Axes>"
      ]
     },
     "metadata": {
      "needs_background": "light"
     },
     "output_type": "display_data"
    }
   ],
   "source": [
    "# boxplot para IMC\n",
    "fig, ax = plt.subplots()\n",
    "df.IMC.plot(kind = 'box');\n",
    "plt.show()"
   ]
  },
  {
   "cell_type": "code",
   "execution_count": 232,
   "id": "e2002e4c",
   "metadata": {},
   "outputs": [
    {
     "data": {
      "text/plain": [
       "count    360.000000\n",
       "mean      23.241389\n",
       "std        4.457035\n",
       "min       12.000000\n",
       "25%       20.175000\n",
       "50%       22.850000\n",
       "75%       25.400000\n",
       "max       37.400000\n",
       "Name: IMC, dtype: float64"
      ]
     },
     "execution_count": 232,
     "metadata": {},
     "output_type": "execute_result"
    }
   ],
   "source": [
    "# ver valores descritivos\n",
    "df.IMC.describe()"
   ]
  },
  {
   "cell_type": "code",
   "execution_count": 233,
   "id": "bf6ae577",
   "metadata": {},
   "outputs": [
    {
     "name": "stdout",
     "output_type": "stream",
     "text": [
      "IQR da variável price:  5.224999999999998\n",
      "Limite superior de IMC:  33.2375\n",
      "Limite inferior de IMC:  12.337500000000004\n"
     ]
    }
   ],
   "source": [
    "# identificar o iqr da variável IMC\n",
    "q1_IMC = df.IMC.quantile(.25)\n",
    "q3_IMC = df.IMC.quantile(.75)\n",
    "IQR_IMC = q3_IMC - q1_IMC\n",
    "print('IQR da variável price: ', IQR_IMC)\n",
    "\n",
    "# definir os limites superiores e inferiores                                      \n",
    "sup_IMC = q3_IMC + 1.5 * IQR_IMC\n",
    "inf_IMC = q1_IMC - 1.5 * IQR_IMC\n",
    "\n",
    "print('Limite superior de IMC: ', sup_IMC)\n",
    "print('Limite inferior de IMC: ', inf_IMC)"
   ]
  },
  {
   "cell_type": "markdown",
   "id": "23c87219",
   "metadata": {},
   "source": [
    "Com o boxplot para a varíavel IMC podemos observar que a mediana está em 22.85. Ao calcular a média, obtemos 23.24, o que é um valor aproximado. O valor mínimo identificado pela haste inferior é 12, enquanto o máximo, identificado pela haste superior é 37.4. Ao verificar o gráfico, há a presença de outliers. Isto acontece porque se definirmos o IQR para o nosso conjunto de idades, temos como limite superior 33.23. O primeiro quartil está em 20.175, e o terceiro em 25.40. Podemos verificar que a maior parte dos dados se encontra na faixa saudável que é definida da seguinte maneira:\n",
    "\n",
    "\n",
    "            Resultado\t|Situação\n",
    "        Abaixo de 17\t|Muito abaixo do peso\n",
    "        Entre 17 e 18,49|Abaixo do peso\n",
    "     Entre 18,50 e 24,99|Peso normal\n",
    "    Entre 25 e 29,99\t|Acima do peso\n",
    "    Entre 30 e 34,99\t|Obesidade I\n",
    "    Entre 35 e 39,99\t|Obesidade II (severa)\n",
    "            Acima de 40\t|Obesidade III (mórbida)\n",
    "            \n",
    "Os outliers, portanto, são importantes para a análise em questão.\n",
    "\n",
    "Essa variável também pode ser afetada pelo sexo, então irei plotar dois boxplots para observamos.\n"
   ]
  },
  {
   "cell_type": "code",
   "execution_count": 234,
   "id": "af1dee41",
   "metadata": {},
   "outputs": [
    {
     "data": {
      "image/png": "[encoded data removed]",
      "text/plain": [
       "<Figure size 864x360 with 2 Axes>"
      ]
     },
     "metadata": {
      "needs_background": "light"
     },
     "output_type": "display_data"
    }
   ],
   "source": [
    "fig, (ax1, ax2) = plt.subplots(1, 2, figsize=(12, 5))\n",
    "ax1.set_title(\"Boxplot IMC F\")\n",
    "ax2.set_title(\"Boxplot IMC M\")\n",
    "df.IMC.loc[df.sexo == 'F'].plot(kind = 'box', ax = ax1)\n",
    "df.IMC.loc[df.sexo == 'M'].plot(kind = 'box', ax = ax2);\n",
    "plt.show()"
   ]
  },
  {
   "cell_type": "markdown",
   "id": "fda12d4d",
   "metadata": {},
   "source": [
    "## (3) Fazer o histograma para os dados quantitativos e comparar os resultados destes histogramas com os box-plots."
   ]
  },
  {
   "cell_type": "markdown",
   "id": "ad2f89ae",
   "metadata": {},
   "source": [
    "De acordo com a regra de Sturges, teríamos\n",
    "k = 1 + 3.322 * log (360) = 9.5 = 10 classes"
   ]
  },
  {
   "cell_type": "markdown",
   "id": "6e089274",
   "metadata": {},
   "source": [
    "### IDADE"
   ]
  },
  {
   "cell_type": "code",
   "execution_count": 235,
   "id": "8f5d6bde",
   "metadata": {},
   "outputs": [
    {
     "data": {
      "image/png": "[encoded data removed]",
      "text/plain": [
       "<Figure size 720x360 with 1 Axes>"
      ]
     },
     "metadata": {
      "needs_background": "light"
     },
     "output_type": "display_data"
    }
   ],
   "source": [
    "fig, ax = plt.subplots(figsize=(10,5))\n",
    "ax.set_xlabel(\"Idade\")\n",
    "ax.set_title(\"Histograma de Idade\")\n",
    "df.idade.plot(kind = 'hist', ax = ax, bins = 10);"
   ]
  },
  {
   "cell_type": "markdown",
   "id": "c698e869",
   "metadata": {},
   "source": [
    "O histograma da variável idade está coerente com o seu boxplot. Podemos observar que há uma maior frequência nas idades iniciais. Onde 50% dos usuários tem menos de 21 anos. O que seria considerado como um outlier são os as idades maiores que 31.5, que possuem uma frequência menor."
   ]
  },
  {
   "cell_type": "markdown",
   "id": "a480514c",
   "metadata": {},
   "source": [
    "### PESO"
   ]
  },
  {
   "cell_type": "code",
   "execution_count": 236,
   "id": "55f69b21",
   "metadata": {
    "scrolled": true
   },
   "outputs": [
    {
     "data": {
      "image/png": "[encoded data removed]",
      "text/plain": [
       "<Figure size 720x360 with 1 Axes>"
      ]
     },
     "metadata": {
      "needs_background": "light"
     },
     "output_type": "display_data"
    }
   ],
   "source": [
    "fig, ax = plt.subplots(figsize=(10,5))\n",
    "ax.set_xlabel(\"Peso\")\n",
    "ax.set_title(\"Histograma de Peso\")\n",
    "df.peso.plot(kind = 'hist', ax = ax, bins = 10);"
   ]
  },
  {
   "cell_type": "markdown",
   "id": "11f571c4",
   "metadata": {},
   "source": [
    "O histograma da variável peso também reflete as informações do boxplot. A mediana é 64 kg, e valores acima de 102.5 são considerados outliers pois possuem uma frequência menor. Iremos observar também os histogramas dos pesos separados por sexo."
   ]
  },
  {
   "cell_type": "code",
   "execution_count": 237,
   "id": "fd4e91e7",
   "metadata": {
    "scrolled": true
   },
   "outputs": [
    {
     "data": {
      "image/png": "[encoded data removed]",
      "text/plain": [
       "<Figure size 1080x360 with 2 Axes>"
      ]
     },
     "metadata": {
      "needs_background": "light"
     },
     "output_type": "display_data"
    }
   ],
   "source": [
    "fig, (ax1, ax2) = plt.subplots(1, 2, figsize=(15,5))\n",
    "ax1.set_xlabel(\"Peso\")\n",
    "ax2.set_xlabel(\"Peso\")\n",
    "ax1.set_title(\"Histograma de Peso F\")\n",
    "ax2.set_title(\"Histograma de Peso M\")\n",
    "df.peso.loc[df.sexo == 'F'].plot(kind = 'hist', ax = ax1, bins = 10);\n",
    "df.peso.loc[df.sexo == 'M'].plot(kind = 'hist', ax = ax2, bins = 10);"
   ]
  },
  {
   "cell_type": "markdown",
   "id": "504d2359",
   "metadata": {},
   "source": [
    "### ALTURA"
   ]
  },
  {
   "cell_type": "code",
   "execution_count": 238,
   "id": "a8906129",
   "metadata": {
    "scrolled": false
   },
   "outputs": [
    {
     "data": {
      "image/png": "[encoded data removed]",
      "text/plain": [
       "<Figure size 720x360 with 1 Axes>"
      ]
     },
     "metadata": {
      "needs_background": "light"
     },
     "output_type": "display_data"
    }
   ],
   "source": [
    "fig, ax = plt.subplots(figsize=(10,5))\n",
    "ax.set_xlabel(\"Altura\")\n",
    "ax.set_title(\"Histograma de Altura\")\n",
    "df.altura.plot(kind = 'hist', ax = ax, bins = 10);"
   ]
  },
  {
   "cell_type": "markdown",
   "id": "eadf6d9d",
   "metadata": {},
   "source": [
    "O histograma da variável altura está coerente com os valores do boxplot. Nesse caso, temos a mediana em 168 cm. O terceiro quartil está em 175 cm e o primeiro em 161 cm. Ademais, o valor mínimo é 137 cm e o máximo é 194 cm.\n",
    "\n",
    "Observaremos agora os histogramas diferenciados por sexo."
   ]
  },
  {
   "cell_type": "code",
   "execution_count": 239,
   "id": "7a54a101",
   "metadata": {
    "scrolled": true
   },
   "outputs": [
    {
     "data": {
      "image/png": "[encoded data removed]",
      "text/plain": [
       "<Figure size 1080x360 with 2 Axes>"
      ]
     },
     "metadata": {
      "needs_background": "light"
     },
     "output_type": "display_data"
    }
   ],
   "source": [
    "fig, (ax1, ax2) = plt.subplots(1, 2, figsize=(15,5))\n",
    "ax1.set_xlabel(\"Altura\")\n",
    "ax2.set_xlabel(\"Altura\")\n",
    "ax1.set_title(\"Histograma de Altura F\")\n",
    "ax2.set_title(\"Histograma de Altura M\")\n",
    "df.altura.loc[df.sexo == 'F'].plot(kind = 'hist', ax = ax1, bins = 10);\n",
    "df.altura.loc[df.sexo == 'M'].plot(kind = 'hist', ax = ax2, bins = 10);"
   ]
  },
  {
   "cell_type": "markdown",
   "id": "52978715",
   "metadata": {},
   "source": [
    "### IMC"
   ]
  },
  {
   "cell_type": "code",
   "execution_count": 240,
   "id": "5dff4e79",
   "metadata": {},
   "outputs": [
    {
     "data": {
      "image/png": "[encoded data removed]",
      "text/plain": [
       "<Figure size 720x360 with 1 Axes>"
      ]
     },
     "metadata": {
      "needs_background": "light"
     },
     "output_type": "display_data"
    }
   ],
   "source": [
    "fig, ax = plt.subplots(figsize=(10,5))\n",
    "ax.set_xlabel(\"IMC\")\n",
    "ax.set_title(\"Histograma de IMC\")\n",
    "df.IMC.plot(kind = 'hist', ax = ax, bins = 10);"
   ]
  },
  {
   "cell_type": "markdown",
   "id": "525aadc7",
   "metadata": {},
   "source": [
    "O histograma da variável IMC está coerente com os valores do boxplot. Nesse caso, temos a mediana em 22.85. O terceiro quartil está em 25.40 e o primeiro em 20.175. Ademais, o valor mínimo é 12 e o máximo é 37.4.\n",
    "\n",
    "Observaremos agora os histogramas diferenciados por sexo."
   ]
  },
  {
   "cell_type": "code",
   "execution_count": 241,
   "id": "045cb1f0",
   "metadata": {},
   "outputs": [
    {
     "data": {
      "image/png": "[encoded data removed]",
      "text/plain": [
       "<Figure size 1080x360 with 2 Axes>"
      ]
     },
     "metadata": {
      "needs_background": "light"
     },
     "output_type": "display_data"
    }
   ],
   "source": [
    "fig, (ax1, ax2) = plt.subplots(1, 2, figsize=(15,5))\n",
    "ax1.set_xlabel(\"IMC\")\n",
    "ax2.set_xlabel(\"IMC\")\n",
    "ax1.set_title(\"Histograma de IMC F\")\n",
    "ax2.set_title(\"Histograma de IMC M\")\n",
    "df.IMC.loc[df.sexo == 'F'].plot(kind = 'hist', ax = ax1, bins = 10);\n",
    "df.IMC.loc[df.sexo == 'M'].plot(kind = 'hist', ax = ax2, bins = 10);"
   ]
  },
  {
   "cell_type": "markdown",
   "id": "745cca24",
   "metadata": {},
   "source": [
    "### Obter, para os dados populacionais das variáveis IDADE, PESO, ALTURA e IMC as seguintes medidas:\n",
    "a) Média aritmética.\n",
    "b) Mediana, primeiro quartil e terceiro quartil.\n",
    "c) Variância populacional.\n",
    "d) Desvio Padrão populacional.\n",
    "e) Coeficiente de Variação."
   ]
  },
  {
   "cell_type": "markdown",
   "id": "6b21ef90",
   "metadata": {},
   "source": [
    "### MÉDIA"
   ]
  },
  {
   "cell_type": "markdown",
   "id": "b763f229",
   "metadata": {},
   "source": [
    "A média é obtida pela soma de todos os valores dividido pela quantidade de itens. Por exemplo, para calcular a média de idade temos que somar todas as idades do dataframe e dividir pelo número de dados (360)."
   ]
  },
  {
   "cell_type": "code",
   "execution_count": 242,
   "id": "32e9e35d",
   "metadata": {},
   "outputs": [
    {
     "name": "stdout",
     "output_type": "stream",
     "text": [
      "A média de idade é:  21.644444444444446\n"
     ]
    }
   ],
   "source": [
    "# exemplo\n",
    "acumulador = 0\n",
    "for idade in df.idade:\n",
    "    acumulador = idade + acumulador\n",
    "media_idade = acumulador/360\n",
    "\n",
    "print(\"A média de idade é: \", media_idade)"
   ]
  },
  {
   "cell_type": "markdown",
   "id": "83893302",
   "metadata": {},
   "source": [
    "De modo semelhante temos as seguintes médias arredondadas:"
   ]
  },
  {
   "cell_type": "code",
   "execution_count": 243,
   "id": "5d54cb73",
   "metadata": {
    "scrolled": true
   },
   "outputs": [
    {
     "name": "stdout",
     "output_type": "stream",
     "text": [
      "Idade:  21.64\n",
      "Peso:  66.07\n",
      "Altura:  168.15\n",
      "IMC:  23.24\n"
     ]
    }
   ],
   "source": [
    "# média aritmética\n",
    "print(\"Idade: \", round(df.idade.mean(),2))\n",
    "print(\"Peso: \", round(df.peso.mean(),2))\n",
    "print(\"Altura: \", round(df.altura.mean(),2))\n",
    "print(\"IMC: \", round(df.IMC.mean(),2))"
   ]
  },
  {
   "cell_type": "markdown",
   "id": "046eb3bd",
   "metadata": {},
   "source": [
    "### MEDIANA"
   ]
  },
  {
   "cell_type": "markdown",
   "id": "2b9632e7",
   "metadata": {},
   "source": [
    "Para calcular a mediana, temos que primeiro ordenar nosso conjunto de dados.<br>\n",
    "Se for par, a mediana será {X[(n - 1 )/ 2] + X[(n + 1)/2]}/2 <br>\n",
    "Se for impar, a mediana será X(n/2) <br>\n",
    "Nesse caso como 360 é par, teremos como mediana\n",
    "[X(180) + X(181)] / 2"
   ]
  },
  {
   "cell_type": "code",
   "execution_count": 244,
   "id": "567ae691",
   "metadata": {},
   "outputs": [
    {
     "name": "stdout",
     "output_type": "stream",
     "text": [
      "A mediana da idade é:  21.0\n"
     ]
    }
   ],
   "source": [
    "# ordenada lista\n",
    "idade_ordenada = df.idade.sort_values(ascending = True, ignore_index = True)\n",
    "# em python o indíce começa com 0, portanto será 179 + 180\n",
    "mediana = (idade_ordenada[179] + idade_ordenada[180]) / 2\n",
    "print(\"A mediana da idade é: \", mediana)"
   ]
  },
  {
   "cell_type": "markdown",
   "id": "e423b98a",
   "metadata": {},
   "source": [
    "De modo semelhante, temos:"
   ]
  },
  {
   "cell_type": "code",
   "execution_count": 245,
   "id": "fb6f6401",
   "metadata": {},
   "outputs": [
    {
     "name": "stdout",
     "output_type": "stream",
     "text": [
      "Idade:  21.0\n",
      "Peso:  64.0\n",
      "Altura:  168.0\n",
      "IMC:  22.85\n"
     ]
    }
   ],
   "source": [
    "# mediana\n",
    "print(\"Idade: \", round(df.idade.median(),2))\n",
    "print(\"Peso: \", round(df.peso.median(),2))\n",
    "print(\"Altura: \", round(df.altura.median(),2))\n",
    "print(\"IMC: \", round(df.IMC.median(),2))"
   ]
  },
  {
   "cell_type": "markdown",
   "id": "38f46508",
   "metadata": {},
   "source": [
    "### PRIMEIRO E TERCEIRO QUARTIL"
   ]
  },
  {
   "cell_type": "markdown",
   "id": "bafe41cb",
   "metadata": {},
   "source": [
    "O primeiro quartil pode ser calculado como (N-1)/4 = X(90)<br>\n",
    "Já o terceiro como [3(N-1)]/4 = X(270)"
   ]
  },
  {
   "cell_type": "code",
   "execution_count": 246,
   "id": "3220f306",
   "metadata": {},
   "outputs": [
    {
     "name": "stdout",
     "output_type": "stream",
     "text": [
      "O primeiro quartil de idade é:  19\n",
      "O terceiro quartil de idade é:  24\n"
     ]
    }
   ],
   "source": [
    "primeiro_quartil = idade_ordenada[89]\n",
    "terceiro_quartil = idade_ordenada[269]\n",
    "\n",
    "print(\"O primeiro quartil de idade é: \", primeiro_quartil)\n",
    "print(\"O terceiro quartil de idade é: \", terceiro_quartil)"
   ]
  },
  {
   "cell_type": "markdown",
   "id": "0d2fefff",
   "metadata": {},
   "source": [
    "De modo semelhante, temos:"
   ]
  },
  {
   "cell_type": "code",
   "execution_count": 247,
   "id": "a4aaf11a",
   "metadata": {},
   "outputs": [
    {
     "name": "stdout",
     "output_type": "stream",
     "text": [
      "Idade:  19.0\n",
      "Peso:  55.0\n",
      "Altura:  161.0\n",
      "IMC:  20.175\n"
     ]
    }
   ],
   "source": [
    "# primeiro quartil\n",
    "print(\"Idade: \", df.idade.quantile(.25))\n",
    "print(\"Peso: \", df.peso.quantile(.25))\n",
    "print(\"Altura: \", df.altura.quantile(.25))\n",
    "print(\"IMC: \", df.IMC.quantile(.25))"
   ]
  },
  {
   "cell_type": "code",
   "execution_count": 248,
   "id": "13bd49ee",
   "metadata": {},
   "outputs": [
    {
     "name": "stdout",
     "output_type": "stream",
     "text": [
      "Idade:  24.0\n",
      "Peso:  74.0\n",
      "Altura:  175.0\n",
      "IMC:  25.4\n"
     ]
    }
   ],
   "source": [
    "# terceiro quartil\n",
    "print(\"Idade: \", df.idade.quantile(.75))\n",
    "print(\"Peso: \", df.peso.quantile(.75))\n",
    "print(\"Altura: \", df.altura.quantile(.75))\n",
    "print(\"IMC: \", df.IMC.quantile(.75))"
   ]
  },
  {
   "cell_type": "markdown",
   "id": "bd7fc733",
   "metadata": {},
   "source": [
    "### VARIÂNCIA POPULACIONAL"
   ]
  },
  {
   "cell_type": "markdown",
   "id": "b4d446dc",
   "metadata": {},
   "source": [
    "Variância populacional de uma variável de tipo quantitativo, é o valor médio dos quadrados dos desvios relativamente ao valor médio, dos dados que se obtêm quando se observa essa variável sobre todos os elementos da população, que assumimos finita."
   ]
  },
  {
   "cell_type": "markdown",
   "id": "d506d9ba",
   "metadata": {},
   "source": [
    "Por exemplo, temos que a média da variável idade é:"
   ]
  },
  {
   "cell_type": "code",
   "execution_count": 249,
   "id": "a1709872",
   "metadata": {},
   "outputs": [
    {
     "name": "stdout",
     "output_type": "stream",
     "text": [
      "Média da idade 21.644444444444446\n"
     ]
    }
   ],
   "source": [
    "media_idade = df.idade.mean()\n",
    "print(\"Média da idade\", media_idade)"
   ]
  },
  {
   "cell_type": "markdown",
   "id": "330945f6",
   "metadata": {},
   "source": [
    "Assim, a variância populacional será:"
   ]
  },
  {
   "cell_type": "code",
   "execution_count": 250,
   "id": "9125df01",
   "metadata": {},
   "outputs": [
    {
     "name": "stdout",
     "output_type": "stream",
     "text": [
      "A variância populacional da idade é:  15.045802469135783\n"
     ]
    }
   ],
   "source": [
    "acumulador = 0\n",
    "for idade in df.idade:\n",
    "    acumulador = (idade - media_idade)**2 + acumulador\n",
    "vpop = acumulador/360\n",
    "\n",
    "print(\"A variância populacional da idade é: \", vpop)"
   ]
  },
  {
   "cell_type": "markdown",
   "id": "218d19af",
   "metadata": {},
   "source": [
    "De modo semelhante, temos:"
   ]
  },
  {
   "cell_type": "code",
   "execution_count": 251,
   "id": "f30d8460",
   "metadata": {},
   "outputs": [
    {
     "name": "stdout",
     "output_type": "stream",
     "text": [
      "Idade:  15.05\n",
      "Peso:  225.8\n",
      "Altura:  91.49\n",
      "IMC:  19.81\n"
     ]
    }
   ],
   "source": [
    "# variância populacional\n",
    "print(\"Idade: \", round(std.pvariance(df.idade),2))\n",
    "print(\"Peso: \", round(std.pvariance(df.peso),2))\n",
    "print(\"Altura: \", round(std.pvariance(df.altura),2))\n",
    "print(\"IMC: \", round(std.pvariance(df.IMC),2))"
   ]
  },
  {
   "cell_type": "markdown",
   "id": "75a4498a",
   "metadata": {},
   "source": [
    "### DESVIO PADRÃO POPULACIONAL"
   ]
  },
  {
   "cell_type": "markdown",
   "id": "905e3b04",
   "metadata": {},
   "source": [
    "O desvio padrão populacional é a raiz quadrada da variância populacional, no caso exemplo anterior, seria:\n"
   ]
  },
  {
   "cell_type": "code",
   "execution_count": 252,
   "id": "0bba4abf",
   "metadata": {
    "scrolled": true
   },
   "outputs": [
    {
     "name": "stdout",
     "output_type": "stream",
     "text": [
      "O desvio padrão populacional de idade é:  3.8788919125358188\n"
     ]
    }
   ],
   "source": [
    "dpop = math.sqrt(vpop)\n",
    "print(\"O desvio padrão populacional de idade é: \", dpop)"
   ]
  },
  {
   "cell_type": "markdown",
   "id": "a130f296",
   "metadata": {},
   "source": [
    "De modo semelhante, temos:"
   ]
  },
  {
   "cell_type": "code",
   "execution_count": 253,
   "id": "788224e0",
   "metadata": {},
   "outputs": [
    {
     "name": "stdout",
     "output_type": "stream",
     "text": [
      "Idade:  3.88\n",
      "Peso:  15.03\n",
      "Altura:  9.56\n",
      "IMC:  4.45\n"
     ]
    }
   ],
   "source": [
    "# desvio padrão populacional\n",
    "print(\"Idade: \", round(std.pstdev(df.idade),2))\n",
    "print(\"Peso: \", round(std.pstdev(df.peso),2))\n",
    "print(\"Altura: \", round(std.pstdev(df.altura),2))\n",
    "print(\"IMC: \", round(std.pstdev(df.IMC),2))"
   ]
  },
  {
   "cell_type": "markdown",
   "id": "89f40f34",
   "metadata": {},
   "source": [
    "### COEFICIENTE DE VARIAÇÃO"
   ]
  },
  {
   "cell_type": "markdown",
   "id": "a28c8dab",
   "metadata": {},
   "source": [
    "É dado pelo desvio padrão população dividido pela média"
   ]
  },
  {
   "cell_type": "code",
   "execution_count": 254,
   "id": "de8bd457",
   "metadata": {},
   "outputs": [
    {
     "name": "stdout",
     "output_type": "stream",
     "text": [
      "Idade:  17.92\n",
      "Peso:  22.74\n",
      "Altura:  5.69\n",
      "IMC:  19.15\n"
     ]
    }
   ],
   "source": [
    "# coeficiente de variação\n",
    "print(\"Idade: \", round(std.pstdev(df.idade)/df.idade.mean() * 100,2))\n",
    "print(\"Peso: \", round(std.pstdev(df.peso)/df.peso.mean() * 100,2))\n",
    "print(\"Altura: \", round(std.pstdev(df.altura)/df.altura.mean() * 100,2))\n",
    "print(\"IMC: \", round(std.pstdev(df.IMC)/df.IMC.mean() * 100,2))"
   ]
  },
  {
   "cell_type": "markdown",
   "id": "2c79b32a",
   "metadata": {},
   "source": [
    "### Sexo Feminino"
   ]
  },
  {
   "cell_type": "code",
   "execution_count": 255,
   "id": "5329d109",
   "metadata": {},
   "outputs": [],
   "source": [
    "df_fem = df.loc[df.sexo == 'F']"
   ]
  },
  {
   "cell_type": "code",
   "execution_count": 256,
   "id": "052bd449",
   "metadata": {},
   "outputs": [
    {
     "data": {
      "text/plain": [
       "176"
      ]
     },
     "execution_count": 256,
     "metadata": {},
     "output_type": "execute_result"
    }
   ],
   "source": [
    "# ver quantidade de itens\n",
    "df_fem.shape[0]"
   ]
  },
  {
   "cell_type": "markdown",
   "id": "6eba7d89",
   "metadata": {},
   "source": [
    "### Média"
   ]
  },
  {
   "cell_type": "code",
   "execution_count": 257,
   "id": "d7efac28",
   "metadata": {},
   "outputs": [
    {
     "name": "stdout",
     "output_type": "stream",
     "text": [
      "Idade:  21.21\n",
      "Peso:  57.91\n",
      "Altura:  161.68\n",
      "IMC:  22.17\n"
     ]
    }
   ],
   "source": [
    "# média aritmética\n",
    "print(\"Idade: \", round(df_fem.idade.mean(),2))\n",
    "print(\"Peso: \", round(df_fem.peso.mean(),2))\n",
    "print(\"Altura: \", round(df_fem.altura.mean(),2))\n",
    "print(\"IMC: \", round(df_fem.IMC.mean(),2))"
   ]
  },
  {
   "cell_type": "markdown",
   "id": "821d331b",
   "metadata": {},
   "source": [
    "### MEDIANA"
   ]
  },
  {
   "cell_type": "code",
   "execution_count": 258,
   "id": "9f523e46",
   "metadata": {},
   "outputs": [
    {
     "name": "stdout",
     "output_type": "stream",
     "text": [
      "Idade:  20.0\n",
      "Peso:  57.0\n",
      "Altura:  162.0\n",
      "IMC:  21.85\n"
     ]
    }
   ],
   "source": [
    "# mediana\n",
    "print(\"Idade: \", round(df_fem.idade.median(),2))\n",
    "print(\"Peso: \", round(df_fem.peso.median(),2))\n",
    "print(\"Altura: \", round(df_fem.altura.median(),2))\n",
    "print(\"IMC: \", round(df_fem.IMC.median(),2))"
   ]
  },
  {
   "cell_type": "markdown",
   "id": "8c4de2a1",
   "metadata": {},
   "source": [
    "### PRIMEIRO E TERCEIRO QUARTIL"
   ]
  },
  {
   "cell_type": "code",
   "execution_count": 259,
   "id": "dd76de5e",
   "metadata": {},
   "outputs": [
    {
     "name": "stdout",
     "output_type": "stream",
     "text": [
      "Idade:  19.0\n",
      "Peso:  52.0\n",
      "Altura:  158.0\n",
      "IMC:  19.6\n"
     ]
    }
   ],
   "source": [
    "# primeiro quartil\n",
    "print(\"Idade: \", df_fem.idade.quantile(.25))\n",
    "print(\"Peso: \", df_fem.peso.quantile(.25))\n",
    "print(\"Altura: \", df_fem.altura.quantile(.25))\n",
    "print(\"IMC: \", df_fem.IMC.quantile(.25))"
   ]
  },
  {
   "cell_type": "code",
   "execution_count": 260,
   "id": "61c5d925",
   "metadata": {},
   "outputs": [
    {
     "name": "stdout",
     "output_type": "stream",
     "text": [
      "Idade:  24.0\n",
      "Peso:  64.0\n",
      "Altura:  166.0\n",
      "IMC:  24.125\n"
     ]
    }
   ],
   "source": [
    "# terceiro quartil\n",
    "print(\"Idade: \", df_fem.idade.quantile(.75))\n",
    "print(\"Peso: \", df_fem.peso.quantile(.75))\n",
    "print(\"Altura: \", df_fem.altura.quantile(.75))\n",
    "print(\"IMC: \", df_fem.IMC.quantile(.75))"
   ]
  },
  {
   "cell_type": "markdown",
   "id": "a29e6f0c",
   "metadata": {},
   "source": [
    "### VARIÂNCIA POPULACIONAL"
   ]
  },
  {
   "cell_type": "code",
   "execution_count": 283,
   "id": "ff24e526",
   "metadata": {},
   "outputs": [
    {
     "name": "stdout",
     "output_type": "stream",
     "text": [
      "Idade:  12.83\n",
      "Peso:  102.28\n",
      "Altura:  50.69\n",
      "IMC:  15.99\n"
     ]
    }
   ],
   "source": [
    "# variância populacional\n",
    "print(\"Idade: \", round(std.pvariance(df_fem.idade),2))\n",
    "print(\"Peso: \", round(std.pvariance(df_fem.peso),2))\n",
    "print(\"Altura: \", round(std.pvariance(df_fem.altura),2))\n",
    "print(\"IMC: \", round(std.pvariance(df_fem.IMC),2))"
   ]
  },
  {
   "cell_type": "markdown",
   "id": "1f649317",
   "metadata": {},
   "source": [
    "### DESVIO PADRÃO POPULACIONAL"
   ]
  },
  {
   "cell_type": "code",
   "execution_count": 261,
   "id": "649bceca",
   "metadata": {},
   "outputs": [
    {
     "name": "stdout",
     "output_type": "stream",
     "text": [
      "Idade:  3.58\n",
      "Peso:  10.11\n",
      "Altura:  7.12\n",
      "IMC:  4.0\n"
     ]
    }
   ],
   "source": [
    "# desvio padrão populacional\n",
    "print(\"Idade: \", round(std.pstdev(df_fem.idade),2))\n",
    "print(\"Peso: \", round(std.pstdev(df_fem.peso),2))\n",
    "print(\"Altura: \", round(std.pstdev(df_fem.altura),2))\n",
    "print(\"IMC: \", round(std.pstdev(df_fem.IMC),2))"
   ]
  },
  {
   "cell_type": "markdown",
   "id": "5e4fbefe",
   "metadata": {},
   "source": [
    "### COEFICIENTE DE VARIAÇÃO"
   ]
  },
  {
   "cell_type": "code",
   "execution_count": 262,
   "id": "51b4c7c0",
   "metadata": {},
   "outputs": [
    {
     "name": "stdout",
     "output_type": "stream",
     "text": [
      "Idade:  16.88\n",
      "Peso:  17.46\n",
      "Altura:  4.4\n",
      "IMC:  18.04\n"
     ]
    }
   ],
   "source": [
    "# coeficiente de variação\n",
    "print(\"Idade: \", round(std.pstdev(df_fem.idade)/df_fem.idade.mean() * 100,2))\n",
    "print(\"Peso: \", round(std.pstdev(df_fem.peso)/df_fem.peso.mean() * 100,2))\n",
    "print(\"Altura: \", round(std.pstdev(df_fem.altura)/df_fem.altura.mean() * 100,2))\n",
    "print(\"IMC: \", round(std.pstdev(df_fem.IMC)/df_fem.IMC.mean() * 100,2))"
   ]
  },
  {
   "cell_type": "markdown",
   "id": "5b903716",
   "metadata": {},
   "source": [
    "### Sexo Masculino"
   ]
  },
  {
   "cell_type": "code",
   "execution_count": 263,
   "id": "469f9799",
   "metadata": {},
   "outputs": [],
   "source": [
    "df_man = df.loc[df.sexo == 'M']"
   ]
  },
  {
   "cell_type": "code",
   "execution_count": 264,
   "id": "9456635f",
   "metadata": {},
   "outputs": [
    {
     "data": {
      "text/plain": [
       "184"
      ]
     },
     "execution_count": 264,
     "metadata": {},
     "output_type": "execute_result"
    }
   ],
   "source": [
    "# verificar quantidade de itens\n",
    "df_man.shape[0]"
   ]
  },
  {
   "cell_type": "markdown",
   "id": "c9c25b66",
   "metadata": {},
   "source": [
    "### MÉDIA"
   ]
  },
  {
   "cell_type": "code",
   "execution_count": 265,
   "id": "27808ccf",
   "metadata": {},
   "outputs": [
    {
     "name": "stdout",
     "output_type": "stream",
     "text": [
      "Idade:  22.06\n",
      "Peso:  73.86\n",
      "Altura:  174.34\n",
      "IMC:  24.27\n"
     ]
    }
   ],
   "source": [
    "# média aritmética\n",
    "print(\"Idade: \", round(df_man.idade.mean(),2))\n",
    "print(\"Peso: \", round(df_man.peso.mean(),2))\n",
    "print(\"Altura: \", round(df_man.altura.mean(),2))\n",
    "print(\"IMC: \", round(df_man.IMC.mean(),2))"
   ]
  },
  {
   "cell_type": "markdown",
   "id": "6d516d33",
   "metadata": {},
   "source": [
    "### MEDIANA"
   ]
  },
  {
   "cell_type": "code",
   "execution_count": 266,
   "id": "289cc07e",
   "metadata": {},
   "outputs": [
    {
     "name": "stdout",
     "output_type": "stream",
     "text": [
      "Idade:  21.0\n",
      "Peso:  72.0\n",
      "Altura:  175.0\n",
      "IMC:  23.75\n"
     ]
    }
   ],
   "source": [
    "# mediana\n",
    "print(\"Idade: \", round(df_man.idade.median(),2))\n",
    "print(\"Peso: \", round(df_man.peso.median(),2))\n",
    "print(\"Altura: \", round(df_man.altura.median(),2))\n",
    "print(\"IMC: \", round(df_man.IMC.median(),2))"
   ]
  },
  {
   "cell_type": "markdown",
   "id": "c23ce60b",
   "metadata": {},
   "source": [
    "### PRIMEIRO E TERCEIRO QUARTIL"
   ]
  },
  {
   "cell_type": "code",
   "execution_count": 267,
   "id": "599fbab4",
   "metadata": {},
   "outputs": [
    {
     "name": "stdout",
     "output_type": "stream",
     "text": [
      "Idade:  19.0\n",
      "Peso:  63.0\n",
      "Altura:  169.75\n",
      "IMC:  20.9\n"
     ]
    }
   ],
   "source": [
    "# primeiro quartil\n",
    "print(\"Idade: \", df_man.idade.quantile(.25))\n",
    "print(\"Peso: \", df_man.peso.quantile(.25))\n",
    "print(\"Altura: \", df_man.altura.quantile(.25))\n",
    "print(\"IMC: \", df_man.IMC.quantile(.25))"
   ]
  },
  {
   "cell_type": "code",
   "execution_count": 268,
   "id": "69d99da2",
   "metadata": {
    "scrolled": true
   },
   "outputs": [
    {
     "name": "stdout",
     "output_type": "stream",
     "text": [
      "Idade:  25.0\n",
      "Peso:  83.0\n",
      "Altura:  180.0\n",
      "IMC:  26.9\n"
     ]
    }
   ],
   "source": [
    "# terceiro quartil\n",
    "print(\"Idade: \", df_man.idade.quantile(.75))\n",
    "print(\"Peso: \", df_man.peso.quantile(.75))\n",
    "print(\"Altura: \", df_man.altura.quantile(.75))\n",
    "print(\"IMC: \", df_man.IMC.quantile(.75))"
   ]
  },
  {
   "cell_type": "markdown",
   "id": "76c83d20",
   "metadata": {},
   "source": [
    "### VARIÂNCIA POPULACIONAL"
   ]
  },
  {
   "cell_type": "code",
   "execution_count": 284,
   "id": "77321e83",
   "metadata": {},
   "outputs": [
    {
     "name": "stdout",
     "output_type": "stream",
     "text": [
      "Idade:  16.82\n",
      "Peso:  219.58\n",
      "Altura:  52.21\n",
      "IMC:  21.31\n"
     ]
    }
   ],
   "source": [
    "# variância populacional\n",
    "print(\"Idade: \", round(std.pvariance(df_man.idade),2))\n",
    "print(\"Peso: \", round(std.pvariance(df_man.peso),2))\n",
    "print(\"Altura: \", round(std.pvariance(df_man.altura),2))\n",
    "print(\"IMC: \", round(std.pvariance(df_man.IMC),2))"
   ]
  },
  {
   "cell_type": "markdown",
   "id": "4f01752f",
   "metadata": {},
   "source": [
    "### DESVIO PADRÃO POPULACIONAL"
   ]
  },
  {
   "cell_type": "code",
   "execution_count": 269,
   "id": "03737de1",
   "metadata": {},
   "outputs": [
    {
     "name": "stdout",
     "output_type": "stream",
     "text": [
      "Idade:  4.1\n",
      "Peso:  14.82\n",
      "Altura:  7.23\n",
      "IMC:  4.62\n"
     ]
    }
   ],
   "source": [
    "# desvio padrão populacional\n",
    "print(\"Idade: \", round(std.pstdev(df_man.idade),2))\n",
    "print(\"Peso: \", round(std.pstdev(df_man.peso),2))\n",
    "print(\"Altura: \", round(std.pstdev(df_man.altura),2))\n",
    "print(\"IMC: \", round(std.pstdev(df_man.IMC),2))"
   ]
  },
  {
   "cell_type": "markdown",
   "id": "706cf8a3",
   "metadata": {},
   "source": [
    "### COEFICIENTE DE VARIAÇÃO"
   ]
  },
  {
   "cell_type": "code",
   "execution_count": 270,
   "id": "36ab6e24",
   "metadata": {},
   "outputs": [
    {
     "name": "stdout",
     "output_type": "stream",
     "text": [
      "Idade:  18.59\n",
      "Peso:  20.06\n",
      "Altura:  4.14\n",
      "IMC:  19.02\n"
     ]
    }
   ],
   "source": [
    "# coeficiente de variação\n",
    "print(\"Idade: \", round(std.pstdev(df_man.idade)/df_man.idade.mean() * 100,2))\n",
    "print(\"Peso: \", round(std.pstdev(df_man.peso)/df_man.peso.mean() * 100,2))\n",
    "print(\"Altura: \", round(std.pstdev(df_man.altura)/df_man.altura.mean() * 100,2))\n",
    "print(\"IMC: \", round(std.pstdev(df_man.IMC)/df_man.IMC.mean() * 100,2))"
   ]
  },
  {
   "cell_type": "markdown",
   "id": "049f6c7c",
   "metadata": {},
   "source": [
    "### Calcular, para os dados populacionais das variáveis quantitativas (IDADE, PESO, ALTURA e IMC), as medidas de posição e de dispersão, por IES."
   ]
  },
  {
   "cell_type": "markdown",
   "id": "9cb56400",
   "metadata": {},
   "source": [
    "### UFAC"
   ]
  },
  {
   "cell_type": "code",
   "execution_count": 271,
   "id": "124d7a49",
   "metadata": {},
   "outputs": [],
   "source": [
    "df_ufac = df.loc[df.IES == 'UFAC']"
   ]
  },
  {
   "cell_type": "code",
   "execution_count": 272,
   "id": "f5b12d34",
   "metadata": {
    "scrolled": false
   },
   "outputs": [
    {
     "data": {
      "text/plain": [
       "140"
      ]
     },
     "execution_count": 272,
     "metadata": {},
     "output_type": "execute_result"
    }
   ],
   "source": [
    "# ver quantidade de itens\n",
    "df_ufac.shape[0]"
   ]
  },
  {
   "cell_type": "markdown",
   "id": "32a51435",
   "metadata": {},
   "source": [
    "### MÉDIA"
   ]
  },
  {
   "cell_type": "code",
   "execution_count": 273,
   "id": "b789998f",
   "metadata": {},
   "outputs": [
    {
     "name": "stdout",
     "output_type": "stream",
     "text": [
      "Idade:  21.4\n",
      "Peso:  66.15\n",
      "Altura:  168.36\n",
      "IMC:  23.17\n"
     ]
    }
   ],
   "source": [
    "# média aritmética\n",
    "print(\"Idade: \", round(df_ufac.idade.mean(),2))\n",
    "print(\"Peso: \", round(df_ufac.peso.mean(),2))\n",
    "print(\"Altura: \", round(df_ufac.altura.mean(),2))\n",
    "print(\"IMC: \", round(df_ufac.IMC.mean(),2))"
   ]
  },
  {
   "cell_type": "markdown",
   "id": "71315137",
   "metadata": {},
   "source": [
    "### MEDIANA"
   ]
  },
  {
   "cell_type": "code",
   "execution_count": 274,
   "id": "5ccddf75",
   "metadata": {},
   "outputs": [
    {
     "name": "stdout",
     "output_type": "stream",
     "text": [
      "Idade:  20.0\n",
      "Peso:  64.0\n",
      "Altura:  168.0\n",
      "IMC:  22.9\n"
     ]
    }
   ],
   "source": [
    "# mediana\n",
    "print(\"Idade: \", round(df_ufac.idade.median(),2))\n",
    "print(\"Peso: \", round(df_ufac.peso.median(),2))\n",
    "print(\"Altura: \", round(df_ufac.altura.median(),2))\n",
    "print(\"IMC: \", round(df_ufac.IMC.median(),2))"
   ]
  },
  {
   "cell_type": "markdown",
   "id": "0f3fad8c",
   "metadata": {},
   "source": [
    "### PRIMEIRO E TERCEIRO QUARTIL"
   ]
  },
  {
   "cell_type": "code",
   "execution_count": 275,
   "id": "6af2c4cf",
   "metadata": {},
   "outputs": [
    {
     "name": "stdout",
     "output_type": "stream",
     "text": [
      "Idade:  18.0\n",
      "Peso:  55.0\n",
      "Altura:  162.0\n",
      "IMC:  20.7\n"
     ]
    }
   ],
   "source": [
    "# primeiro quartil\n",
    "print(\"Idade: \", df_ufac.idade.quantile(.25))\n",
    "print(\"Peso: \", df_ufac.peso.quantile(.25))\n",
    "print(\"Altura: \", df_ufac.altura.quantile(.25))\n",
    "print(\"IMC: \", df_ufac.IMC.quantile(.25))"
   ]
  },
  {
   "cell_type": "code",
   "execution_count": 276,
   "id": "af55b574",
   "metadata": {},
   "outputs": [
    {
     "name": "stdout",
     "output_type": "stream",
     "text": [
      "Idade:  23.0\n",
      "Peso:  75.0\n",
      "Altura:  175.0\n",
      "IMC:  25.1\n"
     ]
    }
   ],
   "source": [
    "# terceiro quartil\n",
    "print(\"Idade: \", df_ufac.idade.quantile(.75))\n",
    "print(\"Peso: \", df_ufac.peso.quantile(.75))\n",
    "print(\"Altura: \", df_ufac.altura.quantile(.75))\n",
    "print(\"IMC: \", df_ufac.IMC.quantile(.75))"
   ]
  },
  {
   "cell_type": "markdown",
   "id": "17a8be63",
   "metadata": {},
   "source": [
    "### VARIÂNCIA POPULACIONAL"
   ]
  },
  {
   "cell_type": "code",
   "execution_count": 285,
   "id": "62898efe",
   "metadata": {},
   "outputs": [
    {
     "name": "stdout",
     "output_type": "stream",
     "text": [
      "Idade:  19.34\n",
      "Peso:  200.56\n",
      "Altura:  88.83\n",
      "IMC:  13.13\n"
     ]
    }
   ],
   "source": [
    "# variância populacional\n",
    "print(\"Idade: \", round(std.pvariance(df_ufac.idade),2))\n",
    "print(\"Peso: \", round(std.pvariance(df_ufac.peso),2))\n",
    "print(\"Altura: \", round(std.pvariance(df_ufac.altura),2))\n",
    "print(\"IMC: \", round(std.pvariance(df_ufac.IMC),2))"
   ]
  },
  {
   "cell_type": "markdown",
   "id": "c5a9de89",
   "metadata": {},
   "source": [
    "### DESVIO PADRÃO POPULACIONAL"
   ]
  },
  {
   "cell_type": "code",
   "execution_count": 277,
   "id": "6ffaa885",
   "metadata": {},
   "outputs": [
    {
     "name": "stdout",
     "output_type": "stream",
     "text": [
      "Idade:  4.4\n",
      "Peso:  14.16\n",
      "Altura:  9.43\n",
      "IMC:  3.62\n"
     ]
    }
   ],
   "source": [
    "# desvio padrão populacional\n",
    "print(\"Idade: \", round(std.pstdev(df_ufac.idade),2))\n",
    "print(\"Peso: \", round(std.pstdev(df_ufac.peso),2))\n",
    "print(\"Altura: \", round(std.pstdev(df_ufac.altura),2))\n",
    "print(\"IMC: \", round(std.pstdev(df_ufac.IMC),2))"
   ]
  },
  {
   "cell_type": "markdown",
   "id": "fcc7de7a",
   "metadata": {},
   "source": [
    "### COEFICIENTE DE VARIAÇÃO"
   ]
  },
  {
   "cell_type": "code",
   "execution_count": 278,
   "id": "1e7f9d5f",
   "metadata": {},
   "outputs": [
    {
     "name": "stdout",
     "output_type": "stream",
     "text": [
      "Idade:  20.55\n",
      "Peso:  21.41\n",
      "Altura:  5.6\n",
      "IMC:  15.64\n"
     ]
    }
   ],
   "source": [
    "# coeficiente de variação\n",
    "print(\"Idade: \", round(std.pstdev(df_ufac.idade)/df_ufac.idade.mean() * 100,2))\n",
    "print(\"Peso: \", round(std.pstdev(df_ufac.peso)/df_ufac.peso.mean() * 100,2))\n",
    "print(\"Altura: \", round(std.pstdev(df_ufac.altura)/df_ufac.altura.mean() * 100,2))\n",
    "print(\"IMC: \", round(std.pstdev(df_ufac.IMC)/df_ufac.IMC.mean() * 100,2))"
   ]
  },
  {
   "cell_type": "markdown",
   "id": "844a151e",
   "metadata": {},
   "source": [
    "### UFSCAR"
   ]
  },
  {
   "cell_type": "code",
   "execution_count": 111,
   "id": "31dd0d9b",
   "metadata": {},
   "outputs": [],
   "source": [
    "df_ufscar = df.loc[df.IES == 'UFSCAR']"
   ]
  },
  {
   "cell_type": "code",
   "execution_count": 112,
   "id": "863c047e",
   "metadata": {},
   "outputs": [
    {
     "data": {
      "text/plain": [
       "220"
      ]
     },
     "execution_count": 112,
     "metadata": {},
     "output_type": "execute_result"
    }
   ],
   "source": [
    "# ver quantidade de itens\n",
    "df_ufscar.shape[0]"
   ]
  },
  {
   "cell_type": "markdown",
   "id": "11fe2473",
   "metadata": {},
   "source": [
    "### MÉDIA"
   ]
  },
  {
   "cell_type": "code",
   "execution_count": 113,
   "id": "b925bbf7",
   "metadata": {},
   "outputs": [
    {
     "name": "stdout",
     "output_type": "stream",
     "text": [
      "Idade:  21.8\n",
      "Peso:  66.01\n",
      "Altura:  168.01\n",
      "IMC:  23.29\n"
     ]
    }
   ],
   "source": [
    "# média aritmética\n",
    "print(\"Idade: \", round(df_ufscar.idade.mean(),2))\n",
    "print(\"Peso: \", round(df_ufscar.peso.mean(),2))\n",
    "print(\"Altura: \", round(df_ufscar.altura.mean(),2))\n",
    "print(\"IMC: \", round(df_ufscar.IMC.mean(),2))"
   ]
  },
  {
   "cell_type": "markdown",
   "id": "a2a05713",
   "metadata": {},
   "source": [
    "### MEDIANA"
   ]
  },
  {
   "cell_type": "code",
   "execution_count": 114,
   "id": "1b557192",
   "metadata": {},
   "outputs": [
    {
     "name": "stdout",
     "output_type": "stream",
     "text": [
      "Idade:  21.0\n",
      "Peso:  63.0\n",
      "Altura:  168.0\n",
      "IMC:  22.75\n"
     ]
    }
   ],
   "source": [
    "# mediana\n",
    "print(\"Idade: \", round(df_ufscar.idade.median(),2))\n",
    "print(\"Peso: \", round(df_ufscar.peso.median(),2))\n",
    "print(\"Altura: \", round(df_ufscar.altura.median(),2))\n",
    "print(\"IMC: \", round(df_ufscar.IMC.median(),2))"
   ]
  },
  {
   "cell_type": "markdown",
   "id": "0a404562",
   "metadata": {},
   "source": [
    "### PRIMEIRO E TERCEIRO QUARTIL"
   ]
  },
  {
   "cell_type": "code",
   "execution_count": 279,
   "id": "234dd98d",
   "metadata": {},
   "outputs": [
    {
     "name": "stdout",
     "output_type": "stream",
     "text": [
      "Idade:  19.75\n",
      "Peso:  55.75\n",
      "Altura:  160.0\n",
      "IMC:  20.075000000000003\n"
     ]
    }
   ],
   "source": [
    "# primeiro quartil\n",
    "print(\"Idade: \", df_ufscar.idade.quantile(.25))\n",
    "print(\"Peso: \", df_ufscar.peso.quantile(.25))\n",
    "print(\"Altura: \", df_ufscar.altura.quantile(.25))\n",
    "print(\"IMC: \", df_ufscar.IMC.quantile(.25))"
   ]
  },
  {
   "cell_type": "code",
   "execution_count": 280,
   "id": "9d4a3fcd",
   "metadata": {
    "scrolled": false
   },
   "outputs": [
    {
     "name": "stdout",
     "output_type": "stream",
     "text": [
      "Idade:  25.0\n",
      "Peso:  74.0\n",
      "Altura:  175.0\n",
      "IMC:  25.95\n"
     ]
    }
   ],
   "source": [
    "# terceiro quartil\n",
    "print(\"Idade: \", df_ufscar.idade.quantile(.75))\n",
    "print(\"Peso: \", df_ufscar.peso.quantile(.75))\n",
    "print(\"Altura: \", df_ufscar.altura.quantile(.75))\n",
    "print(\"IMC: \", df_ufscar.IMC.quantile(.75))"
   ]
  },
  {
   "cell_type": "markdown",
   "id": "dae4c912",
   "metadata": {},
   "source": [
    "### VARIÂNCIA POPULACIONAL"
   ]
  },
  {
   "cell_type": "code",
   "execution_count": 286,
   "id": "18e56086",
   "metadata": {},
   "outputs": [
    {
     "name": "stdout",
     "output_type": "stream",
     "text": [
      "Idade:  12.25\n",
      "Peso:  241.86\n",
      "Altura:  93.13\n",
      "IMC:  24.05\n"
     ]
    }
   ],
   "source": [
    "# variância populacional\n",
    "print(\"Idade: \", round(std.pvariance(df_ufscar.idade),2))\n",
    "print(\"Peso: \", round(std.pvariance(df_ufscar.peso),2))\n",
    "print(\"Altura: \", round(std.pvariance(df_ufscar.altura),2))\n",
    "print(\"IMC: \", round(std.pvariance(df_ufscar.IMC),2))"
   ]
  },
  {
   "cell_type": "markdown",
   "id": "016131cf",
   "metadata": {},
   "source": [
    "### DESVIO PADRÃO POPULACIONAL"
   ]
  },
  {
   "cell_type": "code",
   "execution_count": 281,
   "id": "4a30a3b4",
   "metadata": {},
   "outputs": [
    {
     "name": "stdout",
     "output_type": "stream",
     "text": [
      "Idade:  3.5\n",
      "Peso:  15.55\n",
      "Altura:  9.65\n",
      "IMC:  4.9\n"
     ]
    }
   ],
   "source": [
    "# desvio padrão populacional\n",
    "print(\"Idade: \", round(std.pstdev(df_ufscar.idade),2))\n",
    "print(\"Peso: \", round(std.pstdev(df_ufscar.peso),2))\n",
    "print(\"Altura: \", round(std.pstdev(df_ufscar.altura),2))\n",
    "print(\"IMC: \", round(std.pstdev(df_ufscar.IMC),2))"
   ]
  },
  {
   "cell_type": "markdown",
   "id": "3f6694e4",
   "metadata": {},
   "source": [
    "### COEFICIENTE DE VARIAÇÃO"
   ]
  },
  {
   "cell_type": "code",
   "execution_count": 282,
   "id": "68a29e31",
   "metadata": {},
   "outputs": [
    {
     "name": "stdout",
     "output_type": "stream",
     "text": [
      "Idade:  16.06\n",
      "Peso:  23.56\n",
      "Altura:  5.74\n",
      "IMC:  21.06\n"
     ]
    }
   ],
   "source": [
    "# coeficiente de variação\n",
    "print(\"Idade: \", round(std.pstdev(df_ufscar.idade)/df_ufscar.idade.mean() * 100,2))\n",
    "print(\"Peso: \", round(std.pstdev(df_ufscar.peso)/df_ufscar.peso.mean() * 100,2))\n",
    "print(\"Altura: \", round(std.pstdev(df_ufscar.altura)/df_ufscar.altura.mean() * 100,2))\n",
    "print(\"IMC: \", round(std.pstdev(df_ufscar.IMC)/df_ufscar.IMC.mean() * 100,2))"
   ]
  }
 ],
 "metadata": {
  "kernelspec": {
   "display_name": "Python 3",
   "language": "python",
   "name": "python3"
  },
  "language_info": {
   "codemirror_mode": {
    "name": "ipython",
    "version": 3
   },
   "file_extension": ".py",
   "mimetype": "text/x-python",
   "name": "python",
   "nbconvert_exporter": "python",
   "pygments_lexer": "ipython3",
   "version": "3.8.8"
  }
 },
 "nbformat": 4,
 "nbformat_minor": 5
}
