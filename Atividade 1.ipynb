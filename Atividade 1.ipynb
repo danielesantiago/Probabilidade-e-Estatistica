{
 "cells": [
  {
   "cell_type": "markdown",
   "id": "b125b250",
   "metadata": {},
   "source": [
    "# Probabilidade e Estatística - Atividade 1"
   ]
  },
  {
   "cell_type": "markdown",
   "id": "f992d3e7",
   "metadata": {},
   "source": [
    "<img src=\"Arquivos/pe.jpg\"  width=80%>"
   ]
  },
  {
   "cell_type": "code",
   "execution_count": 171,
   "id": "5fef7d03",
   "metadata": {},
   "outputs": [],
   "source": [
    "# importar as bibliotecas necessárias\n",
    "import pandas as pd\n",
    "import math\n",
    "from scipy.stats import binom \n",
    "from scipy.stats import poisson"
   ]
  },
  {
   "cell_type": "markdown",
   "id": "265272b9",
   "metadata": {},
   "source": [
    "## Q1:\n",
    "Considere uma amostra obtida de uma população e que, nesta amostra, uma das\n",
    "variáveis era o tempo que o usuário leva para realizar uma determinada tarefa\n",
    "(variável T). Os tempos e as frequências (número de usuários) são: 10s (7 usuários);\n",
    "15s (6 usuários); 20s (quatro usuários); 25s (2 usuários) e 30s (apenas um usuário). Por\n",
    "outro lado, considere a distribuição de probabilidade tal que:"
   ]
  },
  {
   "cell_type": "code",
   "execution_count": 172,
   "id": "9ab883c0",
   "metadata": {},
   "outputs": [
    {
     "data": {
      "text/html": [
       "<div>\n",
       "<style scoped>\n",
       "    .dataframe tbody tr th:only-of-type {\n",
       "        vertical-align: middle;\n",
       "    }\n",
       "\n",
       "    .dataframe tbody tr th {\n",
       "        vertical-align: top;\n",
       "    }\n",
       "\n",
       "    .dataframe thead th {\n",
       "        text-align: right;\n",
       "    }\n",
       "</style>\n",
       "<table border=\"1\" class=\"dataframe\">\n",
       "  <thead>\n",
       "    <tr style=\"text-align: right;\">\n",
       "      <th></th>\n",
       "      <th>Tempo</th>\n",
       "      <th>Probabilidade</th>\n",
       "    </tr>\n",
       "  </thead>\n",
       "  <tbody>\n",
       "    <tr>\n",
       "      <th>0</th>\n",
       "      <td>10</td>\n",
       "      <td>0.35</td>\n",
       "    </tr>\n",
       "    <tr>\n",
       "      <th>1</th>\n",
       "      <td>15</td>\n",
       "      <td>0.30</td>\n",
       "    </tr>\n",
       "    <tr>\n",
       "      <th>2</th>\n",
       "      <td>20</td>\n",
       "      <td>0.20</td>\n",
       "    </tr>\n",
       "    <tr>\n",
       "      <th>3</th>\n",
       "      <td>25</td>\n",
       "      <td>0.10</td>\n",
       "    </tr>\n",
       "    <tr>\n",
       "      <th>4</th>\n",
       "      <td>30</td>\n",
       "      <td>0.05</td>\n",
       "    </tr>\n",
       "  </tbody>\n",
       "</table>\n",
       "</div>"
      ],
      "text/plain": [
       "   Tempo  Probabilidade\n",
       "0     10           0.35\n",
       "1     15           0.30\n",
       "2     20           0.20\n",
       "3     25           0.10\n",
       "4     30           0.05"
      ]
     },
     "execution_count": 172,
     "metadata": {},
     "output_type": "execute_result"
    }
   ],
   "source": [
    "# criar o dataframe\n",
    "t = [10, 15, 20, 25, 30]\n",
    "p = [0.35, 0.30, 0.20, 0.10, 0.05]\n",
    "df = pd.DataFrame(list(zip(t,p)), columns = ['Tempo','Probabilidade'])\n",
    "df"
   ]
  },
  {
   "cell_type": "markdown",
   "id": "d59278a9",
   "metadata": {},
   "source": [
    "Verifique que os resultados da distribuição de frequências para a variável tempo é\n",
    "equivalente à distribuição de probabilidade acima. Calcule a esperança e a variância da\n",
    "variável tempo, usando a distribuição de frequências, e constate que E(T) (sua média\n",
    "ponderada) é igual a 16 e a V(T) = 34.\n",
    "Explicitar os cálculos para chegar aos valores da esperança e da variância."
   ]
  },
  {
   "cell_type": "markdown",
   "id": "af09972a",
   "metadata": {},
   "source": [
    "### Resposta"
   ]
  },
  {
   "cell_type": "markdown",
   "id": "26d655f3",
   "metadata": {},
   "source": [
    "### Parte 1: Verifique que os resultados da distribuição de frequências para a variável tempo é equivalente à distribuição de probabilidade acima."
   ]
  },
  {
   "cell_type": "markdown",
   "id": "4ad61e6c",
   "metadata": {},
   "source": [
    "Primeiro irei criar um dataframe com as informações que nos foram dadas sobre a frequência de usuários."
   ]
  },
  {
   "cell_type": "code",
   "execution_count": 173,
   "id": "b435a223",
   "metadata": {},
   "outputs": [
    {
     "data": {
      "text/html": [
       "<div>\n",
       "<style scoped>\n",
       "    .dataframe tbody tr th:only-of-type {\n",
       "        vertical-align: middle;\n",
       "    }\n",
       "\n",
       "    .dataframe tbody tr th {\n",
       "        vertical-align: top;\n",
       "    }\n",
       "\n",
       "    .dataframe thead th {\n",
       "        text-align: right;\n",
       "    }\n",
       "</style>\n",
       "<table border=\"1\" class=\"dataframe\">\n",
       "  <thead>\n",
       "    <tr style=\"text-align: right;\">\n",
       "      <th></th>\n",
       "      <th>Frequência</th>\n",
       "    </tr>\n",
       "  </thead>\n",
       "  <tbody>\n",
       "    <tr>\n",
       "      <th>0</th>\n",
       "      <td>7</td>\n",
       "    </tr>\n",
       "    <tr>\n",
       "      <th>1</th>\n",
       "      <td>6</td>\n",
       "    </tr>\n",
       "    <tr>\n",
       "      <th>2</th>\n",
       "      <td>4</td>\n",
       "    </tr>\n",
       "    <tr>\n",
       "      <th>3</th>\n",
       "      <td>2</td>\n",
       "    </tr>\n",
       "    <tr>\n",
       "      <th>4</th>\n",
       "      <td>1</td>\n",
       "    </tr>\n",
       "  </tbody>\n",
       "</table>\n",
       "</div>"
      ],
      "text/plain": [
       "   Frequência\n",
       "0           7\n",
       "1           6\n",
       "2           4\n",
       "3           2\n",
       "4           1"
      ]
     },
     "execution_count": 173,
     "metadata": {},
     "output_type": "execute_result"
    }
   ],
   "source": [
    "f = [7, 6, 4, 2, 1]\n",
    "df_new = pd.DataFrame(f, columns = ['Frequência'])\n",
    "df_new"
   ]
  },
  {
   "cell_type": "code",
   "execution_count": 174,
   "id": "7d3b6d6a",
   "metadata": {},
   "outputs": [
    {
     "name": "stdout",
     "output_type": "stream",
     "text": [
      "A quantidade total de usuários é:  20\n"
     ]
    }
   ],
   "source": [
    "total = df_new['Frequência'].sum()\n",
    "print(\"A quantidade total de usuários é: \", total)"
   ]
  },
  {
   "cell_type": "markdown",
   "id": "6d2c128a",
   "metadata": {},
   "source": [
    "Para determinar a probabilidade, temos que P = fi/f"
   ]
  },
  {
   "cell_type": "code",
   "execution_count": 175,
   "id": "4d3b4212",
   "metadata": {},
   "outputs": [],
   "source": [
    "probabilidade = []\n",
    "for fi in df_new['Frequência'].values:\n",
    "    probabilidade.append(fi/total)"
   ]
  },
  {
   "cell_type": "code",
   "execution_count": 176,
   "id": "0cb45499",
   "metadata": {},
   "outputs": [
    {
     "data": {
      "text/plain": [
       "[0.35, 0.3, 0.2, 0.1, 0.05]"
      ]
     },
     "execution_count": 176,
     "metadata": {},
     "output_type": "execute_result"
    }
   ],
   "source": [
    "# resultado da probabilidade obtida\n",
    "probabilidade"
   ]
  },
  {
   "cell_type": "markdown",
   "id": "bf5fb1f9",
   "metadata": {},
   "source": [
    "Por fim, adicionaremos o resultado ao dataframe criado, o que nos dá o seguinte resultado"
   ]
  },
  {
   "cell_type": "code",
   "execution_count": 177,
   "id": "5c26f735",
   "metadata": {},
   "outputs": [
    {
     "data": {
      "text/html": [
       "<div>\n",
       "<style scoped>\n",
       "    .dataframe tbody tr th:only-of-type {\n",
       "        vertical-align: middle;\n",
       "    }\n",
       "\n",
       "    .dataframe tbody tr th {\n",
       "        vertical-align: top;\n",
       "    }\n",
       "\n",
       "    .dataframe thead th {\n",
       "        text-align: right;\n",
       "    }\n",
       "</style>\n",
       "<table border=\"1\" class=\"dataframe\">\n",
       "  <thead>\n",
       "    <tr style=\"text-align: right;\">\n",
       "      <th></th>\n",
       "      <th>Frequência</th>\n",
       "      <th>Probabilidade</th>\n",
       "    </tr>\n",
       "  </thead>\n",
       "  <tbody>\n",
       "    <tr>\n",
       "      <th>0</th>\n",
       "      <td>7</td>\n",
       "      <td>0.35</td>\n",
       "    </tr>\n",
       "    <tr>\n",
       "      <th>1</th>\n",
       "      <td>6</td>\n",
       "      <td>0.30</td>\n",
       "    </tr>\n",
       "    <tr>\n",
       "      <th>2</th>\n",
       "      <td>4</td>\n",
       "      <td>0.20</td>\n",
       "    </tr>\n",
       "    <tr>\n",
       "      <th>3</th>\n",
       "      <td>2</td>\n",
       "      <td>0.10</td>\n",
       "    </tr>\n",
       "    <tr>\n",
       "      <th>4</th>\n",
       "      <td>1</td>\n",
       "      <td>0.05</td>\n",
       "    </tr>\n",
       "  </tbody>\n",
       "</table>\n",
       "</div>"
      ],
      "text/plain": [
       "   Frequência  Probabilidade\n",
       "0           7           0.35\n",
       "1           6           0.30\n",
       "2           4           0.20\n",
       "3           2           0.10\n",
       "4           1           0.05"
      ]
     },
     "execution_count": 177,
     "metadata": {},
     "output_type": "execute_result"
    }
   ],
   "source": [
    "df_freq = pd.DataFrame(list(zip(df_new['Frequência'].values,probabilidade)), columns = ['Frequência','Probabilidade'])\n",
    "df_freq"
   ]
  },
  {
   "cell_type": "markdown",
   "id": "27280d00",
   "metadata": {},
   "source": [
    "Concluímos que o valor da probabilidade para a tabela de frequência é equivalente à primeira tabela informada."
   ]
  },
  {
   "cell_type": "markdown",
   "id": "67054818",
   "metadata": {},
   "source": [
    "### Parte 2: Calcule a esperança e a variância da variável tempo, usando a distribuição de frequências, e constate que E(T) (sua média ponderada) é igual a 16 e a V(T) = 34."
   ]
  },
  {
   "cell_type": "code",
   "execution_count": 178,
   "id": "fb9b8081",
   "metadata": {},
   "outputs": [
    {
     "data": {
      "text/html": [
       "<div>\n",
       "<style scoped>\n",
       "    .dataframe tbody tr th:only-of-type {\n",
       "        vertical-align: middle;\n",
       "    }\n",
       "\n",
       "    .dataframe tbody tr th {\n",
       "        vertical-align: top;\n",
       "    }\n",
       "\n",
       "    .dataframe thead th {\n",
       "        text-align: right;\n",
       "    }\n",
       "</style>\n",
       "<table border=\"1\" class=\"dataframe\">\n",
       "  <thead>\n",
       "    <tr style=\"text-align: right;\">\n",
       "      <th></th>\n",
       "      <th>Tempo</th>\n",
       "      <th>Frequência</th>\n",
       "    </tr>\n",
       "  </thead>\n",
       "  <tbody>\n",
       "    <tr>\n",
       "      <th>0</th>\n",
       "      <td>10</td>\n",
       "      <td>7</td>\n",
       "    </tr>\n",
       "    <tr>\n",
       "      <th>1</th>\n",
       "      <td>15</td>\n",
       "      <td>6</td>\n",
       "    </tr>\n",
       "    <tr>\n",
       "      <th>2</th>\n",
       "      <td>20</td>\n",
       "      <td>4</td>\n",
       "    </tr>\n",
       "    <tr>\n",
       "      <th>3</th>\n",
       "      <td>25</td>\n",
       "      <td>2</td>\n",
       "    </tr>\n",
       "    <tr>\n",
       "      <th>4</th>\n",
       "      <td>30</td>\n",
       "      <td>1</td>\n",
       "    </tr>\n",
       "  </tbody>\n",
       "</table>\n",
       "</div>"
      ],
      "text/plain": [
       "   Tempo  Frequência\n",
       "0     10           7\n",
       "1     15           6\n",
       "2     20           4\n",
       "3     25           2\n",
       "4     30           1"
      ]
     },
     "execution_count": 178,
     "metadata": {},
     "output_type": "execute_result"
    }
   ],
   "source": [
    "df_esp = pd.DataFrame(list(zip(t, df_new['Frequência'].values)), columns = ['Tempo','Frequência'])\n",
    "df_esp"
   ]
  },
  {
   "cell_type": "markdown",
   "id": "895fd9bf",
   "metadata": {},
   "source": [
    "Para encontrarmos a esperança utilizando a tabela de frequência, iremos multiplicar a frequência pelo tempo (xi) em cada linha, e dividir o resultado pela quantidade total de frequência (20).\n"
   ]
  },
  {
   "cell_type": "code",
   "execution_count": 179,
   "id": "8bba5136",
   "metadata": {},
   "outputs": [],
   "source": [
    "esperanca = 0\n",
    "for tempo, freq in zip(df_esp['Tempo'].values, df_esp['Frequência'].values):\n",
    "    esperanca = tempo * freq + esperanca\n",
    "esperanca = esperanca / total"
   ]
  },
  {
   "cell_type": "code",
   "execution_count": 180,
   "id": "d228ee83",
   "metadata": {},
   "outputs": [
    {
     "name": "stdout",
     "output_type": "stream",
     "text": [
      "O valor da esperança é:  16.0\n"
     ]
    }
   ],
   "source": [
    "print(\"O valor da esperança é: \", esperanca)"
   ]
  },
  {
   "cell_type": "code",
   "execution_count": 181,
   "id": "84dc4539",
   "metadata": {},
   "outputs": [
    {
     "name": "stdout",
     "output_type": "stream",
     "text": [
      "O valor de [E(X)]² é  256.0\n"
     ]
    }
   ],
   "source": [
    "# checar o valor de [E(X)]²\n",
    "valor = esperanca**2\n",
    "print(\"O valor de [E(X)]² é \", valor)"
   ]
  },
  {
   "cell_type": "markdown",
   "id": "44733cce",
   "metadata": {},
   "source": [
    "Para encontrar E(X²), faremos de forma parecida para encontrar a esperança, porém elevando o valor do tempo (xi) ao quadrado"
   ]
  },
  {
   "cell_type": "code",
   "execution_count": 182,
   "id": "bfbd9ff7",
   "metadata": {},
   "outputs": [
    {
     "name": "stdout",
     "output_type": "stream",
     "text": [
      "O valor de E(X²) é  290.0\n"
     ]
    }
   ],
   "source": [
    "# checar o valor de E(X²)\n",
    "esperanca2 = 0\n",
    "for x, y in zip(df_esp['Tempo'].values, df_esp['Frequência'].values):\n",
    "    esperanca2 = (x**2) * y + esperanca2\n",
    "esperanca2 = esperanca2 / total\n",
    "print(\"O valor de E(X²) é \", esperanca2)"
   ]
  },
  {
   "cell_type": "code",
   "execution_count": 183,
   "id": "498f4064",
   "metadata": {},
   "outputs": [
    {
     "name": "stdout",
     "output_type": "stream",
     "text": [
      "A variância se dá por E(X²) - [E(X)]² =  34.0\n"
     ]
    }
   ],
   "source": [
    "# checar a variância\n",
    "variancia = esperanca2 - valor\n",
    "print(\"A variância se dá por E(X²) - [E(X)]² = \", variancia)"
   ]
  },
  {
   "cell_type": "markdown",
   "id": "ca49d1f6",
   "metadata": {},
   "source": [
    "Portanto, fica comprovado que E(T) = 16 E V(T) = 34"
   ]
  },
  {
   "cell_type": "markdown",
   "id": "b80a2803",
   "metadata": {},
   "source": [
    "## Q2\n",
    "Em Sorocaba, o percentual de pessoas que utilizam regularmente um computador ou um notebook é estimado em cerca de 20%. Uma amostra de 25 pessoas foi retirada desta população e o interesse é saber qual a probabilidade de que menos de três destas pessoas utilizam regularmente um computador ou notebook. E qual a probabilidade de encontrarmos 10 pessoas que utilizam o computador regularmente? E de encontrarmos 18 ou mais pessoas usuárias regulares de computador ou notebook? Com base na amostra, qual o número médio de usuários de computador em Sorocaba (pop.= 700.000)?\n",
    "Os cálculos podem ser feitos no Excel ou em outro software, mas é necessário explicar os passos que você deu para chegar ao resultado final."
   ]
  },
  {
   "cell_type": "markdown",
   "id": "18cb06d7",
   "metadata": {},
   "source": [
    "<b> Parte 1:  o interesse é saber qual a probabilidade de que menos de três destas pessoas utilizam regularmente um computador ou notebook. </b>"
   ]
  },
  {
   "cell_type": "markdown",
   "id": "6f065390",
   "metadata": {},
   "source": [
    "Utilizaremos para resolver distribuição binomial, onde temos os seguintes dados:\n",
    "    <ul>\n",
    "    <li>n = 25</li>\n",
    "    <li>p = 20% = 0.2 </li>\n",
    "    <li>k < 3 = (0, 1, 2)</li>\n",
    "    </ul>"
   ]
  },
  {
   "cell_type": "code",
   "execution_count": 184,
   "id": "a8d1f556",
   "metadata": {},
   "outputs": [
    {
     "name": "stdout",
     "output_type": "stream",
     "text": [
      "A probabilidade de < 3 três pessoas utilizem regularmente um computador é de aproximadamente 9.82 %\n"
     ]
    }
   ],
   "source": [
    "n = 25\n",
    "p = 0.2\n",
    "k = [0,1,2]\n",
    "dist = 0\n",
    "for r in k:\n",
    "    dist = binom.pmf(r, n, p) + dist\n",
    "dist = dist*100\n",
    "print(\"A probabilidade de < 3 três pessoas utilizem regularmente um computador é de aproximadamente\", round(dist, 2), \"%\")"
   ]
  },
  {
   "cell_type": "markdown",
   "id": "edfbb2cb",
   "metadata": {},
   "source": [
    "<b>Parte 2: E qual a probabilidade de encontrarmos 10 pessoas que utilizam o computador regularmente?</b>"
   ]
  },
  {
   "cell_type": "code",
   "execution_count": 185,
   "id": "a736e713",
   "metadata": {},
   "outputs": [
    {
     "name": "stdout",
     "output_type": "stream",
     "text": [
      "A probabilidade de encontrarmos 10 pessoas que utilizam o computador regularmente é de aproximadamente 1.18 %\n"
     ]
    }
   ],
   "source": [
    "dist = binom.pmf(10, n, p) * 100\n",
    "print(\"A probabilidade de encontrarmos 10 pessoas que utilizam o computador regularmente é de aproximadamente\", round(dist,2), \"%\")"
   ]
  },
  {
   "cell_type": "markdown",
   "id": "cb0bbc83",
   "metadata": {},
   "source": [
    "<b>Parte 3: E de encontrarmos 18 ou mais pessoas usuárias regulares de computador ou notebook?</b>"
   ]
  },
  {
   "cell_type": "markdown",
   "id": "1040e10d",
   "metadata": {},
   "source": [
    "k >= 18 = 1 - P(k < 18)"
   ]
  },
  {
   "cell_type": "code",
   "execution_count": 186,
   "id": "03f9d566",
   "metadata": {},
   "outputs": [
    {
     "name": "stdout",
     "output_type": "stream",
     "text": [
      "A probabilidade de que 18 ou mais pessoas utilizem regularmente um computador é de aproximadamente 2.9055e-06 %\n"
     ]
    }
   ],
   "source": [
    "dist = 0\n",
    "for i in range(0,18):\n",
    "    dist = binom.pmf(i, n, p) + dist\n",
    "dist = (1 - dist)*100\n",
    "print(\"A probabilidade de que 18 ou mais pessoas utilizem regularmente um computador é de aproximadamente\", round(dist,10), \"%\")  \n"
   ]
  },
  {
   "cell_type": "markdown",
   "id": "65b9ff45",
   "metadata": {},
   "source": [
    "<b> Parte 4: Com base na amostra, qual o número médio de usuários de computador em Sorocaba? </b>"
   ]
  },
  {
   "cell_type": "code",
   "execution_count": 187,
   "id": "b4713f3b",
   "metadata": {},
   "outputs": [
    {
     "name": "stdout",
     "output_type": "stream",
     "text": [
      "A média de usuários é 5.0 considerando a amostra e é  140.0 considerando a população total.\n"
     ]
    }
   ],
   "source": [
    "media = n * p\n",
    "media_pop = 700.000 * p\n",
    "print(\"A média de usuários é\", media, \"considerando a amostra e é \", media_pop, \"considerando a população total.\")"
   ]
  },
  {
   "cell_type": "markdown",
   "id": "1e119bb9",
   "metadata": {},
   "source": [
    "## Q3:\n",
    "Dados com distribuição Binomial, se temos uma população (N) muito grande, a amostra (n) é grande e o valor de p (probabilidade de sucesso) é pequeno, podem ser aproximados por uma distribuição de Poisson. Na região de Sorocaba, que inclui cidades como Votorantim, Araçoiaba da Serra, etc., com mais de um milhão de habitantes, cerca de 0,01% utiliza um determinado software. Se a distribuição destes usuários é aleatória, qual a probabilidade de encontrarmos cinco usuários deste software em Araçoiaba da Serra, cuja população é igual a 36.000 habitantes? Qual a probabilidade de não haver nenhum usuário deste software em Araçoiaba? E qual a probabilidade de haver mais do que três usuários do referido software em Araçoiaba da Serra? E qual a probabilidade de haver dois ou mais usuários do software em Votorantim, cuja população é de 120000 habitantes?"
   ]
  },
  {
   "cell_type": "markdown",
   "id": "a0ac5dab",
   "metadata": {},
   "source": [
    "<b> Parte 1: Se a distribuição destes usuários é aleatória, qual a probabilidade de encontrarmos cinco usuários deste software em Araçoiaba da Serra, cuja população é igual a 36.000 habitantes? </b>"
   ]
  },
  {
   "cell_type": "code",
   "execution_count": 188,
   "id": "af5bf41e",
   "metadata": {},
   "outputs": [],
   "source": [
    "np = 0.01/100 * 36000\n",
    "k = 5"
   ]
  },
  {
   "cell_type": "markdown",
   "id": "fdcb73c5",
   "metadata": {},
   "source": [
    "Temos que:\n",
    "    <ul>\n",
    "    <li> np = 3.6 </li>\n",
    "    <li> k = 5 </li>\n",
    "    </ul>"
   ]
  },
  {
   "cell_type": "code",
   "execution_count": 189,
   "id": "f5f162c1",
   "metadata": {},
   "outputs": [
    {
     "name": "stdout",
     "output_type": "stream",
     "text": [
      "A probabilidade é de 13.768008420609515 %\n"
     ]
    }
   ],
   "source": [
    "dist = poisson.pmf(k, np) * 100\n",
    "print(\"A probabilidade é de\", dist, \"%\")"
   ]
  },
  {
   "cell_type": "markdown",
   "id": "24c72bce",
   "metadata": {},
   "source": [
    "<b> Parte 2: Qual a probabilidade de não haver nenhum usuário deste software em Araçoiaba? </b>"
   ]
  },
  {
   "cell_type": "code",
   "execution_count": 190,
   "id": "350d7d10",
   "metadata": {},
   "outputs": [
    {
     "name": "stdout",
     "output_type": "stream",
     "text": [
      "A probabilidade é de 2.7323722447292558 %\n"
     ]
    }
   ],
   "source": [
    "k = 0\n",
    "dist = poisson.pmf(k, np) * 100\n",
    "print(\"A probabilidade é de\", dist, \"%\")"
   ]
  },
  {
   "cell_type": "markdown",
   "id": "94993ea7",
   "metadata": {},
   "source": [
    "<b> Parte 3: E qual a probabilidade de haver mais do que três usuários do referido software em Araçoiaba da Serra? </b>"
   ]
  },
  {
   "cell_type": "markdown",
   "id": "41b093c8",
   "metadata": {},
   "source": [
    "k > 3 = 1 - P(k <= 3)"
   ]
  },
  {
   "cell_type": "code",
   "execution_count": 191,
   "id": "aee763be",
   "metadata": {},
   "outputs": [
    {
     "name": "stdout",
     "output_type": "stream",
     "text": [
      "A probabilidade é de 48.478388953385156 %\n"
     ]
    }
   ],
   "source": [
    "dist = 0\n",
    "for i in range (0, 4):\n",
    "    dist = poisson.pmf(i, np) + dist\n",
    "dist = (1 - dist) * 100\n",
    "print(\"A probabilidade é de\", dist, \"%\")"
   ]
  },
  {
   "cell_type": "markdown",
   "id": "74891e47",
   "metadata": {},
   "source": [
    "<b> Parte 4: E qual a probabilidade de haver dois ou mais usuários do software em Votorantim, cuja população é de 120000 habitantes? </b>"
   ]
  },
  {
   "cell_type": "markdown",
   "id": "b7e4d0e7",
   "metadata": {},
   "source": [
    "k >= 2 = 1 - P(k <2)"
   ]
  },
  {
   "cell_type": "code",
   "execution_count": 192,
   "id": "3b142688",
   "metadata": {},
   "outputs": [],
   "source": [
    "np = 0.01/100 * 120000"
   ]
  },
  {
   "cell_type": "code",
   "execution_count": 193,
   "id": "7ebfbe58",
   "metadata": {},
   "outputs": [
    {
     "name": "stdout",
     "output_type": "stream",
     "text": [
      "A probabilidade é de 99.99201252394067 %\n"
     ]
    }
   ],
   "source": [
    "dist = 0\n",
    "for i in range(0,2):\n",
    "    dist = poisson.pmf(i, np) + dist\n",
    "dist = (1 - dist) * 100\n",
    "print(\"A probabilidade é de\", dist, \"%\")"
   ]
  },
  {
   "cell_type": "markdown",
   "id": "90bff9de",
   "metadata": {},
   "source": [
    "## Q4 (Distribuição normal):\n",
    "\n",
    "Considerando que a resistência de uma peça tem distribuição normal com média 24 e variância 49, qual a probabilidade de, ao escolher uma peça ao acaso, tenhamos a resistência:\n",
    "\n",
    "<ul>\n",
    "    <li>a) Entre 20 e 24.</li>\n",
    "    <li>b) Abaixo de 29.</li>\n",
    "    <li>c) Acima de 33.</li>\n",
    "    <li>d) Entre 28 e 32.</li>\n",
    "    <li>e) Qual o intervalo de valores, simétrico em relação à média, que contem aproximadamente 86% das peças?</li>\n",
    "    <li>f) Qual o intervalo de valores, simétrico em torno da média, que contem 95% das peças.</li>\n",
    "</ul>\n"
   ]
  },
  {
   "cell_type": "markdown",
   "id": "3acf39b8",
   "metadata": {},
   "source": [
    "<img src=\"Arquivos/tabela_dn.png\"  width=50%>"
   ]
  },
  {
   "cell_type": "markdown",
   "id": "3046ded6",
   "metadata": {},
   "source": [
    "Temos então N(24;49)"
   ]
  },
  {
   "cell_type": "markdown",
   "id": "c40e6618",
   "metadata": {},
   "source": [
    "<b> a) P(20 <= X <= 24) </b>"
   ]
  },
  {
   "cell_type": "code",
   "execution_count": 194,
   "id": "cdaafbc0",
   "metadata": {},
   "outputs": [
    {
     "name": "stdout",
     "output_type": "stream",
     "text": [
      "ZC =  -0.57\n"
     ]
    }
   ],
   "source": [
    "# P(20 <= X <= 24) = \n",
    "Zc =(20 - 24)/math.sqrt(49)\n",
    "print(\"ZC = \", round(Zc,2))"
   ]
  },
  {
   "cell_type": "markdown",
   "id": "29b1460b",
   "metadata": {},
   "source": [
    "P(-0.57 <= Z <= 0) = P(0 < Z <= 0.57) + P(0) = 0.2157 = 21,57 %"
   ]
  },
  {
   "cell_type": "markdown",
   "id": "6a1c6364",
   "metadata": {},
   "source": [
    "<b>b) P(X <= 29) </b>"
   ]
  },
  {
   "cell_type": "code",
   "execution_count": 195,
   "id": "bf4d1030",
   "metadata": {},
   "outputs": [
    {
     "name": "stdout",
     "output_type": "stream",
     "text": [
      "ZC =  0.71\n"
     ]
    }
   ],
   "source": [
    "Zc = (29 - 24)/math.sqrt(49)\n",
    "print(\"ZC = \", round(Zc,2))"
   ]
  },
  {
   "cell_type": "markdown",
   "id": "c094bd7e",
   "metadata": {},
   "source": [
    "P(-infinito <= Z <= 0.71)\n",
    "<br>\n",
    "P(-infinito <= Z <= 0) = 0.5\n",
    "<br>\n",
    "P(0 <= Z <= 0.71) = 0.2611\n",
    "\n",
    "P(X <= 29) = 0.5 + 0.2611 = 0.7611 = 76.11 %"
   ]
  },
  {
   "cell_type": "markdown",
   "id": "024cae9b",
   "metadata": {},
   "source": [
    "<b>c) P(X>=33)</b>"
   ]
  },
  {
   "cell_type": "code",
   "execution_count": 196,
   "id": "870a8917",
   "metadata": {},
   "outputs": [
    {
     "data": {
      "text/plain": [
       "1.2857142857142858"
      ]
     },
     "execution_count": 196,
     "metadata": {},
     "output_type": "execute_result"
    }
   ],
   "source": [
    "Zc = (33 - 24)/math.sqrt(49)\n",
    "Zc"
   ]
  },
  {
   "cell_type": "markdown",
   "id": "c921e585",
   "metadata": {},
   "source": [
    "P(1.28 <= Z <= infinito)<br>\n",
    "P(0 <= Z <= infinito) = 0.5<br>\n",
    "P(0 <= Z <= 1.28) = 0.3997<br>\n",
    "\n",
    "P(X >=33) = 0.5 - 0.3997 = 0.1003 = 10,03 %"
   ]
  },
  {
   "cell_type": "markdown",
   "id": "cf53cd68",
   "metadata": {},
   "source": [
    "<b> d) P(28 <= X <= 32) </b>"
   ]
  },
  {
   "cell_type": "code",
   "execution_count": 197,
   "id": "4d245579",
   "metadata": {},
   "outputs": [
    {
     "name": "stdout",
     "output_type": "stream",
     "text": [
      "Zc1 =  0.57\n",
      "Zc2 =  1.14\n"
     ]
    }
   ],
   "source": [
    "Zc1 =(28 - 24)/math.sqrt(49)\n",
    "Zc2 =(32 - 24)/math.sqrt(49)\n",
    "print(\"Zc1 = \", round(Zc1,2))\n",
    "print(\"Zc2 = \", round(Zc2,2))"
   ]
  },
  {
   "cell_type": "markdown",
   "id": "1f56569a",
   "metadata": {},
   "source": [
    "P(0.57 <= Z <= 1.14) = P(0 <= Z <= 1.14) + P(0 <= Z <= 0.57)\n",
    "                     = 0.3729 + 0.2157 = 0.1572 = 58,86 %"
   ]
  },
  {
   "cell_type": "markdown",
   "id": "39db87b4",
   "metadata": {},
   "source": [
    "<b> e) Qual o intervalo de valores, simétrico em relação à média, que contem aproximadamente 86% das peças </b>"
   ]
  },
  {
   "cell_type": "markdown",
   "id": "eff32330",
   "metadata": {},
   "source": [
    "0.4292 -> Zc = 1.47<br>\n",
    "0.4306 -> Zc = 1.48<br>\n",
    "0.43 -> ?\n",
    "\n",
    "(z - 1.47)/(148 - 147) = (0.43 - 0.4292) / (0.4306 - 0.4292)\n",
    "z = 1.475714"
   ]
  },
  {
   "cell_type": "code",
   "execution_count": 198,
   "id": "80881cf7",
   "metadata": {},
   "outputs": [
    {
     "name": "stdout",
     "output_type": "stream",
     "text": [
      "O intervalo é  13.670002  <= x <=  34.329998\n"
     ]
    }
   ],
   "source": [
    "media = 24\n",
    "sup = 1.475714*math.sqrt(49) + media\n",
    "inf = -1.475714*math.sqrt(49) + media\n",
    "\n",
    "print(\"O intervalo é \", inf, \" <= x <= \", sup)"
   ]
  },
  {
   "cell_type": "markdown",
   "id": "0f14e5ed",
   "metadata": {},
   "source": [
    "<b>f) Qual o intervalo de valores, simétrico em torno da média, que contem 95% das peças?<br>"
   ]
  },
  {
   "cell_type": "code",
   "execution_count": 199,
   "id": "3b701c45",
   "metadata": {},
   "outputs": [
    {
     "name": "stdout",
     "output_type": "stream",
     "text": [
      "O intervalo é  10.280000000000001  <= x <=  37.72\n"
     ]
    }
   ],
   "source": [
    "media = 24\n",
    "sup = 1.96*math.sqrt(49) + media\n",
    "inf = -1.96*math.sqrt(49) + media\n",
    "\n",
    "print(\"O intervalo é \", inf, \" <= x <= \", sup)"
   ]
  },
  {
   "cell_type": "markdown",
   "id": "5e65a1d4",
   "metadata": {},
   "source": [
    "## Q5 Refaça o exercício 3 utilizando a distribuição Normal, considerando duas situações:\n",
    "<ul>\n",
    "<li>a. A média μ e a variância σ 2 são obtidas através da distribuição Binomial, ou seja, μ = np e σ 2 = npq. </li>\n",
    "<li> b. A média e a variância são calculadas a partir da Distribuição de Poisson, ou seja, tanto a média como a variância são iguais a λ = np. </li>\n",
    "<li> c. Calcule a diferença relativa percentual entre os valores calculados neste e no Exercício3, considerando como base o resultado obtido no Exercício 3.</li>\n",
    "<li>d. Tanto o resultado obtido no Exercício 3 como estes obtidos nos itens a. e b. deste exercício, são aproximações do resultado exato que seria obtido através da Distribuição Binomial. Verifique se é possível calcular o valor exato, utilizando a Distribuição Binomial e, caso positivo, quais as diferenças relativas entre o resultado exato e os resultados aproximados pela Poisson e pela Normal. </li>\n",
    "    </ul>"
   ]
  },
  {
   "cell_type": "markdown",
   "id": "091abbfc",
   "metadata": {},
   "source": [
    "### a. A média μ e a variância σ 2 são obtidas através da distribuição Binomial, ou seja, μ = np e σ 2 = npq."
   ]
  },
  {
   "cell_type": "code",
   "execution_count": 200,
   "id": "8649c675",
   "metadata": {},
   "outputs": [
    {
     "name": "stdout",
     "output_type": "stream",
     "text": [
      "A média é  3.6  e a variância é  3.59964\n"
     ]
    }
   ],
   "source": [
    "# LETRA A\n",
    "media = 0.01/100 * 36000\n",
    "q = 1 - (0.01/100)\n",
    "variancia = media * q\n",
    "\n",
    "print(\"A média é \", media, \" e a variância é \", variancia)"
   ]
  },
  {
   "cell_type": "markdown",
   "id": "bf16781f",
   "metadata": {},
   "source": [
    "<b> Parte 3: E qual a probabilidade de haver mais do que três usuários do referido software em Araçoiaba da Serra? </b>"
   ]
  },
  {
   "cell_type": "code",
   "execution_count": 201,
   "id": "ceb4b822",
   "metadata": {},
   "outputs": [
    {
     "name": "stdout",
     "output_type": "stream",
     "text": [
      "Zc =  -0.32\n"
     ]
    }
   ],
   "source": [
    "Zc = (3 - media)/math.sqrt(variancia)\n",
    "print(\"Zc = \", round(Zc,2))"
   ]
  },
  {
   "cell_type": "markdown",
   "id": "48d29bd7",
   "metadata": {},
   "source": [
    "P(-0.32 <= Z <= infinito)\n",
    "P(0 <= Z <= infinito) = 0.5\n",
    "P(0 <= Z <= 0.32) = 0.1255\n",
    "\n",
    "P(X >=33) = 0.5 + 0.1255 = 0.6255 (62.55 %)"
   ]
  },
  {
   "cell_type": "markdown",
   "id": "7da98a0e",
   "metadata": {},
   "source": [
    "<b> Parte 4: E qual a probabilidade de haver dois ou mais usuários do software em Votorantim, cuja população é de 120000 habitantes? </b>"
   ]
  },
  {
   "cell_type": "code",
   "execution_count": 202,
   "id": "caaa8f0c",
   "metadata": {},
   "outputs": [
    {
     "name": "stdout",
     "output_type": "stream",
     "text": [
      "Zc =  -2.89\n"
     ]
    }
   ],
   "source": [
    "\n",
    "media = 0.01/100 * 120000\n",
    "q = 1 - (0.01/100)\n",
    "variancia = media * q\n",
    "\n",
    "Zc = (2 - media)/math.sqrt(variancia)\n",
    "print(\"Zc = \", round(Zc,2))"
   ]
  },
  {
   "cell_type": "markdown",
   "id": "19e9e700",
   "metadata": {},
   "source": [
    "P(-2.89 <= Z <= infinito)\n",
    "P(0 <= Z <= infinito) = 0.5\n",
    "P(0 <= Z <= 2.89) = 0.4981\n",
    "\n",
    "P(X >=33) = 0.5 + 0.4981 = 0.9981 (99.81 %)"
   ]
  },
  {
   "cell_type": "markdown",
   "id": "bfa69c22",
   "metadata": {},
   "source": [
    "### <li> b. A média e a variância são calculadas a partir da Distribuição de Poisson, ou seja, tanto a média como a variância são iguais a λ = np. </li>"
   ]
  },
  {
   "cell_type": "code",
   "execution_count": 203,
   "id": "b1632a7e",
   "metadata": {},
   "outputs": [
    {
     "name": "stdout",
     "output_type": "stream",
     "text": [
      "A média é  3.6  e a variância é  3.6\n"
     ]
    }
   ],
   "source": [
    "# LETRA B\n",
    "media = 0.01/100 * 36000\n",
    "variancia = media \n",
    "\n",
    "print(\"A média é \", media, \" e a variância é \", round(variancia,2))"
   ]
  },
  {
   "cell_type": "markdown",
   "id": "06005f38",
   "metadata": {},
   "source": [
    "<b> Parte 3: E qual a probabilidade de haver mais do que três usuários do referido software em Araçoiaba da Serra? </b>"
   ]
  },
  {
   "cell_type": "code",
   "execution_count": 204,
   "id": "e693773e",
   "metadata": {},
   "outputs": [
    {
     "name": "stdout",
     "output_type": "stream",
     "text": [
      "Zc =  -0.32\n"
     ]
    }
   ],
   "source": [
    "Zc = (3 - media)/math.sqrt(variancia)\n",
    "print(\"Zc = \", round(Zc,2))"
   ]
  },
  {
   "cell_type": "markdown",
   "id": "d4b2ec07",
   "metadata": {},
   "source": [
    "P(-0.32 <= Z <= infinito)\n",
    "P(0 <= Z <= infinito) = 0.5\n",
    "P(0 <= Z <= 0.32) = 0.1255\n",
    "\n",
    "P(X >=33) = 0.5 + 0.1255 = 0.6255 (62.55 %)"
   ]
  },
  {
   "cell_type": "markdown",
   "id": "427fd3fd",
   "metadata": {},
   "source": [
    "<b> Parte 4: E qual a probabilidade de haver dois ou mais usuários do software em Votorantim, cuja população é de 120000 habitantes? </b>"
   ]
  },
  {
   "cell_type": "code",
   "execution_count": 205,
   "id": "10e54644",
   "metadata": {},
   "outputs": [
    {
     "name": "stdout",
     "output_type": "stream",
     "text": [
      "Zc =  -2.89\n"
     ]
    }
   ],
   "source": [
    "\n",
    "media = 0.01/100 * 120000\n",
    "variancia = media \n",
    "\n",
    "Zc = (2 - media)/math.sqrt(variancia)\n",
    "print(\"Zc = \", round(Zc,2))"
   ]
  },
  {
   "cell_type": "markdown",
   "id": "b6e2fad5",
   "metadata": {},
   "source": [
    "P(-2.89 <= Z <= infinito)\n",
    "P(0 <= Z <= infinito) = 0.5\n",
    "P(0 <= Z <= 2.89) = 0.4981\n",
    "\n",
    "P(X >=33) = 0.5 + 0.4981 = 0.9981 (99.81 %)"
   ]
  },
  {
   "cell_type": "markdown",
   "id": "133de606",
   "metadata": {},
   "source": [
    "### c. Calcule a diferença relativa percentual entre os valores calculados neste e no Exercício3, considerando como base o resultado obtido no Exercício 3.\n",
    "\n",
    "BASE = B = Resultado da 3\n",
    "difRel = 100*(resultadoA - resultadoB)/resultadoB\n"
   ]
  },
  {
   "cell_type": "markdown",
   "id": "aa3a54ad",
   "metadata": {},
   "source": [
    "Parte 3: No ex 3 temos 48.478388953385156 % e no 5 temos 62.55 % "
   ]
  },
  {
   "cell_type": "code",
   "execution_count": 206,
   "id": "1afe72fb",
   "metadata": {},
   "outputs": [
    {
     "name": "stdout",
     "output_type": "stream",
     "text": [
      "A diferença é : 29.03\n"
     ]
    }
   ],
   "source": [
    "delta = 100*(62.55 - 48.478388953385156)/48.478388953385156\n",
    "print(\"A diferença é :\", round(delta, 2))"
   ]
  },
  {
   "cell_type": "markdown",
   "id": "4ee09d93",
   "metadata": {},
   "source": [
    "Parte 4: No ex 3 temos 99.992  e no 5 temos 99.81"
   ]
  },
  {
   "cell_type": "code",
   "execution_count": 207,
   "id": "0c6aa847",
   "metadata": {},
   "outputs": [
    {
     "name": "stdout",
     "output_type": "stream",
     "text": [
      "A diferença é : -0.182\n"
     ]
    }
   ],
   "source": [
    "delta = 100*(99.81 - 99.99201252394067)/99.99201252394067\n",
    "print(\"A diferença é :\", round(delta,4))"
   ]
  },
  {
   "cell_type": "markdown",
   "id": "1fb05d29",
   "metadata": {},
   "source": [
    "## d. Tanto o resultado obtido no Exercício 3 como estes obtidos nos itens a. e b. deste exercício, são aproximações do resultado exato que seria obtido através da Distribuição Binomial. Verifique se é possível calcular o valor exato, utilizando a Distribuição Binomial e, caso positivo, quais as diferenças relativas entre o resultado exato e os resultados aproximados pela Poisson e pela Normal."
   ]
  },
  {
   "cell_type": "code",
   "execution_count": 208,
   "id": "41629994",
   "metadata": {},
   "outputs": [],
   "source": [
    "# Define dados para a binomial\n",
    "p = 0.01/100 \n",
    "n = 36000"
   ]
  },
  {
   "cell_type": "markdown",
   "id": "74151fea",
   "metadata": {},
   "source": [
    "<b> Parte 1 </b>"
   ]
  },
  {
   "cell_type": "code",
   "execution_count": 209,
   "id": "1e2ade38",
   "metadata": {},
   "outputs": [
    {
     "name": "stdout",
     "output_type": "stream",
     "text": [
      "Binomial:  13.76858976755183\n"
     ]
    }
   ],
   "source": [
    "dist = binom.pmf(5, n, p) * 100\n",
    "print(\"Binomial: \", dist)"
   ]
  },
  {
   "cell_type": "code",
   "execution_count": 210,
   "id": "5b3898e5",
   "metadata": {
    "scrolled": true
   },
   "outputs": [
    {
     "name": "stdout",
     "output_type": "stream",
     "text": [
      "distRel =  -0.004222269325543514\n"
     ]
    }
   ],
   "source": [
    "#Distribuição Relativa Bim e Poisson\n",
    "bim_poisson = 100*(13.768008420609515 - dist)/dist\n",
    "print(\"distRel = \", bim_poisson)"
   ]
  },
  {
   "cell_type": "markdown",
   "id": "11160ba9",
   "metadata": {},
   "source": [
    "<b> Parte 2 </b>"
   ]
  },
  {
   "cell_type": "code",
   "execution_count": 211,
   "id": "8b13a8ef",
   "metadata": {},
   "outputs": [
    {
     "name": "stdout",
     "output_type": "stream",
     "text": [
      "Binomial:  2.731880429201955\n"
     ]
    }
   ],
   "source": [
    "dist = binom.pmf(0, n, p) * 100\n",
    "print(\"Binomial: \", dist)"
   ]
  },
  {
   "cell_type": "code",
   "execution_count": 212,
   "id": "7ed604c2",
   "metadata": {},
   "outputs": [
    {
     "name": "stdout",
     "output_type": "stream",
     "text": [
      "distRel =  0.018002820403243976\n"
     ]
    }
   ],
   "source": [
    "#Distribuição Relativa Bim e Poisson\n",
    "bim_poisson = 100*(2.7323722447292558 - dist)/dist\n",
    "print(\"distRel = \", bim_poisson)"
   ]
  },
  {
   "cell_type": "markdown",
   "id": "563918df",
   "metadata": {},
   "source": [
    "<b>Parte 3</b>"
   ]
  },
  {
   "cell_type": "code",
   "execution_count": 213,
   "id": "e54681d8",
   "metadata": {},
   "outputs": [
    {
     "name": "stdout",
     "output_type": "stream",
     "text": [
      "Binomial:  48.479026393932244\n"
     ]
    }
   ],
   "source": [
    "dist = 0\n",
    "for i in range (0, 4):\n",
    "    dist = binom.pmf(i, n, p) + dist\n",
    "dist = (1 - dist) * 100\n",
    "print(\"Binomial: \", dist)"
   ]
  },
  {
   "cell_type": "code",
   "execution_count": 214,
   "id": "390b9601",
   "metadata": {},
   "outputs": [
    {
     "name": "stdout",
     "output_type": "stream",
     "text": [
      "distRel =  -0.0013148790198635328\n"
     ]
    }
   ],
   "source": [
    "#Distribuição Relativa Bim e Poisson\n",
    "bim_poisson = 100*(48.478388953385156 - dist)/dist\n",
    "print(\"distRel = \", bim_poisson)"
   ]
  },
  {
   "cell_type": "code",
   "execution_count": 215,
   "id": "566c22f6",
   "metadata": {},
   "outputs": [
    {
     "name": "stdout",
     "output_type": "stream",
     "text": [
      "distRel =  29.024868386855456\n"
     ]
    }
   ],
   "source": [
    "#Distribuição Relativa Bim e Normal\n",
    "bim_normal = 100 * (62.55 - dist)/dist\n",
    "print(\"distRel = \", bim_normal)"
   ]
  },
  {
   "cell_type": "markdown",
   "id": "cc24a0f2",
   "metadata": {},
   "source": [
    "<b>Parte 4:</b>"
   ]
  },
  {
   "cell_type": "code",
   "execution_count": 216,
   "id": "4d3129ed",
   "metadata": {},
   "outputs": [
    {
     "name": "stdout",
     "output_type": "stream",
     "text": [
      "Binomial:  99.99201657837149\n"
     ]
    }
   ],
   "source": [
    "n = 120000\n",
    "dist = 0\n",
    "for i in range(0,2):\n",
    "    dist = binom.pmf(i, n, p) + dist\n",
    "dist = (1 - dist) * 100\n",
    "print(\"Binomial: \", dist)"
   ]
  },
  {
   "cell_type": "code",
   "execution_count": 217,
   "id": "7cd7aa59",
   "metadata": {},
   "outputs": [
    {
     "name": "stdout",
     "output_type": "stream",
     "text": [
      "distRel =  -4.054754525895728e-06\n"
     ]
    }
   ],
   "source": [
    "#Distribuição Relativa Bim e Poisson\n",
    "bim_poisson = 100*(99.99201252394067 - dist)/dist\n",
    "bim_poisson\n",
    "print(\"distRel = \", bim_poisson)"
   ]
  },
  {
   "cell_type": "code",
   "execution_count": 218,
   "id": "2937c605",
   "metadata": {},
   "outputs": [
    {
     "name": "stdout",
     "output_type": "stream",
     "text": [
      "distRel =  -0.1820311106825493\n"
     ]
    }
   ],
   "source": [
    "#Distribuição Relativa Bim e Normal\n",
    "bim_normal = 100 * (99.81 - dist)/dist\n",
    "print(\"distRel = \", bim_normal)"
   ]
  }
 ],
 "metadata": {
  "kernelspec": {
   "display_name": "Python 3",
   "language": "python",
   "name": "python3"
  },
  "language_info": {
   "codemirror_mode": {
    "name": "ipython",
    "version": 3
   },
   "file_extension": ".py",
   "mimetype": "text/x-python",
   "name": "python",
   "nbconvert_exporter": "python",
   "pygments_lexer": "ipython3",
   "version": "3.8.8"
  }
 },
 "nbformat": 4,
 "nbformat_minor": 5
}
