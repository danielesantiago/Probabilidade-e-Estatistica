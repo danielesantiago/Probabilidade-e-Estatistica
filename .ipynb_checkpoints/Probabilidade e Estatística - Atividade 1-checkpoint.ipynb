{
 "cells": [
  {
   "cell_type": "markdown",
   "id": "b125b250",
   "metadata": {},
   "source": [
    "# Probabilidade e Estatística - Atividade 1"
   ]
  },
  {
   "cell_type": "markdown",
   "id": "f992d3e7",
   "metadata": {},
   "source": [
    "<img src=\"Arquivos/pe.jpg\"  width=80%>"
   ]
  },
  {
   "cell_type": "code",
   "execution_count": 42,
   "id": "5fef7d03",
   "metadata": {},
   "outputs": [],
   "source": [
    "# importar as bibliotecas necessárias\n",
    "import pandas as pd\n",
    "from scipy.stats import binom \n",
    "from scipy.stats import poisson"
   ]
  },
  {
   "cell_type": "markdown",
   "id": "265272b9",
   "metadata": {},
   "source": [
    "## Q1:\n",
    "Considere uma amostra obtida de uma população e que, nesta amostra, uma das\n",
    "variáveis era o tempo que o usuário leva para realizar uma determinada tarefa\n",
    "(variável T). Os tempos e as frequências (número de usuários) são: 10s (7 usuários);\n",
    "15s (6 usuários); 20s (quatro usuários); 25s (2 usuários) e 30s (apenas um usuário). Por\n",
    "outro lado, considere a distribuição de probabilidade tal que:"
   ]
  },
  {
   "cell_type": "code",
   "execution_count": 2,
   "id": "9ab883c0",
   "metadata": {},
   "outputs": [
    {
     "data": {
      "text/html": [
       "<div>\n",
       "<style scoped>\n",
       "    .dataframe tbody tr th:only-of-type {\n",
       "        vertical-align: middle;\n",
       "    }\n",
       "\n",
       "    .dataframe tbody tr th {\n",
       "        vertical-align: top;\n",
       "    }\n",
       "\n",
       "    .dataframe thead th {\n",
       "        text-align: right;\n",
       "    }\n",
       "</style>\n",
       "<table border=\"1\" class=\"dataframe\">\n",
       "  <thead>\n",
       "    <tr style=\"text-align: right;\">\n",
       "      <th></th>\n",
       "      <th>Tempo</th>\n",
       "      <th>Probabilidade</th>\n",
       "    </tr>\n",
       "  </thead>\n",
       "  <tbody>\n",
       "    <tr>\n",
       "      <th>0</th>\n",
       "      <td>10</td>\n",
       "      <td>0.35</td>\n",
       "    </tr>\n",
       "    <tr>\n",
       "      <th>1</th>\n",
       "      <td>15</td>\n",
       "      <td>0.30</td>\n",
       "    </tr>\n",
       "    <tr>\n",
       "      <th>2</th>\n",
       "      <td>20</td>\n",
       "      <td>0.20</td>\n",
       "    </tr>\n",
       "    <tr>\n",
       "      <th>3</th>\n",
       "      <td>25</td>\n",
       "      <td>0.10</td>\n",
       "    </tr>\n",
       "    <tr>\n",
       "      <th>4</th>\n",
       "      <td>30</td>\n",
       "      <td>0.05</td>\n",
       "    </tr>\n",
       "  </tbody>\n",
       "</table>\n",
       "</div>"
      ],
      "text/plain": [
       "   Tempo  Probabilidade\n",
       "0     10           0.35\n",
       "1     15           0.30\n",
       "2     20           0.20\n",
       "3     25           0.10\n",
       "4     30           0.05"
      ]
     },
     "execution_count": 2,
     "metadata": {},
     "output_type": "execute_result"
    }
   ],
   "source": [
    "# criar o dataframe\n",
    "t = [10, 15, 20, 25, 30]\n",
    "p = [0.35, 0.30, 0.20, 0.10, 0.05]\n",
    "df = pd.DataFrame(list(zip(t,p)), columns = ['Tempo','Probabilidade'])\n",
    "df"
   ]
  },
  {
   "cell_type": "markdown",
   "id": "d59278a9",
   "metadata": {},
   "source": [
    "Verifique que os resultados da distribuição de frequências para a variável tempo é\n",
    "equivalente à distribuição de probabilidade acima. Calcule a esperança e a variância da\n",
    "variável tempo, usando a distribuição de frequências, e constate que E(T) (sua média\n",
    "ponderada) é igual a 16 e a V(T) = 34.\n",
    "Explicitar os cálculos para chegar aos valores da esperança e da variância."
   ]
  },
  {
   "cell_type": "markdown",
   "id": "af09972a",
   "metadata": {},
   "source": [
    "### Resposta"
   ]
  },
  {
   "cell_type": "markdown",
   "id": "26d655f3",
   "metadata": {},
   "source": [
    "### Parte 1: Verifique que os resultados da distribuição de frequências para a variável tempo é equivalente à distribuição de probabilidade acima."
   ]
  },
  {
   "cell_type": "markdown",
   "id": "4ad61e6c",
   "metadata": {},
   "source": [
    "Primeiro irei criar um dataframe com as informações que nos foram dadas sobre a frequência de usuários."
   ]
  },
  {
   "cell_type": "code",
   "execution_count": 3,
   "id": "b435a223",
   "metadata": {},
   "outputs": [
    {
     "data": {
      "text/html": [
       "<div>\n",
       "<style scoped>\n",
       "    .dataframe tbody tr th:only-of-type {\n",
       "        vertical-align: middle;\n",
       "    }\n",
       "\n",
       "    .dataframe tbody tr th {\n",
       "        vertical-align: top;\n",
       "    }\n",
       "\n",
       "    .dataframe thead th {\n",
       "        text-align: right;\n",
       "    }\n",
       "</style>\n",
       "<table border=\"1\" class=\"dataframe\">\n",
       "  <thead>\n",
       "    <tr style=\"text-align: right;\">\n",
       "      <th></th>\n",
       "      <th>Frequência</th>\n",
       "    </tr>\n",
       "  </thead>\n",
       "  <tbody>\n",
       "    <tr>\n",
       "      <th>0</th>\n",
       "      <td>7</td>\n",
       "    </tr>\n",
       "    <tr>\n",
       "      <th>1</th>\n",
       "      <td>6</td>\n",
       "    </tr>\n",
       "    <tr>\n",
       "      <th>2</th>\n",
       "      <td>4</td>\n",
       "    </tr>\n",
       "    <tr>\n",
       "      <th>3</th>\n",
       "      <td>2</td>\n",
       "    </tr>\n",
       "    <tr>\n",
       "      <th>4</th>\n",
       "      <td>1</td>\n",
       "    </tr>\n",
       "  </tbody>\n",
       "</table>\n",
       "</div>"
      ],
      "text/plain": [
       "   Frequência\n",
       "0           7\n",
       "1           6\n",
       "2           4\n",
       "3           2\n",
       "4           1"
      ]
     },
     "execution_count": 3,
     "metadata": {},
     "output_type": "execute_result"
    }
   ],
   "source": [
    "f = [7, 6, 4, 2, 1]\n",
    "df_new = pd.DataFrame(f, columns = ['Frequência'])\n",
    "df_new"
   ]
  },
  {
   "cell_type": "code",
   "execution_count": 4,
   "id": "7d3b6d6a",
   "metadata": {},
   "outputs": [
    {
     "name": "stdout",
     "output_type": "stream",
     "text": [
      "A quantidade total de usuários é:  20\n"
     ]
    }
   ],
   "source": [
    "total = df_new['Frequência'].sum()\n",
    "print(\"A quantidade total de usuários é: \", total)"
   ]
  },
  {
   "cell_type": "markdown",
   "id": "6d2c128a",
   "metadata": {},
   "source": [
    "Para determinar a probabilidade, temos que P = fi/f"
   ]
  },
  {
   "cell_type": "code",
   "execution_count": 41,
   "id": "4d3b4212",
   "metadata": {},
   "outputs": [],
   "source": [
    "probabilidade = []\n",
    "for fi in df_new['Frequência'].values:\n",
    "    probabilidade.append(fi/total)"
   ]
  },
  {
   "cell_type": "code",
   "execution_count": 6,
   "id": "0cb45499",
   "metadata": {},
   "outputs": [
    {
     "data": {
      "text/plain": [
       "[0.35, 0.3, 0.2, 0.1, 0.05]"
      ]
     },
     "execution_count": 6,
     "metadata": {},
     "output_type": "execute_result"
    }
   ],
   "source": [
    "# resultado da probabilidade obtida\n",
    "probabilidade"
   ]
  },
  {
   "cell_type": "markdown",
   "id": "bf5fb1f9",
   "metadata": {},
   "source": [
    "Por fim, adicionaremos o resultado ao dataframe criado, o que nos dá o seguinte resultado"
   ]
  },
  {
   "cell_type": "code",
   "execution_count": 7,
   "id": "5c26f735",
   "metadata": {},
   "outputs": [
    {
     "data": {
      "text/html": [
       "<div>\n",
       "<style scoped>\n",
       "    .dataframe tbody tr th:only-of-type {\n",
       "        vertical-align: middle;\n",
       "    }\n",
       "\n",
       "    .dataframe tbody tr th {\n",
       "        vertical-align: top;\n",
       "    }\n",
       "\n",
       "    .dataframe thead th {\n",
       "        text-align: right;\n",
       "    }\n",
       "</style>\n",
       "<table border=\"1\" class=\"dataframe\">\n",
       "  <thead>\n",
       "    <tr style=\"text-align: right;\">\n",
       "      <th></th>\n",
       "      <th>Frequência</th>\n",
       "      <th>Probabilidade</th>\n",
       "    </tr>\n",
       "  </thead>\n",
       "  <tbody>\n",
       "    <tr>\n",
       "      <th>0</th>\n",
       "      <td>7</td>\n",
       "      <td>0.35</td>\n",
       "    </tr>\n",
       "    <tr>\n",
       "      <th>1</th>\n",
       "      <td>6</td>\n",
       "      <td>0.30</td>\n",
       "    </tr>\n",
       "    <tr>\n",
       "      <th>2</th>\n",
       "      <td>4</td>\n",
       "      <td>0.20</td>\n",
       "    </tr>\n",
       "    <tr>\n",
       "      <th>3</th>\n",
       "      <td>2</td>\n",
       "      <td>0.10</td>\n",
       "    </tr>\n",
       "    <tr>\n",
       "      <th>4</th>\n",
       "      <td>1</td>\n",
       "      <td>0.05</td>\n",
       "    </tr>\n",
       "  </tbody>\n",
       "</table>\n",
       "</div>"
      ],
      "text/plain": [
       "   Frequência  Probabilidade\n",
       "0           7           0.35\n",
       "1           6           0.30\n",
       "2           4           0.20\n",
       "3           2           0.10\n",
       "4           1           0.05"
      ]
     },
     "execution_count": 7,
     "metadata": {},
     "output_type": "execute_result"
    }
   ],
   "source": [
    "df_freq = pd.DataFrame(list(zip(df_new['Frequência'].values,probabilidade)), columns = ['Frequência','Probabilidade'])\n",
    "df_freq"
   ]
  },
  {
   "cell_type": "markdown",
   "id": "27280d00",
   "metadata": {},
   "source": [
    "Concluímos que o valor da probabilidade para a tabela de frequência é equivalente à primeira tabela informada."
   ]
  },
  {
   "cell_type": "markdown",
   "id": "67054818",
   "metadata": {},
   "source": [
    "### Parte 2: Calcule a esperança e a variância da variável tempo, usando a distribuição de frequências, e constate que E(T) (sua média ponderada) é igual a 16 e a V(T) = 34."
   ]
  },
  {
   "cell_type": "code",
   "execution_count": 8,
   "id": "fb9b8081",
   "metadata": {},
   "outputs": [
    {
     "data": {
      "text/html": [
       "<div>\n",
       "<style scoped>\n",
       "    .dataframe tbody tr th:only-of-type {\n",
       "        vertical-align: middle;\n",
       "    }\n",
       "\n",
       "    .dataframe tbody tr th {\n",
       "        vertical-align: top;\n",
       "    }\n",
       "\n",
       "    .dataframe thead th {\n",
       "        text-align: right;\n",
       "    }\n",
       "</style>\n",
       "<table border=\"1\" class=\"dataframe\">\n",
       "  <thead>\n",
       "    <tr style=\"text-align: right;\">\n",
       "      <th></th>\n",
       "      <th>Tempo</th>\n",
       "      <th>Frequência</th>\n",
       "    </tr>\n",
       "  </thead>\n",
       "  <tbody>\n",
       "    <tr>\n",
       "      <th>0</th>\n",
       "      <td>10</td>\n",
       "      <td>7</td>\n",
       "    </tr>\n",
       "    <tr>\n",
       "      <th>1</th>\n",
       "      <td>15</td>\n",
       "      <td>6</td>\n",
       "    </tr>\n",
       "    <tr>\n",
       "      <th>2</th>\n",
       "      <td>20</td>\n",
       "      <td>4</td>\n",
       "    </tr>\n",
       "    <tr>\n",
       "      <th>3</th>\n",
       "      <td>25</td>\n",
       "      <td>2</td>\n",
       "    </tr>\n",
       "    <tr>\n",
       "      <th>4</th>\n",
       "      <td>30</td>\n",
       "      <td>1</td>\n",
       "    </tr>\n",
       "  </tbody>\n",
       "</table>\n",
       "</div>"
      ],
      "text/plain": [
       "   Tempo  Frequência\n",
       "0     10           7\n",
       "1     15           6\n",
       "2     20           4\n",
       "3     25           2\n",
       "4     30           1"
      ]
     },
     "execution_count": 8,
     "metadata": {},
     "output_type": "execute_result"
    }
   ],
   "source": [
    "df_esp = pd.DataFrame(list(zip(t, df_new['Frequência'].values)), columns = ['Tempo','Frequência'])\n",
    "df_esp"
   ]
  },
  {
   "cell_type": "code",
   "execution_count": 9,
   "id": "8bba5136",
   "metadata": {},
   "outputs": [],
   "source": [
    "esperanca = 0\n",
    "for tempo, freq in zip(df_esp['Tempo'].values, df_esp['Frequência'].values):\n",
    "    esperanca = tempo * freq + esperanca\n",
    "esperanca = esperanca / total"
   ]
  },
  {
   "cell_type": "code",
   "execution_count": 10,
   "id": "d228ee83",
   "metadata": {},
   "outputs": [
    {
     "name": "stdout",
     "output_type": "stream",
     "text": [
      "O valor da esperança é:  16.0\n"
     ]
    }
   ],
   "source": [
    "print(\"O valor da esperança é: \", esperanca)"
   ]
  },
  {
   "cell_type": "code",
   "execution_count": 11,
   "id": "84dc4539",
   "metadata": {},
   "outputs": [
    {
     "name": "stdout",
     "output_type": "stream",
     "text": [
      "O valor de [E(X)]² é  256.0\n"
     ]
    }
   ],
   "source": [
    "# checar o valor de [E(X)]²\n",
    "valor = esperanca**2\n",
    "print(\"O valor de [E(X)]² é \", valor)"
   ]
  },
  {
   "cell_type": "code",
   "execution_count": 12,
   "id": "bfbd9ff7",
   "metadata": {},
   "outputs": [
    {
     "name": "stdout",
     "output_type": "stream",
     "text": [
      "O valor de E(X²) é  290.0\n"
     ]
    }
   ],
   "source": [
    "# checar o valor de E(X²)\n",
    "esperanca2 = 0\n",
    "for x, y in zip(df_esp['Tempo'].values, df_esp['Frequência'].values):\n",
    "    esperanca2 = (x**2) * y + esperanca2\n",
    "esperanca2 = esperanca2 / total\n",
    "print(\"O valor de E(X²) é \", esperanca2)"
   ]
  },
  {
   "cell_type": "code",
   "execution_count": 13,
   "id": "498f4064",
   "metadata": {},
   "outputs": [
    {
     "name": "stdout",
     "output_type": "stream",
     "text": [
      "A variância se dá por E(X²) - [E(X)]² =  34.0\n"
     ]
    }
   ],
   "source": [
    "# checar a variância\n",
    "variancia = esperanca2 - valor\n",
    "print(\"A variância se dá por E(X²) - [E(X)]² = \", variancia)"
   ]
  },
  {
   "cell_type": "markdown",
   "id": "ca49d1f6",
   "metadata": {},
   "source": [
    "Portanto, fica comprovado que E(T) = 16 E V(T) = 34"
   ]
  },
  {
   "cell_type": "markdown",
   "id": "b80a2803",
   "metadata": {},
   "source": [
    "## Q2\n",
    "Em Sorocaba, o percentual de pessoas que utilizam regularmente um computador ou um notebook é estimado em cerca de 20%. Uma amostra de 25 pessoas foi retirada desta população e o interesse é saber qual a probabilidade de que menos de três destas pessoas utilizam regularmente um computador ou notebook. E qual a probabilidade de encontrarmos 10 pessoas que utilizam o computador regularmente? E de encontrarmos 18 ou mais pessoas usuárias regulares de computador ou notebook? Com base na amostra, qual o número médio de usuários de computador em Sorocaba (pop.= 700.000)?\n",
    "Os cálculos podem ser feitos no Excel ou em outro software, mas é necessário explicar os passos que você deu para chegar ao resultado final."
   ]
  },
  {
   "cell_type": "markdown",
   "id": "18cb06d7",
   "metadata": {},
   "source": [
    "<b> Parte 1:  o interesse é saber qual a probabilidade de que menos de três destas pessoas utilizam regularmente um computador ou notebook. </b>"
   ]
  },
  {
   "cell_type": "markdown",
   "id": "6f065390",
   "metadata": {},
   "source": [
    "Utilizaremos para resolver distribuição binomial, onde temos os seguintes dados:\n",
    "    <ul>\n",
    "    <li>n = 25</li>\n",
    "    <li>p = 20% = 0.2 </li>\n",
    "    <li>k < 3 = (0, 1, 2)</li>\n",
    "    </ul>"
   ]
  },
  {
   "cell_type": "code",
   "execution_count": 82,
   "id": "a8d1f556",
   "metadata": {},
   "outputs": [
    {
     "name": "stdout",
     "output_type": "stream",
     "text": [
      "A probabilidade de < 3 três pessoas utilizem regularmente um computador é de aproximadamente 9.82 %\n"
     ]
    }
   ],
   "source": [
    "n = 25\n",
    "p = 0.2\n",
    "k = [0,1,2]\n",
    "dist = 0\n",
    "for r in k:\n",
    "    dist = binom.pmf(r, n, p) + dist\n",
    "dist = dist*100\n",
    "print(\"A probabilidade de < 3 três pessoas utilizem regularmente um computador é de aproximadamente\", round(dist, 2), \"%\")"
   ]
  },
  {
   "cell_type": "markdown",
   "id": "edfbb2cb",
   "metadata": {},
   "source": [
    "<b>Parte 2: E qual a probabilidade de encontrarmos 10 pessoas que utilizam o computador regularmente?</b>"
   ]
  },
  {
   "cell_type": "code",
   "execution_count": 40,
   "id": "a736e713",
   "metadata": {},
   "outputs": [
    {
     "name": "stdout",
     "output_type": "stream",
     "text": [
      "A probabilidade de encontrarmos 10 pessoas que utilizam o computador regularmente é de aproximadamente 1.18 %\n"
     ]
    }
   ],
   "source": [
    "dist = binom.pmf(10, n, p) * 100\n",
    "print(\"A probabilidade de encontrarmos 10 pessoas que utilizam o computador regularmente é de aproximadamente\", round(dist,2), \"%\")"
   ]
  },
  {
   "cell_type": "markdown",
   "id": "29115de2",
   "metadata": {},
   "source": [
    "<b>Parte 3: E de encontrarmos 18 ou mais pessoas usuárias regulares de computador ou notebook?</b>"
   ]
  },
  {
   "cell_type": "markdown",
   "id": "97377aa7",
   "metadata": {},
   "source": [
    "k >= 18 = 1 - P(k < 18)"
   ]
  },
  {
   "cell_type": "code",
   "execution_count": 35,
   "id": "35345aff",
   "metadata": {},
   "outputs": [
    {
     "name": "stdout",
     "output_type": "stream",
     "text": [
      "A probabilidade de que 18 ou mais pessoas utilizem regularmente um computador é de aproximadamente 3e-06 %\n"
     ]
    }
   ],
   "source": [
    "dist = 0\n",
    "for i in range(0,18):\n",
    "    dist = binom.pmf(i, n, p) + dist\n",
    "dist = (1 - dist)*100\n",
    "print(\"A probabilidade de que 18 ou mais pessoas utilizem regularmente um computador é de aproximadamente\", round(dist,6), \"%\")  \n"
   ]
  },
  {
   "cell_type": "markdown",
   "id": "6498494a",
   "metadata": {},
   "source": [
    "<b> Parte 4: Com base na amostra, qual o número médio de usuários de computador em Sorocaba? </b>"
   ]
  },
  {
   "cell_type": "code",
   "execution_count": 81,
   "id": "f0e971b9",
   "metadata": {},
   "outputs": [
    {
     "name": "stdout",
     "output_type": "stream",
     "text": [
      "A média de usuários é 5.0\n"
     ]
    }
   ],
   "source": [
    "media = n * p\n",
    "print(\"A média de usuários é\", media)"
   ]
  },
  {
   "cell_type": "markdown",
   "id": "f1321311",
   "metadata": {},
   "source": [
    "## Q3:\n",
    "Dados com distribuição Binomial, se temos uma população (N) muito grande, a amostra (n) é grande e o valor de p (probabilidade de sucesso) é pequeno, podem ser aproximados por uma distribuição de Poisson. Na região de Sorocaba, que inclui cidades como Votorantim, Araçoiaba da Serra, etc., com mais de um milhão de habitantes, cerca de 0,01% utiliza um determinado software. Se a distribuição destes usuários é aleatória, qual a probabilidade de encontrarmos cinco usuários deste software em Araçoiaba da Serra, cuja população é igual a 36.000 habitantes? Qual a probabilidade de não haver nenhum usuário deste software em Araçoiaba? E qual a probabilidade de haver mais do que três usuários do referido software em Araçoiaba da Serra? E qual a probabilidade de haver dois ou mais usuários do software em Votorantim, cuja população é de 120000 habitantes?"
   ]
  },
  {
   "cell_type": "markdown",
   "id": "6d540505",
   "metadata": {},
   "source": [
    "<b> Parte 1: Se a distribuição destes usuários é aleatória, qual a probabilidade de encontrarmos cinco usuários deste software em Araçoiaba da Serra, cuja população é igual a 36.000 habitantes? </b>"
   ]
  },
  {
   "cell_type": "code",
   "execution_count": 51,
   "id": "3bfb6655",
   "metadata": {},
   "outputs": [],
   "source": [
    "np = 0.01/100 * 36000\n",
    "k = 5"
   ]
  },
  {
   "cell_type": "markdown",
   "id": "191a167f",
   "metadata": {},
   "source": [
    "Temos que:\n",
    "    <ul>\n",
    "    <li> np = 3.6 </li>\n",
    "    <li> k = 5 </li>\n",
    "    </ul>"
   ]
  },
  {
   "cell_type": "code",
   "execution_count": 53,
   "id": "fa0c3257",
   "metadata": {},
   "outputs": [
    {
     "name": "stdout",
     "output_type": "stream",
     "text": [
      "A probabilidade é de 13.768 %\n"
     ]
    }
   ],
   "source": [
    "dist = poisson.pmf(k, np) * 100\n",
    "print(\"A probabilidade é de\", round(dist,3), \"%\")"
   ]
  },
  {
   "cell_type": "markdown",
   "id": "1ea35a0f",
   "metadata": {},
   "source": [
    "<b> Parte 2: Qual a probabilidade de não haver nenhum usuário deste software em Araçoiaba? </b>"
   ]
  },
  {
   "cell_type": "code",
   "execution_count": 54,
   "id": "3c84b694",
   "metadata": {},
   "outputs": [
    {
     "name": "stdout",
     "output_type": "stream",
     "text": [
      "A probabilidade é de 2.732 %\n"
     ]
    }
   ],
   "source": [
    "k = 0\n",
    "dist = poisson.pmf(k, np) * 100\n",
    "print(\"A probabilidade é de\", round(dist,3), \"%\")"
   ]
  },
  {
   "cell_type": "markdown",
   "id": "5cfb3b5c",
   "metadata": {},
   "source": [
    "<b> Parte 3: E qual a probabilidade de haver mais do que três usuários do referido software em Araçoiaba da Serra? </b>"
   ]
  },
  {
   "cell_type": "markdown",
   "id": "74f2a915",
   "metadata": {},
   "source": [
    "k > 3 = 1 - P(k <= 2)"
   ]
  },
  {
   "cell_type": "code",
   "execution_count": 55,
   "id": "113d481e",
   "metadata": {},
   "outputs": [
    {
     "name": "stdout",
     "output_type": "stream",
     "text": [
      "A probabilidade é de 69.725 %\n"
     ]
    }
   ],
   "source": [
    "dist = 0\n",
    "for i in range (0, 3):\n",
    "    dist = poisson.pmf(i, np) + dist\n",
    "dist = (1 - dist) * 100\n",
    "print(\"A probabilidade é de\", round(dist,3), \"%\")"
   ]
  },
  {
   "cell_type": "markdown",
   "id": "c01d5ba6",
   "metadata": {},
   "source": [
    "<b> Parte 4: E qual a probabilidade de haver dois ou mais usuários do software em Votorantim, cuja população é de 120000 habitantes? </b>"
   ]
  },
  {
   "cell_type": "markdown",
   "id": "ee79b366",
   "metadata": {},
   "source": [
    "k >= 2 = 1 - P(k <2)"
   ]
  },
  {
   "cell_type": "code",
   "execution_count": 77,
   "id": "61f91744",
   "metadata": {},
   "outputs": [],
   "source": [
    "np = 0.01/100 * 120000"
   ]
  },
  {
   "cell_type": "code",
   "execution_count": 80,
   "id": "a1a5675a",
   "metadata": {},
   "outputs": [
    {
     "name": "stdout",
     "output_type": "stream",
     "text": [
      "A probabilidade é de 99.992 %\n"
     ]
    }
   ],
   "source": [
    "dist = 0\n",
    "for i in range(0,2):\n",
    "    dist = poisson.pmf(i, np) + dist\n",
    "dist = (1 - dist) * 100\n",
    "print(\"A probabilidade é de\", round(dist,3), \"%\")"
   ]
  }
 ],
 "metadata": {
  "kernelspec": {
   "display_name": "Python 3",
   "language": "python",
   "name": "python3"
  },
  "language_info": {
   "codemirror_mode": {
    "name": "ipython",
    "version": 3
   },
   "file_extension": ".py",
   "mimetype": "text/x-python",
   "name": "python",
   "nbconvert_exporter": "python",
   "pygments_lexer": "ipython3",
   "version": "3.8.8"
  }
 },
 "nbformat": 4,
 "nbformat_minor": 5
}
